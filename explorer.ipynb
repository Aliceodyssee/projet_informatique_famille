{
 "cells": [
  {
   "cell_type": "markdown",
   "metadata": {},
   "source": [
    " ## Prise en main de la librairie GEDCOM"
   ]
  },
  {
   "cell_type": "markdown",
   "metadata": {},
   "source": [
    "### Imports"
   ]
  },
  {
   "cell_type": "code",
   "execution_count": 1,
   "metadata": {},
   "outputs": [],
   "source": [
    "from gedcom.element.individual import IndividualElement\n",
    "from gedcom.element.element import Element\n",
    "from gedcom.parser import Parser\n",
    "#from ipynb.fs.full.explorertheoph import *"
   ]
  },
  {
   "cell_type": "markdown",
   "metadata": {},
   "source": [
    "### Heading"
   ]
  },
  {
   "cell_type": "code",
   "execution_count": 2,
   "metadata": {},
   "outputs": [],
   "source": [
    "\n",
    "# Path to `.ged` file\n",
    "file_path = 'Queen_Eliz_II.ged'\n",
    "\n",
    "# Initialize the parser\n",
    "gedcom_parser = Parser()\n",
    "\n",
    "# Parse file\n",
    "gedcom_parser.parse_file(file_path)\n",
    "\n",
    "root_child_elements = gedcom_parser.get_root_child_elements()"
   ]
  },
  {
   "cell_type": "code",
   "execution_count": 3,
   "metadata": {},
   "outputs": [
    {
     "name": "stdout",
     "output_type": "stream",
     "text": [
      "Agnes de Paganel\n",
      "F\n"
     ]
    }
   ],
   "source": [
    "# Iterate through all root child elements\n",
    "for element in root_child_elements:\n",
    "\n",
    "    # Is the `element` an actual `IndividualElement`? (Allows usage of extra functions such as `surname_match` and `get_name`.)\n",
    "    if isinstance(element, IndividualElement):\n",
    "\n",
    "        # Get all individuals whose surname matches ''\n",
    "        if element.surname_match('de Paganel'):\n",
    "\n",
    "            # Unpack the name tuple\n",
    "            (first, last) = element.get_name()\n",
    "\n",
    "            # Unpack the gender\n",
    "            sex = element.get_gender()\n",
    "\n",
    "            # Print the first, last name and gender of the found individual\n",
    "            print(first + \" \" + last)\n",
    "            print(sex)\n"
   ]
  },
  {
   "cell_type": "markdown",
   "metadata": {},
   "source": [
    "### getting family information and links"
   ]
  },
  {
   "cell_type": "code",
   "execution_count": 4,
   "metadata": {},
   "outputs": [],
   "source": [
    "def get_Spouse_FamilyElement(Individual):\n",
    "    \"\"\"\n",
    "    Get Spouse FamilyElements of an individual\n",
    "\n",
    "    Parameters\n",
    "    ---\n",
    "    Individual : IndividualElement\n",
    "\n",
    "    Returns\n",
    "    ---\n",
    "    list of FamilyElement \n",
    "    \"\"\"\n",
    "    return gedcom_parser.get_families(Individual,\"FAMS\")\n"
   ]
  },
  {
   "cell_type": "code",
   "execution_count": 5,
   "metadata": {},
   "outputs": [],
   "source": [
    "def get_children_FamilyElement(Individual):\n",
    "    \"\"\"\n",
    "    Get Childrens FamilyElements of an individual\n",
    "\n",
    "    Parameters\n",
    "    ---\n",
    "    Individual : IndividualElement\n",
    "\n",
    "    Returns\n",
    "    ---\n",
    "    list of FamilyElement \n",
    "    \"\"\"\n",
    "    return gedcom_parser.get_families(Individual,\"FAMC\")"
   ]
  },
  {
   "cell_type": "code",
   "execution_count": 6,
   "metadata": {},
   "outputs": [],
   "source": [
    "def get_children(Family):\n",
    "    \"\"\"\n",
    "    Get Childrens Individuals of a Children family element\n",
    "\n",
    "    Parameters\n",
    "    ---\n",
    "    Family : FamilyElement\n",
    "\n",
    "    Returns\n",
    "    ---\n",
    "    list of Individuals \n",
    "    \"\"\"\n",
    "    return gedcom_parser.get_family_members(Family)"
   ]
  }
 ],
 "metadata": {
  "interpreter": {
   "hash": "fa633476d90ebc5c342c0ebd58df75a6a0dad7836670477e29bdaa57f1aacce8"
  },
  "kernelspec": {
   "display_name": "Python 3.9.12 ('base')",
   "language": "python",
   "name": "python3"
  },
  "language_info": {
   "codemirror_mode": {
    "name": "ipython",
    "version": 3
   },
   "file_extension": ".py",
   "mimetype": "text/x-python",
   "name": "python",
   "nbconvert_exporter": "python",
   "pygments_lexer": "ipython3",
   "version": "3.9.12"
  },
  "orig_nbformat": 4
 },
 "nbformat": 4,
 "nbformat_minor": 2
}
