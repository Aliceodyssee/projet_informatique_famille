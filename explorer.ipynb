{
 "cells": [
  {
   "cell_type": "markdown",
   "metadata": {},
   "source": [
    " ## Prise en main de la librairie GEDCOM"
   ]
  },
  {
   "cell_type": "code",
   "execution_count": 4,
   "metadata": {},
   "outputs": [
    {
     "name": "stdout",
     "output_type": "stream",
     "text": [
      "George V Windsor\n",
      "George VI Windsor\n",
      "Elizabeth II Alexandra Mary Windsor\n"
     ]
    }
   ],
   "source": [
    "from gedcom.element.individual import IndividualElement\n",
    "from gedcom.parser import Parser\n",
    "\n",
    "# Path to your `.ged` file\n",
    "file_path = 'Queen_Eliz_II.ged'\n",
    "\n",
    "# Initialize the parser\n",
    "gedcom_parser = Parser()\n",
    "\n",
    "# Parse your file\n",
    "gedcom_parser.parse_file(file_path)\n",
    "\n",
    "root_child_elements = gedcom_parser.get_root_child_elements()\n",
    "\n",
    "# Iterate through all root child elements\n",
    "for element in root_child_elements:\n",
    "\n",
    "    # Is the `element` an actual `IndividualElement`? (Allows usage of extra functions such as `surname_match` and `get_name`.)\n",
    "    if isinstance(element, IndividualElement):\n",
    "\n",
    "        # Get all individuals whose surname matches \"Doe\"\n",
    "        if element.surname_match('Windsor'):\n",
    "\n",
    "            # Unpack the name tuple\n",
    "            (first, last) = element.get_name()\n",
    "\n",
    "            # Print the first and last name of the found individual\n",
    "            print(first + \" \" + last)"
   ]
  }
 ],
 "metadata": {
  "interpreter": {
   "hash": "193aa6218da7f76a59dc2bd6ea87d2b224c2417ad29cdf12ab4b4772313a8948"
  },
  "kernelspec": {
   "display_name": "Python 3.9.7 ('base')",
   "language": "python",
   "name": "python3"
  },
  "language_info": {
   "codemirror_mode": {
    "name": "ipython",
    "version": 3
   },
   "file_extension": ".py",
   "mimetype": "text/x-python",
   "name": "python",
   "nbconvert_exporter": "python",
   "pygments_lexer": "ipython3",
   "version": "3.9.7"
  },
  "orig_nbformat": 4
 },
 "nbformat": 4,
 "nbformat_minor": 2
}
