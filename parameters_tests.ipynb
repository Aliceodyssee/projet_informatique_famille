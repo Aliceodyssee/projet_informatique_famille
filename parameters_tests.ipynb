{
 "cells": [
  {
   "cell_type": "markdown",
   "metadata": {},
   "source": [
    "## Tests Théophile"
   ]
  },
  {
   "cell_type": "markdown",
   "metadata": {},
   "source": [
    "### Utilisation des fonctions"
   ]
  },
  {
   "cell_type": "code",
   "execution_count": 2,
   "metadata": {},
   "outputs": [],
   "source": [
    "from get_path import shortest_path_up\n",
    "from graph_creation import build_IndGraph, get_IndivLinks_DataFrame\n",
    "from print_path import *"
   ]
  },
  {
   "cell_type": "code",
   "execution_count": 3,
   "metadata": {},
   "outputs": [
    {
     "name": "stdout",
     "output_type": "stream",
     "text": [
      "Richard is the grand father\n",
      " of the cousin\n",
      " of Margaret, who is the grand mother\n",
      " of the grand father\n",
      " of the grand father\n",
      " of Thomas, who is the grand father\n",
      " of the grand father\n",
      " of the grand father\n",
      " of William de Brus, 3rd Lord of Annandale\n"
     ]
    }
   ],
   "source": [
    "v1 = '@I390@'\n",
    "v2 = '@I11257@'\n",
    "\n",
    "path = shortest_path_up(build_IndGraph(),v1,v2)\n",
    "print_path(path,v1,v2)"
   ]
  },
  {
   "cell_type": "code",
   "execution_count": 4,
   "metadata": {},
   "outputs": [
    {
     "name": "stdout",
     "output_type": "stream",
     "text": [
      "Isabella (le) is the grand son\n",
      " of the grand son\n",
      " of Richard, who is the grand son\n",
      " of the grand daughter\n",
      " of the son\n",
      " of Dorothy, who is the wife\n",
      " of the grand mother\n",
      " of the grand father\n",
      " of Henry (4th Lord of Groby) de, who is the grand father\n",
      " of the grand mother\n",
      " of the grand mother\n",
      " of Eva, who is the grand mother\n",
      " of the niece\n",
      " of Thomas\n"
     ]
    }
   ],
   "source": [
    "v3 = '@I11259@'\n",
    "v4 = '@I10835@'\n",
    "\n",
    "print_path(shortest_path_up(build_IndGraph(),v3,v4),v3,v4)"
   ]
  },
  {
   "cell_type": "markdown",
   "metadata": {},
   "source": [
    "### Utilisation des classes"
   ]
  },
  {
   "cell_type": "code",
   "execution_count": 1,
   "metadata": {},
   "outputs": [],
   "source": [
    "from class_Path import *\n",
    "file_path = \"./Queen_Eliz_II.ged\""
   ]
  },
  {
   "cell_type": "code",
   "execution_count": 3,
   "metadata": {},
   "outputs": [],
   "source": [
    "graph = Graph(file_path)\n",
    "path = Path(file_path)"
   ]
  },
  {
   "cell_type": "code",
   "execution_count": 4,
   "metadata": {},
   "outputs": [
    {
     "name": "stdout",
     "output_type": "stream",
     "text": [
      "Isabella (le) is the grand son\n",
      " of the grand son\n",
      " of Richard, who is the grand son\n",
      " of the grand daughter\n",
      " of the son\n",
      " of Dorothy, who is the wife\n",
      " of the grand mother\n",
      " of the grand father\n",
      " of Henry (4th Lord of Groby) de, who is the grand father\n",
      " of the grand mother\n",
      " of the grand mother\n",
      " of Eva, who is the grand mother\n",
      " of the niece\n",
      " of Thomas\n"
     ]
    }
   ],
   "source": [
    "path.print('@I11259@','@I10835@')"
   ]
  }
 ],
 "metadata": {
  "kernelspec": {
   "display_name": "Python 3.9.12 ('base')",
   "language": "python",
   "name": "python3"
  },
  "language_info": {
   "codemirror_mode": {
    "name": "ipython",
    "version": 3
   },
   "file_extension": ".py",
   "mimetype": "text/x-python",
   "name": "python",
   "nbconvert_exporter": "python",
   "pygments_lexer": "ipython3",
   "version": "3.9.12"
  },
  "orig_nbformat": 4,
  "vscode": {
   "interpreter": {
    "hash": "fa633476d90ebc5c342c0ebd58df75a6a0dad7836670477e29bdaa57f1aacce8"
   }
  }
 },
 "nbformat": 4,
 "nbformat_minor": 2
}
