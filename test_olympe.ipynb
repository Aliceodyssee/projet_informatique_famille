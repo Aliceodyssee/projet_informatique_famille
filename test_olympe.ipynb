{
 "cells": [
  {
   "cell_type": "code",
   "execution_count": 25,
   "metadata": {},
   "outputs": [
    {
     "name": "stdout",
     "output_type": "stream",
     "text": [
      "Information about Elizabeth II Alexandra Mary Windsor:\n"
     ]
    }
   ],
   "source": [
    "from gedcom.element.individual import IndividualElement\n",
    "from gedcom.element.element import Element\n",
    "from gedcom.parser import Parser\n",
    "from functions import *\n",
    "from ipynb.fs.full.explorertheoph import *"
   ]
  },
  {
   "cell_type": "code",
   "execution_count": 1,
   "metadata": {},
   "outputs": [
    {
     "name": "stdout",
     "output_type": "stream",
     "text": [
      "Hello l'ékip\n"
     ]
    }
   ],
   "source": [
    "def print_family(Individual) :\n",
    "    \"\"\"\n",
    "    Prints names of all members of Individual's family\n",
    "\n",
    "    Parameters\n",
    "    ---\n",
    "    Individual : IndividualElement\n",
    "\n",
    "    Returns\n",
    "    ---\n",
    "    Nothing\n",
    "    \"\"\"\n",
    "    \n",
    "\n",
    "    print(\"Parents : \" + )\n",
    "    print(\"Children : \" +)\n"
   ]
  }
 ],
 "metadata": {
  "interpreter": {
   "hash": "3a8a5627b3a53b1637c60e2c5f8e5fd420890afcb504654b07306f3eac6794fb"
  },
  "kernelspec": {
   "display_name": "Python 3.10.4 64-bit",
   "language": "python",
   "name": "python3"
  },
  "language_info": {
   "codemirror_mode": {
    "name": "ipython",
    "version": 3
   },
   "file_extension": ".py",
   "mimetype": "text/x-python",
   "name": "python",
   "nbconvert_exporter": "python",
   "pygments_lexer": "ipython3",
   "version": "3.10.4"
  },
  "orig_nbformat": 4
 },
 "nbformat": 4,
 "nbformat_minor": 2
}
