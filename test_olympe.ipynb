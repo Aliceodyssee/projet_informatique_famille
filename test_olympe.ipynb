{
 "cells": [
  {
   "cell_type": "code",
   "execution_count": 6,
   "metadata": {},
   "outputs": [],
   "source": [
    "# Imports\n",
    "\n",
    "from gedcom.element.individual import IndividualElement\n",
    "from gedcom.element.element import Element\n",
    "from gedcom.parser import Parser\n",
    "\n",
    "# Théoph\n",
    "from ipynb.fs.full.explorertheoph import *\n",
    "\n",
    "# Alice\n",
    "from ipynb.fs.full.explorer import *\n",
    "\n",
    "# Alison\n",
    "# from exploreralison import *"
   ]
  },
  {
   "cell_type": "code",
   "execution_count": 10,
   "metadata": {},
   "outputs": [],
   "source": [
    "file_path = 'Queen_Eliz_II.ged'\n",
    "gedcom_parser = Parser()\n",
    "gedcom_parser.parse_file(file_path)\n",
    "root_child_elements = gedcom_parser.get_root_child_elements()"
   ]
  },
  {
   "cell_type": "code",
   "execution_count": 55,
   "metadata": {},
   "outputs": [],
   "source": [
    "def get_name_str(Individual) :\n",
    "    (first, last) = Individual.get_name()\n",
    "    name = first + \" \" + last\n",
    "    return name"
   ]
  },
  {
   "cell_type": "code",
   "execution_count": 4,
   "metadata": {},
   "outputs": [],
   "source": [
    "def print_family(Individual) :\n",
    "    \"\"\"\n",
    "    Prints names of all members of Individual's family\n",
    "\n",
    "    Parameters\n",
    "    ---\n",
    "    Individual : IndividualElement\n",
    "\n",
    "    Returns\n",
    "    ---\n",
    "    Nothing\n",
    "    \"\"\"\n",
    "\n",
    "    name_ind = get_name_str(Individual) # get_name_str à écrire\n",
    "    name_spouse = get_name_str(get_spouse(Individual)) \n",
    "    if Individual.get_gender() == \"M\" :\n",
    "        parents = [name_ind, name_spouse]\n",
    "    else : \n",
    "        parents = [name_spouse, name_ind]\n",
    "    print(\"Parents : \" + parents[0] + \", \" + parents[1] +\"\\n\")\n",
    "\n",
    "    children_id = get_children(Individual)\n",
    "    children = []\n",
    "    print(\"Children : \")\n",
    "    for i in range(len(children_id)-1) :\n",
    "        print(get_name_str(children_id[i]) + \", \")\n",
    "    print(get_name_str(children_id[-1]))"
   ]
  },
  {
   "cell_type": "code",
   "execution_count": 57,
   "metadata": {},
   "outputs": [
    {
     "name": "stdout",
     "output_type": "stream",
     "text": [
      "Nombre d'individus marriés :  [0, 4624, 55, 3]\n",
      "Nombre d'individus enfants d'une famille :  [4683, 0, 0, 0]\n",
      "Ragnvald (Rognvald) II Brusesson [Earl Of Orkney]   and  Arlogia Countess Of Orkney \n"
     ]
    }
   ],
   "source": [
    "Individual = find_IndividualElement(\"De Brus Robert Bruce\", \"de Brusse\")[1]\n",
    "# gedcom_parser.get_families(Individual,\"FAMS\")\n",
    "\n",
    "# Trouve la famille dont l'individu est un des parents\n",
    "gedcom_parser.get_families(Individual)\n",
    "\n",
    "# Trouve la famille dont l'individu est enfant\n",
    "gedcom_parser.get_families(Individual, \"gedcom_parser.tags.GEDCOM_TAG_FAMILY_CHILD\")\n",
    "\n",
    "# Nombre de familles par individu \n",
    "liste_individus = gedcom_parser.get_root_child_elements()\n",
    "list_spouse = [0,0,0,0]\n",
    "list_child = [0,0,0,0]\n",
    "for x in liste_individus :\n",
    "    if x.get_tag() == \"INDI\" :\n",
    "        nb_spouse = len(gedcom_parser.get_families(x))\n",
    "        nb_child = len(gedcom_parser.get_families(x,\"gedcom_parser.tags.GEDCOM_TAG_FAMILY_CHILD\"))\n",
    "        if nb_spouse < 4 :\n",
    "            list_spouse[nb_spouse] += 1\n",
    "        if nb_child < 4 :\n",
    "            list_child[nb_child] += 1\n",
    "print(\"Nombre d'individus marriés : \", list_spouse)\n",
    "print(\"Nombre d'individus enfants d'une famille : \", list_child)\n",
    "\n",
    "# Trouve les parents d'un individu\n",
    "parents = gedcom_parser.get_parents(Individual)\n",
    "print(get_name_str(parents[0]), \" and \", get_name_str(parents[1]))\n",
    "\n"
   ]
  }
 ],
 "metadata": {
  "interpreter": {
   "hash": "3a8a5627b3a53b1637c60e2c5f8e5fd420890afcb504654b07306f3eac6794fb"
  },
  "kernelspec": {
   "display_name": "Python 3.10.4 64-bit",
   "language": "python",
   "name": "python3"
  },
  "language_info": {
   "codemirror_mode": {
    "name": "ipython",
    "version": 3
   },
   "file_extension": ".py",
   "mimetype": "text/x-python",
   "name": "python",
   "nbconvert_exporter": "python",
   "pygments_lexer": "ipython3",
   "version": "3.10.4"
  },
  "orig_nbformat": 4
 },
 "nbformat": 4,
 "nbformat_minor": 2
}
