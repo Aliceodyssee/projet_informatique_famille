{
 "cells": [
  {
   "cell_type": "code",
   "execution_count": 4,
   "metadata": {},
   "outputs": [],
   "source": [
    "from get_path import shortest_path_up\n",
    "from graph_creation import build_IndGraph\n",
    "from gedcom.element.element import Element"
   ]
  },
  {
   "cell_type": "code",
   "execution_count": 3,
   "metadata": {},
   "outputs": [
    {
     "data": {
      "text/plain": [
       "(7,\n",
       " [['@I386@', 'parent'],\n",
       "  ['@I170@', 'grandparent'],\n",
       "  ['@I330@', 'grandparent'],\n",
       "  ['@I336@', 'grandparent']])"
      ]
     },
     "execution_count": 3,
     "metadata": {},
     "output_type": "execute_result"
    }
   ],
   "source": [
    "v1 = '@I390@'\n",
    "v2 = '@I336@'\n",
    "\n",
    "shortest_path_up(build_IndGraph(),v1,v2)"
   ]
  }
 ],
 "metadata": {
  "kernelspec": {
   "display_name": "Python 3.9.12 ('base')",
   "language": "python",
   "name": "python3"
  },
  "language_info": {
   "codemirror_mode": {
    "name": "ipython",
    "version": 3
   },
   "file_extension": ".py",
   "mimetype": "text/x-python",
   "name": "python",
   "nbconvert_exporter": "python",
   "pygments_lexer": "ipython3",
   "version": "3.9.12"
  },
  "orig_nbformat": 4,
  "vscode": {
   "interpreter": {
    "hash": "fa633476d90ebc5c342c0ebd58df75a6a0dad7836670477e29bdaa57f1aacce8"
   }
  }
 },
 "nbformat": 4,
 "nbformat_minor": 2
}
