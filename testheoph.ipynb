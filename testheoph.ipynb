{
 "cells": [
  {
   "cell_type": "code",
   "execution_count": 1,
   "metadata": {},
   "outputs": [
    {
     "name": "stdout",
     "output_type": "stream",
     "text": [
      "     INDI    FAMS    FAMC\n",
      "0  @I101@  @F285@  @F286@\n",
      "1  @I103@  @F286@  @F287@\n",
      "2  @I155@   @F78@     NaN\n",
      "3  @I168@   @F75@   @F76@\n",
      "4  @I169@   @F75@  @F209@\n",
      "NaN\n"
     ]
    }
   ],
   "source": [
    "from get_path import shortest_path_up\n",
    "from graph_creation import build_IndGraph\n",
    "from print_path import *"
   ]
  },
  {
   "cell_type": "code",
   "execution_count": 2,
   "metadata": {},
   "outputs": [
    {
     "data": {
      "text/plain": [
       "(11,\n",
       " [['@I168@', 'grandparent'],\n",
       "  ['@I173@', 'grandparent'],\n",
       "  ['@I330@', 'parent'],\n",
       "  ['@I336@', 'grandparent']])"
      ]
     },
     "execution_count": 2,
     "metadata": {},
     "output_type": "execute_result"
    }
   ],
   "source": [
    "v1 = '@I390@'\n",
    "v2 = '@I336@'\n",
    "\n",
    "path = shortest_path_up(build_IndGraph(),v1,v2)\n",
    "path"
   ]
  },
  {
   "cell_type": "code",
   "execution_count": 3,
   "metadata": {},
   "outputs": [
    {
     "name": "stdout",
     "output_type": "stream",
     "text": [
      "Bertha of Burgundy is the grandfather\n",
      " of the grandmother\n",
      " of the mother\n",
      " of the grandmother\n",
      " of William de Brus, 3rd Lord of Annandale\n"
     ]
    }
   ],
   "source": [
    "print_path(path,v1,v2)"
   ]
  }
 ],
 "metadata": {
  "kernelspec": {
   "display_name": "Python 3.9.12 ('base')",
   "language": "python",
   "name": "python3"
  },
  "language_info": {
   "codemirror_mode": {
    "name": "ipython",
    "version": 3
   },
   "file_extension": ".py",
   "mimetype": "text/x-python",
   "name": "python",
   "nbconvert_exporter": "python",
   "pygments_lexer": "ipython3",
   "version": "3.9.12"
  },
  "orig_nbformat": 4,
  "vscode": {
   "interpreter": {
    "hash": "fa633476d90ebc5c342c0ebd58df75a6a0dad7836670477e29bdaa57f1aacce8"
   }
  }
 },
 "nbformat": 4,
 "nbformat_minor": 2
}
