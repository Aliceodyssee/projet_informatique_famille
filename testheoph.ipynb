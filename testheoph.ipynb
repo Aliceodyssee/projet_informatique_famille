{
 "cells": [
  {
   "cell_type": "code",
   "execution_count": 1,
   "metadata": {},
   "outputs": [
    {
     "name": "stdout",
     "output_type": "stream",
     "text": [
      "     INDI    FAMS    FAMC\n",
      "0  @I101@  @F285@  @F286@\n",
      "1  @I103@  @F286@  @F287@\n",
      "2  @I155@   @F78@     NaN\n",
      "3  @I168@   @F75@   @F76@\n",
      "4  @I169@   @F75@  @F209@\n",
      "NaN\n"
     ]
    }
   ],
   "source": [
    "from get_path import shortest_path_up\n",
    "from graph_creation import build_IndGraph\n",
    "from print_path import *"
   ]
  },
  {
   "cell_type": "code",
   "execution_count": 3,
   "metadata": {},
   "outputs": [
    {
     "data": {
      "text/plain": [
       "(11,\n",
       " [['@I168@', 'grandparent'],\n",
       "  ['@I173@', 'grandparent'],\n",
       "  ['@I330@', 'parent'],\n",
       "  ['@I336@', 'grandparent']])"
      ]
     },
     "execution_count": 3,
     "metadata": {},
     "output_type": "execute_result"
    }
   ],
   "source": [
    "v1 = '@I390@'\n",
    "v2 = '@I336@'\n",
    "\n",
    "path = shortest_path_up(build_IndGraph(),v1,v2)\n",
    "path"
   ]
  },
  {
   "cell_type": "code",
   "execution_count": 4,
   "metadata": {},
   "outputs": [
    {
     "ename": "TypeError",
     "evalue": "unhashable type: 'dict'",
     "output_type": "error",
     "traceback": [
      "\u001b[0;31m---------------------------------------------------------------------------\u001b[0m",
      "\u001b[0;31mTypeError\u001b[0m                                 Traceback (most recent call last)",
      "\u001b[1;32m/Users/theophiledechelotte/Documents/1A Mines/UE 22 - Ingéniérie Logicielle/Projet arbre généalogique/projet_informatique_famille/testheoph.ipynb Cell 3'\u001b[0m in \u001b[0;36m<cell line: 1>\u001b[0;34m()\u001b[0m\n\u001b[0;32m----> <a href='vscode-notebook-cell:/Users/theophiledechelotte/Documents/1A%20Mines/UE%2022%20-%20Inge%CC%81nie%CC%81rie%20Logicielle/Projet%20arbre%20ge%CC%81ne%CC%81alogique/projet_informatique_famille/testheoph.ipynb#ch0000003?line=0'>1</a>\u001b[0m print_path(path,v1,v2)\n",
      "File \u001b[0;32m~/Documents/1A Mines/UE 22 - Ingéniérie Logicielle/Projet arbre généalogique/projet_informatique_famille/print_path.py:100\u001b[0m, in \u001b[0;36mprint_path\u001b[0;34m(shortest_path, v1, v2)\u001b[0m\n\u001b[1;32m     98\u001b[0m distance, path \u001b[39m=\u001b[39m shortest_path\n\u001b[1;32m     99\u001b[0m ind, link \u001b[39m=\u001b[39m path[\u001b[39m0\u001b[39m]\n\u001b[0;32m--> 100\u001b[0m \u001b[39mprint\u001b[39m (v2 \u001b[39m+\u001b[39m \u001b[39m\"\u001b[39m\u001b[39mis the\u001b[39m\u001b[39m\"\u001b[39m \u001b[39m+\u001b[39m gendered_link(path[\u001b[39m0\u001b[39;49m][\u001b[39m0\u001b[39;49m], path[\u001b[39m0\u001b[39;49m][\u001b[39m1\u001b[39;49m]))\n\u001b[1;32m    101\u001b[0m \u001b[39mfor\u001b[39;00m i \u001b[39min\u001b[39;00m \u001b[39mrange\u001b[39m (\u001b[39m1\u001b[39m, \u001b[39mlen\u001b[39m(path)) :\n\u001b[1;32m    102\u001b[0m     ind, link \u001b[39m=\u001b[39m path[i]\n",
      "File \u001b[0;32m~/Documents/1A Mines/UE 22 - Ingéniérie Logicielle/Projet arbre généalogique/projet_informatique_famille/print_path.py:78\u001b[0m, in \u001b[0;36mgendered_link\u001b[0;34m(tag, link)\u001b[0m\n\u001b[1;32m     75\u001b[0m \u001b[39mif\u001b[39;00m find_Element(tag)[\u001b[39m0\u001b[39m] \u001b[39m==\u001b[39m \u001b[39mTrue\u001b[39;00m : indvidual \u001b[39m=\u001b[39m find_Element(tag)[\u001b[39m1\u001b[39m]\n\u001b[1;32m     77\u001b[0m \u001b[39mif\u001b[39;00m indvidual\u001b[39m.\u001b[39mget_gender() \u001b[39m==\u001b[39m \u001b[39m\"\u001b[39m\u001b[39mM\u001b[39m\u001b[39m\"\u001b[39m :\n\u001b[0;32m---> 78\u001b[0m     \u001b[39mreturn\u001b[39;00m links[links][\u001b[39m0\u001b[39m]\n\u001b[1;32m     79\u001b[0m \u001b[39melse\u001b[39;00m :\n\u001b[1;32m     80\u001b[0m     \u001b[39mreturn\u001b[39;00m links[links][\u001b[39m1\u001b[39m]\n",
      "\u001b[0;31mTypeError\u001b[0m: unhashable type: 'dict'"
     ]
    }
   ],
   "source": [
    "print_path(path,v1,v2)"
   ]
  }
 ],
 "metadata": {
  "kernelspec": {
   "display_name": "Python 3.9.12 ('base')",
   "language": "python",
   "name": "python3"
  },
  "language_info": {
   "codemirror_mode": {
    "name": "ipython",
    "version": 3
   },
   "file_extension": ".py",
   "mimetype": "text/x-python",
   "name": "python",
   "nbconvert_exporter": "python",
   "pygments_lexer": "ipython3",
   "version": "3.9.12"
  },
  "orig_nbformat": 4,
  "vscode": {
   "interpreter": {
    "hash": "fa633476d90ebc5c342c0ebd58df75a6a0dad7836670477e29bdaa57f1aacce8"
   }
  }
 },
 "nbformat": 4,
 "nbformat_minor": 2
}
