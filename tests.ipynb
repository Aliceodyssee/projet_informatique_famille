{
 "cells": [
  {
   "cell_type": "markdown",
   "metadata": {},
   "source": [
    "# Tests"
   ]
  },
  {
   "cell_type": "markdown",
   "metadata": {},
   "source": [
    "## Basic tests"
   ]
  },
  {
   "cell_type": "markdown",
   "metadata": {},
   "source": [
    "### Utilisation of classes"
   ]
  },
  {
   "cell_type": "code",
   "execution_count": 2,
   "metadata": {},
   "outputs": [],
   "source": [
    "from class_Path import *\n",
    "file_path = \"./ged docs/Queen_Eliz_II.ged\""
   ]
  },
  {
   "cell_type": "code",
   "execution_count": 3,
   "metadata": {},
   "outputs": [],
   "source": [
    "graph = Graph(file_path)\n",
    "path = Path(file_path)"
   ]
  },
  {
   "cell_type": "code",
   "execution_count": null,
   "metadata": {},
   "outputs": [],
   "source": []
  },
  {
   "cell_type": "code",
   "execution_count": 4,
   "metadata": {},
   "outputs": [
    {
     "data": {
      "text/plain": [
       "'Isabella (le) is the son of the grand son of Thomas, who is the grand son of the grand son of the grand son of Dorothy, who is the wife of the grand mother of the grand father of Henry (4th Lord of Groby) de, who is the grand father of the grand mother of the grand mother of Eva, who is the grand mother of the niece of Thomas'"
      ]
     },
     "execution_count": 4,
     "metadata": {},
     "output_type": "execute_result"
    }
   ],
   "source": [
    "path.print('@I11259@','@I10835@')"
   ]
  },
  {
   "cell_type": "markdown",
   "metadata": {},
   "source": [
    "## Parameters tests"
   ]
  },
  {
   "cell_type": "code",
   "execution_count": 1,
   "metadata": {},
   "outputs": [],
   "source": [
    "from class_Test import *"
   ]
  },
  {
   "cell_type": "code",
   "execution_count": 2,
   "metadata": {},
   "outputs": [],
   "source": [
    "# /!\\ Very long : takes up to 15 minutes /!\\\n",
    "test = Test(\"./ged docs/Queen_Eliz_II.ged\")"
   ]
  },
  {
   "cell_type": "code",
   "execution_count": 3,
   "metadata": {},
   "outputs": [
    {
     "data": {
      "text/html": [
       "<div>\n",
       "<style scoped>\n",
       "    .dataframe tbody tr th:only-of-type {\n",
       "        vertical-align: middle;\n",
       "    }\n",
       "\n",
       "    .dataframe tbody tr th {\n",
       "        vertical-align: top;\n",
       "    }\n",
       "\n",
       "    .dataframe thead th {\n",
       "        text-align: right;\n",
       "    }\n",
       "</style>\n",
       "<table border=\"1\" class=\"dataframe\">\n",
       "  <thead>\n",
       "    <tr style=\"text-align: right;\">\n",
       "      <th></th>\n",
       "      <th>Path</th>\n",
       "      <th>Distance</th>\n",
       "      <th>Dijkstar distance</th>\n",
       "      <th>Execution time (s)</th>\n",
       "      <th>Dijkstar execution time (s)</th>\n",
       "      <th>Difference of execution time (s)</th>\n",
       "    </tr>\n",
       "    <tr>\n",
       "      <th>Individuals</th>\n",
       "      <th></th>\n",
       "      <th></th>\n",
       "      <th></th>\n",
       "      <th></th>\n",
       "      <th></th>\n",
       "      <th></th>\n",
       "    </tr>\n",
       "  </thead>\n",
       "  <tbody>\n",
       "    <tr>\n",
       "      <th>[@I9525@, @I8561@]</th>\n",
       "      <td>Isabel WARREN (Heiress de WARENNE) is the fath...</td>\n",
       "      <td>22</td>\n",
       "      <td>22</td>\n",
       "      <td>20.521578</td>\n",
       "      <td>18.503103</td>\n",
       "      <td>2.018475</td>\n",
       "    </tr>\n",
       "    <tr>\n",
       "      <th>[@I5903@, @I7124@]</th>\n",
       "      <td>Anne is the grand son of the wife of Hugh II, ...</td>\n",
       "      <td>23</td>\n",
       "      <td>23</td>\n",
       "      <td>18.916970</td>\n",
       "      <td>18.732840</td>\n",
       "      <td>0.184130</td>\n",
       "    </tr>\n",
       "    <tr>\n",
       "      <th>[@I8879@, @I9947@]</th>\n",
       "      <td>Theresa Rodriguez de is the grand daughter of ...</td>\n",
       "      <td>26</td>\n",
       "      <td>26</td>\n",
       "      <td>24.767526</td>\n",
       "      <td>24.049034</td>\n",
       "      <td>0.718492</td>\n",
       "    </tr>\n",
       "    <tr>\n",
       "      <th>[@I1993@, @I7824@]</th>\n",
       "      <td>Bertha of BOULOGNE is the nephew of the grand ...</td>\n",
       "      <td>27</td>\n",
       "      <td>27</td>\n",
       "      <td>19.452889</td>\n",
       "      <td>20.523246</td>\n",
       "      <td>-1.070357</td>\n",
       "    </tr>\n",
       "    <tr>\n",
       "      <th>[@I6898@, @I7482@]</th>\n",
       "      <td>Dufagan (Beth) (1st Earl) of FIFE is the grand...</td>\n",
       "      <td>31</td>\n",
       "      <td>31</td>\n",
       "      <td>21.507387</td>\n",
       "      <td>21.282228</td>\n",
       "      <td>0.225159</td>\n",
       "    </tr>\n",
       "    <tr>\n",
       "      <th>[@I6567@, @I11053@]</th>\n",
       "      <td>Mary is the wife of the uncle of Kiarval Macdu...</td>\n",
       "      <td>35</td>\n",
       "      <td>35</td>\n",
       "      <td>26.718880</td>\n",
       "      <td>26.774919</td>\n",
       "      <td>-0.056039</td>\n",
       "    </tr>\n",
       "    <tr>\n",
       "      <th>[@I3138@, @I5307@]</th>\n",
       "      <td>Amabil is the grand father of the grand mother...</td>\n",
       "      <td>43</td>\n",
       "      <td>43</td>\n",
       "      <td>31.585531</td>\n",
       "      <td>30.952245</td>\n",
       "      <td>0.633286</td>\n",
       "    </tr>\n",
       "    <tr>\n",
       "      <th>[@I4432@, @I6546@]</th>\n",
       "      <td>Uther PENDRAGON is the grand father of the gra...</td>\n",
       "      <td>47</td>\n",
       "      <td>47</td>\n",
       "      <td>31.946355</td>\n",
       "      <td>32.448993</td>\n",
       "      <td>-0.502638</td>\n",
       "    </tr>\n",
       "    <tr>\n",
       "      <th>[@I10179@, @I6892@]</th>\n",
       "      <td>Thomas (Knight of the Garter; 1st Lord) is the...</td>\n",
       "      <td>54</td>\n",
       "      <td>54</td>\n",
       "      <td>37.881163</td>\n",
       "      <td>36.836308</td>\n",
       "      <td>1.044855</td>\n",
       "    </tr>\n",
       "    <tr>\n",
       "      <th>[@I2203@, @I10934@]</th>\n",
       "      <td>Berthold of the SAXONS is the grand son of the...</td>\n",
       "      <td>79</td>\n",
       "      <td>79</td>\n",
       "      <td>53.510066</td>\n",
       "      <td>52.641384</td>\n",
       "      <td>0.868682</td>\n",
       "    </tr>\n",
       "    <tr>\n",
       "      <th>[@I5678@, @I8302@]</th>\n",
       "      <td>Euphemia (Lady) is the grand daughter of the g...</td>\n",
       "      <td>80</td>\n",
       "      <td>80</td>\n",
       "      <td>53.657966</td>\n",
       "      <td>52.844964</td>\n",
       "      <td>0.813002</td>\n",
       "    </tr>\n",
       "    <tr>\n",
       "      <th>[@I5290@, @I4469@]</th>\n",
       "      <td>Seth is the son of the wife of Ela Eleanor, wh...</td>\n",
       "      <td>96</td>\n",
       "      <td>96</td>\n",
       "      <td>62.738702</td>\n",
       "      <td>62.556717</td>\n",
       "      <td>0.181985</td>\n",
       "    </tr>\n",
       "    <tr>\n",
       "      <th>[@I7357@, @I4424@]</th>\n",
       "      <td>Jorim is the grand father of the grand father ...</td>\n",
       "      <td>97</td>\n",
       "      <td>97</td>\n",
       "      <td>62.615451</td>\n",
       "      <td>62.271694</td>\n",
       "      <td>0.343757</td>\n",
       "    </tr>\n",
       "    <tr>\n",
       "      <th>[@I11058@, @I5462@]</th>\n",
       "      <td>Helenus II the TROJAN is the husband of the si...</td>\n",
       "      <td>100</td>\n",
       "      <td>100</td>\n",
       "      <td>68.641309</td>\n",
       "      <td>69.586036</td>\n",
       "      <td>-0.944727</td>\n",
       "    </tr>\n",
       "    <tr>\n",
       "      <th>[@I6293@, @I10658@]</th>\n",
       "      <td>Maria is the husband of the grand mother of Lo...</td>\n",
       "      <td>104</td>\n",
       "      <td>104</td>\n",
       "      <td>68.219887</td>\n",
       "      <td>67.862965</td>\n",
       "      <td>0.356922</td>\n",
       "    </tr>\n",
       "  </tbody>\n",
       "</table>\n",
       "</div>"
      ],
      "text/plain": [
       "                                                                  Path  \\\n",
       "Individuals                                                              \n",
       "[@I9525@, @I8561@]   Isabel WARREN (Heiress de WARENNE) is the fath...   \n",
       "[@I5903@, @I7124@]   Anne is the grand son of the wife of Hugh II, ...   \n",
       "[@I8879@, @I9947@]   Theresa Rodriguez de is the grand daughter of ...   \n",
       "[@I1993@, @I7824@]   Bertha of BOULOGNE is the nephew of the grand ...   \n",
       "[@I6898@, @I7482@]   Dufagan (Beth) (1st Earl) of FIFE is the grand...   \n",
       "[@I6567@, @I11053@]  Mary is the wife of the uncle of Kiarval Macdu...   \n",
       "[@I3138@, @I5307@]   Amabil is the grand father of the grand mother...   \n",
       "[@I4432@, @I6546@]   Uther PENDRAGON is the grand father of the gra...   \n",
       "[@I10179@, @I6892@]  Thomas (Knight of the Garter; 1st Lord) is the...   \n",
       "[@I2203@, @I10934@]  Berthold of the SAXONS is the grand son of the...   \n",
       "[@I5678@, @I8302@]   Euphemia (Lady) is the grand daughter of the g...   \n",
       "[@I5290@, @I4469@]   Seth is the son of the wife of Ela Eleanor, wh...   \n",
       "[@I7357@, @I4424@]   Jorim is the grand father of the grand father ...   \n",
       "[@I11058@, @I5462@]  Helenus II the TROJAN is the husband of the si...   \n",
       "[@I6293@, @I10658@]  Maria is the husband of the grand mother of Lo...   \n",
       "\n",
       "                     Distance  Dijkstar distance  Execution time (s)  \\\n",
       "Individuals                                                            \n",
       "[@I9525@, @I8561@]         22                 22           20.521578   \n",
       "[@I5903@, @I7124@]         23                 23           18.916970   \n",
       "[@I8879@, @I9947@]         26                 26           24.767526   \n",
       "[@I1993@, @I7824@]         27                 27           19.452889   \n",
       "[@I6898@, @I7482@]         31                 31           21.507387   \n",
       "[@I6567@, @I11053@]        35                 35           26.718880   \n",
       "[@I3138@, @I5307@]         43                 43           31.585531   \n",
       "[@I4432@, @I6546@]         47                 47           31.946355   \n",
       "[@I10179@, @I6892@]        54                 54           37.881163   \n",
       "[@I2203@, @I10934@]        79                 79           53.510066   \n",
       "[@I5678@, @I8302@]         80                 80           53.657966   \n",
       "[@I5290@, @I4469@]         96                 96           62.738702   \n",
       "[@I7357@, @I4424@]         97                 97           62.615451   \n",
       "[@I11058@, @I5462@]       100                100           68.641309   \n",
       "[@I6293@, @I10658@]       104                104           68.219887   \n",
       "\n",
       "                     Dijkstar execution time (s)  \\\n",
       "Individuals                                        \n",
       "[@I9525@, @I8561@]                     18.503103   \n",
       "[@I5903@, @I7124@]                     18.732840   \n",
       "[@I8879@, @I9947@]                     24.049034   \n",
       "[@I1993@, @I7824@]                     20.523246   \n",
       "[@I6898@, @I7482@]                     21.282228   \n",
       "[@I6567@, @I11053@]                    26.774919   \n",
       "[@I3138@, @I5307@]                     30.952245   \n",
       "[@I4432@, @I6546@]                     32.448993   \n",
       "[@I10179@, @I6892@]                    36.836308   \n",
       "[@I2203@, @I10934@]                    52.641384   \n",
       "[@I5678@, @I8302@]                     52.844964   \n",
       "[@I5290@, @I4469@]                     62.556717   \n",
       "[@I7357@, @I4424@]                     62.271694   \n",
       "[@I11058@, @I5462@]                    69.586036   \n",
       "[@I6293@, @I10658@]                    67.862965   \n",
       "\n",
       "                     Difference of execution time (s)  \n",
       "Individuals                                            \n",
       "[@I9525@, @I8561@]                           2.018475  \n",
       "[@I5903@, @I7124@]                           0.184130  \n",
       "[@I8879@, @I9947@]                           0.718492  \n",
       "[@I1993@, @I7824@]                          -1.070357  \n",
       "[@I6898@, @I7482@]                           0.225159  \n",
       "[@I6567@, @I11053@]                         -0.056039  \n",
       "[@I3138@, @I5307@]                           0.633286  \n",
       "[@I4432@, @I6546@]                          -0.502638  \n",
       "[@I10179@, @I6892@]                          1.044855  \n",
       "[@I2203@, @I10934@]                          0.868682  \n",
       "[@I5678@, @I8302@]                           0.813002  \n",
       "[@I5290@, @I4469@]                           0.181985  \n",
       "[@I7357@, @I4424@]                           0.343757  \n",
       "[@I11058@, @I5462@]                         -0.944727  \n",
       "[@I6293@, @I10658@]                          0.356922  "
      ]
     },
     "execution_count": 3,
     "metadata": {},
     "output_type": "execute_result"
    }
   ],
   "source": [
    "test.comparison_Dataframe()"
   ]
  },
  {
   "cell_type": "code",
   "execution_count": 4,
   "metadata": {},
   "outputs": [
    {
     "data": {
      "text/plain": [
       "(40.178777360916136, 39.85777837435405)"
      ]
     },
     "execution_count": 4,
     "metadata": {},
     "output_type": "execute_result"
    }
   ],
   "source": [
    "test.average()"
   ]
  },
  {
   "cell_type": "code",
   "execution_count": 5,
   "metadata": {},
   "outputs": [
    {
     "data": {
      "image/png": "[encoded data removed]",
      "text/plain": [
       "<Figure size 432x288 with 1 Axes>"
      ]
     },
     "metadata": {
      "needs_background": "light"
     },
     "output_type": "display_data"
    }
   ],
   "source": [
    "test.plot_Distance_Time()"
   ]
  },
  {
   "cell_type": "code",
   "execution_count": 6,
   "metadata": {},
   "outputs": [
    {
     "ename": "TypeError",
     "evalue": "hlines() missing 2 required positional arguments: 'xmin' and 'xmax'",
     "output_type": "error",
     "traceback": [
      "\u001b[0;31m---------------------------------------------------------------------------\u001b[0m",
      "\u001b[0;31mTypeError\u001b[0m                                 Traceback (most recent call last)",
      "\u001b[1;32m/Users/theophiledechelotte/Documents/1A Mines/UE 22 - Ingéniérie Logicielle/Projet arbre généalogique/projet_informatique_famille/tests.ipynb Cell 14'\u001b[0m in \u001b[0;36m<cell line: 1>\u001b[0;34m()\u001b[0m\n\u001b[0;32m----> <a href='vscode-notebook-cell:/Users/theophiledechelotte/Documents/1A%20Mines/UE%2022%20-%20Inge%CC%81nie%CC%81rie%20Logicielle/Projet%20arbre%20ge%CC%81ne%CC%81alogique/projet_informatique_famille/tests.ipynb#ch0000012?line=0'>1</a>\u001b[0m test\u001b[39m.\u001b[39;49mplot_difference()\n",
      "File \u001b[0;32m~/Documents/1A Mines/UE 22 - Ingéniérie Logicielle/Projet arbre généalogique/projet_informatique_famille/class_Test.py:101\u001b[0m, in \u001b[0;36mTest.plot_difference\u001b[0;34m(self)\u001b[0m\n\u001b[1;32m     99\u001b[0m a,b \u001b[39m=\u001b[39m np\u001b[39m.\u001b[39mpolyfit(\u001b[39mself\u001b[39m\u001b[39m.\u001b[39mdistances,\u001b[39mself\u001b[39m\u001b[39m.\u001b[39mdifference,\u001b[39m1\u001b[39m)\n\u001b[1;32m    100\u001b[0m plt\u001b[39m.\u001b[39mscatter(\u001b[39mself\u001b[39m\u001b[39m.\u001b[39mdistances,\u001b[39mself\u001b[39m\u001b[39m.\u001b[39mdifference, marker\u001b[39m=\u001b[39m\u001b[39m'\u001b[39m\u001b[39m+\u001b[39m\u001b[39m'\u001b[39m)\n\u001b[0;32m--> 101\u001b[0m plt\u001b[39m.\u001b[39;49mhlines(y\u001b[39m=\u001b[39;49m\u001b[39m0\u001b[39;49m,color\u001b[39m=\u001b[39;49m\u001b[39m'\u001b[39;49m\u001b[39mr\u001b[39;49m\u001b[39m'\u001b[39;49m)\n\u001b[1;32m    102\u001b[0m plt\u001b[39m.\u001b[39mplot(\u001b[39mself\u001b[39m\u001b[39m.\u001b[39mdistances,a \u001b[39m*\u001b[39m np\u001b[39m.\u001b[39marray(\u001b[39mself\u001b[39m\u001b[39m.\u001b[39mdifference) \u001b[39m+\u001b[39m b, color\u001b[39m=\u001b[39m\u001b[39m'\u001b[39m\u001b[39mr\u001b[39m\u001b[39m'\u001b[39m, linestyle\u001b[39m=\u001b[39m\u001b[39m'\u001b[39m\u001b[39m--\u001b[39m\u001b[39m'\u001b[39m, linewidth\u001b[39m=\u001b[39m\u001b[39m0.5\u001b[39m)\n\u001b[1;32m    103\u001b[0m plt\u001b[39m.\u001b[39mtitle(\u001b[39m\"\u001b[39m\u001b[39mDifference in execution time between the naive and Dijkstar algorithms\u001b[39m\u001b[39m\"\u001b[39m)\n",
      "\u001b[0;31mTypeError\u001b[0m: hlines() missing 2 required positional arguments: 'xmin' and 'xmax'"
     ]
    },
    {
     "data": {
      "image/png": "[encoded data removed]",
      "text/plain": [
       "<Figure size 432x288 with 1 Axes>"
      ]
     },
     "metadata": {
      "needs_background": "light"
     },
     "output_type": "display_data"
    }
   ],
   "source": [
    "test.plot_difference()"
   ]
  }
 ],
 "metadata": {
  "kernelspec": {
   "display_name": "Python 3.9.12 ('base')",
   "language": "python",
   "name": "python3"
  },
  "language_info": {
   "codemirror_mode": {
    "name": "ipython",
    "version": 3
   },
   "file_extension": ".py",
   "mimetype": "text/x-python",
   "name": "python",
   "nbconvert_exporter": "python",
   "pygments_lexer": "ipython3",
   "version": "3.9.12"
  },
  "orig_nbformat": 4,
  "vscode": {
   "interpreter": {
    "hash": "fa633476d90ebc5c342c0ebd58df75a6a0dad7836670477e29bdaa57f1aacce8"
   }
  }
 },
 "nbformat": 4,
 "nbformat_minor": 2
}
