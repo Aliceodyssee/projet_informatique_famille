{
 "cells": [
  {
   "cell_type": "markdown",
   "metadata": {},
   "source": [
    "# Tests"
   ]
  },
  {
   "cell_type": "markdown",
   "metadata": {},
   "source": [
    "## Queen_Eliz_II.ged"
   ]
  },
  {
   "cell_type": "markdown",
   "metadata": {},
   "source": [
    "### Basic tests"
   ]
  },
  {
   "cell_type": "code",
   "execution_count": 8,
   "metadata": {},
   "outputs": [],
   "source": [
    "from class_Path import *\n",
    "file_path = \"./ged docs/Queen_Eliz_II.ged\""
   ]
  },
  {
   "cell_type": "code",
   "execution_count": 9,
   "metadata": {},
   "outputs": [],
   "source": [
    "graph = Graph(file_path)\n",
    "path = Path(file_path)"
   ]
  },
  {
   "cell_type": "code",
   "execution_count": 11,
   "metadata": {},
   "outputs": [
    {
     "data": {
      "text/html": [
       "<div>\n",
       "<style scoped>\n",
       "    .dataframe tbody tr th:only-of-type {\n",
       "        vertical-align: middle;\n",
       "    }\n",
       "\n",
       "    .dataframe tbody tr th {\n",
       "        vertical-align: top;\n",
       "    }\n",
       "\n",
       "    .dataframe thead th {\n",
       "        text-align: right;\n",
       "    }\n",
       "</style>\n",
       "<table border=\"1\" class=\"dataframe\">\n",
       "  <thead>\n",
       "    <tr style=\"text-align: right;\">\n",
       "      <th></th>\n",
       "      <th>CHILD1</th>\n",
       "      <th>CHILD2</th>\n",
       "      <th>CHILD3</th>\n",
       "      <th>CHILD4</th>\n",
       "      <th>CHILD5</th>\n",
       "      <th>...</th>\n",
       "      <th>UNCLE2</th>\n",
       "      <th>UNCLE3</th>\n",
       "      <th>UNCLE4</th>\n",
       "      <th>UNCLE5</th>\n",
       "      <th>UNCLE6</th>\n",
       "    </tr>\n",
       "    <tr>\n",
       "      <th>INDI</th>\n",
       "      <th></th>\n",
       "      <th></th>\n",
       "      <th></th>\n",
       "      <th></th>\n",
       "      <th></th>\n",
       "      <th></th>\n",
       "      <th></th>\n",
       "      <th></th>\n",
       "      <th></th>\n",
       "      <th></th>\n",
       "      <th></th>\n",
       "    </tr>\n",
       "  </thead>\n",
       "  <tbody>\n",
       "    <tr>\n",
       "      <th>@I101@</th>\n",
       "      <td>NaN</td>\n",
       "      <td>NaN</td>\n",
       "      <td>NaN</td>\n",
       "      <td>NaN</td>\n",
       "      <td>NaN</td>\n",
       "      <td>...</td>\n",
       "      <td>NaN</td>\n",
       "      <td>NaN</td>\n",
       "      <td>NaN</td>\n",
       "      <td>NaN</td>\n",
       "      <td>NaN</td>\n",
       "    </tr>\n",
       "    <tr>\n",
       "      <th>@I103@</th>\n",
       "      <td>@I101@</td>\n",
       "      <td>NaN</td>\n",
       "      <td>NaN</td>\n",
       "      <td>NaN</td>\n",
       "      <td>NaN</td>\n",
       "      <td>...</td>\n",
       "      <td>NaN</td>\n",
       "      <td>NaN</td>\n",
       "      <td>NaN</td>\n",
       "      <td>NaN</td>\n",
       "      <td>NaN</td>\n",
       "    </tr>\n",
       "    <tr>\n",
       "      <th>@I155@</th>\n",
       "      <td>@I622@</td>\n",
       "      <td>NaN</td>\n",
       "      <td>NaN</td>\n",
       "      <td>NaN</td>\n",
       "      <td>NaN</td>\n",
       "      <td>...</td>\n",
       "      <td>NaN</td>\n",
       "      <td>NaN</td>\n",
       "      <td>NaN</td>\n",
       "      <td>NaN</td>\n",
       "      <td>NaN</td>\n",
       "    </tr>\n",
       "    <tr>\n",
       "      <th>@I168@</th>\n",
       "      <td>@I386@</td>\n",
       "      <td>NaN</td>\n",
       "      <td>NaN</td>\n",
       "      <td>NaN</td>\n",
       "      <td>NaN</td>\n",
       "      <td>...</td>\n",
       "      <td>NaN</td>\n",
       "      <td>NaN</td>\n",
       "      <td>NaN</td>\n",
       "      <td>NaN</td>\n",
       "      <td>NaN</td>\n",
       "    </tr>\n",
       "    <tr>\n",
       "      <th>@I169@</th>\n",
       "      <td>@I386@</td>\n",
       "      <td>NaN</td>\n",
       "      <td>NaN</td>\n",
       "      <td>NaN</td>\n",
       "      <td>NaN</td>\n",
       "      <td>...</td>\n",
       "      <td>NaN</td>\n",
       "      <td>NaN</td>\n",
       "      <td>NaN</td>\n",
       "      <td>NaN</td>\n",
       "      <td>NaN</td>\n",
       "    </tr>\n",
       "    <tr>\n",
       "      <th>...</th>\n",
       "      <td>...</td>\n",
       "      <td>...</td>\n",
       "      <td>...</td>\n",
       "      <td>...</td>\n",
       "      <td>...</td>\n",
       "      <td>...</td>\n",
       "      <td>...</td>\n",
       "      <td>...</td>\n",
       "      <td>...</td>\n",
       "      <td>...</td>\n",
       "      <td>...</td>\n",
       "    </tr>\n",
       "    <tr>\n",
       "      <th>@I11259@</th>\n",
       "      <td>@I11257@</td>\n",
       "      <td>NaN</td>\n",
       "      <td>NaN</td>\n",
       "      <td>NaN</td>\n",
       "      <td>NaN</td>\n",
       "      <td>...</td>\n",
       "      <td>NaN</td>\n",
       "      <td>NaN</td>\n",
       "      <td>NaN</td>\n",
       "      <td>NaN</td>\n",
       "      <td>NaN</td>\n",
       "    </tr>\n",
       "    <tr>\n",
       "      <th>@I11260@</th>\n",
       "      <td>@I11259@</td>\n",
       "      <td>NaN</td>\n",
       "      <td>NaN</td>\n",
       "      <td>NaN</td>\n",
       "      <td>NaN</td>\n",
       "      <td>...</td>\n",
       "      <td>NaN</td>\n",
       "      <td>NaN</td>\n",
       "      <td>NaN</td>\n",
       "      <td>NaN</td>\n",
       "      <td>NaN</td>\n",
       "    </tr>\n",
       "    <tr>\n",
       "      <th>@I11261@</th>\n",
       "      <td>@I11259@</td>\n",
       "      <td>NaN</td>\n",
       "      <td>NaN</td>\n",
       "      <td>NaN</td>\n",
       "      <td>NaN</td>\n",
       "      <td>...</td>\n",
       "      <td>NaN</td>\n",
       "      <td>NaN</td>\n",
       "      <td>NaN</td>\n",
       "      <td>NaN</td>\n",
       "      <td>NaN</td>\n",
       "    </tr>\n",
       "    <tr>\n",
       "      <th>@I11262@</th>\n",
       "      <td>@I11258@</td>\n",
       "      <td>NaN</td>\n",
       "      <td>NaN</td>\n",
       "      <td>NaN</td>\n",
       "      <td>NaN</td>\n",
       "      <td>...</td>\n",
       "      <td>NaN</td>\n",
       "      <td>NaN</td>\n",
       "      <td>NaN</td>\n",
       "      <td>NaN</td>\n",
       "      <td>NaN</td>\n",
       "    </tr>\n",
       "    <tr>\n",
       "      <th>@I11382@</th>\n",
       "      <td>@I387@</td>\n",
       "      <td>NaN</td>\n",
       "      <td>NaN</td>\n",
       "      <td>NaN</td>\n",
       "      <td>NaN</td>\n",
       "      <td>...</td>\n",
       "      <td>NaN</td>\n",
       "      <td>NaN</td>\n",
       "      <td>NaN</td>\n",
       "      <td>NaN</td>\n",
       "      <td>NaN</td>\n",
       "    </tr>\n",
       "  </tbody>\n",
       "</table>\n",
       "<p>4683 rows × 45 columns</p>\n",
       "</div>"
      ],
      "text/plain": [
       "            CHILD1 CHILD2 CHILD3 CHILD4 CHILD5  ... UNCLE2 UNCLE3 UNCLE4  \\\n",
       "INDI                                            ...                        \n",
       "@I101@         NaN    NaN    NaN    NaN    NaN  ...    NaN    NaN    NaN   \n",
       "@I103@      @I101@    NaN    NaN    NaN    NaN  ...    NaN    NaN    NaN   \n",
       "@I155@      @I622@    NaN    NaN    NaN    NaN  ...    NaN    NaN    NaN   \n",
       "@I168@      @I386@    NaN    NaN    NaN    NaN  ...    NaN    NaN    NaN   \n",
       "@I169@      @I386@    NaN    NaN    NaN    NaN  ...    NaN    NaN    NaN   \n",
       "...            ...    ...    ...    ...    ...  ...    ...    ...    ...   \n",
       "@I11259@  @I11257@    NaN    NaN    NaN    NaN  ...    NaN    NaN    NaN   \n",
       "@I11260@  @I11259@    NaN    NaN    NaN    NaN  ...    NaN    NaN    NaN   \n",
       "@I11261@  @I11259@    NaN    NaN    NaN    NaN  ...    NaN    NaN    NaN   \n",
       "@I11262@  @I11258@    NaN    NaN    NaN    NaN  ...    NaN    NaN    NaN   \n",
       "@I11382@    @I387@    NaN    NaN    NaN    NaN  ...    NaN    NaN    NaN   \n",
       "\n",
       "         UNCLE5 UNCLE6  \n",
       "INDI                    \n",
       "@I101@      NaN    NaN  \n",
       "@I103@      NaN    NaN  \n",
       "@I155@      NaN    NaN  \n",
       "@I168@      NaN    NaN  \n",
       "@I169@      NaN    NaN  \n",
       "...         ...    ...  \n",
       "@I11259@    NaN    NaN  \n",
       "@I11260@    NaN    NaN  \n",
       "@I11261@    NaN    NaN  \n",
       "@I11262@    NaN    NaN  \n",
       "@I11382@    NaN    NaN  \n",
       "\n",
       "[4683 rows x 45 columns]"
      ]
     },
     "execution_count": 11,
     "metadata": {},
     "output_type": "execute_result"
    }
   ],
   "source": [
    "pd.set_option('display.max_rows', 10)\n",
    "pd.set_option('display.max_columns', 10)\n",
    "graph.get_IndivLinks_DataFrame()"
   ]
  },
  {
   "cell_type": "code",
   "execution_count": 13,
   "metadata": {},
   "outputs": [
    {
     "name": "stdout",
     "output_type": "stream",
     "text": [
      "(11, [['@I3141@', 'grandparent'], ['@I3320@', 'grandparent'], ['@I3321@', 'sibling'], ['@I3615@', 'spouse'], ['@I3613@', 'parent']])\n"
     ]
    }
   ],
   "source": [
    "print(path.shortest_path('@I3014@','@I3613@'))"
   ]
  },
  {
   "cell_type": "code",
   "execution_count": 14,
   "metadata": {},
   "outputs": [
    {
     "data": {
      "text/plain": [
       "[11,\n",
       " 'John William of Orange is the father of the husband of the sister of the grand father of the grand father of Edward VII.']"
      ]
     },
     "execution_count": 14,
     "metadata": {},
     "output_type": "execute_result"
    }
   ],
   "source": [
    "path.get('@I3014@','@I3613@')"
   ]
  },
  {
   "cell_type": "markdown",
   "metadata": {},
   "source": [
    "### Parameters tests"
   ]
  },
  {
   "cell_type": "code",
   "execution_count": 1,
   "metadata": {},
   "outputs": [],
   "source": [
    "from class_Test import *"
   ]
  },
  {
   "cell_type": "code",
   "execution_count": 2,
   "metadata": {},
   "outputs": [],
   "source": [
    "# /!\\ Long : takes about 4 minutes /!\\\n",
    "test = Test(\"./ged docs/Queen_Eliz_II.ged\")"
   ]
  },
  {
   "cell_type": "code",
   "execution_count": 3,
   "metadata": {},
   "outputs": [
    {
     "data": {
      "text/html": [
       "<div>\n",
       "<style scoped>\n",
       "    .dataframe tbody tr th:only-of-type {\n",
       "        vertical-align: middle;\n",
       "    }\n",
       "\n",
       "    .dataframe tbody tr th {\n",
       "        vertical-align: top;\n",
       "    }\n",
       "\n",
       "    .dataframe thead th {\n",
       "        text-align: right;\n",
       "    }\n",
       "</style>\n",
       "<table border=\"1\" class=\"dataframe\">\n",
       "  <thead>\n",
       "    <tr style=\"text-align: right;\">\n",
       "      <th></th>\n",
       "      <th>Path</th>\n",
       "      <th>Distance</th>\n",
       "      <th>Dijkstar distance</th>\n",
       "      <th>Execution time (s)</th>\n",
       "      <th>Dijkstar execution time (s)</th>\n",
       "      <th>Difference of execution time (s)</th>\n",
       "    </tr>\n",
       "    <tr>\n",
       "      <th>Individuals</th>\n",
       "      <th></th>\n",
       "      <th></th>\n",
       "      <th></th>\n",
       "      <th></th>\n",
       "      <th></th>\n",
       "      <th></th>\n",
       "    </tr>\n",
       "  </thead>\n",
       "  <tbody>\n",
       "    <tr>\n",
       "      <th>[@I2239@, @I2243@]</th>\n",
       "      <td>Bethoc Beatrix MacKenneth Heiress of Scone Pri...</td>\n",
       "      <td>2</td>\n",
       "      <td>2</td>\n",
       "      <td>3.919329</td>\n",
       "      <td>3.848916</td>\n",
       "      <td>0.070413</td>\n",
       "    </tr>\n",
       "    <tr>\n",
       "      <th>[@I173@, @I6452@]</th>\n",
       "      <td>Philip (Sir) de BRAOSE (BRIOUZE) is the son of...</td>\n",
       "      <td>5</td>\n",
       "      <td>5</td>\n",
       "      <td>4.823571</td>\n",
       "      <td>5.275576</td>\n",
       "      <td>-0.452005</td>\n",
       "    </tr>\n",
       "    <tr>\n",
       "      <th>[@I3139@, @I3014@]</th>\n",
       "      <td>Edward VII is the son of the grand son of (Sop...</td>\n",
       "      <td>5</td>\n",
       "      <td>5</td>\n",
       "      <td>5.263778</td>\n",
       "      <td>5.297867</td>\n",
       "      <td>-0.034089</td>\n",
       "    </tr>\n",
       "    <tr>\n",
       "      <th>[@I8359@, @I8944@]</th>\n",
       "      <td>William (3rd Lord) is the daughter of the gran...</td>\n",
       "      <td>5</td>\n",
       "      <td>5</td>\n",
       "      <td>5.066926</td>\n",
       "      <td>5.262325</td>\n",
       "      <td>-0.195399</td>\n",
       "    </tr>\n",
       "    <tr>\n",
       "      <th>[@I903@, @I895@]</th>\n",
       "      <td>Agnes is the grand son of the grand daughter o...</td>\n",
       "      <td>6</td>\n",
       "      <td>6</td>\n",
       "      <td>5.298165</td>\n",
       "      <td>5.265144</td>\n",
       "      <td>0.033021</td>\n",
       "    </tr>\n",
       "    <tr>\n",
       "      <th>[@I6013@, @I2181@]</th>\n",
       "      <td>Gruffydd is the son of the wife of Gruffydd, w...</td>\n",
       "      <td>6</td>\n",
       "      <td>6</td>\n",
       "      <td>6.726191</td>\n",
       "      <td>7.768929</td>\n",
       "      <td>-1.042738</td>\n",
       "    </tr>\n",
       "    <tr>\n",
       "      <th>[@I7488@, @I7479@]</th>\n",
       "      <td>Alexander is the grand father of the grand fat...</td>\n",
       "      <td>6</td>\n",
       "      <td>6</td>\n",
       "      <td>5.478568</td>\n",
       "      <td>5.463163</td>\n",
       "      <td>0.015405</td>\n",
       "    </tr>\n",
       "    <tr>\n",
       "      <th>[@I10105@, @I6794@]</th>\n",
       "      <td>Henry (of Roslin) ST. CLAIR (SINCLAIR) is the ...</td>\n",
       "      <td>8</td>\n",
       "      <td>8</td>\n",
       "      <td>6.506111</td>\n",
       "      <td>8.011759</td>\n",
       "      <td>-1.505648</td>\n",
       "    </tr>\n",
       "    <tr>\n",
       "      <th>[@I10914@, @I8821@]</th>\n",
       "      <td>Matilda  (Princess) of FRANCE is the son of th...</td>\n",
       "      <td>8</td>\n",
       "      <td>8</td>\n",
       "      <td>6.777167</td>\n",
       "      <td>8.014227</td>\n",
       "      <td>-1.237060</td>\n",
       "    </tr>\n",
       "    <tr>\n",
       "      <th>[@I6214@, @I6225@]</th>\n",
       "      <td>Senisonb (Seneseneb) of EGYPT is the grand fat...</td>\n",
       "      <td>9</td>\n",
       "      <td>9</td>\n",
       "      <td>6.673302</td>\n",
       "      <td>7.778065</td>\n",
       "      <td>-1.104763</td>\n",
       "    </tr>\n",
       "    <tr>\n",
       "      <th>[@I11247@, @I11232@]</th>\n",
       "      <td>William is the grand son of the grand son of W...</td>\n",
       "      <td>9</td>\n",
       "      <td>9</td>\n",
       "      <td>6.449449</td>\n",
       "      <td>7.722363</td>\n",
       "      <td>-1.272914</td>\n",
       "    </tr>\n",
       "    <tr>\n",
       "      <th>[@I9383@, @I7501@]</th>\n",
       "      <td>John LYON (8th Baron GLAMIS) is the son of the...</td>\n",
       "      <td>11</td>\n",
       "      <td>11</td>\n",
       "      <td>9.000600</td>\n",
       "      <td>10.151045</td>\n",
       "      <td>-1.150445</td>\n",
       "    </tr>\n",
       "    <tr>\n",
       "      <th>[@I8709@, @I8723@]</th>\n",
       "      <td>Mary is the grand son of the grand son of Will...</td>\n",
       "      <td>12</td>\n",
       "      <td>12</td>\n",
       "      <td>8.043891</td>\n",
       "      <td>9.200021</td>\n",
       "      <td>-1.156130</td>\n",
       "    </tr>\n",
       "    <tr>\n",
       "      <th>[@I10994@, @I8418@]</th>\n",
       "      <td>Elizabeth is the daughter of the grand daughte...</td>\n",
       "      <td>15</td>\n",
       "      <td>15</td>\n",
       "      <td>10.304035</td>\n",
       "      <td>13.046733</td>\n",
       "      <td>-2.742698</td>\n",
       "    </tr>\n",
       "  </tbody>\n",
       "</table>\n",
       "</div>"
      ],
      "text/plain": [
       "                                                                   Path  \\\n",
       "Individuals                                                               \n",
       "[@I2239@, @I2243@]    Bethoc Beatrix MacKenneth Heiress of Scone Pri...   \n",
       "[@I173@, @I6452@]     Philip (Sir) de BRAOSE (BRIOUZE) is the son of...   \n",
       "[@I3139@, @I3014@]    Edward VII is the son of the grand son of (Sop...   \n",
       "[@I8359@, @I8944@]    William (3rd Lord) is the daughter of the gran...   \n",
       "[@I903@, @I895@]      Agnes is the grand son of the grand daughter o...   \n",
       "[@I6013@, @I2181@]    Gruffydd is the son of the wife of Gruffydd, w...   \n",
       "[@I7488@, @I7479@]    Alexander is the grand father of the grand fat...   \n",
       "[@I10105@, @I6794@]   Henry (of Roslin) ST. CLAIR (SINCLAIR) is the ...   \n",
       "[@I10914@, @I8821@]   Matilda  (Princess) of FRANCE is the son of th...   \n",
       "[@I6214@, @I6225@]    Senisonb (Seneseneb) of EGYPT is the grand fat...   \n",
       "[@I11247@, @I11232@]  William is the grand son of the grand son of W...   \n",
       "[@I9383@, @I7501@]    John LYON (8th Baron GLAMIS) is the son of the...   \n",
       "[@I8709@, @I8723@]    Mary is the grand son of the grand son of Will...   \n",
       "[@I10994@, @I8418@]   Elizabeth is the daughter of the grand daughte...   \n",
       "\n",
       "                      Distance  Dijkstar distance  Execution time (s)  \\\n",
       "Individuals                                                             \n",
       "[@I2239@, @I2243@]           2                  2            3.919329   \n",
       "[@I173@, @I6452@]            5                  5            4.823571   \n",
       "[@I3139@, @I3014@]           5                  5            5.263778   \n",
       "[@I8359@, @I8944@]           5                  5            5.066926   \n",
       "[@I903@, @I895@]             6                  6            5.298165   \n",
       "[@I6013@, @I2181@]           6                  6            6.726191   \n",
       "[@I7488@, @I7479@]           6                  6            5.478568   \n",
       "[@I10105@, @I6794@]          8                  8            6.506111   \n",
       "[@I10914@, @I8821@]          8                  8            6.777167   \n",
       "[@I6214@, @I6225@]           9                  9            6.673302   \n",
       "[@I11247@, @I11232@]         9                  9            6.449449   \n",
       "[@I9383@, @I7501@]          11                 11            9.000600   \n",
       "[@I8709@, @I8723@]          12                 12            8.043891   \n",
       "[@I10994@, @I8418@]         15                 15           10.304035   \n",
       "\n",
       "                      Dijkstar execution time (s)  \\\n",
       "Individuals                                         \n",
       "[@I2239@, @I2243@]                       3.848916   \n",
       "[@I173@, @I6452@]                        5.275576   \n",
       "[@I3139@, @I3014@]                       5.297867   \n",
       "[@I8359@, @I8944@]                       5.262325   \n",
       "[@I903@, @I895@]                         5.265144   \n",
       "[@I6013@, @I2181@]                       7.768929   \n",
       "[@I7488@, @I7479@]                       5.463163   \n",
       "[@I10105@, @I6794@]                      8.011759   \n",
       "[@I10914@, @I8821@]                      8.014227   \n",
       "[@I6214@, @I6225@]                       7.778065   \n",
       "[@I11247@, @I11232@]                     7.722363   \n",
       "[@I9383@, @I7501@]                      10.151045   \n",
       "[@I8709@, @I8723@]                       9.200021   \n",
       "[@I10994@, @I8418@]                     13.046733   \n",
       "\n",
       "                      Difference of execution time (s)  \n",
       "Individuals                                             \n",
       "[@I2239@, @I2243@]                            0.070413  \n",
       "[@I173@, @I6452@]                            -0.452005  \n",
       "[@I3139@, @I3014@]                           -0.034089  \n",
       "[@I8359@, @I8944@]                           -0.195399  \n",
       "[@I903@, @I895@]                              0.033021  \n",
       "[@I6013@, @I2181@]                           -1.042738  \n",
       "[@I7488@, @I7479@]                            0.015405  \n",
       "[@I10105@, @I6794@]                          -1.505648  \n",
       "[@I10914@, @I8821@]                          -1.237060  \n",
       "[@I6214@, @I6225@]                           -1.104763  \n",
       "[@I11247@, @I11232@]                         -1.272914  \n",
       "[@I9383@, @I7501@]                           -1.150445  \n",
       "[@I8709@, @I8723@]                           -1.156130  \n",
       "[@I10994@, @I8418@]                          -2.742698  "
      ]
     },
     "execution_count": 3,
     "metadata": {},
     "output_type": "execute_result"
    }
   ],
   "source": [
    "test.comparison_Dataframe()"
   ]
  },
  {
   "cell_type": "code",
   "execution_count": 4,
   "metadata": {},
   "outputs": [
    {
     "data": {
      "text/plain": [
       "(6.452220184462411, 7.29329526424408)"
      ]
     },
     "execution_count": 4,
     "metadata": {},
     "output_type": "execute_result"
    }
   ],
   "source": [
    "test.average()"
   ]
  },
  {
   "cell_type": "code",
   "execution_count": 5,
   "metadata": {},
   "outputs": [
    {
     "data": {
      "image/png": "[encoded data removed]",
      "text/plain": [
       "<Figure size 432x288 with 1 Axes>"
      ]
     },
     "metadata": {
      "needs_background": "light"
     },
     "output_type": "display_data"
    }
   ],
   "source": [
    "test.plot_Distance_Time()"
   ]
  },
  {
   "cell_type": "code",
   "execution_count": 6,
   "metadata": {},
   "outputs": [
    {
     "name": "stdout",
     "output_type": "stream",
     "text": [
      "In 21.428571428571427% of cases, the Dijkstra algorithm is faster.\n"
     ]
    },
    {
     "data": {
      "image/png": "[encoded data removed]",
      "text/plain": [
       "<Figure size 432x288 with 1 Axes>"
      ]
     },
     "metadata": {
      "needs_background": "light"
     },
     "output_type": "display_data"
    }
   ],
   "source": [
    "test.plot_difference()"
   ]
  },
  {
   "cell_type": "markdown",
   "metadata": {},
   "source": [
    "### Validation "
   ]
  },
  {
   "cell_type": "code",
   "execution_count": 1,
   "metadata": {},
   "outputs": [
    {
     "name": "stdout",
     "output_type": "stream",
     "text": [
      "(11, [['@I3141@', 'grandparent'], ['@I3138@', 'parent'], ['@I3321@', 'uncle'], ['@I3615@', 'spouse'], ['@I3613@', 'parent']])\n"
     ]
    },
    {
     "data": {
      "text/plain": [
       "[11,\n",
       " 'John William of Orange is the father of the husband of the aunt of the father of the grand father of Edward VII.']"
      ]
     },
     "execution_count": 1,
     "metadata": {},
     "output_type": "execute_result"
    }
   ],
   "source": [
    "from gedcom.element.individual import IndividualElement\n",
    "from gedcom.parser import Parser\n",
    "from class_Path import *\n",
    "\n",
    "gedcom_parser = Parser()\n",
    "\n",
    "file_path = './ged docs/Queen_Eliz_II.ged'\n",
    "path = Path(file_path)\n",
    "gedcom_parser = Parser()\n",
    "gedcom_parser.parse_file(file_path)\n",
    "root_child_elements = gedcom_parser.get_root_child_elements()\n",
    "\n",
    "def find_IndividualElement(first_name,last_name):\n",
    "    \"\"\"\n",
    "    Get Individual element of ged with first names and last name\n",
    "\n",
    "    Parameters\n",
    "    ---\n",
    "    first_names : str\n",
    "        complete first names of the individual\n",
    "    last_name : str\n",
    "        last names of the individual \n",
    "\n",
    "    Returns \n",
    "    ---\n",
    "    bool \n",
    "        Tells if the individual was found\n",
    "    IndividualElement\n",
    "        IndividualElement corresponding to the individual in the ged\n",
    "\n",
    "    \"\"\"\n",
    "    for element in root_child_elements:\n",
    "        if isinstance(element, IndividualElement):\n",
    "            if element.surname_match(last_name) and element.given_name_match(first_name):\n",
    "                return (True, element)\n",
    "    return [False, element]\n",
    "\n",
    "\n",
    "path = Path(file_path)\n",
    "\n",
    "ind1 = find_IndividualElement(\"Elizabeth II Alexandra Mary\",\"Windsor\")[1].get_pointer()\n",
    "ind2 = find_IndividualElement(\"George V\", \"Windsor\")[1].get_pointer()\n",
    "\n",
    "#print(path.shortest_path(ind1,ind2))\n",
    "#path.get(ind1,ind2)\n",
    "\n",
    "ind1bis = find_IndividualElement(\"Edward VII\",\"Wettin\")[1].get_pointer()\n",
    "ind2bis = find_IndividualElement(\"John William of Orange\", \"Friso\")[1].get_pointer()\n",
    "\n",
    "print(path.shortest_path(ind1bis,ind2bis))\n",
    "path.get(ind1bis,ind2bis)[1]"
   ]
  }
 ],
 "metadata": {
  "kernelspec": {
   "display_name": "Python 3.9.12 ('base')",
   "language": "python",
   "name": "python3"
  },
  "language_info": {
   "codemirror_mode": {
    "name": "ipython",
    "version": 3
   },
   "file_extension": ".py",
   "mimetype": "text/x-python",
   "name": "python",
   "nbconvert_exporter": "python",
   "pygments_lexer": "ipython3",
   "version": "3.9.12"
  },
  "orig_nbformat": 4,
  "vscode": {
   "interpreter": {
    "hash": "fa633476d90ebc5c342c0ebd58df75a6a0dad7836670477e29bdaa57f1aacce8"
   }
  }
 },
 "nbformat": 4,
 "nbformat_minor": 2
}
