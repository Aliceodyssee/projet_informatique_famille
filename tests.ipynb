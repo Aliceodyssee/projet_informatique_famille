{
 "cells": [
  {
   "cell_type": "markdown",
   "metadata": {},
   "source": [
    "# Tests"
   ]
  },
  {
   "cell_type": "markdown",
   "metadata": {},
   "source": [
    "## Basic tests"
   ]
  },
  {
   "cell_type": "markdown",
   "metadata": {},
   "source": [
    "### Utilisation of classes"
   ]
  },
  {
   "cell_type": "code",
   "execution_count": 2,
   "metadata": {},
   "outputs": [],
   "source": [
    "from class_Path import *\n",
    "file_path = \"./ged docs/Queen_Eliz_II.ged\""
   ]
  },
  {
   "cell_type": "code",
   "execution_count": 3,
   "metadata": {},
   "outputs": [],
   "source": [
    "graph = Graph(file_path)\n",
    "path = Path(file_path)"
   ]
  },
  {
   "cell_type": "code",
   "execution_count": 4,
   "metadata": {},
   "outputs": [
    {
     "data": {
      "text/plain": [
       "'Isabella (le) is the son of the grand son of Thomas, who is the grand son of the grand son of the grand son of Dorothy, who is the wife of the grand mother of the grand father of Henry (4th Lord of Groby) de, who is the grand father of the grand mother of the grand mother of Eva, who is the grand mother of the niece of Thomas'"
      ]
     },
     "execution_count": 4,
     "metadata": {},
     "output_type": "execute_result"
    }
   ],
   "source": [
    "path.print('@I11259@','@I10835@')"
   ]
  },
  {
   "cell_type": "markdown",
   "metadata": {},
   "source": [
    "## Parameters tests"
   ]
  },
  {
   "cell_type": "markdown",
   "metadata": {},
   "source": [
    "### Data series creation"
   ]
  },
  {
   "cell_type": "code",
   "execution_count": 1,
   "metadata": {},
   "outputs": [],
   "source": [
    "import random\n",
    "import time\n",
    "from class_Path import *\n",
    "file_path = \"./ged docs/Queen_Eliz_II.ged\"\n",
    "graph = Graph(file_path).print()\n",
    "path = Path(file_path)"
   ]
  },
  {
   "cell_type": "code",
   "execution_count": 7,
   "metadata": {},
   "outputs": [],
   "source": [
    "def random_serie() :\n",
    "    keys = list(graph.keys())\n",
    "    serie = []\n",
    "    j = 0\n",
    "    while j < 10 :\n",
    "        i = random.randint(0,len(keys)-1)\n",
    "        serie += [keys[i]]\n",
    "        j += 1\n",
    "    return serie"
   ]
  },
  {
   "cell_type": "code",
   "execution_count": 8,
   "metadata": {},
   "outputs": [
    {
     "data": {
      "text/html": [
       "<div>\n",
       "<style scoped>\n",
       "    .dataframe tbody tr th:only-of-type {\n",
       "        vertical-align: middle;\n",
       "    }\n",
       "\n",
       "    .dataframe tbody tr th {\n",
       "        vertical-align: top;\n",
       "    }\n",
       "\n",
       "    .dataframe thead th {\n",
       "        text-align: right;\n",
       "    }\n",
       "</style>\n",
       "<table border=\"1\" class=\"dataframe\">\n",
       "  <thead>\n",
       "    <tr style=\"text-align: right;\">\n",
       "      <th></th>\n",
       "      <th>Path</th>\n",
       "      <th>Execution time (s)</th>\n",
       "    </tr>\n",
       "    <tr>\n",
       "      <th>Individuals</th>\n",
       "      <th></th>\n",
       "      <th></th>\n",
       "    </tr>\n",
       "  </thead>\n",
       "  <tbody>\n",
       "    <tr>\n",
       "      <th>[@I10128@, @I1220@]</th>\n",
       "      <td>Catherine of Valois is the daughter of the hus...</td>\n",
       "      <td>37.787885</td>\n",
       "    </tr>\n",
       "    <tr>\n",
       "      <th>[@I6468@, @I6284@]</th>\n",
       "      <td>Ferdinand I `the Great' (King) of CASTILE is t...</td>\n",
       "      <td>66.047026</td>\n",
       "    </tr>\n",
       "    <tr>\n",
       "      <th>[@I10049@, @I8765@]</th>\n",
       "      <td>Dorothy is the son of the grand daughter of Jo...</td>\n",
       "      <td>19.814480</td>\n",
       "    </tr>\n",
       "    <tr>\n",
       "      <th>[@I5720@, @I10779@]</th>\n",
       "      <td>Robert (II; de) is the grand son of the grand ...</td>\n",
       "      <td>48.343950</td>\n",
       "    </tr>\n",
       "    <tr>\n",
       "      <th>[@I4164@, @I904@]</th>\n",
       "      <td>John is the son of the wife of Alianor (Eleano...</td>\n",
       "      <td>19.669232</td>\n",
       "    </tr>\n",
       "    <tr>\n",
       "      <th>[@I4716@, @I4418@]</th>\n",
       "      <td>Addi is the nephew of the grand son of Edna ba...</td>\n",
       "      <td>36.443540</td>\n",
       "    </tr>\n",
       "    <tr>\n",
       "      <th>[@I4169@, @I7163@]</th>\n",
       "      <td>Amias (of Kilfane) is the grand son of the gra...</td>\n",
       "      <td>28.879225</td>\n",
       "    </tr>\n",
       "    <tr>\n",
       "      <th>[@I2199@, @I6835@]</th>\n",
       "      <td>Matilda (Maud) d' AUBIGNY is the grand son of ...</td>\n",
       "      <td>38.318022</td>\n",
       "    </tr>\n",
       "    <tr>\n",
       "      <th>[@I6571@, @I335@]</th>\n",
       "      <td>Eudes I, Count of Blois is the grand son of th...</td>\n",
       "      <td>15.490911</td>\n",
       "    </tr>\n",
       "    <tr>\n",
       "      <th>[@I172@, @I7834@]</th>\n",
       "      <td>Berthe de PONTHIEU is the wife of the grand fa...</td>\n",
       "      <td>15.674970</td>\n",
       "    </tr>\n",
       "  </tbody>\n",
       "</table>\n",
       "</div>"
      ],
      "text/plain": [
       "                                                                  Path  \\\n",
       "Individuals                                                              \n",
       "[@I10128@, @I1220@]  Catherine of Valois is the daughter of the hus...   \n",
       "[@I6468@, @I6284@]   Ferdinand I `the Great' (King) of CASTILE is t...   \n",
       "[@I10049@, @I8765@]  Dorothy is the son of the grand daughter of Jo...   \n",
       "[@I5720@, @I10779@]  Robert (II; de) is the grand son of the grand ...   \n",
       "[@I4164@, @I904@]    John is the son of the wife of Alianor (Eleano...   \n",
       "[@I4716@, @I4418@]   Addi is the nephew of the grand son of Edna ba...   \n",
       "[@I4169@, @I7163@]   Amias (of Kilfane) is the grand son of the gra...   \n",
       "[@I2199@, @I6835@]   Matilda (Maud) d' AUBIGNY is the grand son of ...   \n",
       "[@I6571@, @I335@]    Eudes I, Count of Blois is the grand son of th...   \n",
       "[@I172@, @I7834@]    Berthe de PONTHIEU is the wife of the grand fa...   \n",
       "\n",
       "                     Execution time (s)  \n",
       "Individuals                              \n",
       "[@I10128@, @I1220@]           37.787885  \n",
       "[@I6468@, @I6284@]            66.047026  \n",
       "[@I10049@, @I8765@]           19.814480  \n",
       "[@I5720@, @I10779@]           48.343950  \n",
       "[@I4164@, @I904@]             19.669232  \n",
       "[@I4716@, @I4418@]            36.443540  \n",
       "[@I4169@, @I7163@]            28.879225  \n",
       "[@I2199@, @I6835@]            38.318022  \n",
       "[@I6571@, @I335@]             15.490911  \n",
       "[@I172@, @I7834@]             15.674970  "
      ]
     },
     "execution_count": 8,
     "metadata": {},
     "output_type": "execute_result"
    }
   ],
   "source": [
    "serie = []\n",
    "serie1,serie2 = random_serie(), random_serie()\n",
    "for i in range(len(serie1)) :\n",
    "    serie += [[serie1[i],serie2[i]]]\n",
    "\n",
    "\n",
    "paths = []\n",
    "path_times = []\n",
    "for i in range(len(serie)) : \n",
    "    start = time.time()\n",
    "    paths += [path.get(serie[i][0],serie[i][1])]\n",
    "    end = time.time()\n",
    "    path_times += [end-start]\n",
    "\n",
    "\n",
    "df = pd.DataFrame(\n",
    "{\n",
    "    'Individuals' : serie,\n",
    "    'Path' : paths,\n",
    "    'Execution time (s)' : path_times\n",
    "})\n",
    "df.set_index('Individuals',inplace=True)\n",
    "df"
   ]
  }
 ],
 "metadata": {
  "kernelspec": {
   "display_name": "Python 3.9.12 ('base')",
   "language": "python",
   "name": "python3"
  },
  "language_info": {
   "codemirror_mode": {
    "name": "ipython",
    "version": 3
   },
   "file_extension": ".py",
   "mimetype": "text/x-python",
   "name": "python",
   "nbconvert_exporter": "python",
   "pygments_lexer": "ipython3",
   "version": "3.9.12"
  },
  "orig_nbformat": 4,
  "vscode": {
   "interpreter": {
    "hash": "fa633476d90ebc5c342c0ebd58df75a6a0dad7836670477e29bdaa57f1aacce8"
   }
  }
 },
 "nbformat": 4,
 "nbformat_minor": 2
}
