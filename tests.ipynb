{
 "cells": [
  {
   "cell_type": "markdown",
   "metadata": {},
   "source": [
    "# Tests"
   ]
  },
  {
   "cell_type": "markdown",
   "metadata": {},
   "source": [
    "## Basic tests"
   ]
  },
  {
   "cell_type": "markdown",
   "metadata": {},
   "source": [
    "### Utilisation of classes"
   ]
  },
  {
   "cell_type": "code",
   "execution_count": 2,
   "metadata": {},
   "outputs": [],
   "source": [
    "from class_Path import *\n",
    "file_path = \"./ged docs/Queen_Eliz_II.ged\""
   ]
  },
  {
   "cell_type": "code",
   "execution_count": 3,
   "metadata": {},
   "outputs": [],
   "source": [
    "graph = Graph(file_path)\n",
    "path = Path(file_path)"
   ]
  },
  {
   "cell_type": "code",
   "execution_count": 4,
   "metadata": {},
   "outputs": [
    {
     "data": {
      "text/plain": [
       "'Isabella (le) is the son of the grand son of Thomas, who is the grand son of the grand son of the grand son of Dorothy, who is the wife of the grand mother of the grand father of Henry (4th Lord of Groby) de, who is the grand father of the grand mother of the grand mother of Eva, who is the grand mother of the niece of Thomas'"
      ]
     },
     "execution_count": 4,
     "metadata": {},
     "output_type": "execute_result"
    }
   ],
   "source": [
    "path.print('@I11259@','@I10835@')"
   ]
  },
  {
   "cell_type": "markdown",
   "metadata": {},
   "source": [
    "## Parameters tests"
   ]
  },
  {
   "cell_type": "markdown",
   "metadata": {},
   "source": [
    "### Data series creation"
   ]
  },
  {
   "cell_type": "code",
   "execution_count": 12,
   "metadata": {},
   "outputs": [],
   "source": [
    "import random\n",
    "import time\n",
    "import matplotlib.pyplot as plt\n",
    "from class_Path import *\n"
   ]
  },
  {
   "cell_type": "code",
   "execution_count": 13,
   "metadata": {},
   "outputs": [],
   "source": [
    "file_path = \"./ged docs/Queen_Eliz_II.ged\"\n",
    "graph = Graph(file_path).print()\n",
    "path = Path(file_path)"
   ]
  },
  {
   "cell_type": "code",
   "execution_count": 4,
   "metadata": {},
   "outputs": [],
   "source": [
    "def random_serie() :\n",
    "    keys = list(graph.keys())\n",
    "    serie = []\n",
    "    j = 0\n",
    "    while j < 10 :\n",
    "        i = random.randint(0,len(keys)-1)\n",
    "        serie += [keys[i]]\n",
    "        j += 1\n",
    "    return serie"
   ]
  },
  {
   "cell_type": "code",
   "execution_count": 5,
   "metadata": {},
   "outputs": [
    {
     "data": {
      "text/html": [
       "<div>\n",
       "<style scoped>\n",
       "    .dataframe tbody tr th:only-of-type {\n",
       "        vertical-align: middle;\n",
       "    }\n",
       "\n",
       "    .dataframe tbody tr th {\n",
       "        vertical-align: top;\n",
       "    }\n",
       "\n",
       "    .dataframe thead th {\n",
       "        text-align: right;\n",
       "    }\n",
       "</style>\n",
       "<table border=\"1\" class=\"dataframe\">\n",
       "  <thead>\n",
       "    <tr style=\"text-align: right;\">\n",
       "      <th></th>\n",
       "      <th>Path</th>\n",
       "      <th>Distance</th>\n",
       "      <th>Execution time (s)</th>\n",
       "    </tr>\n",
       "    <tr>\n",
       "      <th>Individuals</th>\n",
       "      <th></th>\n",
       "      <th></th>\n",
       "      <th></th>\n",
       "    </tr>\n",
       "  </thead>\n",
       "  <tbody>\n",
       "    <tr>\n",
       "      <th>[@I9421@, @I10822@]</th>\n",
       "      <td>Gilbert (II; de) is the grand father of the ni...</td>\n",
       "      <td>18</td>\n",
       "      <td>14.521609</td>\n",
       "    </tr>\n",
       "    <tr>\n",
       "      <th>[@I10084@, @I6526@]</th>\n",
       "      <td>Chief Frank Marcomir is the wife of the grand ...</td>\n",
       "      <td>48</td>\n",
       "      <td>35.771637</td>\n",
       "    </tr>\n",
       "    <tr>\n",
       "      <th>[@I10182@, @I5303@]</th>\n",
       "      <td>EMMELINE is the grand son of the grand son of ...</td>\n",
       "      <td>41</td>\n",
       "      <td>31.016189</td>\n",
       "    </tr>\n",
       "    <tr>\n",
       "      <th>[@I8934@, @I6261@]</th>\n",
       "      <td>Sebekshedty-Neferu (Queen) of EGYPT is the hus...</td>\n",
       "      <td>194</td>\n",
       "      <td>130.569275</td>\n",
       "    </tr>\n",
       "    <tr>\n",
       "      <th>[@I10068@, @I955@]</th>\n",
       "      <td>Regina is the grand daughter of the husband of...</td>\n",
       "      <td>40</td>\n",
       "      <td>30.043208</td>\n",
       "    </tr>\n",
       "    <tr>\n",
       "      <th>[@I2189@, @I899@]</th>\n",
       "      <td>Constance is the daughter of the husband of El...</td>\n",
       "      <td>17</td>\n",
       "      <td>15.038925</td>\n",
       "    </tr>\n",
       "    <tr>\n",
       "      <th>[@I5277@, @I10351@]</th>\n",
       "      <td>Ieaun ap  (Lord of BAGLAN) is the wife of the ...</td>\n",
       "      <td>22</td>\n",
       "      <td>19.079764</td>\n",
       "    </tr>\n",
       "    <tr>\n",
       "      <th>[@I5609@, @I6611@]</th>\n",
       "      <td>Bresal Brecc mac Criomthann Crosach I is the g...</td>\n",
       "      <td>81</td>\n",
       "      <td>52.728971</td>\n",
       "    </tr>\n",
       "    <tr>\n",
       "      <th>[@I10659@, @I9283@]</th>\n",
       "      <td>Ferither Our 'Dun is the grand daughter of the...</td>\n",
       "      <td>49</td>\n",
       "      <td>36.812857</td>\n",
       "    </tr>\n",
       "    <tr>\n",
       "      <th>[@I6453@, @I7490@]</th>\n",
       "      <td>Marjory is the grand daughter of the son of Ag...</td>\n",
       "      <td>28</td>\n",
       "      <td>24.806203</td>\n",
       "    </tr>\n",
       "  </tbody>\n",
       "</table>\n",
       "</div>"
      ],
      "text/plain": [
       "                                                                  Path  \\\n",
       "Individuals                                                              \n",
       "[@I9421@, @I10822@]  Gilbert (II; de) is the grand father of the ni...   \n",
       "[@I10084@, @I6526@]  Chief Frank Marcomir is the wife of the grand ...   \n",
       "[@I10182@, @I5303@]  EMMELINE is the grand son of the grand son of ...   \n",
       "[@I8934@, @I6261@]   Sebekshedty-Neferu (Queen) of EGYPT is the hus...   \n",
       "[@I10068@, @I955@]   Regina is the grand daughter of the husband of...   \n",
       "[@I2189@, @I899@]    Constance is the daughter of the husband of El...   \n",
       "[@I5277@, @I10351@]  Ieaun ap  (Lord of BAGLAN) is the wife of the ...   \n",
       "[@I5609@, @I6611@]   Bresal Brecc mac Criomthann Crosach I is the g...   \n",
       "[@I10659@, @I9283@]  Ferither Our 'Dun is the grand daughter of the...   \n",
       "[@I6453@, @I7490@]   Marjory is the grand daughter of the son of Ag...   \n",
       "\n",
       "                     Distance  Execution time (s)  \n",
       "Individuals                                        \n",
       "[@I9421@, @I10822@]        18           14.521609  \n",
       "[@I10084@, @I6526@]        48           35.771637  \n",
       "[@I10182@, @I5303@]        41           31.016189  \n",
       "[@I8934@, @I6261@]        194          130.569275  \n",
       "[@I10068@, @I955@]         40           30.043208  \n",
       "[@I2189@, @I899@]          17           15.038925  \n",
       "[@I5277@, @I10351@]        22           19.079764  \n",
       "[@I5609@, @I6611@]         81           52.728971  \n",
       "[@I10659@, @I9283@]        49           36.812857  \n",
       "[@I6453@, @I7490@]         28           24.806203  "
      ]
     },
     "execution_count": 5,
     "metadata": {},
     "output_type": "execute_result"
    }
   ],
   "source": [
    "serie = []\n",
    "serie1,serie2 = random_serie(), random_serie()\n",
    "for i in range(len(serie1)) :\n",
    "    serie += [[serie1[i],serie2[i]]]\n",
    "\n",
    "\n",
    "distances = []\n",
    "paths = []\n",
    "path_times = []\n",
    "for i in range(len(serie)) : \n",
    "    start = time.time()\n",
    "    shortest_path = path.get(serie[i][0],serie[i][1])\n",
    "    distances += [shortest_path[0]]\n",
    "    paths += [shortest_path[1]]\n",
    "    end = time.time()\n",
    "    path_times += [end-start]\n",
    "\n",
    "\n",
    "df = pd.DataFrame(\n",
    "{\n",
    "    'Individuals' : serie,\n",
    "    'Path' : paths,\n",
    "    'Distance' : distances,\n",
    "    'Execution time (s)' : path_times\n",
    "})\n",
    "df.set_index('Individuals',inplace=True)\n",
    "df"
   ]
  },
  {
   "cell_type": "code",
   "execution_count": 29,
   "metadata": {},
   "outputs": [
    {
     "data": {
      "text/plain": [
       "39.03886377811432"
      ]
     },
     "execution_count": 29,
     "metadata": {},
     "output_type": "execute_result"
    }
   ],
   "source": [
    "average = sum(path_times)/len(path_times)\n",
    "average"
   ]
  },
  {
   "cell_type": "code",
   "execution_count": 39,
   "metadata": {},
   "outputs": [
    {
     "data": {
      "image/png": "[encoded data removed]",
      "text/plain": [
       "<Figure size 432x288 with 1 Axes>"
      ]
     },
     "metadata": {
      "needs_background": "light"
     },
     "output_type": "display_data"
    }
   ],
   "source": [
    "a,b = np.polyfit(distances,path_times,1)\n",
    "plt.scatter(distances,path_times,marker='+')\n",
    "plt.plot(distances,a * np.array(distances) + b, color='r', linestyle='--', linewidth=0.5)\n",
    "plt.axis('equal')\n",
    "plt.xlabel('Path length')\n",
    "plt.ylabel('Execution time (seconds)')\n",
    "plt.title(\"Execution time in terms of path length\")\n",
    "plt.text(25, 120, 'y = ' + '{:.2f}'.format(b) + ' + {:.2f}'.format(a) + 'x', size=14)\n",
    "plt.show()"
   ]
  },
  {
   "cell_type": "markdown",
   "metadata": {},
   "source": [
    "### Test class use"
   ]
  },
  {
   "cell_type": "code",
   "execution_count": 3,
   "metadata": {},
   "outputs": [],
   "source": [
    "from class_Test import *"
   ]
  },
  {
   "cell_type": "code",
   "execution_count": 4,
   "metadata": {},
   "outputs": [
    {
     "ename": "ValueError",
     "evalue": "could not convert string to float: '@I103@'",
     "output_type": "error",
     "traceback": [
      "\u001b[1;31m---------------------------------------------------------------------------\u001b[0m",
      "\u001b[1;31mValueError\u001b[0m                                Traceback (most recent call last)",
      "\u001b[1;32m~\\AppData\\Local\\Temp/ipykernel_18984/735469378.py\u001b[0m in \u001b[0;36m<module>\u001b[1;34m\u001b[0m\n\u001b[0;32m      1\u001b[0m \u001b[1;31m# /!\\ Very long : takes up to 15 minutes /!\\\u001b[0m\u001b[1;33m\u001b[0m\u001b[1;33m\u001b[0m\u001b[1;33m\u001b[0m\u001b[0m\n\u001b[1;32m----> 2\u001b[1;33m \u001b[0mtest\u001b[0m \u001b[1;33m=\u001b[0m \u001b[0mTest\u001b[0m\u001b[1;33m(\u001b[0m\u001b[1;34m\"./ged docs/Queen_Eliz_II.ged\"\u001b[0m\u001b[1;33m)\u001b[0m\u001b[1;33m\u001b[0m\u001b[1;33m\u001b[0m\u001b[0m\n\u001b[0m",
      "\u001b[1;32mc:\\Users\\profi\\Documents\\Informatique\\projet_informatique_famille\\class_Test.py\u001b[0m in \u001b[0;36m__init__\u001b[1;34m(self, file_path)\u001b[0m\n\u001b[0;32m     10\u001b[0m \u001b[1;33m\u001b[0m\u001b[0m\n\u001b[0;32m     11\u001b[0m         \u001b[0mself\u001b[0m\u001b[1;33m.\u001b[0m\u001b[0mged\u001b[0m \u001b[1;33m=\u001b[0m \u001b[0mfile_path\u001b[0m\u001b[1;33m\u001b[0m\u001b[1;33m\u001b[0m\u001b[0m\n\u001b[1;32m---> 12\u001b[1;33m         \u001b[0mself\u001b[0m\u001b[1;33m.\u001b[0m\u001b[0mgraph\u001b[0m \u001b[1;33m=\u001b[0m \u001b[0mGraph\u001b[0m\u001b[1;33m(\u001b[0m\u001b[0mfile_path\u001b[0m\u001b[1;33m)\u001b[0m\u001b[1;33m.\u001b[0m\u001b[0mprint\u001b[0m\u001b[1;33m(\u001b[0m\u001b[1;33m)\u001b[0m\u001b[1;33m\u001b[0m\u001b[1;33m\u001b[0m\u001b[0m\n\u001b[0m\u001b[0;32m     13\u001b[0m         \u001b[0mself\u001b[0m\u001b[1;33m.\u001b[0m\u001b[0mpath\u001b[0m \u001b[1;33m=\u001b[0m \u001b[0mPath\u001b[0m\u001b[1;33m(\u001b[0m\u001b[0mfile_path\u001b[0m\u001b[1;33m)\u001b[0m\u001b[1;33m\u001b[0m\u001b[1;33m\u001b[0m\u001b[0m\n\u001b[0;32m     14\u001b[0m         \u001b[0mself\u001b[0m\u001b[1;33m.\u001b[0m\u001b[0mset\u001b[0m \u001b[1;33m=\u001b[0m \u001b[0mself\u001b[0m\u001b[1;33m.\u001b[0m\u001b[0mrandom_couples_set\u001b[0m\u001b[1;33m(\u001b[0m\u001b[1;33m)\u001b[0m\u001b[1;33m\u001b[0m\u001b[1;33m\u001b[0m\u001b[0m\n",
      "\u001b[1;32mc:\\Users\\profi\\Documents\\Informatique\\projet_informatique_famille\\class_Graph.py\u001b[0m in \u001b[0;36m__init__\u001b[1;34m(self, file_path)\u001b[0m\n\u001b[0;32m     23\u001b[0m          \u001b[1;34m'child'\u001b[0m \u001b[1;33m:\u001b[0m \u001b[1;36m2\u001b[0m\u001b[1;33m\u001b[0m\u001b[1;33m\u001b[0m\u001b[0m\n\u001b[0;32m     24\u001b[0m         }\n\u001b[1;32m---> 25\u001b[1;33m         \u001b[0mself\u001b[0m\u001b[1;33m.\u001b[0m\u001b[0mgraph\u001b[0m \u001b[1;33m=\u001b[0m \u001b[0mself\u001b[0m\u001b[1;33m.\u001b[0m\u001b[0mbuild\u001b[0m\u001b[1;33m(\u001b[0m\u001b[1;33m)\u001b[0m\u001b[1;33m\u001b[0m\u001b[1;33m\u001b[0m\u001b[0m\n\u001b[0m\u001b[0;32m     26\u001b[0m \u001b[1;33m\u001b[0m\u001b[0m\n\u001b[0;32m     27\u001b[0m \u001b[1;33m\u001b[0m\u001b[0m\n",
      "\u001b[1;32mc:\\Users\\profi\\Documents\\Informatique\\projet_informatique_famille\\class_Graph.py\u001b[0m in \u001b[0;36mbuild\u001b[1;34m(self)\u001b[0m\n\u001b[0;32m    230\u001b[0m         \"\"\"\n\u001b[0;32m    231\u001b[0m         \u001b[0mg\u001b[0m \u001b[1;33m=\u001b[0m \u001b[1;33m{\u001b[0m\u001b[1;33m}\u001b[0m\u001b[1;33m\u001b[0m\u001b[1;33m\u001b[0m\u001b[0m\n\u001b[1;32m--> 232\u001b[1;33m         \u001b[0mdf\u001b[0m \u001b[1;33m=\u001b[0m \u001b[0mself\u001b[0m\u001b[1;33m.\u001b[0m\u001b[0mget_IndivLinks_DataFrame\u001b[0m\u001b[1;33m(\u001b[0m\u001b[1;33m)\u001b[0m\u001b[1;33m\u001b[0m\u001b[1;33m\u001b[0m\u001b[0m\n\u001b[0m\u001b[0;32m    233\u001b[0m \u001b[1;33m\u001b[0m\u001b[0m\n\u001b[0;32m    234\u001b[0m         \u001b[1;32mfor\u001b[0m \u001b[0mIND1\u001b[0m \u001b[1;32min\u001b[0m \u001b[0mdf\u001b[0m\u001b[1;33m.\u001b[0m\u001b[0mindex\u001b[0m \u001b[1;33m:\u001b[0m\u001b[1;33m\u001b[0m\u001b[1;33m\u001b[0m\u001b[0m\n",
      "\u001b[1;32mc:\\Users\\profi\\Documents\\Informatique\\projet_informatique_famille\\class_Graph.py\u001b[0m in \u001b[0;36mget_IndivLinks_DataFrame\u001b[1;34m(self)\u001b[0m\n\u001b[0;32m    100\u001b[0m             \u001b[1;32mfor\u001b[0m \u001b[0mindiv2\u001b[0m \u001b[1;32min\u001b[0m \u001b[0mdf\u001b[0m\u001b[1;33m[\u001b[0m\u001b[0mdf\u001b[0m\u001b[1;33m[\u001b[0m\u001b[1;34m'FAMS'\u001b[0m\u001b[1;33m]\u001b[0m \u001b[1;33m==\u001b[0m \u001b[0mdf1\u001b[0m\u001b[1;33m.\u001b[0m\u001b[0mat\u001b[0m\u001b[1;33m[\u001b[0m\u001b[1;34mf'{indiv1}'\u001b[0m\u001b[1;33m,\u001b[0m\u001b[1;34m'FAMC'\u001b[0m\u001b[1;33m]\u001b[0m\u001b[1;33m]\u001b[0m\u001b[1;33m[\u001b[0m\u001b[1;34m'INDI'\u001b[0m\u001b[1;33m]\u001b[0m \u001b[1;33m:\u001b[0m\u001b[1;33m\u001b[0m\u001b[1;33m\u001b[0m\u001b[0m\n\u001b[0;32m    101\u001b[0m                 \u001b[0mN_parents\u001b[0m \u001b[1;33m+=\u001b[0m \u001b[1;36m1\u001b[0m\u001b[1;33m\u001b[0m\u001b[1;33m\u001b[0m\u001b[0m\n\u001b[1;32m--> 102\u001b[1;33m                 \u001b[0mdf2\u001b[0m\u001b[1;33m.\u001b[0m\u001b[0mat\u001b[0m\u001b[1;33m[\u001b[0m\u001b[1;34mf'{indiv1}'\u001b[0m\u001b[1;33m,\u001b[0m\u001b[1;34mf'PARENT{N_parents}'\u001b[0m\u001b[1;33m]\u001b[0m \u001b[1;33m=\u001b[0m \u001b[1;34mf'{indiv2}'\u001b[0m\u001b[1;33m\u001b[0m\u001b[1;33m\u001b[0m\u001b[0m\n\u001b[0m\u001b[0;32m    103\u001b[0m \u001b[1;33m\u001b[0m\u001b[0m\n\u001b[0;32m    104\u001b[0m             \u001b[1;31m#Childrens : FAMS of the character = FAMC of childrens\u001b[0m\u001b[1;33m\u001b[0m\u001b[1;33m\u001b[0m\u001b[1;33m\u001b[0m\u001b[0m\n",
      "\u001b[1;32mc:\\miniconda\\lib\\site-packages\\pandas\\core\\indexing.py\u001b[0m in \u001b[0;36m__setitem__\u001b[1;34m(self, key, value)\u001b[0m\n\u001b[0;32m   2284\u001b[0m             \u001b[1;32mreturn\u001b[0m\u001b[1;33m\u001b[0m\u001b[1;33m\u001b[0m\u001b[0m\n\u001b[0;32m   2285\u001b[0m \u001b[1;33m\u001b[0m\u001b[0m\n\u001b[1;32m-> 2286\u001b[1;33m         \u001b[1;32mreturn\u001b[0m \u001b[0msuper\u001b[0m\u001b[1;33m(\u001b[0m\u001b[1;33m)\u001b[0m\u001b[1;33m.\u001b[0m\u001b[0m__setitem__\u001b[0m\u001b[1;33m(\u001b[0m\u001b[0mkey\u001b[0m\u001b[1;33m,\u001b[0m \u001b[0mvalue\u001b[0m\u001b[1;33m)\u001b[0m\u001b[1;33m\u001b[0m\u001b[1;33m\u001b[0m\u001b[0m\n\u001b[0m\u001b[0;32m   2287\u001b[0m \u001b[1;33m\u001b[0m\u001b[0m\n\u001b[0;32m   2288\u001b[0m \u001b[1;33m\u001b[0m\u001b[0m\n",
      "\u001b[1;32mc:\\miniconda\\lib\\site-packages\\pandas\\core\\indexing.py\u001b[0m in \u001b[0;36m__setitem__\u001b[1;34m(self, key, value)\u001b[0m\n\u001b[0;32m   2235\u001b[0m             \u001b[1;32mraise\u001b[0m \u001b[0mValueError\u001b[0m\u001b[1;33m(\u001b[0m\u001b[1;34m\"Not enough indexers for scalar access (setting)!\"\u001b[0m\u001b[1;33m)\u001b[0m\u001b[1;33m\u001b[0m\u001b[1;33m\u001b[0m\u001b[0m\n\u001b[0;32m   2236\u001b[0m \u001b[1;33m\u001b[0m\u001b[0m\n\u001b[1;32m-> 2237\u001b[1;33m         \u001b[0mself\u001b[0m\u001b[1;33m.\u001b[0m\u001b[0mobj\u001b[0m\u001b[1;33m.\u001b[0m\u001b[0m_set_value\u001b[0m\u001b[1;33m(\u001b[0m\u001b[1;33m*\u001b[0m\u001b[0mkey\u001b[0m\u001b[1;33m,\u001b[0m \u001b[0mvalue\u001b[0m\u001b[1;33m=\u001b[0m\u001b[0mvalue\u001b[0m\u001b[1;33m,\u001b[0m \u001b[0mtakeable\u001b[0m\u001b[1;33m=\u001b[0m\u001b[0mself\u001b[0m\u001b[1;33m.\u001b[0m\u001b[0m_takeable\u001b[0m\u001b[1;33m)\u001b[0m\u001b[1;33m\u001b[0m\u001b[1;33m\u001b[0m\u001b[0m\n\u001b[0m\u001b[0;32m   2238\u001b[0m \u001b[1;33m\u001b[0m\u001b[0m\n\u001b[0;32m   2239\u001b[0m \u001b[1;33m\u001b[0m\u001b[0m\n",
      "\u001b[1;32mc:\\miniconda\\lib\\site-packages\\pandas\\core\\frame.py\u001b[0m in \u001b[0;36m_set_value\u001b[1;34m(self, index, col, value, takeable)\u001b[0m\n\u001b[0;32m   3824\u001b[0m             \u001b[0mvalidate_numeric_casting\u001b[0m\u001b[1;33m(\u001b[0m\u001b[0mseries\u001b[0m\u001b[1;33m.\u001b[0m\u001b[0mdtype\u001b[0m\u001b[1;33m,\u001b[0m \u001b[0mvalue\u001b[0m\u001b[1;33m)\u001b[0m\u001b[1;33m\u001b[0m\u001b[1;33m\u001b[0m\u001b[0m\n\u001b[0;32m   3825\u001b[0m \u001b[1;33m\u001b[0m\u001b[0m\n\u001b[1;32m-> 3826\u001b[1;33m             \u001b[0mseries\u001b[0m\u001b[1;33m.\u001b[0m\u001b[0m_values\u001b[0m\u001b[1;33m[\u001b[0m\u001b[0mloc\u001b[0m\u001b[1;33m]\u001b[0m \u001b[1;33m=\u001b[0m \u001b[0mvalue\u001b[0m\u001b[1;33m\u001b[0m\u001b[1;33m\u001b[0m\u001b[0m\n\u001b[0m\u001b[0;32m   3827\u001b[0m             \u001b[1;31m# Note: trying to use series._set_value breaks tests in\u001b[0m\u001b[1;33m\u001b[0m\u001b[1;33m\u001b[0m\u001b[1;33m\u001b[0m\u001b[0m\n\u001b[0;32m   3828\u001b[0m             \u001b[1;31m#  tests.frame.indexing.test_indexing and tests.indexing.test_partial\u001b[0m\u001b[1;33m\u001b[0m\u001b[1;33m\u001b[0m\u001b[1;33m\u001b[0m\u001b[0m\n",
      "\u001b[1;31mValueError\u001b[0m: could not convert string to float: '@I103@'"
     ]
    }
   ],
   "source": [
    "# /!\\ Very long : takes up to 15 minutes /!\\\n",
    "test = Test(\"./ged docs/Queen_Eliz_II.ged\")"
   ]
  },
  {
   "cell_type": "code",
   "execution_count": 3,
   "metadata": {},
   "outputs": [
    {
     "data": {
      "text/html": [
       "<div>\n",
       "<style scoped>\n",
       "    .dataframe tbody tr th:only-of-type {\n",
       "        vertical-align: middle;\n",
       "    }\n",
       "\n",
       "    .dataframe tbody tr th {\n",
       "        vertical-align: top;\n",
       "    }\n",
       "\n",
       "    .dataframe thead th {\n",
       "        text-align: right;\n",
       "    }\n",
       "</style>\n",
       "<table border=\"1\" class=\"dataframe\">\n",
       "  <thead>\n",
       "    <tr style=\"text-align: right;\">\n",
       "      <th></th>\n",
       "      <th>Path</th>\n",
       "      <th>Distance</th>\n",
       "      <th>Execution time (s)</th>\n",
       "      <th>Dijkstar execution time (s)</th>\n",
       "    </tr>\n",
       "    <tr>\n",
       "      <th>Individuals</th>\n",
       "      <th></th>\n",
       "      <th></th>\n",
       "      <th></th>\n",
       "      <th></th>\n",
       "    </tr>\n",
       "  </thead>\n",
       "  <tbody>\n",
       "    <tr>\n",
       "      <th>[@I10631@, @I4614@]</th>\n",
       "      <td>Raulhonus (Romulus) `the Valiant' (King) of BR...</td>\n",
       "      <td>41</td>\n",
       "      <td>31.315681</td>\n",
       "      <td>30.938169</td>\n",
       "    </tr>\n",
       "    <tr>\n",
       "      <th>[@I5108@, @I6112@]</th>\n",
       "      <td>Danpi (Queen of DENMARK) is the grand father o...</td>\n",
       "      <td>43</td>\n",
       "      <td>29.309426</td>\n",
       "      <td>29.603669</td>\n",
       "    </tr>\n",
       "    <tr>\n",
       "      <th>[@I8268@, @I6205@]</th>\n",
       "      <td>Maetnefrure (Princess) of KHATTI is the grand ...</td>\n",
       "      <td>157</td>\n",
       "      <td>103.023131</td>\n",
       "      <td>100.809627</td>\n",
       "    </tr>\n",
       "  </tbody>\n",
       "</table>\n",
       "</div>"
      ],
      "text/plain": [
       "                                                                  Path  \\\n",
       "Individuals                                                              \n",
       "[@I10631@, @I4614@]  Raulhonus (Romulus) `the Valiant' (King) of BR...   \n",
       "[@I5108@, @I6112@]   Danpi (Queen of DENMARK) is the grand father o...   \n",
       "[@I8268@, @I6205@]   Maetnefrure (Princess) of KHATTI is the grand ...   \n",
       "\n",
       "                     Distance  Execution time (s)  Dijkstar execution time (s)  \n",
       "Individuals                                                                     \n",
       "[@I10631@, @I4614@]        41           31.315681                    30.938169  \n",
       "[@I5108@, @I6112@]         43           29.309426                    29.603669  \n",
       "[@I8268@, @I6205@]        157          103.023131                   100.809627  "
      ]
     },
     "execution_count": 3,
     "metadata": {},
     "output_type": "execute_result"
    }
   ],
   "source": [
    "test.comparison_Dataframe()"
   ]
  },
  {
   "cell_type": "code",
   "execution_count": 4,
   "metadata": {},
   "outputs": [
    {
     "data": {
      "text/plain": [
       "(54.54941272735596, 53.78382158279419)"
      ]
     },
     "execution_count": 4,
     "metadata": {},
     "output_type": "execute_result"
    }
   ],
   "source": [
    "test.average()"
   ]
  },
  {
   "cell_type": "code",
   "execution_count": 5,
   "metadata": {},
   "outputs": [
    {
     "data": {
      "image/png": "[encoded data removed]",
      "text/plain": [
       "<Figure size 432x288 with 1 Axes>"
      ]
     },
     "metadata": {
      "needs_background": "light"
     },
     "output_type": "display_data"
    }
   ],
   "source": [
    "test.plot_Distance_Time()"
   ]
  },
  {
   "cell_type": "code",
   "execution_count": 2,
   "metadata": {},
   "outputs": [
    {
     "ename": "NameError",
     "evalue": "name 'test' is not defined",
     "output_type": "error",
     "traceback": [
      "\u001b[1;31m---------------------------------------------------------------------------\u001b[0m",
      "\u001b[1;31mNameError\u001b[0m                                 Traceback (most recent call last)",
      "\u001b[1;32m~\\AppData\\Local\\Temp/ipykernel_18984/3285270251.py\u001b[0m in \u001b[0;36m<module>\u001b[1;34m\u001b[0m\n\u001b[1;32m----> 1\u001b[1;33m \u001b[0mtest\u001b[0m\u001b[1;33m.\u001b[0m\u001b[0mplot_difference\u001b[0m\u001b[1;33m(\u001b[0m\u001b[1;33m)\u001b[0m\u001b[1;33m\u001b[0m\u001b[1;33m\u001b[0m\u001b[0m\n\u001b[0m",
      "\u001b[1;31mNameError\u001b[0m: name 'test' is not defined"
     ]
    }
   ],
   "source": [
    "test.plot_difference() "
   ]
  },
  {
   "cell_type": "code",
   "execution_count": null,
   "metadata": {},
   "outputs": [],
   "source": []
  }
 ],
 "metadata": {
  "kernelspec": {
   "display_name": "Python 3.9.5 ('base')",
   "language": "python",
   "name": "python3"
  },
  "language_info": {
   "codemirror_mode": {
    "name": "ipython",
    "version": 3
   },
   "file_extension": ".py",
   "mimetype": "text/x-python",
   "name": "python",
   "nbconvert_exporter": "python",
   "pygments_lexer": "ipython3",
   "version": "3.9.5"
  },
  "orig_nbformat": 4,
  "vscode": {
   "interpreter": {
    "hash": "2172913d4612856e3bbc325c0b7fb332e765f63a52fed726fb1f267ce3eabcc0"
   }
  }
 },
 "nbformat": 4,
 "nbformat_minor": 2
}
