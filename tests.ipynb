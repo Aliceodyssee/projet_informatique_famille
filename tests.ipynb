{
 "cells": [
  {
   "cell_type": "markdown",
   "metadata": {},
   "source": [
    "# Tests"
   ]
  },
  {
   "cell_type": "markdown",
   "metadata": {},
   "source": [
    "## Basic tests"
   ]
  },
  {
   "cell_type": "markdown",
   "metadata": {},
   "source": [
    "### Utilisation of classes"
   ]
  },
  {
   "cell_type": "code",
   "execution_count": 2,
   "metadata": {},
   "outputs": [],
   "source": [
    "from class_Path import *\n",
    "file_path = \"./ged docs/Queen_Eliz_II.ged\""
   ]
  },
  {
   "cell_type": "code",
   "execution_count": 3,
   "metadata": {},
   "outputs": [],
   "source": [
    "graph = Graph(file_path)\n",
    "path = Path(file_path)"
   ]
  },
  {
   "cell_type": "code",
   "execution_count": 4,
   "metadata": {},
   "outputs": [
    {
     "data": {
      "text/plain": [
       "'Isabella (le) is the son of the grand son of Thomas, who is the grand son of the grand son of the grand son of Dorothy, who is the wife of the grand mother of the grand father of Henry (4th Lord of Groby) de, who is the grand father of the grand mother of the grand mother of Eva, who is the grand mother of the niece of Thomas'"
      ]
     },
     "execution_count": 4,
     "metadata": {},
     "output_type": "execute_result"
    }
   ],
   "source": [
    "path.print('@I11259@','@I10835@')"
   ]
  },
  {
   "cell_type": "markdown",
   "metadata": {},
   "source": [
    "## Parameters tests"
   ]
  },
  {
<<<<<<< Updated upstream
   "cell_type": "markdown",
   "metadata": {},
   "source": [
    "### Data series creation"
   ]
  },
  {
   "cell_type": "code",
   "execution_count": 12,
   "metadata": {},
   "outputs": [],
   "source": [
    "import random\n",
    "import time\n",
    "import matplotlib.pyplot as plt\n",
    "from class_Path import *\n"
   ]
  },
  {
   "cell_type": "code",
   "execution_count": 13,
   "metadata": {},
   "outputs": [],
   "source": [
    "file_path = \"./ged docs/Queen_Eliz_II.ged\"\n",
    "graph = Graph(file_path).print()\n",
    "path = Path(file_path)"
   ]
  },
  {
   "cell_type": "code",
   "execution_count": 4,
   "metadata": {},
   "outputs": [],
   "source": [
    "def random_serie() :\n",
    "    keys = list(graph.keys())\n",
    "    serie = []\n",
    "    j = 0\n",
    "    while j < 10 :\n",
    "        i = random.randint(0,len(keys)-1)\n",
    "        serie += [keys[i]]\n",
    "        j += 1\n",
    "    return serie"
   ]
  },
  {
   "cell_type": "code",
   "execution_count": 5,
   "metadata": {},
   "outputs": [
    {
     "data": {
      "text/html": [
       "<div>\n",
       "<style scoped>\n",
       "    .dataframe tbody tr th:only-of-type {\n",
       "        vertical-align: middle;\n",
       "    }\n",
       "\n",
       "    .dataframe tbody tr th {\n",
       "        vertical-align: top;\n",
       "    }\n",
       "\n",
       "    .dataframe thead th {\n",
       "        text-align: right;\n",
       "    }\n",
       "</style>\n",
       "<table border=\"1\" class=\"dataframe\">\n",
       "  <thead>\n",
       "    <tr style=\"text-align: right;\">\n",
       "      <th></th>\n",
       "      <th>Path</th>\n",
       "      <th>Distance</th>\n",
       "      <th>Execution time (s)</th>\n",
       "    </tr>\n",
       "    <tr>\n",
       "      <th>Individuals</th>\n",
       "      <th></th>\n",
       "      <th></th>\n",
       "      <th></th>\n",
       "    </tr>\n",
       "  </thead>\n",
       "  <tbody>\n",
       "    <tr>\n",
       "      <th>[@I9421@, @I10822@]</th>\n",
       "      <td>Gilbert (II; de) is the grand father of the ni...</td>\n",
       "      <td>18</td>\n",
       "      <td>14.521609</td>\n",
       "    </tr>\n",
       "    <tr>\n",
       "      <th>[@I10084@, @I6526@]</th>\n",
       "      <td>Chief Frank Marcomir is the wife of the grand ...</td>\n",
       "      <td>48</td>\n",
       "      <td>35.771637</td>\n",
       "    </tr>\n",
       "    <tr>\n",
       "      <th>[@I10182@, @I5303@]</th>\n",
       "      <td>EMMELINE is the grand son of the grand son of ...</td>\n",
       "      <td>41</td>\n",
       "      <td>31.016189</td>\n",
       "    </tr>\n",
       "    <tr>\n",
       "      <th>[@I8934@, @I6261@]</th>\n",
       "      <td>Sebekshedty-Neferu (Queen) of EGYPT is the hus...</td>\n",
       "      <td>194</td>\n",
       "      <td>130.569275</td>\n",
       "    </tr>\n",
       "    <tr>\n",
       "      <th>[@I10068@, @I955@]</th>\n",
       "      <td>Regina is the grand daughter of the husband of...</td>\n",
       "      <td>40</td>\n",
       "      <td>30.043208</td>\n",
       "    </tr>\n",
       "    <tr>\n",
       "      <th>[@I2189@, @I899@]</th>\n",
       "      <td>Constance is the daughter of the husband of El...</td>\n",
       "      <td>17</td>\n",
       "      <td>15.038925</td>\n",
       "    </tr>\n",
       "    <tr>\n",
       "      <th>[@I5277@, @I10351@]</th>\n",
       "      <td>Ieaun ap  (Lord of BAGLAN) is the wife of the ...</td>\n",
       "      <td>22</td>\n",
       "      <td>19.079764</td>\n",
       "    </tr>\n",
       "    <tr>\n",
       "      <th>[@I5609@, @I6611@]</th>\n",
       "      <td>Bresal Brecc mac Criomthann Crosach I is the g...</td>\n",
       "      <td>81</td>\n",
       "      <td>52.728971</td>\n",
       "    </tr>\n",
       "    <tr>\n",
       "      <th>[@I10659@, @I9283@]</th>\n",
       "      <td>Ferither Our 'Dun is the grand daughter of the...</td>\n",
       "      <td>49</td>\n",
       "      <td>36.812857</td>\n",
       "    </tr>\n",
       "    <tr>\n",
       "      <th>[@I6453@, @I7490@]</th>\n",
       "      <td>Marjory is the grand daughter of the son of Ag...</td>\n",
       "      <td>28</td>\n",
       "      <td>24.806203</td>\n",
       "    </tr>\n",
       "  </tbody>\n",
       "</table>\n",
       "</div>"
      ],
      "text/plain": [
       "                                                                  Path  \\\n",
       "Individuals                                                              \n",
       "[@I9421@, @I10822@]  Gilbert (II; de) is the grand father of the ni...   \n",
       "[@I10084@, @I6526@]  Chief Frank Marcomir is the wife of the grand ...   \n",
       "[@I10182@, @I5303@]  EMMELINE is the grand son of the grand son of ...   \n",
       "[@I8934@, @I6261@]   Sebekshedty-Neferu (Queen) of EGYPT is the hus...   \n",
       "[@I10068@, @I955@]   Regina is the grand daughter of the husband of...   \n",
       "[@I2189@, @I899@]    Constance is the daughter of the husband of El...   \n",
       "[@I5277@, @I10351@]  Ieaun ap  (Lord of BAGLAN) is the wife of the ...   \n",
       "[@I5609@, @I6611@]   Bresal Brecc mac Criomthann Crosach I is the g...   \n",
       "[@I10659@, @I9283@]  Ferither Our 'Dun is the grand daughter of the...   \n",
       "[@I6453@, @I7490@]   Marjory is the grand daughter of the son of Ag...   \n",
       "\n",
       "                     Distance  Execution time (s)  \n",
       "Individuals                                        \n",
       "[@I9421@, @I10822@]        18           14.521609  \n",
       "[@I10084@, @I6526@]        48           35.771637  \n",
       "[@I10182@, @I5303@]        41           31.016189  \n",
       "[@I8934@, @I6261@]        194          130.569275  \n",
       "[@I10068@, @I955@]         40           30.043208  \n",
       "[@I2189@, @I899@]          17           15.038925  \n",
       "[@I5277@, @I10351@]        22           19.079764  \n",
       "[@I5609@, @I6611@]         81           52.728971  \n",
       "[@I10659@, @I9283@]        49           36.812857  \n",
       "[@I6453@, @I7490@]         28           24.806203  "
      ]
     },
     "execution_count": 5,
     "metadata": {},
     "output_type": "execute_result"
    }
   ],
   "source": [
    "serie = []\n",
    "serie1,serie2 = random_serie(), random_serie()\n",
    "for i in range(len(serie1)) :\n",
    "    serie += [[serie1[i],serie2[i]]]\n",
    "\n",
    "\n",
    "distances = []\n",
    "paths = []\n",
    "path_times = []\n",
    "for i in range(len(serie)) : \n",
    "    start = time.time()\n",
    "    shortest_path = path.get(serie[i][0],serie[i][1])\n",
    "    distances += [shortest_path[0]]\n",
    "    paths += [shortest_path[1]]\n",
    "    end = time.time()\n",
    "    path_times += [end-start]\n",
    "\n",
    "\n",
    "df = pd.DataFrame(\n",
    "{\n",
    "    'Individuals' : serie,\n",
    "    'Path' : paths,\n",
    "    'Distance' : distances,\n",
    "    'Execution time (s)' : path_times\n",
    "})\n",
    "df.set_index('Individuals',inplace=True)\n",
    "df"
   ]
  },
  {
   "cell_type": "code",
   "execution_count": 29,
   "metadata": {},
   "outputs": [
    {
     "data": {
      "text/plain": [
       "39.03886377811432"
      ]
     },
     "execution_count": 29,
     "metadata": {},
     "output_type": "execute_result"
    }
   ],
   "source": [
    "average = sum(path_times)/len(path_times)\n",
    "average"
   ]
  },
  {
   "cell_type": "code",
   "execution_count": 39,
   "metadata": {},
   "outputs": [
    {
     "data": {
      "image/png": "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",
      "text/plain": [
       "<Figure size 432x288 with 1 Axes>"
      ]
     },
     "metadata": {
      "needs_background": "light"
     },
     "output_type": "display_data"
    }
   ],
   "source": [
    "a,b = np.polyfit(distances,path_times,1)\n",
    "plt.scatter(distances,path_times,marker='+')\n",
    "plt.plot(distances,a * np.array(distances) + b, color='r', linestyle='--', linewidth=0.5)\n",
    "plt.axis('equal')\n",
    "plt.xlabel('Path length')\n",
    "plt.ylabel('Execution time (seconds)')\n",
    "plt.title(\"Execution time in terms of path length\")\n",
    "plt.text(25, 120, 'y = ' + '{:.2f}'.format(b) + ' + {:.2f}'.format(a) + 'x', size=14)\n",
    "plt.show()"
   ]
  },
  {
   "cell_type": "markdown",
   "metadata": {},
   "source": [
    "### Test class use"
   ]
  },
  {
=======
>>>>>>> Stashed changes
   "cell_type": "code",
   "execution_count": 3,
   "metadata": {},
   "outputs": [],
   "source": [
    "from class_Test import *"
   ]
  },
  {
   "cell_type": "code",
   "execution_count": 4,
   "metadata": {},
   "outputs": [
    {
     "ename": "ValueError",
     "evalue": "could not convert string to float: '@I103@'",
     "output_type": "error",
     "traceback": [
      "\u001b[1;31m---------------------------------------------------------------------------\u001b[0m",
      "\u001b[1;31mValueError\u001b[0m                                Traceback (most recent call last)",
      "\u001b[1;32m~\\AppData\\Local\\Temp/ipykernel_18984/735469378.py\u001b[0m in \u001b[0;36m<module>\u001b[1;34m\u001b[0m\n\u001b[0;32m      1\u001b[0m \u001b[1;31m# /!\\ Very long : takes up to 15 minutes /!\\\u001b[0m\u001b[1;33m\u001b[0m\u001b[1;33m\u001b[0m\u001b[1;33m\u001b[0m\u001b[0m\n\u001b[1;32m----> 2\u001b[1;33m \u001b[0mtest\u001b[0m \u001b[1;33m=\u001b[0m \u001b[0mTest\u001b[0m\u001b[1;33m(\u001b[0m\u001b[1;34m\"./ged docs/Queen_Eliz_II.ged\"\u001b[0m\u001b[1;33m)\u001b[0m\u001b[1;33m\u001b[0m\u001b[1;33m\u001b[0m\u001b[0m\n\u001b[0m",
      "\u001b[1;32mc:\\Users\\profi\\Documents\\Informatique\\projet_informatique_famille\\class_Test.py\u001b[0m in \u001b[0;36m__init__\u001b[1;34m(self, file_path)\u001b[0m\n\u001b[0;32m     10\u001b[0m \u001b[1;33m\u001b[0m\u001b[0m\n\u001b[0;32m     11\u001b[0m         \u001b[0mself\u001b[0m\u001b[1;33m.\u001b[0m\u001b[0mged\u001b[0m \u001b[1;33m=\u001b[0m \u001b[0mfile_path\u001b[0m\u001b[1;33m\u001b[0m\u001b[1;33m\u001b[0m\u001b[0m\n\u001b[1;32m---> 12\u001b[1;33m         \u001b[0mself\u001b[0m\u001b[1;33m.\u001b[0m\u001b[0mgraph\u001b[0m \u001b[1;33m=\u001b[0m \u001b[0mGraph\u001b[0m\u001b[1;33m(\u001b[0m\u001b[0mfile_path\u001b[0m\u001b[1;33m)\u001b[0m\u001b[1;33m.\u001b[0m\u001b[0mprint\u001b[0m\u001b[1;33m(\u001b[0m\u001b[1;33m)\u001b[0m\u001b[1;33m\u001b[0m\u001b[1;33m\u001b[0m\u001b[0m\n\u001b[0m\u001b[0;32m     13\u001b[0m         \u001b[0mself\u001b[0m\u001b[1;33m.\u001b[0m\u001b[0mpath\u001b[0m \u001b[1;33m=\u001b[0m \u001b[0mPath\u001b[0m\u001b[1;33m(\u001b[0m\u001b[0mfile_path\u001b[0m\u001b[1;33m)\u001b[0m\u001b[1;33m\u001b[0m\u001b[1;33m\u001b[0m\u001b[0m\n\u001b[0;32m     14\u001b[0m         \u001b[0mself\u001b[0m\u001b[1;33m.\u001b[0m\u001b[0mset\u001b[0m \u001b[1;33m=\u001b[0m \u001b[0mself\u001b[0m\u001b[1;33m.\u001b[0m\u001b[0mrandom_couples_set\u001b[0m\u001b[1;33m(\u001b[0m\u001b[1;33m)\u001b[0m\u001b[1;33m\u001b[0m\u001b[1;33m\u001b[0m\u001b[0m\n",
      "\u001b[1;32mc:\\Users\\profi\\Documents\\Informatique\\projet_informatique_famille\\class_Graph.py\u001b[0m in \u001b[0;36m__init__\u001b[1;34m(self, file_path)\u001b[0m\n\u001b[0;32m     23\u001b[0m          \u001b[1;34m'child'\u001b[0m \u001b[1;33m:\u001b[0m \u001b[1;36m2\u001b[0m\u001b[1;33m\u001b[0m\u001b[1;33m\u001b[0m\u001b[0m\n\u001b[0;32m     24\u001b[0m         }\n\u001b[1;32m---> 25\u001b[1;33m         \u001b[0mself\u001b[0m\u001b[1;33m.\u001b[0m\u001b[0mgraph\u001b[0m \u001b[1;33m=\u001b[0m \u001b[0mself\u001b[0m\u001b[1;33m.\u001b[0m\u001b[0mbuild\u001b[0m\u001b[1;33m(\u001b[0m\u001b[1;33m)\u001b[0m\u001b[1;33m\u001b[0m\u001b[1;33m\u001b[0m\u001b[0m\n\u001b[0m\u001b[0;32m     26\u001b[0m \u001b[1;33m\u001b[0m\u001b[0m\n\u001b[0;32m     27\u001b[0m \u001b[1;33m\u001b[0m\u001b[0m\n",
      "\u001b[1;32mc:\\Users\\profi\\Documents\\Informatique\\projet_informatique_famille\\class_Graph.py\u001b[0m in \u001b[0;36mbuild\u001b[1;34m(self)\u001b[0m\n\u001b[0;32m    230\u001b[0m         \"\"\"\n\u001b[0;32m    231\u001b[0m         \u001b[0mg\u001b[0m \u001b[1;33m=\u001b[0m \u001b[1;33m{\u001b[0m\u001b[1;33m}\u001b[0m\u001b[1;33m\u001b[0m\u001b[1;33m\u001b[0m\u001b[0m\n\u001b[1;32m--> 232\u001b[1;33m         \u001b[0mdf\u001b[0m \u001b[1;33m=\u001b[0m \u001b[0mself\u001b[0m\u001b[1;33m.\u001b[0m\u001b[0mget_IndivLinks_DataFrame\u001b[0m\u001b[1;33m(\u001b[0m\u001b[1;33m)\u001b[0m\u001b[1;33m\u001b[0m\u001b[1;33m\u001b[0m\u001b[0m\n\u001b[0m\u001b[0;32m    233\u001b[0m \u001b[1;33m\u001b[0m\u001b[0m\n\u001b[0;32m    234\u001b[0m         \u001b[1;32mfor\u001b[0m \u001b[0mIND1\u001b[0m \u001b[1;32min\u001b[0m \u001b[0mdf\u001b[0m\u001b[1;33m.\u001b[0m\u001b[0mindex\u001b[0m \u001b[1;33m:\u001b[0m\u001b[1;33m\u001b[0m\u001b[1;33m\u001b[0m\u001b[0m\n",
      "\u001b[1;32mc:\\Users\\profi\\Documents\\Informatique\\projet_informatique_famille\\class_Graph.py\u001b[0m in \u001b[0;36mget_IndivLinks_DataFrame\u001b[1;34m(self)\u001b[0m\n\u001b[0;32m    100\u001b[0m             \u001b[1;32mfor\u001b[0m \u001b[0mindiv2\u001b[0m \u001b[1;32min\u001b[0m \u001b[0mdf\u001b[0m\u001b[1;33m[\u001b[0m\u001b[0mdf\u001b[0m\u001b[1;33m[\u001b[0m\u001b[1;34m'FAMS'\u001b[0m\u001b[1;33m]\u001b[0m \u001b[1;33m==\u001b[0m \u001b[0mdf1\u001b[0m\u001b[1;33m.\u001b[0m\u001b[0mat\u001b[0m\u001b[1;33m[\u001b[0m\u001b[1;34mf'{indiv1}'\u001b[0m\u001b[1;33m,\u001b[0m\u001b[1;34m'FAMC'\u001b[0m\u001b[1;33m]\u001b[0m\u001b[1;33m]\u001b[0m\u001b[1;33m[\u001b[0m\u001b[1;34m'INDI'\u001b[0m\u001b[1;33m]\u001b[0m \u001b[1;33m:\u001b[0m\u001b[1;33m\u001b[0m\u001b[1;33m\u001b[0m\u001b[0m\n\u001b[0;32m    101\u001b[0m                 \u001b[0mN_parents\u001b[0m \u001b[1;33m+=\u001b[0m \u001b[1;36m1\u001b[0m\u001b[1;33m\u001b[0m\u001b[1;33m\u001b[0m\u001b[0m\n\u001b[1;32m--> 102\u001b[1;33m                 \u001b[0mdf2\u001b[0m\u001b[1;33m.\u001b[0m\u001b[0mat\u001b[0m\u001b[1;33m[\u001b[0m\u001b[1;34mf'{indiv1}'\u001b[0m\u001b[1;33m,\u001b[0m\u001b[1;34mf'PARENT{N_parents}'\u001b[0m\u001b[1;33m]\u001b[0m \u001b[1;33m=\u001b[0m \u001b[1;34mf'{indiv2}'\u001b[0m\u001b[1;33m\u001b[0m\u001b[1;33m\u001b[0m\u001b[0m\n\u001b[0m\u001b[0;32m    103\u001b[0m \u001b[1;33m\u001b[0m\u001b[0m\n\u001b[0;32m    104\u001b[0m             \u001b[1;31m#Childrens : FAMS of the character = FAMC of childrens\u001b[0m\u001b[1;33m\u001b[0m\u001b[1;33m\u001b[0m\u001b[1;33m\u001b[0m\u001b[0m\n",
      "\u001b[1;32mc:\\miniconda\\lib\\site-packages\\pandas\\core\\indexing.py\u001b[0m in \u001b[0;36m__setitem__\u001b[1;34m(self, key, value)\u001b[0m\n\u001b[0;32m   2284\u001b[0m             \u001b[1;32mreturn\u001b[0m\u001b[1;33m\u001b[0m\u001b[1;33m\u001b[0m\u001b[0m\n\u001b[0;32m   2285\u001b[0m \u001b[1;33m\u001b[0m\u001b[0m\n\u001b[1;32m-> 2286\u001b[1;33m         \u001b[1;32mreturn\u001b[0m \u001b[0msuper\u001b[0m\u001b[1;33m(\u001b[0m\u001b[1;33m)\u001b[0m\u001b[1;33m.\u001b[0m\u001b[0m__setitem__\u001b[0m\u001b[1;33m(\u001b[0m\u001b[0mkey\u001b[0m\u001b[1;33m,\u001b[0m \u001b[0mvalue\u001b[0m\u001b[1;33m)\u001b[0m\u001b[1;33m\u001b[0m\u001b[1;33m\u001b[0m\u001b[0m\n\u001b[0m\u001b[0;32m   2287\u001b[0m \u001b[1;33m\u001b[0m\u001b[0m\n\u001b[0;32m   2288\u001b[0m \u001b[1;33m\u001b[0m\u001b[0m\n",
      "\u001b[1;32mc:\\miniconda\\lib\\site-packages\\pandas\\core\\indexing.py\u001b[0m in \u001b[0;36m__setitem__\u001b[1;34m(self, key, value)\u001b[0m\n\u001b[0;32m   2235\u001b[0m             \u001b[1;32mraise\u001b[0m \u001b[0mValueError\u001b[0m\u001b[1;33m(\u001b[0m\u001b[1;34m\"Not enough indexers for scalar access (setting)!\"\u001b[0m\u001b[1;33m)\u001b[0m\u001b[1;33m\u001b[0m\u001b[1;33m\u001b[0m\u001b[0m\n\u001b[0;32m   2236\u001b[0m \u001b[1;33m\u001b[0m\u001b[0m\n\u001b[1;32m-> 2237\u001b[1;33m         \u001b[0mself\u001b[0m\u001b[1;33m.\u001b[0m\u001b[0mobj\u001b[0m\u001b[1;33m.\u001b[0m\u001b[0m_set_value\u001b[0m\u001b[1;33m(\u001b[0m\u001b[1;33m*\u001b[0m\u001b[0mkey\u001b[0m\u001b[1;33m,\u001b[0m \u001b[0mvalue\u001b[0m\u001b[1;33m=\u001b[0m\u001b[0mvalue\u001b[0m\u001b[1;33m,\u001b[0m \u001b[0mtakeable\u001b[0m\u001b[1;33m=\u001b[0m\u001b[0mself\u001b[0m\u001b[1;33m.\u001b[0m\u001b[0m_takeable\u001b[0m\u001b[1;33m)\u001b[0m\u001b[1;33m\u001b[0m\u001b[1;33m\u001b[0m\u001b[0m\n\u001b[0m\u001b[0;32m   2238\u001b[0m \u001b[1;33m\u001b[0m\u001b[0m\n\u001b[0;32m   2239\u001b[0m \u001b[1;33m\u001b[0m\u001b[0m\n",
      "\u001b[1;32mc:\\miniconda\\lib\\site-packages\\pandas\\core\\frame.py\u001b[0m in \u001b[0;36m_set_value\u001b[1;34m(self, index, col, value, takeable)\u001b[0m\n\u001b[0;32m   3824\u001b[0m             \u001b[0mvalidate_numeric_casting\u001b[0m\u001b[1;33m(\u001b[0m\u001b[0mseries\u001b[0m\u001b[1;33m.\u001b[0m\u001b[0mdtype\u001b[0m\u001b[1;33m,\u001b[0m \u001b[0mvalue\u001b[0m\u001b[1;33m)\u001b[0m\u001b[1;33m\u001b[0m\u001b[1;33m\u001b[0m\u001b[0m\n\u001b[0;32m   3825\u001b[0m \u001b[1;33m\u001b[0m\u001b[0m\n\u001b[1;32m-> 3826\u001b[1;33m             \u001b[0mseries\u001b[0m\u001b[1;33m.\u001b[0m\u001b[0m_values\u001b[0m\u001b[1;33m[\u001b[0m\u001b[0mloc\u001b[0m\u001b[1;33m]\u001b[0m \u001b[1;33m=\u001b[0m \u001b[0mvalue\u001b[0m\u001b[1;33m\u001b[0m\u001b[1;33m\u001b[0m\u001b[0m\n\u001b[0m\u001b[0;32m   3827\u001b[0m             \u001b[1;31m# Note: trying to use series._set_value breaks tests in\u001b[0m\u001b[1;33m\u001b[0m\u001b[1;33m\u001b[0m\u001b[1;33m\u001b[0m\u001b[0m\n\u001b[0;32m   3828\u001b[0m             \u001b[1;31m#  tests.frame.indexing.test_indexing and tests.indexing.test_partial\u001b[0m\u001b[1;33m\u001b[0m\u001b[1;33m\u001b[0m\u001b[1;33m\u001b[0m\u001b[0m\n",
      "\u001b[1;31mValueError\u001b[0m: could not convert string to float: '@I103@'"
     ]
    }
   ],
   "source": [
    "# /!\\ Very long : takes up to 15 minutes /!\\\n",
    "test = Test(\"./ged docs/Queen_Eliz_II.ged\")"
   ]
  },
  {
   "cell_type": "code",
   "execution_count": 3,
   "metadata": {},
   "outputs": [
    {
     "data": {
      "text/html": [
       "<div>\n",
       "<style scoped>\n",
       "    .dataframe tbody tr th:only-of-type {\n",
       "        vertical-align: middle;\n",
       "    }\n",
       "\n",
       "    .dataframe tbody tr th {\n",
       "        vertical-align: top;\n",
       "    }\n",
       "\n",
       "    .dataframe thead th {\n",
       "        text-align: right;\n",
       "    }\n",
       "</style>\n",
       "<table border=\"1\" class=\"dataframe\">\n",
       "  <thead>\n",
       "    <tr style=\"text-align: right;\">\n",
       "      <th></th>\n",
       "      <th>Path</th>\n",
       "      <th>Distance</th>\n",
       "      <th>Execution time (s)</th>\n",
       "      <th>Dijkstar execution time (s)</th>\n",
<<<<<<< Updated upstream
=======
       "      <th>Difference of execution time (s)</th>\n",
>>>>>>> Stashed changes
       "    </tr>\n",
       "    <tr>\n",
       "      <th>Individuals</th>\n",
       "      <th></th>\n",
       "      <th></th>\n",
       "      <th></th>\n",
       "      <th></th>\n",
       "    </tr>\n",
       "  </thead>\n",
       "  <tbody>\n",
       "    <tr>\n",
<<<<<<< Updated upstream
       "      <th>[@I10631@, @I4614@]</th>\n",
       "      <td>Raulhonus (Romulus) `the Valiant' (King) of BR...</td>\n",
       "      <td>41</td>\n",
       "      <td>31.315681</td>\n",
       "      <td>30.938169</td>\n",
       "    </tr>\n",
       "    <tr>\n",
       "      <th>[@I5108@, @I6112@]</th>\n",
       "      <td>Danpi (Queen of DENMARK) is the grand father o...</td>\n",
       "      <td>43</td>\n",
       "      <td>29.309426</td>\n",
       "      <td>29.603669</td>\n",
       "    </tr>\n",
       "    <tr>\n",
       "      <th>[@I8268@, @I6205@]</th>\n",
       "      <td>Maetnefrure (Princess) of KHATTI is the grand ...</td>\n",
       "      <td>157</td>\n",
       "      <td>103.023131</td>\n",
       "      <td>100.809627</td>\n",
=======
       "      <th>[@I8713@, @I10085@]</th>\n",
       "      <td>Thyra is the husband of the grand father of An...</td>\n",
       "      <td>42</td>\n",
       "      <td>42</td>\n",
       "      <td>30.252669</td>\n",
       "      <td>29.615123</td>\n",
       "      <td>0.637546</td>\n",
       "    </tr>\n",
       "    <tr>\n",
       "      <th>[@I3303@, @I4486@]</th>\n",
       "      <td>Beli (Belus) of BRITAIN is the son of the gran...</td>\n",
       "      <td>90</td>\n",
       "      <td>90</td>\n",
       "      <td>63.105977</td>\n",
       "      <td>60.259776</td>\n",
       "      <td>2.846201</td>\n",
       "    </tr>\n",
       "    <tr>\n",
       "      <th>[@I5615@, @I5729@]</th>\n",
       "      <td>Aedh (Hugh) `an Buirrche' (2nd) of BARRA is th...</td>\n",
       "      <td>138</td>\n",
       "      <td>138</td>\n",
       "      <td>90.684283</td>\n",
       "      <td>93.280808</td>\n",
       "      <td>-2.596525</td>\n",
>>>>>>> Stashed changes
       "    </tr>\n",
       "  </tbody>\n",
       "</table>\n",
       "</div>"
      ],
      "text/plain": [
       "                                                                  Path  \\\n",
       "Individuals                                                              \n",
<<<<<<< Updated upstream
       "[@I10631@, @I4614@]  Raulhonus (Romulus) `the Valiant' (King) of BR...   \n",
       "[@I5108@, @I6112@]   Danpi (Queen of DENMARK) is the grand father o...   \n",
       "[@I8268@, @I6205@]   Maetnefrure (Princess) of KHATTI is the grand ...   \n",
       "\n",
       "                     Distance  Execution time (s)  Dijkstar execution time (s)  \n",
       "Individuals                                                                     \n",
       "[@I10631@, @I4614@]        41           31.315681                    30.938169  \n",
       "[@I5108@, @I6112@]         43           29.309426                    29.603669  \n",
       "[@I8268@, @I6205@]        157          103.023131                   100.809627  "
=======
       "[@I8713@, @I10085@]  Thyra is the husband of the grand father of An...   \n",
       "[@I3303@, @I4486@]   Beli (Belus) of BRITAIN is the son of the gran...   \n",
       "[@I5615@, @I5729@]   Aedh (Hugh) `an Buirrche' (2nd) of BARRA is th...   \n",
       "\n",
       "                     Distance  Dijkstar distance  Execution time (s)  \\\n",
       "Individuals                                                            \n",
       "[@I8713@, @I10085@]        42                 42           30.252669   \n",
       "[@I3303@, @I4486@]         90                 90           63.105977   \n",
       "[@I5615@, @I5729@]        138                138           90.684283   \n",
       "\n",
       "                     Dijkstar execution time (s)  \\\n",
       "Individuals                                        \n",
       "[@I8713@, @I10085@]                    29.615123   \n",
       "[@I3303@, @I4486@]                     60.259776   \n",
       "[@I5615@, @I5729@]                     93.280808   \n",
       "\n",
       "                     Difference of execution time (s)  \n",
       "Individuals                                            \n",
       "[@I8713@, @I10085@]                          0.637546  \n",
       "[@I3303@, @I4486@]                           2.846201  \n",
       "[@I5615@, @I5729@]                          -2.596525  "
>>>>>>> Stashed changes
      ]
     },
     "execution_count": 3,
     "metadata": {},
     "output_type": "execute_result"
    }
   ],
   "source": [
    "test.comparison_Dataframe()"
   ]
  },
  {
   "cell_type": "code",
   "execution_count": 4,
   "metadata": {},
   "outputs": [
    {
     "data": {
      "text/plain": [
<<<<<<< Updated upstream
       "(54.54941272735596, 53.78382158279419)"
=======
       "(61.34764305750529, 61.0519023736318)"
>>>>>>> Stashed changes
      ]
     },
     "execution_count": 4,
     "metadata": {},
     "output_type": "execute_result"
    }
   ],
   "source": [
    "test.average()"
   ]
  },
  {
   "cell_type": "code",
   "execution_count": 5,
   "metadata": {},
   "outputs": [
    {
     "data": {
<<<<<<< Updated upstream
      "image/png": "iVBORw0KGgoAAAANSUhEUgAAAYoAAAEWCAYAAAB42tAoAAAAOXRFWHRTb2Z0d2FyZQBNYXRwbG90bGliIHZlcnNpb24zLjUuMiwgaHR0cHM6Ly9tYXRwbG90bGliLm9yZy8qNh9FAAAACXBIWXMAAAsTAAALEwEAmpwYAAA01ElEQVR4nO3dd5xU1f3/8dcHVtoqVUQEFjAgdhFRRGIloth7i/ywotFY0hBNVPxGjS0xmiAKGMFoBCxIVUEUOyhIUUFEOkiVDkrZ/fz+OHdxWLfMLjt7d3bfz8djHju3f+7M7HzmnnPuOebuiIiIFKRK3AGIiEj5pkQhIiKFUqIQEZFCKVGIiEihlChERKRQShQiIlIoJQpJmpn92szGltGx7jKzAWVwnCwz22RmVVN9rPLEzM43s8XRuR+Z4mO1MDM3s4wk1x9oZvenMqZCjr3AzH4Vx7HLMyWKciT6kP4Q/fPmPv4dUyw/++d29xfdvUsKjnWSmS1JnOfuD7r7daV9rLzcfZG77+nu2cXdNr+408hjwG+jc59amjtOly/bOBNSukkqw0uZOtvd3447CEk9M8tw9x0xHb458FVMx5Y0oyuKNGFmfc3s1YTph81svAXVzewxM1tkZivM7Gkzq5mw7rlmNs3MNpjZXDM7PZq/yy8/M+ttZi9Ek+9Hf9dFVzYdzewqM/swYf3jzOwzM1sf/T0uYdkEM/urmX1kZhvNbKyZ7Z3PeWUCbwD7JVxF7ZcYS8LVzdVRcclaM7vRzI42sxlmti7vlZeZXWNms6J13zKz5gW8rrtcOZVC3FXMrFf0On9vZkPNrH6eY11rZouAd6LX9CMzezw6j3nR63pVdK4rzax7wnHPMLOZUWxLzeyPBZxXFTP7i5ktjPbxvJnViT4rm4CqwHQzm1vA9m5mt0bxrDazR82sSrTsF2b2TnR+q83sRTOrGy37L5AFjIxek54Ju/119BldbWZ/zu+4BcRyVvT5XWdmH5vZ4QnLFpjZH6PPwXozG2JmNRKW9zSzZWb2nZldF51XKzPrAfwa6BnFOTLhkG0L2l+l5e56lJMHsAD4VQHLagHfAFcBxwOrgabRsseBEUB9YC9gJPC3aNkxwHrgVMIPgybAgfkdD+gNvBA9bwE4kJGw/Crgw+h5fWAt0I1wZXp5NN0gWj4BmAscANSMph8q4NxOApbkmZdfLE8DNYAuwI/A68A+0TmtBE6M1j8X+BY4KIrtL8DHBRx7l/MshbhvAyYCTYHqwDPAS3mO9TyQGe3/KmAHcDXhy/t+YBHQJ9q+C7AR2DPaxzLg+Oh5PaBdAbFdE70G+wN7Aq8B/01Y7kCrQj6LDrwbvc9ZhM/eddGyVoTPU3WgIeFHxT8L+hwnnHf/6JyPALYCBxVw7IHA/dHzI6P3tkP0+nSP9l894VifAvtFsc4CboyWnQ4sBw4h/P+8kHjeicfJE3u++6vMj9gD0CPhzQgf0k3AuoTH9QnLOwBrgIXA5dE8AzYDv0hYryMwP3r+DPB4IccraaLoBnyaZ3+fAFdFzycAf0lYdhPwZgFxnERyiaJJwvLvgUsTpl8Fbo+evwFcm7CsCrAFaJ7PsXc5z1KIexbQOWG6MbCdkLByj7V/ntd0TsL0YdE6jfKca9vo+SLgBqB2EZ+l8cBNCdNtcuOIppNJFKfneR3GF7DuecDUQj5XuefdNGHep8BlBexvID8lir7AX/Msn81PPwoWAFcmLHsEeDp6/h+iH0zRdCuSSxT57q8yP1T0VP6c5+51Ex79cxe4+yRgHiE5DI1mNyT8WpoSXZqvA96M5gM0I/xCLm37ERJWooWEX/e5lic830L4Zbs7ViQ8/yGf6dz9NweeSHg91hBes8TYCrM7cTcHhiUcexaQDTRKWGdxnm3yngfuXtC5XQicASw0s/fMrGMBceR9fxYSklWj/FfPV2KcC6N9YmaNzGxwVPS1gfBL/WfFc/koyevaHPhD7usZvabNcmMpYr/75TmHvK97acZZoSlRpBEzu5lwuf8dkFv2u5rwRXJIQnKp4+65H+7FwC8K2OVmQpLJtW/C86K6Ff6O8E+cKAtYWsR2+SntLowXAzfkSbg13f3jUj5OfnEvBrrmOXYNd19axHbJHdD9M3c/l1Dk9jo//WDIK+/7k0Uo4lqR/+r5apZn+++i5w8SzuEwd68NXElIxDvDLMYxirIYeCDP61nL3V9KYttlhCLAXM3yLFfX2UlSokgTZnYAofz6SkKxT08za+vuOYSy38fNbJ9o3SZmdlq06bPA1WbWOargbGJmB0bLpgGXmdkeZtYeuCjhkKuAHEIZd37GAAeY2RVmlmFmlwIHA6NKcHorgAZmVqcE2+bnaeBOMzsEIKrEvbiU9p0ov7ifBh6wqPLczBqa2bmlcTAzq2bhXpY67r4d2EB4j/LzEvA7M2tpZnsSvtyHePFaWf3JzOqZWTNC3cuQaP5ehCLS9WbWBPhTnu1WUPDnprj6AzeaWQcLMs3sTDPbK4lthxI++weZWS3g7hTGWaEpUZQ/ua1Fch/DLLTIeQF42N2nu/sc4C7gv2ZWHbiDUHE5MSoKeJtQJo27f0qoKH2cUKn9Hj/90rybcLWxFrgP+F9uEO6+BXgA+Ci65D82MUh3/x44C/gDoQy9J3CWu68u7gm7+9eEL7Z50bH2K2qbIvY3DHgYGBy9Hl8CXXdnnwUcJ7+4nyA0LBhrZhsJFdsdSvGw3YAF0XndSGi5k5//AP8lVDTPJ1T+31LMYw0HphB+UIwm/OiA8FlpR/g8jSZUlCf6G/CX6DXJt1VWstx9MnA98G/C5/RbQr1OMtu+ATxJqJT/lvBeQKhIh3A+B0dxvr47cVZ0FlXYiIjsZGYOtHb3b+OOpbSY2UGEHw3Vi3llVenpikJEKiwLXZVUN7N6hKvMkUoSxadEISIV2Q2E+zDmElqf/SbecNKTip5ERKRQuqIQEZFCpXWngHvvvbe3aNEi7jBERNLKlClTVrt7w6LXDNI6UbRo0YLJkyfHHYaISFoxs7y9KhRKRU8iIlIoJQoRESmUEoWIiBRKiUJERAqlRCEiIoVSohARSWOXPvMJlz7zSUqPoUQhIiKFSuv7KEREKqvcq4hJ89fsMj3khoIGPSw5XVGIiKSpGj9u5q1nb2Kfjd+n9Di6ohARSTc5OQwZ8mdo2pRu9wykZbUaKbmSyKVEISKSToYPh2nT4He/g7PPZluKK7JBiUJEJD1s3QrPPw+PPgrTp0PNmkBq6iTyUh2FiEh5N2gQ1KgBXbrAN9/sTBJlJWWJwsz+Y2YrzezLhHn1zWycmc2J/taL5puZPWlm35rZDDNrl6q4RETSxvz5cOyx0Lgx5ORA8+axhJHKK4qBwOl55vUCxrt7a2B8NA3QFWgdPXoAfVMYl4hI+eYOb7wBN9wQria6dAGz2MJJWaJw9/eBNXlmnwsMip4PAs5LmP+8BxOBumbWOFWxiYiUW8uWQdWqMHs2jB0LbdrEHVGZV2Y3cvdl0fPlQKPoeRNgccJ6S6J5y8jDzHoQrjrIyspKXaQiImVp2zZo2xauvho2by7zeojCxNbqyd3dzLwE2/UD+gG0b9++2NuLiJQ7I0bAl1/CAw/A+efHHc3PlHWiWGFmjd19WVS0tDKavxRolrBe02ieiEjFtXkz9O4N774Ln34KVcpnQ9SyjmoE0D163h0YnjD//0Wtn44F1icUUYmIVDz33AMtWsCdd8LkyeU2SUBqm8e+BHwCtDGzJWZ2LfAQcKqZzQF+FU0DjAHmAd8C/YGbUhWXiEisZsyAK66AI4+EVaugfv24IypSyoqe3P3yAhZ1zmddB25OVSwiIrHLzoZx46BnTxgzBpo2jTuipJXfax0RkYrim28gIyMkixkz0ipJgBKFiEjqbNwY7oOYMiU0fz3zzLgjKhF1CigikgqjRsH778MTT8DpeTupSC9KFCIipWnrVujaFerUgddei7XrjdKiRCEiUhrcoXt3mDcvdL1Rq1bcEZUaJQoRkd314YcwejSccQZcdlnc0ZQ6JQoRkZLKzoZhw+D3vw+jzqXBPREloVZPIiIlMX58aPJ60EGwaFGFTRKgRCEiUjyrVsHRR8OmTaHJ6yGHxB1RyqnoSUQkWWPHwoAB8K9/hZHnKgklChGRoqxfH4qYLr0Uhg6NO5oyp0QhIlIQd+jcGQ47DGbNCvdGVEJKFCIi+Rk3LnT/fe218Otfxx1NrJQoREQSbdsGffvCo4/CnDnlakjSuKjVk4hIrgEDoHp1uOACWLJESSKiRCEisnAhnHUWNGgQbqJr1qzobSoRFT2JSOXlDh99BLfcAi++CAcfHHdE5ZKuKESkclq6NIxTPWMGTJ2qJFGIWBKFmd1mZl+a2Vdmdns0r76ZjTOzOdHfenHEJiIV3LZt0LYtvP46bN4MN90Ud0TlXpknCjM7FLgeOAY4AjjLzFoBvYDx7t4aGB9Ni4iUnnffhb/9Df70J7j55grVFXgqxVFHcRAwyd23AJjZe8AFwLnASdE6g4AJwB0xxCciFc3WrSExTJsGkyZB1apxR5RW4kgUXwIPmFkD4AfgDGAy0Mjdl0XrLAca5bexmfUAegBkZWWlPloRSW933x0qqj//HOrWjTuatFTmRU/uPgt4GBgLvAlMA7LzrOOAF7B9P3dv7+7tGzZsmOJoRSRtzZwJt98OLVvC3LlKErshluax7v4s8CyAmT0ILAFWmFljd19mZo2BlXHEJiJpzj308nr99WHkOZU87LakEoWZtQeOB/YjFBd9CYxz97UlOaiZ7ePuK80si1A/cSzQEugOPBT9HV6SfYtIJfbVV3DoofDOO2EwISkVhRY9mdnVZvY5cCdQE5hN+KX/S+BtMxsUfdkX16tmNhMYCdzs7usICeJUM5sD/CqaFhEp2ubN0KEDTJ8OP/wAJ58cd0QVSlFXFLWATu7+Q34Lzawt0BooVup29+Pzmfc90Lk4+xERYcIEeOkluOceOPPMuKOpkApNFO7ep4jl00o1GhGRZG3dCp06QYsW8PLLYBZ3RBVWsnUUjwD3E+on3gQOB37n7i+kMDYRkZ9zh6uugg0bwpgR9dSJQ6ol2zy2i7tvAM4CFgCtgD+lKigRkXxNnAgPPhiuJIYNU5IoI8k2j81d70zgZXdfb7rME5Gykp0dxqq+8UaYNy90By5lJtkrilFm9jVwFDDezBoCP6YuLBGRyBtvQEZG6Mhv/XoliRgklSjcvRdwHNDe3bcDWwh9M4mIpMb330OXLrBxY6i4PuiguCOqtAotejKzC/KZlzj5WmkHJCLCp59Cz57wwAOhPkJiVVQdxdnR330IVxTvRNMnAx+jRCEipWnNmtDc9Te/CV2Cqy60XCjqPoqrAcxsLHBwbu+uUV9MA1MenYhUDjk5cPrp0LFj6HpDHfiVK8m2emqW0AU4wApAPW2JyO6bODFcPZx7bhgzQsqdZBPFeDN7C3gpmr4UeDs1IYlIpbB9Ozz0EPTtC/PnQ/XqcUckBUi21dNvgWcIQ5ceAfRz91tSGZiIVGD9+oWb5a65Br77TkminEt6PAp3fw1VXovI7liyBO69F447LnTBUaXMx06TEki2r6cLCKPS7QNY9HB3r53C2ESkIpk4Ea64AkaMCGNGSNpINp0/Apzj7nXcvba776UkISJJWbo0NHP9+uvQ/YaSRNpJtuhpRTTWtYhIcrZvh86doVu3UMy0115xRyQllGyimGxmQ4DXga25M6N6CxGRXU2aBK+8EroDv+aauKOR3ZRsoqhN6N+pS8I8R5XbIpIoOxsuvBCWLYOPPgqd+UnaS+pdzL1Du7SY2e+A6wjJ5gvgaqAxMBhoAEwBurn7ttI8roik0D33hIrqd9/VOBEVTFKV2WbW1MyGmdnK6PGqmTUtyQHNrAlwK6En2kOBqsBlhFZVj7t7K2AtcG1J9i8iZWz2bLjvPqhTB6ZOVZKogJJt9fQcMALYL3qMjOaVVAZQ08wygFrAMuAU4JVo+SDgvN3Yv4ikmju8+SYcc0yoi/jDH9SJXwWVbKJo6O7PufuO6DEQaFiSA7r7UuAxYBEhQawnFDWtc/cd0WpLgCb5bW9mPcxssplNXrVqVUlCEJHdNXVquFmudu0wmFDz5nFHJCmUbKL43syuNLOq0eNK4PuSHNDM6hEGPWpJuDrJBE5Pdnt37+fu7d29fcOGJcpVIlJSW7ZA167w1Vehyetxx8UdkZSBZBPFNcAlwHLCVcBFhArokvgVMN/dV0Wj5b0GdALqRkVRAE2BpSXcv4ikwmefQffucMMNcOWVui+iEkm21dNC4JxSOuYi4FgzqwX8AHQGJgPvEhLQYKA7MLyUjiciu2PLFmjXLoxZPWSI+meqhJLt62kQcJu7r4um6wF/d/di30nj7pPM7BXgc2AHMBXoB4wGBpvZ/dG8Z4u7bxEpZdddFyqo33sPGjWKOxqJSbJ3wxyemyQA3H2tmR1Z0oO6+73AvXlmzwOOKek+RaQUTZsGb78NrVvDHXfEHY3ELNlEUcXM6rn7WgAzq1+MbUUkXeTkwKBBYczq5cs1JKkAyX/Z/x34xMxejqYvBh5ITUgiEouRI+Gcc0Ivrz/+GHc0Uo4kO8Ld88AFhLGyVwAXuPt/UxmYiJSRdevCOBGrVoUE0aZN3BFJOVOc5gv1gc3u/m9glZm1TFFMIlJWvvwSOnUKTV6vuUZDkkq+km31dC/QHmhD6LpjD+AFwv0PIpJuvv8e9t0X/vzncPOcSCGSraM4HziS0KQVd//OzHS3jUi6cYdzz4Xjj4cVK6B+/bgjkjSQbKLY5u5uZg5gZpkpjElEUmHGDBg+PHS78ac/xR2NpJFkE8VQM3uG0M3G9YQuPfqnLiwRKTU7doR7IYYMgblzVQ8hxZZsq6fHCF2Av0qop7jH3f+VysBEpBQ8/TQ0bQp//CMsWaIkISWSbGV2JvCOu48zszZAGzPbI+rUT0TKm2XL4F//CoMJLV0KVavGHZGksWSLnt4Hjo/6eHqT0InfpcCvUxWYiJTQJ5/AmWfCO++EjvxEdlOy91GYu28h3HTX190vBg5JXVgiUmyLF4cO/L77DtasUZKQUpPsFYWZWUfCFUTuWNa6lhUpD3bsgAsugLPPDglCY1ZLKUs2UdwG3AkMc/evzGx/wvgRIhKn6dOhb1844wy4/vq4o5EKKtmBi94n1FPkTs8Dbk1VUCJShOxs6NIl9M303nuQoc6cJXUKraMws/5mdlgByzLN7BozU4W2SFm691447TR48UX46CMlCUm5oj5hfYC7o2TxJbAKqAG0BmoD/wFeTGmEIhJ8+224s9odxo0LFdciZaDQROHu04BLzGxPQqeAjQnjXM9y99mpD09EcIcxY+Css2DBAmjePO6IpJJJto5iEzChNA4Y3bA3JGHW/sA9wPPR/BbAAuCS3BH1RCqtTz+FDh3CX/e4o5FKqjjjUZQKd5/t7m3dvS1wFLAFGAb0Asa7e2tgfDQtUjn9+GMYTOiLL8LAQkcfHXdEUomVeaLIozMw190XAucCg6L5g4Dz4gpKJFazZ8Opp4Z7I669NnTDIRKjYjWXMLNa0R3apeUy4KXoeSN3XxY9Xw40KiCGHkAPgKysrFIMRSRmmzfDQQfBKafA+++rslrKjWQ7BTwOGADsCWSZ2RHADe5+U0kPbGbVgHMIN/LtInHsi3yW9QP6AbRv316FtlIx3HgjZGbCxImw335xRyOyi2SvKB4HTgNGALj7dDM7YTeP3RX43N1XRNMrzKyxuy8zs8bAyt3cv0j5N2cOjBwJdevCQw/FHY1IvpIuenL3xbbrpXD2bh77cn4qdoKQhLoDD0V/h+/m/kXKr5wc6NMHbr89VFbvpZGFpfxKtjJ7cVT85Ga2h5n9EZhV0oNG41ucCryWMPsh4FQzmwP8KpoWqXiGD4c99wx3V2dnK0lIuZfsFcWNwBNAE2ApMBa4uaQHdffNQIM8874ntIISqZjWr4fevcOIc2vWQI0acUckkpRkb7hbjQYpEim5mTNDa6YXX4TO+j0k6SXZVk8tgVsId03v3Mbdz0lNWCIVxJo10KABPPZYGJ5UTV4lDSVb9PQ68CwwEshJWTQiFYV7uLO6QwdYvhwa5XtbkEhaSDZR/OjuT6Y0EpGKYs4cGDgQDjggtGoSSXPJJoonzOxeQiX21tyZ7v55SqISSUfucN11MH48fP21Kqulwkg2URwGdANO4aeiJ4+mRaR/f/jHP+Dtt+HZZ+OORqRUJZsoLgb2d/dtqQxGJO2sWAHPPw+rVoWeXjXanFRAyX6qvwTqom41RH7y0Udw/PHw+efQtm3c0YikTLKJoi7wtZl9xq51FGoeK5XPvHnwi1+EUedy1AhQKr5kE8W9KY1CJB1kZ4fxITp2DPdE7Ltv3BGJlIlk78x+L9WBiJRr33wD99wTippuuCHuaETKVKGJwsw+dPdfmtlGQiunnYsIw0bUTml0InHbtg1OOAFq1YKxY1VZLZVSoZ96d/9l9FfdW0rl88ADoY+ml16Cli3jjkYkNkl1M25m/01mnkiFsHAh/PvfoenrCy8oSUill+x19CGJE2aWARxV+uGIxMgdhg2DCy+ExYtDd+AiUvgVhZndGdVPHG5mG6LHRmAFGoFOKpKJE6FKFcjKCglDSUJkp6LqKP4G/M3M/ubud5ZRTCJlZ+tW+MMfoHXr0CV4vXpxRyRS7iRVR1HaScLM6prZK2b2tZnNMrOOZlbfzMaZ2Zzor/5jJbUWLoQjjoBf/hJuu01JQqQAyY6ZXdqeAN509wOBIwjjb/cCxrt7a2B8NC1S+jZtgn32gUcegVmz4LLL4o5IpFwr80bhZlYHOAG4CiDqaHCbmZ0LnBStNgiYANxR1vFJBZd75fDZZ9C8edzRiKSFpBOFmVUFGrHrUKiLSnDMlsAq4DkzOwKYAtwGNHL3ZdE6y6NjiZSORYtgyJBwA13v3nFHI5JWkh0z+xZCf08r2HU8isNLeMx2wC3uPsnMniBPMZO7u5l5fhubWQ+gB0BWVlYJDi+Vinu4ce7//g9Wr4ba6kxApLiSraO4DWjj7oe4+2HRoyRJAmAJsMTdJ0XTrxASxwozawwQ/c23S3N37+fu7d29fcOGDUsYglQKI0dC48ahDmLbNiUJkRJKtuhpMbC+NA7o7svNbLGZtXH32UBnYGb06A48FP3VfRpSMhs3hjur160LXYLXqhV3RCJpLdlEMQ+YYGaj2XU8in+U8Li3AC+aWbVo31cTrm6Gmtm1wELgkhLuWyqzr76CY46BESOgc+e4oxGpEJJNFIuiR7XosVvcfRrQPp9F+s+WklmzBho0gH79QvNXs7gjEqkwkh2P4j4AM9szmt6UyqBEkuYON98MBx4ICxaoyatICiTb6ulQ4L9A/Wh6NfD/3P2rFMYmUrgFC+Dxx6FuXbj11rijEamwki166gf83t3fBTCzk4D+wHGpCUukEO5wySUwYwZMmwY1a8YdkUiFlmyiyMxNEgDuPsHMMlMUk0jBnnsOBg4Mf/ffP+5oRCqFpFs9mdndhOIngCsJrZVEysaqVfDKK/D55/D227DHHnFHJFJpJHvD3TVAQ+C16NEwmieSeh9+GDrx++UvoX9/JQmRMpZsq6e1gGoLpWx98w20aQPjxoV6CRGJRaGJwsz+6e63m9lIQt9Ou3D3c1IWmVReOTnwxz+Gpq6LFkGzZnFHJFKpFXVFkVsn8ViqAxEBYMkS6NYNzjkndAkuIrEraijUKdHTtu7+ROIyM7sNeC9VgUkls20bdOgATZrA+PFh/GoRKReSbfXUnTAqXaKr8pknUnyPPhpunhs8ONRJiEi5UlQdxeXAFUBLMxuRsGgvYE0qA5NKYMUKePVVmDoVXnhBVxEi5VRR/5kfA38Hvo7+5j7+AJyW2tAkWX369OHwww+ndu3a1K5dm44dOzJ69OhCt+nduzdmlu9j5cqfhgIZOnQobdu2pVatWjRv3pxHH3109wN2hxdfhH33hQsvhP/972dJ4qmnnqJly5bUqFGDo446ig8++KDI3W7bto177rmHli1bUr16dbKysnjyySd3Ln/55Zdp3749devWJTMzk7Zt2zJo0KDdPx+Ris7d0/Zx1FFHubi//vrrPmbMGJ8zZ47Pnj3b77rrLs/IyPDp06cXuM3GjRt92bJluzxOPPFEP+mkk3auM2bMGK9atar36dPH586d66NGjfLGjRv7v/71r2LF17x5c3/33XfDxMcfu++1l/vkyQWuP3jwYM/IyPB+/fr5zJkz/be//a1nZmb6woULCz3O+eef70cffbSPHTvW58+f7xMnTvzpuO4+fvx4HzZsmM+aNcu//fZb/+c//+lVq1b10aNHF+t8RNIdMNmL8V2b3EqwEdgQPX4EsoENxTlQKh7lLVEMGjTI69ev7z/++OMu86+44go/++yzyzSWevXq+dNPP530+osWLfIqVar4iy++uHPe5Zdf7uedd94u6z355JPetGlTz8nJSXrfzZs393fHjnXv3dv93nvdV68udP1jjjnGr7vuul3mtWrVynv16lXgNm+99ZbXrl3bV61alXRc7u5HHnnkzv2uXLnS9913X+/du/fO5dOnT/fq1av70KFDi7VfkfKsuIkiqUJhd9/L3Wu7e22gJnAh8FQqrnDS2cUXX0xOTg7Dh/80ON/69esZNmwY1157bYHbde3alT333LPQR7Kys7MZPHgwmzZt4rjjku+z8dlnn6VevXpceOGFO+dt3bqVGjVq7LJezZo1WbJkCQsXLkx632Rnw6WXQuvW0Lt3GDeiANu2bWPKlCl06dJll/ldunTh448/LnC7119/naOPPpp//OMfNG3alNatW3PrrbeyaVP+PeK7O+PHj2f27NmccMIJADRs2JCBAwfywAMP8Mknn/DDDz9w+eWXc/nll3PxxRcnf74iFU1xskriA5ha0m1L61Herijc3W+++WY/7bTTdk4/9dRT3qhRI9++fXuB2yxZssTnzJlT6KMoM2bM8MzMTK9atarXqVPHR40alXTMO3bs8GbNmvntt9++y/xnnnnGa9as6W+99ZZnZ2f77Nmz/cADD3TAP/7446J3vHmze5063rxOHX93/PikYlm6dKkD/t577+0y/7777vMDDjigwO1OO+00r169up9xxhk+ceJEf/PNN71169Z+4YUX7rLeunXrPDMz0zMyMrx69eo+YMCAn+3rtttu85YtW/pVV13lv/jFL3zjxo1JxS6SLkhR0dMFCY+LCONaf1KcA6XiUR4TxbRp07xKlSq+ePFid3dv37699+zZM+XH3bp1q8+ZM8cnT57svXr18gYNGvgXX3yR1LajRo1ywL/66qtd5ufk5HjPnj29Ro0aXrVqVa9Xr5737t3bAZ84cWKB+zv99NM9c489PLNaNc+sVcvNzGvUqOGZmZk7HwUpaaI49dRTvUaNGr5u3bqd89566y0HfPny5TvnZWdn+5w5c3zq1Kn+2GOPee3atf3tt9/eZV8//vijt2nTxqtUqVLoeYqkq+ImimTvozg74fkOYAFwbkmvYsxsAaHeIxvY4e7tzaw+MARoEe3/Eg99TKWVI444gnbt2jFw4EDOO+88Jk+ezAsvvFDoNl27di2yVU9BRSi5qlWrRqtWrQA46qij+Oyzz3j88cd59tlni4y5X79+HHfccRx88MG7zDczHn74YR588EGWL19Ow4YNGT9+PAD7F9TF9/LlDDj8cH6oXj3cH2HGSSedxMMPP0yHDh2KjGXvvfematWqrFixYpf5K1asYN999y1wu8aNG9OkSRPq1Kmzc95BBx0EwKJFi2jUqBEAVapU2fk6tW3bllmzZvHggw/SOWF87QULFrB48WLMjHnz5iUVt0hFlmyngFen4Ngnu/vqhOlewHh3f8jMekXTd6TguCl3/fXX88gjj7B69Wo6depEmyJuIhswYAA//PBDqcaQk5PD1q1bi1zvu+++Y/To0QwYMKDAdapWrUqTJk0AeOmll+jYsSMNGzb8+Yo9e0LfvjRZsgQSvrAzMjJo0qTJzi/owlSrVo2jjjqKcePG7VIvMG7cuF3qT/Lq1KkTL7/8Mps2bdpZp/PNN98A0LyQ4VHzvk7bt2/niiuu4JxzzqFDhw7cdNNNdOrUiaysrCJjF6mwkrnsAAYBdROm6wH/Kc6lS579LQD2zjNvNtA4et4YmF3Ufspj0ZO7+4YNGzwzM9OrVavm//nPf1J+vDvuuMPff/99nz9/vs+YMcN79erlZuZjxozZuU6vXr38lFNO+dm2f/3rX7127dq+efPmny1btWqVP/XUUz5z5kyfOnWq33rrrV6jRg2fNGnSriuOGuXepo377Nn5xrdL89gkDB482PfYYw/v37+/z5w502+99VbPzMz0BQsW7FynW7du3q1bt53TGzdu9KZNm/pFF13kX375pX/44Yd+yCGH+EUXXbRznfvvv9/HjRvnc+fO9ZkzZ/pjjz3mGRkZ3rdv353r3HHHHd6sWTNfu3at5+Tk+GmnneYnnniiZ2dnJx2/SHlHiuoopiYzL+mDwnzgc2AK0COaty5huSVO59m2BzAZmJyVlVX6r2Apufrqq32vvfbyTZs2pfxY3bt396ysLK9WrZo3bNjQO3fu7G+++ebP1mnevPku83JycrxFixb+m9/8Jt/9rlq1yo899ljPzMz0WrVqeefOnXcts9+0yf3pp92vvjo8L0BxE4W7e58+fbx58+ZerVo1b9eu3c/qLE488UQ/8cQTd5n39ddf+6mnnuo1a9b0/fbbz2+66SbfsGHDzuW9evXyVq1aeY0aNbxevXresWNH/9///rdz+YQJEzwjI2OXWJctW+YNGzb0Bx98sFjxi5RnxU0UFrYpnJlNB07yqM4gqk94z90PK8lVjJk1cfelZrYPMA64BRjh7nUT1lnr7vUK20/79u198uTJJQkh5bp27UrTpk3p379/3KGkxhdfwOGHhw78Tjkl7mhEpBjMbIq7t092/WQrs/8OfGJmL0fTFwMPFDe4XO6+NPq70syGAccAK8yssbsvM7PGwMpCd1JOrV27lg8++ICxY8cyffr0uMMpfStXQqNGoQuOnBwwizsiEUmxZCuznzezyUDuT8cL3H1mSQ5oZplAFXffGD3vAvwfMILQS+1D0d/hBe+l/DryyCNZs2YNDz74IIceemjc4ZQed7j7bth7b/j6a/XyKlKJJHtFAVAf2Ozuz5lZQzNr6e7zS3DMRsAwC79EM4D/ufubZvYZMNTMrgUWApeUYN+xW7BgQdwhlL6lS+Guu0KSuP32uKMRkTKWVKIws3uB9kAb4DlgD+AFoFNxD+ju84Aj8pn/PdD551tIbLKz4fzzYfFi+OQTyNOdh4hUDsleUZwPHEloqYS7f2dme6UsKonfCy/A8OFw//2h0lpEKq1kE8U2d3czC21XQ92CVERr1sDrr8OYMWGciGrV4o5IRGKW7JBiQ83sGaCumV0PvA0UfCuvpKcJE0LPrh07wiuvKEmICJBkonD3x4BXgFcJ9RT3uPuThW8laWP2bKhZMzR3zcmBqI8kERFIvjL7Wnd/lnBzHGZW1czudff7UhqdpFZOTqiDyMgITV4L6RNJRCqvZIueOpvZGDNrbGaHABMBVWans1Wr4LDDwpXEXXcpSYhIgZK94e4KM7sU+ALYDFzh7h+lNDJJje3b4cgjQ0umL76AKsn+VhCRyirZoqfWwG2EOoqDgG5mNtXdt6QyOCll//wnLFsWWjOpyauIJCnZ5rEjgZvdfbyFW6p/D3wGHJKyyKT0rF0LgwfDuHEwcqSuIkSkWJL9xjjG3ccDRL3U/p1wE56Ud337Qv36cMEFMHq0koSIFFuh3xpm1hPA3TeY2cV5Fl+VqqCkFEyaBM2aQYcOoUO/aChQEZHiKurn5WUJz+/Ms+z0Uo5FSsP27dCnDwwcCJ9/Du3axR2RiKS5ohKFFfA8v2mJ24IFULs21K0bipzyG9daRKSYiqrM9gKe5zctcdmyBfbdF/7yF9i4MdxAJyJSSor6RjnCzDYQrh5qRs+JptXndHnw0EOhgvqDD+CIn/XeLiKy2wpNFO5etawCkWJavRr+8Q+YOzc0fdWQpCKSIiqjSDfu8Nvfwssvw5w5UKdO3BGJSAWnRvXp5K234MQToUcPWLlSSUJEykRsVxRmVhWYDCx197PMrCUwGGgATAG6ufu2uOIrV7ZsgVdfDWNEjB4Ne6k/RhEpO3FeUdwGzEqYfhh43N1bAWuBa2OJqryZMQMyMyErKwxNqiQhImUslkRhZk2BM4lGyYv6jzqFMDgSwCDgvDhiKzeWL4caNeDbbyE7OxQ5iYjEIK6ip38CPflpTIsGwDp33xFNLwGa5LehmfUAegBkZWWlNsq4/P3vsGMHfPqpenkVkdiV+RWFmZ0FrHT3KSXZ3t37uXt7d2/fsKLdefz993DmmbB4Mdxxh5KEiJQLcVxRdALOMbMzCDft1QaeAOqaWUZ0VdEUWBpDbPHIzoYzzoBNm2DCBNhjj7gjEhHZqcyvKNz9Tndv6u4tCJ0OvuPuvwbeBS6KVusODC/r2GIxeDDcdBP07g0ffaQkISLlTnm64e4OYLCZ3Q9MBZ6NOZ7U2rQpNHl9/nkYMwaqV487IhGRfMWaKNx9AjAhej4POCbOeMrMG2+EoqY5c6B797ijEREplO7MLkvffBN6ea1ZE3JyoFWruCMSESlSeSp6qrjcw2BCCxfCxx/D/vvHHZGISNJ0RZFqq1eHu6p/+AEefVRJQkTSjq4oUmX7djjsMOjcGebNU2smEUlbShSp8PTToXfXgQPh2GPjjkZEZLcoUZSmDRvguefgtdfgnXegqsZ9EpH0pzqK0vLoo2F8iMsug/feU5IQkQpDiWJ3TZkS+mQ6+eTQuqlRo7gjEhEpVSp6KqkdO8JwpEOHwrhxShAiUmHpiqIk5s8PrZjMYNgwJQkRqdB0RVEcmzaFeyIeeCA0f83QyyciFZ++6ZL1zDOwbh2MHAmdOsUdjYhImVGiKMqaNXD33bBsWejt1SzuiEREypQSRUHcoUcPePtt+OIL2HPPuCMSEYmFKrPz8847cMkl0K1bqLhWkhCRSqzSXFFc+swnAAy5oWPBK/34Y6iD+Pe/YcSIcAOdiEglpyuKXJ9/HsaJaNo03FmtJCEiAlSCK4rcK4lJ89fsMr3zymL58tDL64ABkJ0NVZQ7RUQSlXmiMLMawPtA9ej4r7j7vWbWEhgMNACmAN3cfVtKgxk1CiZNgrfegnbtUnooEZF0Ze5etgc0MyDT3TeZ2R7Ah8BtwO+B19x9sJk9DUx3976F7at9+/Y+efLkpI67y5XE5s0hQWzZAmedtTunIyKSdsxsiru3T3b9Mi9n8WBTNLlH9HDgFOCVaP4g4LyUBPDSS/D443DyyVy6tMHOBCIiIvmLpY7CzKoSipdaAX2AucA6d98RrbIEaFLAtj2AHgBZWVlJH3PIlYfDK6/AmedD7dq7Eb2ISOUSS6Jw92ygrZnVBYYBBxZj235APwhFT0kfNDMTrrwSqlYtuoJbRER2irWJj7uvA94FOgJ1zSw3cTUFlpb6ATWYkIhIscXR6qkhsN3d15lZTeBU4GFCwriI0PKpOzA8VTHkXjnoSkJEpGhxFD01BgZF9RRVgKHuPsrMZgKDzex+YCrwbAyxiYhIHmXePLY0Fad5rIiIBOW+eayIiKQXJQoRESmUEoWIiBRKiUJERAqlRCEiIoVSohARkUKldfNYM1sFLCxitb2B1WUQTlnTeaWPinhOUDHPqyKeE/z8vJq7e8NkN07rRJEMM5tcnPbC6ULnlT4q4jlBxTyvinhOsPvnpaInEREplBKFiIgUqjIkin5xB5AiOq/0URHPCSrmeVXEc4LdPK8KX0chIiK7pzJcUYiIyG5QohARkUJVuERhZlXNbKqZjYqmW5rZJDP71syGmFm1uGMsLjOra2avmNnXZjbLzDqaWX0zG2dmc6K/9eKOs7jM7Hdm9pWZfWlmL5lZjXR8v8zsP2a20sy+TJiX7/tjwZPR+c0ws3bxRV6wAs7p0egzOMPMhkVDGecuuzM6p9lmdlosQSchv/NKWPYHM3Mz2zuaTov3Cgo+LzO7JXrPvjKzRxLmF+v9qnCJArgNmJUw/TDwuLu3AtYC18YS1e55AnjT3Q8EjiCcXy9gvLu3BsZH02nDzJoAtwLt3f1QoCpwGen5fg0ETs8zr6D3pyvQOnr0APqWUYzFNZCfn9M44FB3Pxz4BrgTwMwOJrx3h0TbPBUNTFYeDeTn54WZNQO6AIsSZqfLewX5nJeZnQycCxzh7ocAj0Xzi/1+VahEYWZNgTOBAdG0AacAr0SrDALOiyW4EjKzOsAJRCP+ufu2aKzxcwnnA2l4XpEMoGY0VnotYBlp+H65+/vAmjyzC3p/zgWe92AiYaz4xmUSaDHkd07uPtbdd0STEwlj20M4p8HuvtXd5wPfAseUWbDFUMB7BfA40BNIbN2TFu8VFHhevwEecvet0Toro/nFfr8qVKIA/kl4s3Oi6QbAuoQP9xKgSQxx7Y6WwCrguahIbYCZZQKN3H1ZtM5yoFFsEZaAuy8l/MJZREgQ64EppP/7laug96cJsDhhvXQ9x2uAN6LnaX1OZnYusNTdp+dZlNbnBRwAHB8V5b5nZkdH84t9XhUmUZjZWcBKd58SdyylLANoB/R19yOBzeQpZvLQxjmt2jlHZfbnEhLhfkAm+RQJVATp+P4Uxsz+DOwAXow7lt1lZrWAu4B74o4lBTKA+sCxwJ+AoVEpS7FVmEQBdALOMbMFwGBCEcYThMvFjGidpsDSeMIrsSXAEnefFE2/QkgcK3Ivg6O/KwvYvrz6FTDf3Ve5+3bgNcJ7mO7vV66C3p+lQLOE9dLqHM3sKuAs4Nf+001Y6XxOvyD8WJkefXc0BT43s31J7/OC8N3xWlR09imhpGVvSnBeFSZRuPud7t7U3VsQKmrecfdfA+8CF0WrdQeGxxRiibj7cmCxmbWJZnUGZgIjCOcDaXhehCKnY82sVvQrJ/e80vr9SlDQ+zMC+H9Ri5pjgfUJRVTlmpmdTijaPcfdtyQsGgFcZmbVzawlofL30zhiLC53/8Ld93H3FtF3xxKgXfR/l7bvVeR14GQAMzsAqEboQbb475e7V7gHcBIwKnq+f/QifAu8DFSPO74SnE9bYDIwI3rz6xHqX8YDc4C3gfpxx1mC87oP+Br4EvgvUD0d3y/gJUI9y3bCF821Bb0/gAF9gLnAF4RWX7GfQ5Ln9C2hbHta9Hg6Yf0/R+c0G+gad/zFOa88yxcAe6fTe1XI+1UNeCH6//ocOKWk75e68BARkUJVmKInERFJDSUKEREplBKFiIgUSolCREQKpUQhIiKFUqKQSsPMss1sWtRb7cvRXbkFrXuSmR2XMD3QzC4qaP2E9TaVVrwJ+2xrZmckTPc2sz+W9nFECqJEIZXJD+7e1kNvtduAGwtZ9yTguEKWl6W2wBlFrSSSKkoUUll9ALQys7OjTtOmmtnbZtbIzFoQksjvoiuQ46NtTjCzj81sXpJXF38ys8+isQzui+a1sDCmSP9ojICxZlYzWnZ0tO40C2M/fGlhPI7/Ay6N5l8a7f5gM5sQxXJrab84IomUKKTSifqS6kq42/ZD4FgPHS4OBnq6+wLgacK4GG3d/YNo08bALwl9HT1UxDG6ELpGOIZwRXCUmZ0QLW4N9PEwRsA64MJo/nPADe7eFsiG0K08ocO6IVEsQ6J1DwROi/Z/r5ntUaIXQyQJGUWvIlJh1DSzadHzDwhjfLQBhkQd91UD5hey/evungPMNLOiunXvEj2mRtN7EhLEIkJniLlxTAFaWBgtbi93/ySa/z9CQirIaA/jDGw1s5WEbsyXFBGTSIkoUUhl8kP0a30nM/sX8A93H2FmJwG9C9l+a+KmRRzLgL+5+zN5jtciz36ygZpF7KuoWLLR/7KkkIqepLKrw09dLHdPmL8R2Gs39vsWcI2Z7Qlh6Fcz26eglT2MWrjRzDpEsy4rxVhEdosShVR2vYGXzWwKoQvmXCOB8/NUZifN3ccSio8+MbMvCOOIFPVlfy3QPyoeyySM+geh6/WD81Rmi5QZ9R4rUk6Y2Z7uvil63gto7O63xRyWiMo1RcqRM83sTsL/5ULgqnjDEQl0RSEiIoVSHYWIiBRKiUJERAqlRCEiIoVSohARkUIpUYiISKH+PwCJ23OMpnbbAAAAAElFTkSuQmCC",
=======
      "image/png": "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",
>>>>>>> Stashed changes
      "text/plain": [
       "<Figure size 432x288 with 1 Axes>"
      ]
     },
     "metadata": {
      "needs_background": "light"
     },
     "output_type": "display_data"
    }
   ],
   "source": [
    "test.plot_Distance_Time()"
   ]
  },
  {
   "cell_type": "code",
   "execution_count": 2,
   "metadata": {},
   "outputs": [
    {
<<<<<<< Updated upstream
     "ename": "NameError",
     "evalue": "name 'test' is not defined",
     "output_type": "error",
     "traceback": [
      "\u001b[1;31m---------------------------------------------------------------------------\u001b[0m",
      "\u001b[1;31mNameError\u001b[0m                                 Traceback (most recent call last)",
      "\u001b[1;32m~\\AppData\\Local\\Temp/ipykernel_18984/3285270251.py\u001b[0m in \u001b[0;36m<module>\u001b[1;34m\u001b[0m\n\u001b[1;32m----> 1\u001b[1;33m \u001b[0mtest\u001b[0m\u001b[1;33m.\u001b[0m\u001b[0mplot_difference\u001b[0m\u001b[1;33m(\u001b[0m\u001b[1;33m)\u001b[0m\u001b[1;33m\u001b[0m\u001b[1;33m\u001b[0m\u001b[0m\n\u001b[0m",
      "\u001b[1;31mNameError\u001b[0m: name 'test' is not defined"
     ]
=======
     "data": {
      "image/png": "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",
      "text/plain": [
       "<Figure size 432x288 with 1 Axes>"
      ]
     },
     "metadata": {
      "needs_background": "light"
     },
     "output_type": "display_data"
>>>>>>> Stashed changes
    }
   ],
   "source": [
    "test.plot_difference() "
   ]
  },
  {
   "cell_type": "code",
   "execution_count": null,
   "metadata": {},
   "outputs": [],
   "source": []
  }
 ],
 "metadata": {
  "kernelspec": {
   "display_name": "Python 3.9.5 ('base')",
   "language": "python",
   "name": "python3"
  },
  "language_info": {
   "codemirror_mode": {
    "name": "ipython",
    "version": 3
   },
   "file_extension": ".py",
   "mimetype": "text/x-python",
   "name": "python",
   "nbconvert_exporter": "python",
   "pygments_lexer": "ipython3",
   "version": "3.9.5"
  },
  "orig_nbformat": 4,
  "vscode": {
   "interpreter": {
    "hash": "2172913d4612856e3bbc325c0b7fb332e765f63a52fed726fb1f267ce3eabcc0"
   }
  }
 },
 "nbformat": 4,
 "nbformat_minor": 2
}
