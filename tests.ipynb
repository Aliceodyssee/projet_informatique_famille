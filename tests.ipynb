{
 "cells": [
  {
   "cell_type": "markdown",
   "metadata": {},
   "source": [
    "# Tests"
   ]
  },
  {
   "cell_type": "markdown",
   "metadata": {},
   "source": [
    "## Basic tests"
   ]
  },
  {
   "cell_type": "markdown",
   "metadata": {},
   "source": [
    "### Utilisation of classes"
   ]
  },
  {
   "cell_type": "code",
   "execution_count": 1,
   "metadata": {},
   "outputs": [],
   "source": [
    "from class_Path import *\n",
    "file_path = \"./ged docs/Queen_Eliz_II.ged\""
   ]
  },
  {
   "cell_type": "code",
   "execution_count": 2,
   "metadata": {},
   "outputs": [],
   "source": [
    "graph = Graph(file_path)\n",
    "path = Path(file_path)"
   ]
  },
  {
   "cell_type": "code",
<<<<<<< Updated upstream
   "execution_count": 3,
=======
   "execution_count": 6,
>>>>>>> Stashed changes
   "metadata": {},
   "outputs": [
    {
     "data": {
      "text/html": [
       "<div>\n",
       "<style scoped>\n",
       "    .dataframe tbody tr th:only-of-type {\n",
       "        vertical-align: middle;\n",
       "    }\n",
       "\n",
       "    .dataframe tbody tr th {\n",
       "        vertical-align: top;\n",
       "    }\n",
       "\n",
       "    .dataframe thead th {\n",
       "        text-align: right;\n",
       "    }\n",
       "</style>\n",
       "<table border=\"1\" class=\"dataframe\">\n",
       "  <thead>\n",
       "    <tr style=\"text-align: right;\">\n",
       "      <th></th>\n",
       "      <th>CHILD1</th>\n",
       "      <th>CHILD2</th>\n",
       "      <th>CHILD3</th>\n",
       "      <th>CHILD4</th>\n",
       "      <th>CHILD5</th>\n",
       "      <th>...</th>\n",
       "      <th>UNCLE2</th>\n",
       "      <th>UNCLE3</th>\n",
       "      <th>UNCLE4</th>\n",
       "      <th>UNCLE5</th>\n",
       "      <th>UNCLE6</th>\n",
       "    </tr>\n",
       "    <tr>\n",
       "      <th>INDI</th>\n",
       "      <th></th>\n",
       "      <th></th>\n",
       "      <th></th>\n",
       "      <th></th>\n",
       "      <th></th>\n",
       "      <th></th>\n",
       "      <th></th>\n",
       "      <th></th>\n",
       "      <th></th>\n",
       "      <th></th>\n",
       "      <th></th>\n",
       "    </tr>\n",
       "  </thead>\n",
       "  <tbody>\n",
       "    <tr>\n",
       "      <th>@I101@</th>\n",
       "      <td>NaN</td>\n",
       "      <td>NaN</td>\n",
       "      <td>NaN</td>\n",
       "      <td>NaN</td>\n",
       "      <td>NaN</td>\n",
       "      <td>...</td>\n",
       "      <td>NaN</td>\n",
       "      <td>NaN</td>\n",
       "      <td>NaN</td>\n",
       "      <td>NaN</td>\n",
       "      <td>NaN</td>\n",
       "    </tr>\n",
       "    <tr>\n",
       "      <th>@I103@</th>\n",
       "      <td>@I101@</td>\n",
       "      <td>NaN</td>\n",
       "      <td>NaN</td>\n",
       "      <td>NaN</td>\n",
       "      <td>NaN</td>\n",
       "      <td>...</td>\n",
       "      <td>NaN</td>\n",
       "      <td>NaN</td>\n",
       "      <td>NaN</td>\n",
       "      <td>NaN</td>\n",
       "      <td>NaN</td>\n",
       "    </tr>\n",
       "    <tr>\n",
       "      <th>@I155@</th>\n",
       "      <td>@I622@</td>\n",
       "      <td>NaN</td>\n",
       "      <td>NaN</td>\n",
       "      <td>NaN</td>\n",
       "      <td>NaN</td>\n",
       "      <td>...</td>\n",
       "      <td>NaN</td>\n",
       "      <td>NaN</td>\n",
       "      <td>NaN</td>\n",
       "      <td>NaN</td>\n",
       "      <td>NaN</td>\n",
       "    </tr>\n",
       "    <tr>\n",
       "      <th>@I168@</th>\n",
       "      <td>@I386@</td>\n",
       "      <td>NaN</td>\n",
       "      <td>NaN</td>\n",
       "      <td>NaN</td>\n",
       "      <td>NaN</td>\n",
       "      <td>...</td>\n",
       "      <td>NaN</td>\n",
       "      <td>NaN</td>\n",
       "      <td>NaN</td>\n",
       "      <td>NaN</td>\n",
       "      <td>NaN</td>\n",
       "    </tr>\n",
       "    <tr>\n",
       "      <th>@I169@</th>\n",
       "      <td>@I386@</td>\n",
       "      <td>NaN</td>\n",
       "      <td>NaN</td>\n",
       "      <td>NaN</td>\n",
       "      <td>NaN</td>\n",
       "      <td>...</td>\n",
       "      <td>NaN</td>\n",
       "      <td>NaN</td>\n",
       "      <td>NaN</td>\n",
       "      <td>NaN</td>\n",
       "      <td>NaN</td>\n",
       "    </tr>\n",
       "    <tr>\n",
       "      <th>...</th>\n",
       "      <td>...</td>\n",
       "      <td>...</td>\n",
       "      <td>...</td>\n",
       "      <td>...</td>\n",
       "      <td>...</td>\n",
       "      <td>...</td>\n",
       "      <td>...</td>\n",
       "      <td>...</td>\n",
       "      <td>...</td>\n",
       "      <td>...</td>\n",
       "      <td>...</td>\n",
       "    </tr>\n",
       "    <tr>\n",
       "      <th>@I11259@</th>\n",
       "      <td>@I11257@</td>\n",
       "      <td>NaN</td>\n",
       "      <td>NaN</td>\n",
       "      <td>NaN</td>\n",
       "      <td>NaN</td>\n",
       "      <td>...</td>\n",
       "      <td>NaN</td>\n",
       "      <td>NaN</td>\n",
       "      <td>NaN</td>\n",
       "      <td>NaN</td>\n",
       "      <td>NaN</td>\n",
       "    </tr>\n",
       "    <tr>\n",
       "      <th>@I11260@</th>\n",
       "      <td>@I11259@</td>\n",
       "      <td>NaN</td>\n",
       "      <td>NaN</td>\n",
       "      <td>NaN</td>\n",
       "      <td>NaN</td>\n",
       "      <td>...</td>\n",
       "      <td>NaN</td>\n",
       "      <td>NaN</td>\n",
       "      <td>NaN</td>\n",
       "      <td>NaN</td>\n",
       "      <td>NaN</td>\n",
       "    </tr>\n",
       "    <tr>\n",
       "      <th>@I11261@</th>\n",
       "      <td>@I11259@</td>\n",
       "      <td>NaN</td>\n",
       "      <td>NaN</td>\n",
       "      <td>NaN</td>\n",
       "      <td>NaN</td>\n",
       "      <td>...</td>\n",
       "      <td>NaN</td>\n",
       "      <td>NaN</td>\n",
       "      <td>NaN</td>\n",
       "      <td>NaN</td>\n",
       "      <td>NaN</td>\n",
       "    </tr>\n",
       "    <tr>\n",
       "      <th>@I11262@</th>\n",
       "      <td>@I11258@</td>\n",
       "      <td>NaN</td>\n",
       "      <td>NaN</td>\n",
       "      <td>NaN</td>\n",
       "      <td>NaN</td>\n",
       "      <td>...</td>\n",
       "      <td>NaN</td>\n",
       "      <td>NaN</td>\n",
       "      <td>NaN</td>\n",
       "      <td>NaN</td>\n",
       "      <td>NaN</td>\n",
       "    </tr>\n",
       "    <tr>\n",
       "      <th>@I11382@</th>\n",
       "      <td>@I387@</td>\n",
       "      <td>NaN</td>\n",
       "      <td>NaN</td>\n",
       "      <td>NaN</td>\n",
       "      <td>NaN</td>\n",
       "      <td>...</td>\n",
       "      <td>NaN</td>\n",
       "      <td>NaN</td>\n",
       "      <td>NaN</td>\n",
       "      <td>NaN</td>\n",
       "      <td>NaN</td>\n",
       "    </tr>\n",
       "  </tbody>\n",
       "</table>\n",
       "<p>4683 rows × 45 columns</p>\n",
       "</div>"
      ],
      "text/plain": [
       "            CHILD1 CHILD2 CHILD3 CHILD4 CHILD5  ... UNCLE2 UNCLE3 UNCLE4  \\\n",
       "INDI                                            ...                        \n",
       "@I101@         NaN    NaN    NaN    NaN    NaN  ...    NaN    NaN    NaN   \n",
       "@I103@      @I101@    NaN    NaN    NaN    NaN  ...    NaN    NaN    NaN   \n",
       "@I155@      @I622@    NaN    NaN    NaN    NaN  ...    NaN    NaN    NaN   \n",
       "@I168@      @I386@    NaN    NaN    NaN    NaN  ...    NaN    NaN    NaN   \n",
       "@I169@      @I386@    NaN    NaN    NaN    NaN  ...    NaN    NaN    NaN   \n",
       "...            ...    ...    ...    ...    ...  ...    ...    ...    ...   \n",
       "@I11259@  @I11257@    NaN    NaN    NaN    NaN  ...    NaN    NaN    NaN   \n",
       "@I11260@  @I11259@    NaN    NaN    NaN    NaN  ...    NaN    NaN    NaN   \n",
       "@I11261@  @I11259@    NaN    NaN    NaN    NaN  ...    NaN    NaN    NaN   \n",
       "@I11262@  @I11258@    NaN    NaN    NaN    NaN  ...    NaN    NaN    NaN   \n",
       "@I11382@    @I387@    NaN    NaN    NaN    NaN  ...    NaN    NaN    NaN   \n",
       "\n",
       "         UNCLE5 UNCLE6  \n",
       "INDI                    \n",
       "@I101@      NaN    NaN  \n",
       "@I103@      NaN    NaN  \n",
       "@I155@      NaN    NaN  \n",
       "@I168@      NaN    NaN  \n",
       "@I169@      NaN    NaN  \n",
       "...         ...    ...  \n",
       "@I11259@    NaN    NaN  \n",
       "@I11260@    NaN    NaN  \n",
       "@I11261@    NaN    NaN  \n",
       "@I11262@    NaN    NaN  \n",
       "@I11382@    NaN    NaN  \n",
       "\n",
       "[4683 rows x 45 columns]"
      ]
     },
     "execution_count": 6,
     "metadata": {},
     "output_type": "execute_result"
    }
   ],
   "source": [
<<<<<<< Updated upstream
    "#graph.get_IndivLinks_DataFrame()"
=======
    "#pd.set_option('display.max_rows', None)\n",
    "#pd.set_option('display.max_columns', None)\n",
    "graph.get_IndivLinks_DataFrame()"
>>>>>>> Stashed changes
   ]
  },
  {
   "cell_type": "code",
   "execution_count": 5,
   "metadata": {},
   "outputs": [
    {
     "name": "stdout",
     "output_type": "stream",
     "text": [
      "[['@I11257@', 'child'], ['@I11250@', 'grandchild'], ['@I11175@', 'grandchild'], ['@I11179@', 'grandchild'], ['@I11183@', 'grandchild'], ['@I8765@', 'spouse'], ['@I8761@', 'grandparent'], ['@I8756@', 'grandparent'], ['@I8752@', 'grandparent'], ['@I8745@', 'grandparent'], ['@I8748@', 'grandparent'], ['@I2216@', 'grandparent'], ['@I10835@', 'nephew']]\n"
     ]
    },
    {
     "data": {
      "text/plain": [
       "[36,\n",
       " 'Isabella (le) is the daughter of the nephew of Thomas, who is the grand son of the nephew of the nephew of Dorothy, who is the wife of the niece of the niece of Henry (4th Lord of Groby) de, who is the grand father of the nephew of the niece of Eva, who is the grand mother of the niece of Thomas.']"
      ]
     },
     "execution_count": 5,
     "metadata": {},
     "output_type": "execute_result"
    }
   ],
   "source": [
    "path.get_dij('@I11259@','@I10835@')"
   ]
  },
  {
   "cell_type": "markdown",
   "metadata": {},
   "source": [
    "## Parameters tests"
   ]
  },
  {
   "cell_type": "code",
   "execution_count": 1,
   "metadata": {},
   "outputs": [],
   "source": [
    "from class_Test import *"
   ]
  },
  {
   "cell_type": "markdown",
   "metadata": {},
   "source": [
    "### Queen_Eliz_II.ged"
   ]
  },
  {
   "cell_type": "code",
   "execution_count": 2,
   "metadata": {},
   "outputs": [],
   "source": [
    "# /!\\ Very long : takes up to 15 minutes /!\\\n",
    "test = Test(\"./ged docs/Queen_Eliz_II.ged\")"
   ]
  },
  {
   "cell_type": "code",
   "execution_count": 3,
   "metadata": {},
   "outputs": [
    {
     "data": {
      "text/html": [
       "<div>\n",
       "<style scoped>\n",
       "    .dataframe tbody tr th:only-of-type {\n",
       "        vertical-align: middle;\n",
       "    }\n",
       "\n",
       "    .dataframe tbody tr th {\n",
       "        vertical-align: top;\n",
       "    }\n",
       "\n",
       "    .dataframe thead th {\n",
       "        text-align: right;\n",
       "    }\n",
       "</style>\n",
       "<table border=\"1\" class=\"dataframe\">\n",
       "  <thead>\n",
       "    <tr style=\"text-align: right;\">\n",
       "      <th></th>\n",
       "      <th>Path</th>\n",
       "      <th>Distance</th>\n",
       "      <th>Dijkstar distance</th>\n",
       "      <th>Execution time (s)</th>\n",
       "      <th>Dijkstar execution time (s)</th>\n",
       "      <th>Difference of execution time (s)</th>\n",
       "    </tr>\n",
       "    <tr>\n",
       "      <th>Individuals</th>\n",
       "      <th></th>\n",
       "      <th></th>\n",
       "      <th></th>\n",
       "      <th></th>\n",
       "      <th></th>\n",
       "      <th></th>\n",
       "    </tr>\n",
       "  </thead>\n",
       "  <tbody>\n",
       "    <tr>\n",
<<<<<<< Updated upstream
       "      <th>[@I4351@, @I10381@]</th>\n",
       "      <td>Arthur (Sir; of Paulerspury) is the grand son ...</td>\n",
       "      <td>38</td>\n",
       "      <td>38</td>\n",
       "      <td>31.248667</td>\n",
       "      <td>31.903453</td>\n",
       "      <td>-0.654786</td>\n",
       "    </tr>\n",
       "    <tr>\n",
       "      <th>[@I7882@, @I4486@]</th>\n",
       "      <td>Beli (Belus) of BRITAIN is the son of the gran...</td>\n",
       "      <td>82</td>\n",
       "      <td>82</td>\n",
       "      <td>57.088756</td>\n",
       "      <td>57.444159</td>\n",
       "      <td>-0.355403</td>\n",
=======
       "      <th>[@I6841@, @I11183@]</th>\n",
       "      <td>Bethoc Beatrix MacKenneth Heiress of Scone Pri...</td>\n",
       "      <td>2</td>\n",
       "      <td>2</td>\n",
       "      <td>3.953422</td>\n",
       "      <td>3.876348</td>\n",
       "      <td>0.077074</td>\n",
       "    </tr>\n",
       "    <tr>\n",
       "      <th>[@I10992@, @I1974@]</th>\n",
       "      <td>Philip (Sir) de BRAOSE (BRIOUZE) is the son of...</td>\n",
       "      <td>5</td>\n",
       "      <td>5</td>\n",
       "      <td>4.724405</td>\n",
       "      <td>5.233576</td>\n",
       "      <td>-0.509171</td>\n",
       "    </tr>\n",
       "    <tr>\n",
       "      <th>[@I7148@, @I934@]</th>\n",
       "      <td>Agnes is the grand son of the grand daughter o...</td>\n",
       "      <td>6</td>\n",
       "      <td>6</td>\n",
       "      <td>5.412738</td>\n",
       "      <td>5.324345</td>\n",
       "      <td>0.088393</td>\n",
       "    </tr>\n",
       "    <tr>\n",
       "      <th>[@I8696@, @I5746@]</th>\n",
       "      <td>Henry (of Roslin) ST. CLAIR (SINCLAIR) is the ...</td>\n",
       "      <td>8</td>\n",
       "      <td>8</td>\n",
       "      <td>7.796459</td>\n",
       "      <td>8.003701</td>\n",
       "      <td>-0.207242</td>\n",
       "    </tr>\n",
       "    <tr>\n",
       "      <th>[@I1793@, @I6395@]</th>\n",
       "      <td>Elizabeth is the daughter of the grand daughte...</td>\n",
       "      <td>15</td>\n",
       "      <td>15</td>\n",
       "      <td>13.022896</td>\n",
       "      <td>13.315048</td>\n",
       "      <td>-0.292152</td>\n",
>>>>>>> Stashed changes
       "    </tr>\n",
       "  </tbody>\n",
       "</table>\n",
       "</div>"
      ],
      "text/plain": [
       "                                                                  Path  \\\n",
       "Individuals                                                              \n",
<<<<<<< Updated upstream
       "[@I4351@, @I10381@]  Arthur (Sir; of Paulerspury) is the grand son ...   \n",
       "[@I7882@, @I4486@]   Beli (Belus) of BRITAIN is the son of the gran...   \n",
       "\n",
       "                     Distance  Dijkstar distance  Execution time (s)  \\\n",
       "Individuals                                                            \n",
       "[@I4351@, @I10381@]        38                 38           31.248667   \n",
       "[@I7882@, @I4486@]         82                 82           57.088756   \n",
       "\n",
       "                     Dijkstar execution time (s)  \\\n",
       "Individuals                                        \n",
       "[@I4351@, @I10381@]                    31.903453   \n",
       "[@I7882@, @I4486@]                     57.444159   \n",
       "\n",
       "                     Difference of execution time (s)  \n",
       "Individuals                                            \n",
       "[@I4351@, @I10381@]                         -0.654786  \n",
       "[@I7882@, @I4486@]                          -0.355403  "
=======
       "[@I6841@, @I11183@]  Bethoc Beatrix MacKenneth Heiress of Scone Pri...   \n",
       "[@I10992@, @I1974@]  Philip (Sir) de BRAOSE (BRIOUZE) is the son of...   \n",
       "[@I7148@, @I934@]    Agnes is the grand son of the grand daughter o...   \n",
       "[@I8696@, @I5746@]   Henry (of Roslin) ST. CLAIR (SINCLAIR) is the ...   \n",
       "[@I1793@, @I6395@]   Elizabeth is the daughter of the grand daughte...   \n",
       "\n",
       "                     Distance  Dijkstar distance  Execution time (s)  \\\n",
       "Individuals                                                            \n",
       "[@I6841@, @I11183@]         2                  2            3.953422   \n",
       "[@I10992@, @I1974@]         5                  5            4.724405   \n",
       "[@I7148@, @I934@]           6                  6            5.412738   \n",
       "[@I8696@, @I5746@]          8                  8            7.796459   \n",
       "[@I1793@, @I6395@]         15                 15           13.022896   \n",
       "\n",
       "                     Dijkstar execution time (s)  \\\n",
       "Individuals                                        \n",
       "[@I6841@, @I11183@]                     3.876348   \n",
       "[@I10992@, @I1974@]                     5.233576   \n",
       "[@I7148@, @I934@]                       5.324345   \n",
       "[@I8696@, @I5746@]                      8.003701   \n",
       "[@I1793@, @I6395@]                     13.315048   \n",
       "\n",
       "                     Difference of execution time (s)  \n",
       "Individuals                                            \n",
       "[@I6841@, @I11183@]                          0.077074  \n",
       "[@I10992@, @I1974@]                         -0.509171  \n",
       "[@I7148@, @I934@]                            0.088393  \n",
       "[@I8696@, @I5746@]                          -0.207242  \n",
       "[@I1793@, @I6395@]                          -0.292152  "
>>>>>>> Stashed changes
      ]
     },
     "execution_count": 3,
     "metadata": {},
     "output_type": "execute_result"
    }
   ],
   "source": [
    "test.comparison_Dataframe()"
   ]
  },
  {
   "cell_type": "code",
   "execution_count": 4,
   "metadata": {},
   "outputs": [
    {
     "data": {
      "text/plain": [
<<<<<<< Updated upstream
       "(44.1687114238739, 44.673805832862854)"
=======
       "(6.981984043121338, 7.150603580474853)"
>>>>>>> Stashed changes
      ]
     },
     "execution_count": 4,
     "metadata": {},
     "output_type": "execute_result"
    }
   ],
   "source": [
    "test.average()"
   ]
  },
  {
   "cell_type": "code",
   "execution_count": 5,
   "metadata": {},
   "outputs": [
    {
     "data": {
<<<<<<< Updated upstream
      "image/png": "iVBORw0KGgoAAAANSUhEUgAAAX4AAAEWCAYAAABhffzLAAAAOXRFWHRTb2Z0d2FyZQBNYXRwbG90bGliIHZlcnNpb24zLjUuMiwgaHR0cHM6Ly9tYXRwbG90bGliLm9yZy8qNh9FAAAACXBIWXMAAAsTAAALEwEAmpwYAAAyL0lEQVR4nO3dd5xU1fnH8c+Xpe0uIKgoLbREQdQIuBbQGIIJKhpbfvYCaCyJBTWKWLEmxhJQYyeKokEJxhoLRkVREiMIAkpTOqKAgID03ef3x7mLs8uW2WXvzuzO83697mvnntueuQzPnDn33HNlZjjnnMscdVIdgHPOuerlid855zKMJ37nnMswnvidcy7DeOJ3zrkM44nfOecyjCd+tx1JZ0gaW03HulbS8Go4TltJ6yRlxX2sdCLpBEmLovfeLeZjtZdkkuomuf4ISbfFGVMZx54v6ZepOHY68MSfAtGHbkP0n7Fw+muKYtnuP6uZPWNmfWI4Vi9JixPLzOyPZvbbqj5WcWa20MwamVl+RbctKe4a5G7g4ui9T67KHdeU5JnKL5h0ldQ3s4vFr83s36kOwsVPUl0z25qiw7cDPkvRsV2a8hp/mpH0kKTnE+b/LOltBQ0k3S1poaRvJD0sKTth3eMkTZG0RtKXko6MyovUzCTdJOnpaPb96O/q6JdHD0n9JX2QsH5PSR9L+i762zNh2ThJt0r6UNJaSWMl7VrC+8oFXgdaJfzKaZUYS8KvjwFR88QqSRdKOkDSVEmri/8yknSOpBnRum9KalfKeS3yy6YK4q4jaXB0nr+VNFrSzsWOda6khcA70Tn9UNLQ6H3Mjc5r/+i9LpPUL+G4fSV9HsW2RNKVpbyvOpKul7Qg2sdTknaKPivrgCzgU0lflrK9Sbo0imeFpLsk1YmW/VjSO9H7WyHpGUlNo2UjgbbAK9E5GZSw2zOiz+gKSdeVdNxSYjkm+vyuljRB0k8Tls2XdGX0OfhO0nOSGiYsHyRpqaSvJP02el8/kXQ+cAYwKIrzlYRDdi1tf7WemflUzRMwH/hlKctygNlAf+BnwAqgTbRsKPAysDPQGHgF+FO07EDgO+BXhC/01kDnko4H3AQ8Hb1uDxhQN2F5f+CD6PXOwCrgLMIvxNOi+V2i5eOAL4E9gexo/o5S3lsvYHGxspJieRhoCPQBNgIvArtF72kZ8PNo/eOAL4C9otiuByaUcuwi77MK4h4I/BdoAzQAHgFGFTvWU0ButP/+wFZgACEZ3wYsBB6Itu8DrAUaRftYCvwset0M6F5KbOdE56Aj0Aj4JzAyYbkBPynjs2jAu9G/c1vCZ++30bKfED5PDYDmhErCsNI+xwnv+7HoPe8HbAL2KuXYI4Dbotfdon/bg6Lz0y/af4OEY/0PaBXFOgO4MFp2JPA1sDfh/8/Tie878TjFYi9xf5kwpTyATJyiD906YHXCdF7C8oOAlcAC4LSoTMD3wI8T1usBzItePwIMLeN4lU38ZwH/K7a//wD9o9fjgOsTlv0eeKOUOHqRXOJvnbD8W+CUhPnngcui168D5yYsqwOsB9qVcOwi77MK4p4BHJ4w3xLYQvgCKjxWx2LndE7C/L7ROrsXe69do9cLgQuAJuV8lt4Gfp8w36kwjmg+mcR/ZLHz8HYp6x4PTC7jc1X4vtsklP0POLWU/Y3gh8T/EHBrseWz+OFLfj5wZsKyO4GHo9ePE1WAovmfkFziL3F/mTB5U0/qHG9mTROmxwoXmNlHwFxCsh8dFTcn1GYmRT+FVwNvROUAPyLUYKtaK8IXUKIFhNp3oa8TXq8n1Dx3xDcJrzeUMF+4/3bAvQnnYyXhnCXGVpYdibsd8ELCsWcA+cDuCessKrZN8feBmZX23n4D9AUWSHpPUo9S4ij+77OA8OWze8mrlygxzgXRPpG0u6Rno6amNYSa9HbNYSWozHltB/yh8HxG5/RHhbGUs99Wxd5D8fNelXHWCp7405Ckiwg/r78CCttOVxASw94JXxY7mVnhh3UR8ONSdvk94UujUIuE1+UNz/oV4T9lorbAknK2K0lVDwW7CLig2BdotplNqOLjlBT3IuCoYsduaGZLytkuuQOafWxmxxGauF7khwpAccX/fdoSmpS+KXn1Ev2o2PZfRa//SHgP+5pZE+BMwhfrtjArcIzyLAJuL3Y+c8xsVBLbLiU0uRX6UbHlPgRxMZ7404ykPQntv2cSmlkGSepqZgWEttOhknaL1m0t6Yho078BAyQdHl3way2pc7RsCnCqpHqS8oD/SzjkcqCA0EZckteAPSWdLqmupFOALsCrlXh73wC7SNqpEtuW5GHgGkl7A0QXNU+qon0nKinuh4HbFV1MltRc0nFVcTBJ9RXupdjJzLYAawj/RiUZBVwuqYOkRoRk/ZxVrBfRVZKaSfoR4drFc1F5Y0KT5HeSWgNXFdvuG0r/3FTUY8CFkg5SkCvpaEmNk9h2NOGzv5ekHOCGGOOsFTzxp05hb4jC6QWFHidPA382s0/NbA5wLTBSUgPgasKFvP9GP73/TWjTxcz+R7hwOJRwkfc9fqgJ3kD4NbAKuBn4e2EQZrYeuB34MPqJfXBikGb2LXAM8AdCG/Qg4BgzW1HRN2xmMwmJam50rFblbVPO/l4A/gw8G52P6cBRO7LPUo5TUtz3Ei60j5W0lnCh96AqPOxZwPzofV1I6JlSkseBkYQLr/MIF8MvqeCxXgImESoI/yJUIiB8VroTPk//Ilw4TvQn4PronJTY6yhZZjYROA/4K+Fz+gXhukgy274O3Ee4SP0F4d8CwoVlCO+nSxTnizsSZ22h6MKGcy4DSTJgDzP7ItWxVBVJexEqAQ0q+MsnY3iN3zlX4ykMTdFAUjPCr8BXPOmXzhO/c642uIBwH8CXhN5Vv0ttOOkt1qae6C6/4cA+hCvr5xD65j5H6PM7HzjZzFbFFoRzzrki4q7x30u4KaYz4S6+GcBgwg0iexBuPhkccwzOOecSxFbjj7q+TSHcvWgJ5bOAXma2VFJLYJyZdSprX7vuuqu1b98+ljidc662mjRp0goza168PM7ROTsQ+og/IWk/QnexgYRb1JdG63xNKXcYRoMrnQ/Qtm1bJk6cGGOozjlX+0gqftc9EG9TT11CH+CHzKwb4e7RIs060S+BEn9ymNmjZpZnZnnNm2/3heWcc66S4kz8iwkDW30UzY8hfBF8EzXxEP1dFmMMzjnniokt8ZvZ18AiSYXt94cDnxPuduwXlfUj3DXonHOumsT9BK5LgGck1SeMNjmA8GUzWtK5hJEAT445BueccwliTfxmNgXIK2HR4XEe1znnXOn8zl3nnMswnvidcy7DeOJ3zrkM44nfOecyjCd+55zLMJ74nXMuw3jid865DOOJ3znnMownfuecS1O9RvSi14heVb5fT/zOOZdh4h6rxznnXAUV1vLfW/Bekflx/cdVyf69xu+cc2loxbpN215PXri6yPyO8sTvnHNp5rL9niH/myE0yN+HBvn70Gz97eR/M4QXJy+pkv174nfOuTRz15uz2LB5K7ut27qtbMOWfO56c1aV7N/b+J1zLs2sWraKIe8/ySt7ncsn9ffaVv7V6g1Vsn9P/M45ly5WroRhw9i3zk+4tfdvKaiTVWRxq6bZVXIYb+pxzrlUy8+Hp5+GFSvg0ks57YzDadCgfpFVsutlcdURnUrZQcV4jd8551Lp22/h9ddh771hzz0BOH7XsOiuN2fx1eoNtGqazVVHdOL4bq2r5JCe+J1zLhXM4PrrYf/94cwzt1t8fLfWVZboi/PE75xz1WnTJnjwQTjwQLj5Zqhb/WnYE79zzlWX116DDh3gmGNgjz1SFoYnfueci9vq1TBhQmje2WuvclePmyd+55yL0333QVYWXHRRqiPZxhO/c85VNTP4+98hNxcuvBDq1y9/m2rkid8556rS5Mnhgm379nDIIamOpkSx3sAlab6kaZKmSJoYld0kaUlUNkVS3zhjcM65arFuHUycCJMmQZcuaZv0oXpq/L8wsxXFyoaa2d3VcGznnIvf6NEwfToMGQJ5eamOplze1OOcc5X13nswe3a4Aevkk1MdTdLiHqvHgLGSJkk6P6H8YklTJT0uqVlJG0o6X9JESROXL18ec5jOOVcBixaFtvz16+G3v4Xsqhk8rbrEnfgPNbPuwFHARZIOAx4Cfgx0BZYC95S0oZk9amZ5ZpbXvHnzmMN0zrkkbNwI8+fDM8+EcXWOOgqkVEdVYbEmfjNbEv1dBrwAHGhm35hZvpkVAI8BB8YZg3POVYnx4+G666BZMxg8OHTVrKFiS/ySciU1LnwN9AGmS2qZsNoJwPS4YnDOuR02axbcdRd07w733AM77ZTqiHZYnBd3dwdeUPgZVBf4u5m9IWmkpK6E9v/5wAUxxuCcc5WzZg189ll4OMrAgWl3E9aOiC3xm9lcYL8Sys+K65jOObfDCgpg7Vr485/h0kuhR49UR1Tl/AlczjlXaNYsuOyyUMv/4x+hRYtURxQLT/zOObdsGdxyS0j0w4aFoZNrMb+ByzmXubZsgY8+CsMtXHpprbhwmwyv8TvnMtOWLaGWv/POcOSR0LRpqiOqNl7jd85lluXL4Y474KST4NZbUx1NSniN3zmXGTZsgDvvDDX9W2+Fgw9OdUQp4zV+51ztZgb//S9s3hwGUmvVKtURpVxSiV9SHvAzoBWwgXC37VtmtirG2Jxzbsfk58O998J++8Hhh6c6mrRRZuKXNAC4BJgHTAJmAQ2BQ4GrJU0HbjCzhXEH6pxzSdu4MbTjd+8OV1yR6mjSTnk1/hzgEDPbUNLCaOiFPQBP/M651CsogCefDHfbXnwx7LprqiNKS2UmfjN7oJzlU6o0Guecq6zJk0N7/j77QOfOqY4mrSXVq0fSnZKaSKon6W1JyyWdGXdwzjlXroICGDkSpk2Drl3hgANSHVHaS7ZXTx8zGyTpBMKImicC7wNPxxWYc86VyQz++ldo2BDOOy/V0dQoySb+wvWOBv5hZt+pBj51xjlXS7z5JuTkwG9+490zKyHZxP+qpJmErpy/k9Qc2BhfWM45V4K5c8MNWJs2QZ8+NfKxh+kgqTZ+MxsM9ATyzGwLsB44Ls7AnHNuG7NQy3/hBWjXDo491pP+DiivH/+JJZQlzv6zqgNyzrkinn8eZsyA66+HI45IdTS1QnlNPb+O/u5GqPG/E83/ApiAJ37nXFymToV58yAvL7TluypTXj/+AQCSxgJdzGxpNN8SGBF7dM65zLNyZRgf/6OPYMAAqOtDilW1ZEfn/FFh0o98A7SNIR7nXKYyg08+gb/8BRo1Cl00PenHItnE/7akNyX1l9Qf+Bfw7/jCcu4H+fn53HDDDXTo0IGGDRvSoUMHrr/+erZu3VrmdqNHj6Zr167k5OTQrl077rrrriLL33vvPXr27Mkuu+xCdnY2nTt35u67747zrQBgZtx00020atWK7OxsevXqxWeffVbmNiNGjEDSdtPGjT90rlu7di2XXXYZ7dq1Izs7m549e/Lxxx/H/Xaqxn/+A1deCT/9Kdx2W3g4iouPmSU1EW7aGhpNJyS7XVVM+++/v7nMdfvtt1uzZs3s5Zdftnnz5tlLL71kTZs2tVtuuaXUbV577TXLysqyBx54wL788kt79dVXrWXLlnb//fdvW2fixIk2atQomz59us2dO9dGjhxpOTk59sADD1QoPsDmzZuX9Pp33HGHNWrUyMaMGWPTpk2zk046yVq2bGlr1qwpdZsnnnjCcnJybOnSpUWmRCeffLJ17tzZ3n33XZszZ44NGTLEmjRpYosXL67Q+6lWixebjRxp9sUXZgUFqY6m1gEmWkn5vKTCdJs88aeHJ5980nbeeWfbuHFjkfLTTz/dfv3rX8d23KOPPtrOPvvsImVnn322HX300aVuc9ppp9nxxx9fpOy+++6zNm3aWEEZCeaEE06wU089tULxVSTxFxQUWIsWLey2227bVrZ+/Xpr1KiRPfzww6Vu98QTT1hubm6py9evX29ZWVn24osvFinv3r27XXfddWZmNnPmTMvJybERI0ZsW/76669bvXr1bMKECUnFX2U2bgxJ//77zdaurd5jZ5DSEn+yY/WcKGmOpO8krZG0VtKamH6EuDR10kknUVBQwEsvvbSt7LvvvuOFF17g3HPPLXW7o446ikaNGpU5leXQQw/l3XffZebMmQB8/vnnvPPOO/Tt27fUbTZt2kTDhg2LlGVnZ7N48WIWLFhQ4jaTJ09mwoQJ/PznPy8znh0xb948vv76a/r06VMkrsMOO4wJEyaUue2GDRto164dbdq04ZhjjmHy5Mnblm3dupX8/PwS3/MHH3wAQKdOnRg6dCiXXHIJc+fOZfny5fTv35/rrruOHj16VOG7LMfixXDNNeEmrIsvDu35rnqV9G1QfAK+APZKZt04Jq/xp4+LLrrIjjjiiG3zDz74oO2+++62ZcuWUrdZvHixzZkzp8ypLAUFBXbttdeaJKtbt64B22qxpXnkkUcsOzvb3nzzTcvPz7dZs2ZZ586dDdiudtu6dWurX7++1alTx26++eYkzkJRVKDG/+GHHxpgCxYsKFI+YMAA69OnT6nbTZgwwUaMGGGTJ0+2999/337zm99Ydna2zZ49e9s6PXr0sEMPPdQWL15sW7dutZEjR1qdOnVszz33LLKv448/3g466CDr27ev9ezZ07Zu3Zr8m90Rc+aYXX652YoV1XM8t2NNPcCHyawX1+SJP31MmTLF6tSpY4sWLTIzs7y8PBs0aFCsxxw1apS1adPGRo0aZVOnTrWnnnrKmjVrZsOHDy91m4KCAhs0aJA1bNjQsrKyrFmzZnbTTTcZYP/973+LrDt37lybOnWqPfroo9asWTN76qmnyoynS5culpubu20CLCcnZ9t8ly5dSt22som/uK1bt9o+++xjl1xyybayL774wg477DADLCsryw444AA744wzrHPnzkW2XbFihe2yyy7WqFEjmzt3btLHrLS1a82GDw/t+MWaCV28djTx3ws8B5xGuMh7InBiEtvNB6YBUwoDAHYG3gLmRH+blbcfT/zpJS8vz2699VabNm2aATZz5swy1z/yyCOLJMqSprK0adPGhg0bVqTs1ltvtR//+Mflxrp161ZbvHixbdq0yV577TUDbNmyZaWuf+utt1rHjh3L3Of8+fOL/FoBbNy4cdvm58+fX+q2X375pQH2v//9r0h53759t7uOUZ7+/fvbkUceuV35unXr7KuvvjKzcMG3b9++RZaPGzfO6tata3Xr1rXx48dX6JgVUlBgtmiR2aOPmi1ZEt9xXKlKS/zJdpJtQhifp09CmZHcnbu/MLMVCfODgbfN7A5Jg6P5q5OMw6WB8847jzvvvJMVK1ZwyCGH0KlTpzLXHz58OBs2lPgQt6SsX7+erKysImVZWVkUFBSUu21WVhatW7cGYNSoUfTo0YPmzZuXun5BQQGbNm0qc5/t2rUrsax9+/blxtOhQwdatGjBW2+9xQHRuPEbN25k/Pjx23U3LYuZMXXqVPbbb7/tluXm5pKbm8uqVat48803ufPOO7ctW716NWeddRZXXnklGzZs4KyzzuLTTz+lSZMmSR87KRs2wODBcPrpPmRyOirp26CqJkKNf9diZbOAltHrlsCs8vbjNf70smbNGsvNzbX69evb448/Hvvx+vXrZ61bt7ZXX33V5s2bZ//85z9t1113tSuuuGLbOoMHD7bevXtvm1++fLk9+OCD9vnnn9vkyZPt0ksvtYYNG9pHH320bZ377rvPXnnlFZs9e7bNnj3bhg8fbo0bN7arr766QvFRie6cTZo0seeff96mTZtmp5xyynbdOXv37m2DBw/eNn/TTTfZG2+8YV9++aVNnjzZBgwYYHXr1i3yft544w177bXXbO7cuTZ27Fjbb7/97KCDDrLNmzdvW+eUU06x7t272+bNm23jxo2277772plnnlmh91um5cvNrrvObMYM756ZBtjBpp42wAvAsmh6HmiTxHbzgE8ID2o/PypbnbBcifPFtj0fmAhMbNu2bXWcI1cBAwYMsMaNG9u6detiP9aaNWts4MCB1rZtW2vYsKF16NDBrrnmGtuwYcO2dfr162ft2rXbNr98+XI7+OCDLTc313Jycuzwww/frm1/6NCh1qVLF8vJybEmTZpYt27d7IEHHrD8/PwKxVfRxF9QUGBDhgyxFi1aWIMGDeywww6zadOmFVmnXbt21q9fv23zl112mbVt29bq169vzZs3tz59+mx3kfq5556zjh07Wv369a1FixZ20UUX2erVq7ctf+qppyw7O9tmzJixrWzatGnWsGFDGzVqVIXe83a2bDF7/HGzuXPNvv12x/blqkxpiV9hWdkkvQX8HRgZFZ0JnGFmvypnu9ZmtkTSboT2/EuAl82sacI6q8ysWVn7ycvLs4kTJ5Ybp6s+Rx11FG3atOGxxx5LdSgu1b7+GsaNgy5dwp23Lm1ImmRmecXLk23jb25mTyTMj5B0WXkbmdmS6O8ySS8ABwLfSGppZkujwd6WJRmDSwOrVq1i/PjxjB07lk8//TTV4bhUMoMbbgijZ556aqqjcRWQbOL/Nnq4+qho/jTg27I2kJQL1DGztdHrPsAtwMtAP+CO6O9Lpe/FpZtu3bqxcuVK/vjHP7LPPvukOhyXChs3hmfdHngg3HwzFLvw7tJfson/HOB+wjg9RhiLf0A52+wOvBA9uKUu8Hcze0PSx8BoSecCC4CTKxO4S4358+enOgSXKmbw8svQuTOceCJ07JjqiFwlJZX4zWwBcGxFdmxmc4Ht+pqZ2bfA4RXZl3MuxVasCEMmZ2dDOd13XfpLKvFLehIYaGaro/lmwD1mdk6MsTnn0sH994fmnN//PtWRuCqSbFPPTwuTPoCZrZLULZ6QnHMpV1AATz8Nubnwu9/5A1FqmWT/NetIamZmqwAk7VyBbZ1zNcnHH0ODBqEt/8ADUx2Ni0Gyyfse4D+S/hHNnwTcHk9IzrmUWL0a5s+Hzz6Ds8+GOsk+oM/VNMle3H1K0kSgd1R0opl9Hl9Yzrlq9Y9/wOefw3XXQdeuqY7GxawizTU7A9+b2ROSmkvqYGbz4grMOVcN3n4b5syBc86Bk05KdTSumiTbq2cIkAd0Ap4A6gFPA4fEF5pzLjbz58OyZSDBBReEvy5jJNuIdwKhH//3AGb2FdA4rqCcczFZvx4WLgxNO/vuC717e9LPQMkm/s3RSG9hSM0wBINzriZ5/3248UZo0gSuuircjOUyUrJt/KMlPQI0lXQeYQgHH5bRuZrgs8/gpZfgiivgsMNSHY1LA8n26rlb0q+ANYR2/hvN7K1YI3PO7ZjVq+HTT2Hz5lDDr1cv1RG5NJHsxd1c4B0ze0tSJ6CTpHpmtiXe8JxzFVZQAGvWwN13w6WXwm67pToil2aSbeN/H2ggqTXwBnAWMCKuoJxzlTRrFlx2GaxcCbfd5knflSjZxC8zWw+cCDxkZicBe8cXlnOuQpYuDRduW7aEYcN8yGRXpmQv7kpSD+AM4NyozJ++4Fyqbd4MH3wQxsq/8srQY8e5ciRb4x8IXAO8YGafSeoIvBtfWM65cm3cCH/6E7RqBYcf7knfJS3ZXj3vE9r5C+fnApfGFZRzrgzLl4eEf/LJMGRIqqNxNVCZNX5Jj0nat5RluZLOkXRGPKE554r4/vuQ8Ddvhj/+EQ4+ONURuRqqvBr/A8ANUfKfDiwHGgJ7AE2Ax4FnYo3QuUxnBuPGhTHyzzoLWrdOdUSuhisz8ZvZFOBkSY0Ig7S1BDYAM8xsVvzhOZfhtmyBBx8MQyX37JnqaFwtkWwb/zpgXLyhOOe22bQJbr8duneHgQNTHY2rZfzxic6lk/x8ePzxULu//HJo1izVEblayBO/c+nio49CO35eHuzt90e6+FQo8UvKie7gdc5Vla1bYfTo8Pq003x8fBe7ZAdp6wkMBxoBbSXtB1xgZr+PMzjnajUzuO8+aNgwPAXLuWqSbI1/KHAE8DKAmX0qKamBvSVlAROBJWZ2jKQRwM+B76JV+ke9h5zLHP/6F+TmwumnQ/PmqY7GZZikm3rMbJGK/gTNT3LTgcAMQr//QleZ2Zhkj+1crTFnTmjakaBXr1RH4zJUsmP1LIqae0xSPUlXEpJ5mSS1AY4mNBM5l7kKCuDf/w41/Y4doW/fVEfkMliyif9C4CKgNbAE6BrNl2cYMAgoKFZ+u6SpkoZKapBkDM7VTKNHh7Hxf/nLMFZ+A//Iu9RK9gauFYQhmZMm6RhgmZlNktQrYdE1wNdAfeBR4GrglhK2Px84H6Bt27YVObRz6eGTT2DePDj00DCgmnNpItlePR2AS4D2iduY2bFlbHYIcKykvoTxfZpIetrMzoyWb5L0BHBlSRub2aOELwby8vIsmTidSwsrVsDateF5t2efDVn+6AqXXpK9uPsi8DfgFbZvtimRmV1DqN0T1fivNLMzJbU0s6UKV4qPJwz+5lzNZwbTpsGYMeGu2wEDUh2RcyVKNvFvNLP7quiYz0hqDgiYQrh+4FzN9sEH8PzzcOedcMt2LZfOpRWZld+KIul0wlDMY4FNheVm9kl8of0gLy/PJk6cWB2Hcq5iFi0KvXV++Uto08bvunVpRdIkM8srXp5sjX9f4CygNz809Vg071zm2bgRvv4axo6FM84IN2M5V0Mkm/hPAjqa2eY4g3Eu7ZmFhH/PPXDxxXD++amOyLkKS7Yf/3SgaYxxOJf+Zs8OF22zsuDuu6F9+1RH5FylJFvjbwrMlPQxRdv4y+rO6VztsGYNPPMMHH003HUX1KuX6oic2yHJJv4hsUbhXDoqKIAFC+D99+GEE6BFi1RH5FyVSPbO3ffiDsS5tLJpEwweHEbP7Ncv1dE4V6XKTPySPjCzQyWtJfTi2bYIMDNrUsqmztVMy5fD0KEh4f/lL94909VKZSZ+Mzs0+tu4esJxLkW2bIEnnoAjj4RBg6Bp01RH5FxskurVI2lkMmXO1UgLF8LLL4fB1Nq29aTvar1kL+4WefKzpLrA/lUfjnPV7MYbw8PNf/ObVEfiXLUpr43/GuBaIFvSmsJiYDPRyJnO1TgbNsD998MBB8DNN3s7vss4ZTb1mNmfovb9u8ysSTQ1NrNdotE3nas5zMLImYsWwSmnwC9+4UnfZaRku3N6knc129KlMGMGNGsGe+6Z6micS6mkH7buXI31wANhmIULfQRw58ATv6utCgpgxIgwaubvfgd1kh2WyrnaL+nELykL2J2ij15cGEdQzu2Q//wHcnKgW7cwOeeKSPaZu5cQxuv5hqLj8f80pricq7gVK0Jb/hdfhDHyvZbvXImSrfEPBDqZ2bdxBuNcpY0ZAzNnhrtu99031dE4l9aSTfyLgO/iDMS5SnnjDZgzJ7Tj1/VLVs4lI9n/KXOBcZL+RdHx+P8SS1TOlefLL+Gbb6BJk/AkLO+P71zSkk38C6OpfjQ5lxrffw8rV8JLL8Hvfw8NG6Y6IudqnGRv4LoZQFKjaH5dnEE5V6Lx4+GVV8I4+VdckeponKuxku3Vsw8wEtg5ml8BnG1mn8UYm3PBp5+GGv4118DPfpbqaJyr8ZJt6nkUuMLM3gWQ1At4DOgZT1jOAd9+C598Ag0awLXX+sVb56pIsh2dcwuTPoCZjQNyY4nIufx8WL06jKDZvTscdpgnfeeqULKJf66kGyS1j6brCT19nKtas2fD5ZeHC7g33QS77JLqiJyrdZJN/OcAzYF/RlPzqKxckrIkTZb0ajTfQdJHkr6Q9Jwk7yXkYMmS0JzTsiXcey907JjqiJyrtZLt1bMKuLSSxxgIzAAKH8z+Z2ComT0r6WHgXOChSu7b1XSbNsE770DjxiHxN2qU6oicq/XKrPFLGhb9fUXSy8Wn8nYuqQ1wNDA8mhfQGxgTrfIkcHzlw3c12vr1cM89sMce4Xm3nvSdqxbl1fgLH6h+dyX3PwwYBDSO5ncBVpvZ1mh+MdC6pA0lnQ+cD9C2bdtKHt6lpW+/hdtuC0/BuvbaVEfjXMYp79GLk6KXXc3svcQJ6FrWtpKOAZYl7KNCzOxRM8szs7zmzZtXZhcu3axdGxL+xo1wxx1w8MGpjsi5jJTsxd1+JZT1L2ebQ4BjJc0HniU08dwLNJVU+EujDbAkyRhcTWUWBlObORPOOQdatw59851zKVFmU4+k04DTgQ7F2vQbAyvL2jZ6Tu810X56AVea2RmS/gH8H+HLoB/wUmWDdzXAxo3wt79B165wwAGpjsY5R/lt/BOApcCuwD0J5WuBqZU85tXAs5JuAyYDf6vkflw627wZbr4Z8vLgootSHY1zLoHMLNUxlCsvL88mTpyY6jBcMrZuheHD4ZBDoH370E3TOZcSkiaZWV7x8mQHaVtLeNQihGGZ6wHfm1mT0rdyGWf8eNhpp5D0/SlYzqWtZG/g2lZti/riHwd4lwwXbN4ML74YHoZy6KH+UBTn0lyFR76y0Db0oqQhwOCqD8nVKMOGhYehXHhhqiNxziUp2aaeExNm6wB5wMZYInLpzyyMj9+4MfTrB82apToi51wFJFvj/3XC663AfEJzj8s0M2dCQQHk5MDhh6c6GudcJSTbxj8g7kBcmtu6FT74AKZPhwsugC5dUh2Rc66SkrpzV9KTkpomzDeT9HhsUbn08txzcPvt8POfw8UXQ716qY7IObcDkm3q+amZrS6cMbNVkrrFE5JLGx9/DHPnQu/eYUA151ytkGziryOpWTQuP5J2rsC2rqZZtgzWrAlPwzrtNKiT7JBOzrmaINnkfQ/wn2icHYCTgNvjCcmlTEEBzJgBY8bAZZfBGWekOiLnXAySqsqZ2VPAicA30XSimY0seytXo7z/PvzhD/CTn8CQIeEOXOdcrVSR3/A7E4Zp+CuwXFKHmGJy1Wn+fHjsMdhzT/jLX3y4ZOcyQLI3cA0h3LTVCXiCMFbP04Qx911NtH59eMD5hx/CmWdCdnaqI3LOVZNka/wnAMcC3wOY2Vf88DhFV5OYhYu3Q4aE2n3//p70ncswySb+zdEYPQYgKTe+kFxsZs2Cyy+H/Hy46y7wZxk7l5GSTfyjJT1CeGziecC/geHxheWq1KpVcO+90KQJ3H03tGyZ6oiccymU7JANd0v6FbCG0M5/o5m9FWtkbsfl58MXX8CkSXD66eAPrXfOkfyQDeea2VtmdpWZXQm8E13wdelqyxYYNAi+/96TvnOuiGSbeg6X9JqklpL2Bv6LX9xNT8uWwdVXw+efwz33QPfuqY7IOZdmkm3qOV3SKcA0Qs+e083sw1gjcxWzeXPoj3/ccXDddaE93znnSpBsP/49gIHA88BewFmSJpvZ+jiDc0n64gv47DP45S+hTZtUR+OcS3PJjtXzCnCRmb0dPXP3CuBjYO/YInPlM4Obb4a8vFDTd865JCSb+A80szWw7Zm790h6Jb6wXJnWrw/dMw84INyI5Q83d85VQJkXdyUNAjCzNZJOKra4f1xBuVKYwbPPhqEWzjorNO140nfOVVB5vXpOTXh9TbFlR1ZxLK4sCxaEETRbtYI99vC2fOdcpZXX1KNSXpc07+Ly0EOQlQXnnec1fOfcDisv8Vspr0uaL0JSQ+B9oEF0nDFmNkTSCODnwHfRqv3NbEqyAWeM/Hz429+gUSO48EJP+M65KlNe4t9P0hpC7T47ek0037CcbTcBvc1snaR6wAeSXo+WXWVmYyoddW03fnxI+IccAnt7xynnXNUqM/GbWVZldxz1/lkXzdaLpjJ/JWS8r7+Gb7+FxYvh1FO9lu+ci0WsT9GWlCVpCrAMeMvMPooW3S5pqqShkkp85JOk8yVNlDRx+fLlcYaZHp5/Hh5/PDz68LTTPOk752KjUDGP+SBSU+AF4BLgW+BroD7wKPClmd1S1vZ5eXk2ceLEuMNMjVdfDXfeXnop1In1e9g5l2EkTTKzvOLl1ZJpzGw18C5wpJkttWAT4TGOB1ZHDGln9mx4770wNv5ll3nSd85Vm9iyjaTmUU0fSdnAr4CZklpGZQKOB6bHFUNaWrsWFi2C11+HHj1g//1THZFzLsMkO2RDZbQEnpSURfiCGW1mr0p6R1JzQs+gKcCFMcaQXj74IDTtDBoEAwemOhrnXIaKLfGb2VSgWwnlveM6Ztr65BN48UW48UY49NBUR+Ocy3Bx1vjd8uXw8cewyy5hMLWsSveOdc65KuNXFOOwdSusXAmPPBLa8Q86yJO+cy5teOKvanPmwB/+AKtXw/XXQ7NmqY7IOeeK8MRfVRYuhMGDoUULGDYMOnZMdUTOOVcib+PfURs2wNixoT/+jTdCTk6qI3LOuTJ5jb+yzGDNGvjrX+GnP4UDD/Sk75yrETzxV8bKlXD55fD553DVVdChQ6ojcs65pHnir4jvvoNbboHvv4e77oKDD051RM45V2Hexp+MggJ45RVo1w4uuAB23z3VETnnXKV54i/P99/DM89A165hcs65Gs4Tf2m2bg29dA44AM4/P9XROOdclfHEX9yWLeGO20MOCTdgeU8d51wtU6sTf68RvQAY139cchu88w7sthv07g1dusQWl3POpVKtTvxJ27gR/vWv8DCUX/zCH3vonKvVamXiL6zpv7fgvSLzJdb8hw6F7Gy4MHMeC+Ccy2y1MvGXywzGjIEmTeC3v4XGjVMdkXPOVZtamfgLa/Yl1vSnTw9NOrvsEtrynXMuw9TKxA/w4uQlTF64mk1b8znkjncY1LsDx21aHBL/eef5xVvnXMaqlYn/xclLuOaf02i25XYA9p/yBote+4oXh93B8b/7WYqjc8651KqVif+uN2exYUs+AD3nT2Fcx/15ueHPaT12Nsd3b5Pi6JxzLrVqZeL/avWGba8ntO9aYrlzzmWqWjk6Z6um2RUqd865TFIrE/9VR3Qiu17Rh5tn18viqiM6pSgi55xLH7Wyqef4bq2B0Nb/1eoNtGqazVVHdNpW7pxzmaxWJn4Iyd8TvXPObS+2ph5JDSX9T9Knkj6TdHNU3kHSR5K+kPScpPpxxeCcc257cbbxbwJ6m9l+QFfgSEkHA38GhprZT4BVwLkxxuCcc66Y2BK/Beui2XrRZEBvYExU/iRwfFwxOOec216svXokZUmaAiwD3gK+BFab2dZolcVAiQ3xks6XNFHSxOXLl8cZpnPOZZRYE7+Z5ZtZV6ANcCDQuQLbPmpmeWaW17x587hCdM65jFMt/fjNbDXwLtADaCqpsDdRG2BJdcTgnHMuiLNXT3NJTaPX2cCvgBmEL4D/i1brB7wUVwzOOee2F2c//pbAk5KyCF8wo83sVUmfA89Kug2YDPwtxhicc84VE1viN7OpQLcSyucS2vudc86lQK0cq8c551zpPPE751yG8cTvnHMZxhO/c85lGJlZqmMol6TlwIJqPuyuwIpqPma683OyPT8nJfPzsr1UnJN2ZrbdHbA1IvGngqSJZpaX6jjSiZ+T7fk5KZmfl+2l0znxph7nnMswnvidcy7DeOIv3aOpDiAN+TnZnp+Tkvl52V7anBNv43fOuQzjNX7nnMswnvidcy7DeOKPRE8Lmyzp1Wg+4x8KL2m+pGmSpkiaGJXtLOktSXOiv81SHWd1ktRU0hhJMyXNkNQjk8+JpE7R56NwWiPpskw+JwCSLpf0maTpkkZJaphOOcUT/w8GEp4XUMgfCh/8wsy6JvQ/Hgy8bWZ7AG9H85nkXuANM+sM7Ef4zGTsOTGzWdHnoyuwP7AeeIEMPieSWgOXAnlmtg+QBZxKGuUUT/yApDbA0cDwaF74Q+FLcxzhfECGnRdJOwGHET1Dwsw2R0+Xy9hzUszhwJdmtgA/J3WB7OhpgznAUtIop3jiD4YBg4CCaH4XknwofC1nwFhJkySdH5XtbmZLo9dfA7unJrSU6AAsB56ImgWHS8ols89JolOBUdHrjD0nZrYEuBtYSEj43wGTSKOckvGJX9IxwDIzm5TqWNLQoWbWHTgKuEjSYYkLLfQFzqT+wHWB7sBDZtYN+J5iTRgZeE4AiNqrjwX+UXxZpp2T6HrGcYSKQisgFzgypUEVk/GJHzgEOFbSfOBZws+xe/GHwhfWXDCzZYR22wOBbyS1BIj+LktdhNVuMbDYzD6K5scQvggy+ZwUOgr4xMy+ieYz+Zz8EphnZsvNbAvwT0KeSZuckvGJ38yuMbM2Ztae8FP1HTM7gwx/KLykXEmNC18DfYDpwMuE8wEZdl7M7GtgkaROUdHhwOdk8DlJcBo/NPNAZp+ThcDBknKi64WFn5O0ySl+524CSb2AK83sGEkdCb8AdiY8FP5MM9uUwvCqVfT+X4hm6wJ/N7PbJe0CjAbaEobKPtnMVqYozGonqSuhE0B9YC4wgFCByuRzkktIdh3N7LuoLNM/JzcDpwBbCfnjt4Q2/bTIKZ74nXMuw2R8U49zzmUaT/zOOZdhPPE751yG8cTvnHMZxhO/c85lGE/8rtaRlB+NFDld0j8k5ZSxbi9JPRPmR0j6v9LWT1hvXVXFm7DPrpL6JszfJOnKqj6Oc574XW20IRoxch9gM3BhGev2AnqWsbw6dQX6lreSczvKE7+r7cYDP5H062gs9MmS/i1pd0ntCV8Kl0e/EH4WbXOYpAmS5iZZ+79K0seSpkY37iCpfTRe/2PRuOxjJWVHyw6I1p0i6a7ol0l94BbglKj8lGj3XSSNi2K5tKpPjstMnvhdrRWNi3IUMA34ADg4GlztWWCQmc0HHiaMkd7VzMZHm7YEDgWOAe4o5xh9gD0I4xh1BfZPGMxuD+ABM9sbWA38Jip/ArggGsM+H8IQz8CNwHNRLM9F63YGjoj2P0RSvUqdDOcS1C1/FedqnGxJU6LX4wnj53cCnosGDKsPzCtj+xfNrAD4XFJ5wwn3iabJ0XwjQsJfSBioqzCOSUB7SU2Bxmb2n6j874QvmNL8K7qtf5OkZYThjReXE5NzZfLE72qjDVFtehtJ9wN/MbOXozGZbipj+8TxU1TOsQT8ycweKXa89sX2kw9kl7Ov8mLJx//PuirgTT0uU+zED8Pg9ksoXws03oH9vgmcI6kRhMfuSdqttJWjJ3atlXRQVHRqFcbiXFI88btMcRPwD0mTgBUJ5a8AJxS7uJs0MxtLaK75j6RphDH6y0ve5wKPRc1RuYQnNEEYtrdLsYu7zlU5H53TuWomqZGZrYteDwZamtnAFIflMoi3FzpX/Y6WdA3h/98CoH9qw3GZxmv8zjmXYbyN3znnMownfuecyzCe+J1zLsN44nfOuQzjid855zLM/wNIGKwwHxHYqgAAAABJRU5ErkJggg==",
=======
      "image/png": "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",
>>>>>>> Stashed changes
      "text/plain": [
       "<Figure size 432x288 with 1 Axes>"
      ]
     },
     "metadata": {
      "needs_background": "light"
     },
     "output_type": "display_data"
    }
   ],
   "source": [
    "test.plot_Distance_Time()"
   ]
  },
  {
   "cell_type": "code",
   "execution_count": 6,
   "metadata": {},
   "outputs": [
    {
     "name": "stdout",
     "output_type": "stream",
     "text": [
<<<<<<< Updated upstream
      "In 0.0% of cases, the Dijkstra algorithm is faster.\n"
=======
      "In 40.0% of cases, the Dijkstra algorithm is faster.\n"
>>>>>>> Stashed changes
     ]
    },
    {
     "data": {
<<<<<<< Updated upstream
      "image/png": "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",
=======
      "image/png": "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",
>>>>>>> Stashed changes
      "text/plain": [
       "<Figure size 432x288 with 1 Axes>"
      ]
     },
     "metadata": {
      "needs_background": "light"
     },
     "output_type": "display_data"
    }
   ],
   "source": [
    "test.plot_difference()"
   ]
  },
  {
   "cell_type": "markdown",
   "metadata": {},
   "source": [
    "### SeigneursGed.ged"
   ]
  },
  {
   "cell_type": "code",
   "execution_count": 7,
   "metadata": {},
   "outputs": [
    {
     "name": "stderr",
     "output_type": "stream",
     "text": [
      "/Users/theophiledechelotte/Documents/1A Mines/UE 22 - Ingéniérie Logicielle/Projet arbre généalogique/projet_informatique_famille/class_Graph.py:118: PerformanceWarning: DataFrame is highly fragmented.  This is usually the result of calling `frame.insert` many times, which has poor performance.  Consider joining all columns at once using pd.concat(axis=1) instead. To get a de-fragmented frame, use `newframe = frame.copy()`\n",
      "  df2.at[f'{indiv1}',f'CHILD{N_childrens}'] = f'{indiv3}'\n",
      "/Users/theophiledechelotte/Documents/1A Mines/UE 22 - Ingéniérie Logicielle/Projet arbre généalogique/projet_informatique_famille/class_Graph.py:118: PerformanceWarning: DataFrame is highly fragmented.  This is usually the result of calling `frame.insert` many times, which has poor performance.  Consider joining all columns at once using pd.concat(axis=1) instead. To get a de-fragmented frame, use `newframe = frame.copy()`\n",
      "  df2.at[f'{indiv1}',f'CHILD{N_childrens}'] = f'{indiv3}'\n",
      "/Users/theophiledechelotte/Documents/1A Mines/UE 22 - Ingéniérie Logicielle/Projet arbre généalogique/projet_informatique_famille/class_Graph.py:118: PerformanceWarning: DataFrame is highly fragmented.  This is usually the result of calling `frame.insert` many times, which has poor performance.  Consider joining all columns at once using pd.concat(axis=1) instead. To get a de-fragmented frame, use `newframe = frame.copy()`\n",
      "  df2.at[f'{indiv1}',f'CHILD{N_childrens}'] = f'{indiv3}'\n",
      "/Users/theophiledechelotte/Documents/1A Mines/UE 22 - Ingéniérie Logicielle/Projet arbre généalogique/projet_informatique_famille/class_Graph.py:118: PerformanceWarning: DataFrame is highly fragmented.  This is usually the result of calling `frame.insert` many times, which has poor performance.  Consider joining all columns at once using pd.concat(axis=1) instead. To get a de-fragmented frame, use `newframe = frame.copy()`\n",
      "  df2.at[f'{indiv1}',f'CHILD{N_childrens}'] = f'{indiv3}'\n",
      "/Users/theophiledechelotte/Documents/1A Mines/UE 22 - Ingéniérie Logicielle/Projet arbre généalogique/projet_informatique_famille/class_Graph.py:118: PerformanceWarning: DataFrame is highly fragmented.  This is usually the result of calling `frame.insert` many times, which has poor performance.  Consider joining all columns at once using pd.concat(axis=1) instead. To get a de-fragmented frame, use `newframe = frame.copy()`\n",
      "  df2.at[f'{indiv1}',f'CHILD{N_childrens}'] = f'{indiv3}'\n",
      "/Users/theophiledechelotte/Documents/1A Mines/UE 22 - Ingéniérie Logicielle/Projet arbre généalogique/projet_informatique_famille/class_Graph.py:118: PerformanceWarning: DataFrame is highly fragmented.  This is usually the result of calling `frame.insert` many times, which has poor performance.  Consider joining all columns at once using pd.concat(axis=1) instead. To get a de-fragmented frame, use `newframe = frame.copy()`\n",
      "  df2.at[f'{indiv1}',f'CHILD{N_childrens}'] = f'{indiv3}'\n",
      "/Users/theophiledechelotte/Documents/1A Mines/UE 22 - Ingéniérie Logicielle/Projet arbre généalogique/projet_informatique_famille/class_Graph.py:118: PerformanceWarning: DataFrame is highly fragmented.  This is usually the result of calling `frame.insert` many times, which has poor performance.  Consider joining all columns at once using pd.concat(axis=1) instead. To get a de-fragmented frame, use `newframe = frame.copy()`\n",
      "  df2.at[f'{indiv1}',f'CHILD{N_childrens}'] = f'{indiv3}'\n",
      "/Users/theophiledechelotte/Documents/1A Mines/UE 22 - Ingéniérie Logicielle/Projet arbre généalogique/projet_informatique_famille/class_Graph.py:118: PerformanceWarning: DataFrame is highly fragmented.  This is usually the result of calling `frame.insert` many times, which has poor performance.  Consider joining all columns at once using pd.concat(axis=1) instead. To get a de-fragmented frame, use `newframe = frame.copy()`\n",
      "  df2.at[f'{indiv1}',f'CHILD{N_childrens}'] = f'{indiv3}'\n",
      "/Users/theophiledechelotte/Documents/1A Mines/UE 22 - Ingéniérie Logicielle/Projet arbre généalogique/projet_informatique_famille/class_Graph.py:118: PerformanceWarning: DataFrame is highly fragmented.  This is usually the result of calling `frame.insert` many times, which has poor performance.  Consider joining all columns at once using pd.concat(axis=1) instead. To get a de-fragmented frame, use `newframe = frame.copy()`\n",
      "  df2.at[f'{indiv1}',f'CHILD{N_childrens}'] = f'{indiv3}'\n",
      "/Users/theophiledechelotte/Documents/1A Mines/UE 22 - Ingéniérie Logicielle/Projet arbre généalogique/projet_informatique_famille/class_Graph.py:118: PerformanceWarning: DataFrame is highly fragmented.  This is usually the result of calling `frame.insert` many times, which has poor performance.  Consider joining all columns at once using pd.concat(axis=1) instead. To get a de-fragmented frame, use `newframe = frame.copy()`\n",
      "  df2.at[f'{indiv1}',f'CHILD{N_childrens}'] = f'{indiv3}'\n",
      "/Users/theophiledechelotte/Documents/1A Mines/UE 22 - Ingéniérie Logicielle/Projet arbre généalogique/projet_informatique_famille/class_Graph.py:118: PerformanceWarning: DataFrame is highly fragmented.  This is usually the result of calling `frame.insert` many times, which has poor performance.  Consider joining all columns at once using pd.concat(axis=1) instead. To get a de-fragmented frame, use `newframe = frame.copy()`\n",
      "  df2.at[f'{indiv1}',f'CHILD{N_childrens}'] = f'{indiv3}'\n",
      "/Users/theophiledechelotte/Documents/1A Mines/UE 22 - Ingéniérie Logicielle/Projet arbre généalogique/projet_informatique_famille/class_Graph.py:118: PerformanceWarning: DataFrame is highly fragmented.  This is usually the result of calling `frame.insert` many times, which has poor performance.  Consider joining all columns at once using pd.concat(axis=1) instead. To get a de-fragmented frame, use `newframe = frame.copy()`\n",
      "  df2.at[f'{indiv1}',f'CHILD{N_childrens}'] = f'{indiv3}'\n",
      "/Users/theophiledechelotte/Documents/1A Mines/UE 22 - Ingéniérie Logicielle/Projet arbre généalogique/projet_informatique_famille/class_Graph.py:118: PerformanceWarning: DataFrame is highly fragmented.  This is usually the result of calling `frame.insert` many times, which has poor performance.  Consider joining all columns at once using pd.concat(axis=1) instead. To get a de-fragmented frame, use `newframe = frame.copy()`\n",
      "  df2.at[f'{indiv1}',f'CHILD{N_childrens}'] = f'{indiv3}'\n",
      "/Users/theophiledechelotte/Documents/1A Mines/UE 22 - Ingéniérie Logicielle/Projet arbre généalogique/projet_informatique_famille/class_Graph.py:118: PerformanceWarning: DataFrame is highly fragmented.  This is usually the result of calling `frame.insert` many times, which has poor performance.  Consider joining all columns at once using pd.concat(axis=1) instead. To get a de-fragmented frame, use `newframe = frame.copy()`\n",
      "  df2.at[f'{indiv1}',f'CHILD{N_childrens}'] = f'{indiv3}'\n",
      "/Users/theophiledechelotte/Documents/1A Mines/UE 22 - Ingéniérie Logicielle/Projet arbre généalogique/projet_informatique_famille/class_Graph.py:118: PerformanceWarning: DataFrame is highly fragmented.  This is usually the result of calling `frame.insert` many times, which has poor performance.  Consider joining all columns at once using pd.concat(axis=1) instead. To get a de-fragmented frame, use `newframe = frame.copy()`\n",
      "  df2.at[f'{indiv1}',f'CHILD{N_childrens}'] = f'{indiv3}'\n",
      "/Users/theophiledechelotte/Documents/1A Mines/UE 22 - Ingéniérie Logicielle/Projet arbre généalogique/projet_informatique_famille/class_Graph.py:118: PerformanceWarning: DataFrame is highly fragmented.  This is usually the result of calling `frame.insert` many times, which has poor performance.  Consider joining all columns at once using pd.concat(axis=1) instead. To get a de-fragmented frame, use `newframe = frame.copy()`\n",
      "  df2.at[f'{indiv1}',f'CHILD{N_childrens}'] = f'{indiv3}'\n",
      "/Users/theophiledechelotte/Documents/1A Mines/UE 22 - Ingéniérie Logicielle/Projet arbre généalogique/projet_informatique_famille/class_Graph.py:118: PerformanceWarning: DataFrame is highly fragmented.  This is usually the result of calling `frame.insert` many times, which has poor performance.  Consider joining all columns at once using pd.concat(axis=1) instead. To get a de-fragmented frame, use `newframe = frame.copy()`\n",
      "  df2.at[f'{indiv1}',f'CHILD{N_childrens}'] = f'{indiv3}'\n",
      "/Users/theophiledechelotte/Documents/1A Mines/UE 22 - Ingéniérie Logicielle/Projet arbre généalogique/projet_informatique_famille/class_Graph.py:118: PerformanceWarning: DataFrame is highly fragmented.  This is usually the result of calling `frame.insert` many times, which has poor performance.  Consider joining all columns at once using pd.concat(axis=1) instead. To get a de-fragmented frame, use `newframe = frame.copy()`\n",
      "  df2.at[f'{indiv1}',f'CHILD{N_childrens}'] = f'{indiv3}'\n",
      "/Users/theophiledechelotte/Documents/1A Mines/UE 22 - Ingéniérie Logicielle/Projet arbre généalogique/projet_informatique_famille/class_Graph.py:118: PerformanceWarning: DataFrame is highly fragmented.  This is usually the result of calling `frame.insert` many times, which has poor performance.  Consider joining all columns at once using pd.concat(axis=1) instead. To get a de-fragmented frame, use `newframe = frame.copy()`\n",
      "  df2.at[f'{indiv1}',f'CHILD{N_childrens}'] = f'{indiv3}'\n",
      "/Users/theophiledechelotte/Documents/1A Mines/UE 22 - Ingéniérie Logicielle/Projet arbre généalogique/projet_informatique_famille/class_Graph.py:118: PerformanceWarning: DataFrame is highly fragmented.  This is usually the result of calling `frame.insert` many times, which has poor performance.  Consider joining all columns at once using pd.concat(axis=1) instead. To get a de-fragmented frame, use `newframe = frame.copy()`\n",
      "  df2.at[f'{indiv1}',f'CHILD{N_childrens}'] = f'{indiv3}'\n",
      "/Users/theophiledechelotte/Documents/1A Mines/UE 22 - Ingéniérie Logicielle/Projet arbre généalogique/projet_informatique_famille/class_Graph.py:118: PerformanceWarning: DataFrame is highly fragmented.  This is usually the result of calling `frame.insert` many times, which has poor performance.  Consider joining all columns at once using pd.concat(axis=1) instead. To get a de-fragmented frame, use `newframe = frame.copy()`\n",
      "  df2.at[f'{indiv1}',f'CHILD{N_childrens}'] = f'{indiv3}'\n",
      "/Users/theophiledechelotte/Documents/1A Mines/UE 22 - Ingéniérie Logicielle/Projet arbre généalogique/projet_informatique_famille/class_Graph.py:118: PerformanceWarning: DataFrame is highly fragmented.  This is usually the result of calling `frame.insert` many times, which has poor performance.  Consider joining all columns at once using pd.concat(axis=1) instead. To get a de-fragmented frame, use `newframe = frame.copy()`\n",
      "  df2.at[f'{indiv1}',f'CHILD{N_childrens}'] = f'{indiv3}'\n",
      "/Users/theophiledechelotte/Documents/1A Mines/UE 22 - Ingéniérie Logicielle/Projet arbre généalogique/projet_informatique_famille/class_Graph.py:118: PerformanceWarning: DataFrame is highly fragmented.  This is usually the result of calling `frame.insert` many times, which has poor performance.  Consider joining all columns at once using pd.concat(axis=1) instead. To get a de-fragmented frame, use `newframe = frame.copy()`\n",
      "  df2.at[f'{indiv1}',f'CHILD{N_childrens}'] = f'{indiv3}'\n",
      "/Users/theophiledechelotte/Documents/1A Mines/UE 22 - Ingéniérie Logicielle/Projet arbre généalogique/projet_informatique_famille/class_Graph.py:118: PerformanceWarning: DataFrame is highly fragmented.  This is usually the result of calling `frame.insert` many times, which has poor performance.  Consider joining all columns at once using pd.concat(axis=1) instead. To get a de-fragmented frame, use `newframe = frame.copy()`\n",
      "  df2.at[f'{indiv1}',f'CHILD{N_childrens}'] = f'{indiv3}'\n",
      "/Users/theophiledechelotte/Documents/1A Mines/UE 22 - Ingéniérie Logicielle/Projet arbre généalogique/projet_informatique_famille/class_Graph.py:118: PerformanceWarning: DataFrame is highly fragmented.  This is usually the result of calling `frame.insert` many times, which has poor performance.  Consider joining all columns at once using pd.concat(axis=1) instead. To get a de-fragmented frame, use `newframe = frame.copy()`\n",
      "  df2.at[f'{indiv1}',f'CHILD{N_childrens}'] = f'{indiv3}'\n",
      "/Users/theophiledechelotte/Documents/1A Mines/UE 22 - Ingéniérie Logicielle/Projet arbre généalogique/projet_informatique_famille/class_Graph.py:118: PerformanceWarning: DataFrame is highly fragmented.  This is usually the result of calling `frame.insert` many times, which has poor performance.  Consider joining all columns at once using pd.concat(axis=1) instead. To get a de-fragmented frame, use `newframe = frame.copy()`\n",
      "  df2.at[f'{indiv1}',f'CHILD{N_childrens}'] = f'{indiv3}'\n",
      "/Users/theophiledechelotte/Documents/1A Mines/UE 22 - Ingéniérie Logicielle/Projet arbre généalogique/projet_informatique_famille/class_Graph.py:118: PerformanceWarning: DataFrame is highly fragmented.  This is usually the result of calling `frame.insert` many times, which has poor performance.  Consider joining all columns at once using pd.concat(axis=1) instead. To get a de-fragmented frame, use `newframe = frame.copy()`\n",
      "  df2.at[f'{indiv1}',f'CHILD{N_childrens}'] = f'{indiv3}'\n",
      "/Users/theophiledechelotte/Documents/1A Mines/UE 22 - Ingéniérie Logicielle/Projet arbre généalogique/projet_informatique_famille/class_Graph.py:118: PerformanceWarning: DataFrame is highly fragmented.  This is usually the result of calling `frame.insert` many times, which has poor performance.  Consider joining all columns at once using pd.concat(axis=1) instead. To get a de-fragmented frame, use `newframe = frame.copy()`\n",
      "  df2.at[f'{indiv1}',f'CHILD{N_childrens}'] = f'{indiv3}'\n",
      "/Users/theophiledechelotte/Documents/1A Mines/UE 22 - Ingéniérie Logicielle/Projet arbre généalogique/projet_informatique_famille/class_Graph.py:118: PerformanceWarning: DataFrame is highly fragmented.  This is usually the result of calling `frame.insert` many times, which has poor performance.  Consider joining all columns at once using pd.concat(axis=1) instead. To get a de-fragmented frame, use `newframe = frame.copy()`\n",
      "  df2.at[f'{indiv1}',f'CHILD{N_childrens}'] = f'{indiv3}'\n",
      "/Users/theophiledechelotte/Documents/1A Mines/UE 22 - Ingéniérie Logicielle/Projet arbre généalogique/projet_informatique_famille/class_Graph.py:118: PerformanceWarning: DataFrame is highly fragmented.  This is usually the result of calling `frame.insert` many times, which has poor performance.  Consider joining all columns at once using pd.concat(axis=1) instead. To get a de-fragmented frame, use `newframe = frame.copy()`\n",
      "  df2.at[f'{indiv1}',f'CHILD{N_childrens}'] = f'{indiv3}'\n",
      "/Users/theophiledechelotte/Documents/1A Mines/UE 22 - Ingéniérie Logicielle/Projet arbre généalogique/projet_informatique_famille/class_Graph.py:118: PerformanceWarning: DataFrame is highly fragmented.  This is usually the result of calling `frame.insert` many times, which has poor performance.  Consider joining all columns at once using pd.concat(axis=1) instead. To get a de-fragmented frame, use `newframe = frame.copy()`\n",
      "  df2.at[f'{indiv1}',f'CHILD{N_childrens}'] = f'{indiv3}'\n",
      "/Users/theophiledechelotte/Documents/1A Mines/UE 22 - Ingéniérie Logicielle/Projet arbre généalogique/projet_informatique_famille/class_Graph.py:118: PerformanceWarning: DataFrame is highly fragmented.  This is usually the result of calling `frame.insert` many times, which has poor performance.  Consider joining all columns at once using pd.concat(axis=1) instead. To get a de-fragmented frame, use `newframe = frame.copy()`\n",
      "  df2.at[f'{indiv1}',f'CHILD{N_childrens}'] = f'{indiv3}'\n",
      "/Users/theophiledechelotte/Documents/1A Mines/UE 22 - Ingéniérie Logicielle/Projet arbre généalogique/projet_informatique_famille/class_Graph.py:118: PerformanceWarning: DataFrame is highly fragmented.  This is usually the result of calling `frame.insert` many times, which has poor performance.  Consider joining all columns at once using pd.concat(axis=1) instead. To get a de-fragmented frame, use `newframe = frame.copy()`\n",
      "  df2.at[f'{indiv1}',f'CHILD{N_childrens}'] = f'{indiv3}'\n",
      "/Users/theophiledechelotte/Documents/1A Mines/UE 22 - Ingéniérie Logicielle/Projet arbre généalogique/projet_informatique_famille/class_Graph.py:118: PerformanceWarning: DataFrame is highly fragmented.  This is usually the result of calling `frame.insert` many times, which has poor performance.  Consider joining all columns at once using pd.concat(axis=1) instead. To get a de-fragmented frame, use `newframe = frame.copy()`\n",
      "  df2.at[f'{indiv1}',f'CHILD{N_childrens}'] = f'{indiv3}'\n",
      "/Users/theophiledechelotte/Documents/1A Mines/UE 22 - Ingéniérie Logicielle/Projet arbre généalogique/projet_informatique_famille/class_Graph.py:118: PerformanceWarning: DataFrame is highly fragmented.  This is usually the result of calling `frame.insert` many times, which has poor performance.  Consider joining all columns at once using pd.concat(axis=1) instead. To get a de-fragmented frame, use `newframe = frame.copy()`\n",
      "  df2.at[f'{indiv1}',f'CHILD{N_childrens}'] = f'{indiv3}'\n",
      "/Users/theophiledechelotte/Documents/1A Mines/UE 22 - Ingéniérie Logicielle/Projet arbre généalogique/projet_informatique_famille/class_Graph.py:118: PerformanceWarning: DataFrame is highly fragmented.  This is usually the result of calling `frame.insert` many times, which has poor performance.  Consider joining all columns at once using pd.concat(axis=1) instead. To get a de-fragmented frame, use `newframe = frame.copy()`\n",
      "  df2.at[f'{indiv1}',f'CHILD{N_childrens}'] = f'{indiv3}'\n",
      "/Users/theophiledechelotte/Documents/1A Mines/UE 22 - Ingéniérie Logicielle/Projet arbre généalogique/projet_informatique_famille/class_Graph.py:118: PerformanceWarning: DataFrame is highly fragmented.  This is usually the result of calling `frame.insert` many times, which has poor performance.  Consider joining all columns at once using pd.concat(axis=1) instead. To get a de-fragmented frame, use `newframe = frame.copy()`\n",
      "  df2.at[f'{indiv1}',f'CHILD{N_childrens}'] = f'{indiv3}'\n",
      "/Users/theophiledechelotte/Documents/1A Mines/UE 22 - Ingéniérie Logicielle/Projet arbre généalogique/projet_informatique_famille/class_Graph.py:118: PerformanceWarning: DataFrame is highly fragmented.  This is usually the result of calling `frame.insert` many times, which has poor performance.  Consider joining all columns at once using pd.concat(axis=1) instead. To get a de-fragmented frame, use `newframe = frame.copy()`\n",
      "  df2.at[f'{indiv1}',f'CHILD{N_childrens}'] = f'{indiv3}'\n",
      "/Users/theophiledechelotte/Documents/1A Mines/UE 22 - Ingéniérie Logicielle/Projet arbre généalogique/projet_informatique_famille/class_Graph.py:118: PerformanceWarning: DataFrame is highly fragmented.  This is usually the result of calling `frame.insert` many times, which has poor performance.  Consider joining all columns at once using pd.concat(axis=1) instead. To get a de-fragmented frame, use `newframe = frame.copy()`\n",
      "  df2.at[f'{indiv1}',f'CHILD{N_childrens}'] = f'{indiv3}'\n",
      "/Users/theophiledechelotte/Documents/1A Mines/UE 22 - Ingéniérie Logicielle/Projet arbre généalogique/projet_informatique_famille/class_Graph.py:118: PerformanceWarning: DataFrame is highly fragmented.  This is usually the result of calling `frame.insert` many times, which has poor performance.  Consider joining all columns at once using pd.concat(axis=1) instead. To get a de-fragmented frame, use `newframe = frame.copy()`\n",
      "  df2.at[f'{indiv1}',f'CHILD{N_childrens}'] = f'{indiv3}'\n",
      "/Users/theophiledechelotte/Documents/1A Mines/UE 22 - Ingéniérie Logicielle/Projet arbre généalogique/projet_informatique_famille/class_Graph.py:118: PerformanceWarning: DataFrame is highly fragmented.  This is usually the result of calling `frame.insert` many times, which has poor performance.  Consider joining all columns at once using pd.concat(axis=1) instead. To get a de-fragmented frame, use `newframe = frame.copy()`\n",
      "  df2.at[f'{indiv1}',f'CHILD{N_childrens}'] = f'{indiv3}'\n",
      "/Users/theophiledechelotte/Documents/1A Mines/UE 22 - Ingéniérie Logicielle/Projet arbre généalogique/projet_informatique_famille/class_Graph.py:118: PerformanceWarning: DataFrame is highly fragmented.  This is usually the result of calling `frame.insert` many times, which has poor performance.  Consider joining all columns at once using pd.concat(axis=1) instead. To get a de-fragmented frame, use `newframe = frame.copy()`\n",
      "  df2.at[f'{indiv1}',f'CHILD{N_childrens}'] = f'{indiv3}'\n",
      "/Users/theophiledechelotte/Documents/1A Mines/UE 22 - Ingéniérie Logicielle/Projet arbre généalogique/projet_informatique_famille/class_Graph.py:118: PerformanceWarning: DataFrame is highly fragmented.  This is usually the result of calling `frame.insert` many times, which has poor performance.  Consider joining all columns at once using pd.concat(axis=1) instead. To get a de-fragmented frame, use `newframe = frame.copy()`\n",
      "  df2.at[f'{indiv1}',f'CHILD{N_childrens}'] = f'{indiv3}'\n",
      "/Users/theophiledechelotte/Documents/1A Mines/UE 22 - Ingéniérie Logicielle/Projet arbre généalogique/projet_informatique_famille/class_Graph.py:118: PerformanceWarning: DataFrame is highly fragmented.  This is usually the result of calling `frame.insert` many times, which has poor performance.  Consider joining all columns at once using pd.concat(axis=1) instead. To get a de-fragmented frame, use `newframe = frame.copy()`\n",
      "  df2.at[f'{indiv1}',f'CHILD{N_childrens}'] = f'{indiv3}'\n",
      "/Users/theophiledechelotte/Documents/1A Mines/UE 22 - Ingéniérie Logicielle/Projet arbre généalogique/projet_informatique_famille/class_Graph.py:118: PerformanceWarning: DataFrame is highly fragmented.  This is usually the result of calling `frame.insert` many times, which has poor performance.  Consider joining all columns at once using pd.concat(axis=1) instead. To get a de-fragmented frame, use `newframe = frame.copy()`\n",
      "  df2.at[f'{indiv1}',f'CHILD{N_childrens}'] = f'{indiv3}'\n",
      "/Users/theophiledechelotte/Documents/1A Mines/UE 22 - Ingéniérie Logicielle/Projet arbre généalogique/projet_informatique_famille/class_Graph.py:118: PerformanceWarning: DataFrame is highly fragmented.  This is usually the result of calling `frame.insert` many times, which has poor performance.  Consider joining all columns at once using pd.concat(axis=1) instead. To get a de-fragmented frame, use `newframe = frame.copy()`\n",
      "  df2.at[f'{indiv1}',f'CHILD{N_childrens}'] = f'{indiv3}'\n",
      "/Users/theophiledechelotte/Documents/1A Mines/UE 22 - Ingéniérie Logicielle/Projet arbre généalogique/projet_informatique_famille/class_Graph.py:118: PerformanceWarning: DataFrame is highly fragmented.  This is usually the result of calling `frame.insert` many times, which has poor performance.  Consider joining all columns at once using pd.concat(axis=1) instead. To get a de-fragmented frame, use `newframe = frame.copy()`\n",
      "  df2.at[f'{indiv1}',f'CHILD{N_childrens}'] = f'{indiv3}'\n",
      "/Users/theophiledechelotte/Documents/1A Mines/UE 22 - Ingéniérie Logicielle/Projet arbre généalogique/projet_informatique_famille/class_Graph.py:118: PerformanceWarning: DataFrame is highly fragmented.  This is usually the result of calling `frame.insert` many times, which has poor performance.  Consider joining all columns at once using pd.concat(axis=1) instead. To get a de-fragmented frame, use `newframe = frame.copy()`\n",
      "  df2.at[f'{indiv1}',f'CHILD{N_childrens}'] = f'{indiv3}'\n"
     ]
    },
    {
     "name": "stdout",
     "output_type": "stream",
     "text": [
      "no edges\n",
      "no edges\n",
      "no edges\n",
      "no edges\n",
      "no edges\n"
     ]
    }
   ],
   "source": [
    "# /!\\ Very long : takes up to 15 minutes /!\\\n",
    "test2 = Test(\"./ged docs/SeigneursGed.ged\")"
   ]
  },
  {
   "cell_type": "code",
   "execution_count": 8,
   "metadata": {},
   "outputs": [
    {
<<<<<<< Updated upstream
     "data": {
      "text/html": [
       "<div>\n",
       "<style scoped>\n",
       "    .dataframe tbody tr th:only-of-type {\n",
       "        vertical-align: middle;\n",
       "    }\n",
       "\n",
       "    .dataframe tbody tr th {\n",
       "        vertical-align: top;\n",
       "    }\n",
       "\n",
       "    .dataframe thead th {\n",
       "        text-align: right;\n",
       "    }\n",
       "</style>\n",
       "<table border=\"1\" class=\"dataframe\">\n",
       "  <thead>\n",
       "    <tr style=\"text-align: right;\">\n",
       "      <th></th>\n",
       "      <th>Path</th>\n",
       "      <th>Distance</th>\n",
       "      <th>Dijkstar distance</th>\n",
       "      <th>Execution time (s)</th>\n",
       "      <th>Dijkstar execution time (s)</th>\n",
       "      <th>Difference of execution time (s)</th>\n",
       "    </tr>\n",
       "    <tr>\n",
       "      <th>Individuals</th>\n",
       "      <th></th>\n",
       "      <th></th>\n",
       "      <th></th>\n",
       "      <th></th>\n",
       "      <th></th>\n",
       "      <th></th>\n",
       "    </tr>\n",
       "  </thead>\n",
       "  <tbody>\n",
       "    <tr>\n",
       "      <th>[@72972I@, @15676I@]</th>\n",
       "      <td>Louis Marie  Philibert is the sister of the wi...</td>\n",
       "      <td>5</td>\n",
       "      <td>5</td>\n",
       "      <td>0.299517</td>\n",
       "      <td>0.321520</td>\n",
       "      <td>-0.022003</td>\n",
       "    </tr>\n",
       "    <tr>\n",
       "      <th>[@42081I@, @21798I@]</th>\n",
       "      <td>Jean-Louis Félicité is the father of the grand...</td>\n",
       "      <td>5</td>\n",
       "      <td>5</td>\n",
       "      <td>0.208376</td>\n",
       "      <td>0.179086</td>\n",
       "      <td>0.029290</td>\n",
       "    </tr>\n",
       "  </tbody>\n",
       "</table>\n",
       "</div>"
      ],
      "text/plain": [
       "                                                                   Path  \\\n",
       "Individuals                                                               \n",
       "[@72972I@, @15676I@]  Louis Marie  Philibert is the sister of the wi...   \n",
       "[@42081I@, @21798I@]  Jean-Louis Félicité is the father of the grand...   \n",
       "\n",
       "                      Distance  Dijkstar distance  Execution time (s)  \\\n",
       "Individuals                                                             \n",
       "[@72972I@, @15676I@]         5                  5            0.299517   \n",
       "[@42081I@, @21798I@]         5                  5            0.208376   \n",
       "\n",
       "                      Dijkstar execution time (s)  \\\n",
       "Individuals                                         \n",
       "[@72972I@, @15676I@]                     0.321520   \n",
       "[@42081I@, @21798I@]                     0.179086   \n",
       "\n",
       "                      Difference of execution time (s)  \n",
       "Individuals                                             \n",
       "[@72972I@, @15676I@]                         -0.022003  \n",
       "[@42081I@, @21798I@]                          0.029290  "
      ]
     },
     "execution_count": 8,
     "metadata": {},
     "output_type": "execute_result"
=======
     "ename": "ValueError",
     "evalue": "All arrays must be of the same length",
     "output_type": "error",
     "traceback": [
      "\u001b[0;31m---------------------------------------------------------------------------\u001b[0m",
      "\u001b[0;31mValueError\u001b[0m                                Traceback (most recent call last)",
      "\u001b[1;32m/Users/theophiledechelotte/Documents/1A Mines/UE 22 - Ingéniérie Logicielle/Projet arbre généalogique/projet_informatique_famille/tests.ipynb Cell 18'\u001b[0m in \u001b[0;36m<cell line: 1>\u001b[0;34m()\u001b[0m\n\u001b[0;32m----> <a href='vscode-notebook-cell:/Users/theophiledechelotte/Documents/1A%20Mines/UE%2022%20-%20Inge%CC%81nie%CC%81rie%20Logicielle/Projet%20arbre%20ge%CC%81ne%CC%81alogique/projet_informatique_famille/tests.ipynb#ch0000018?line=0'>1</a>\u001b[0m test2\u001b[39m.\u001b[39;49mcomparison_Dataframe()\n",
      "File \u001b[0;32m~/Documents/1A Mines/UE 22 - Ingéniérie Logicielle/Projet arbre généalogique/projet_informatique_famille/class_Test.py:70\u001b[0m, in \u001b[0;36mTest.comparison_Dataframe\u001b[0;34m(self)\u001b[0m\n\u001b[1;32m     69\u001b[0m \u001b[39mdef\u001b[39;00m \u001b[39mcomparison_Dataframe\u001b[39m(\u001b[39mself\u001b[39m) :\n\u001b[0;32m---> 70\u001b[0m     df \u001b[39m=\u001b[39m pd\u001b[39m.\u001b[39;49mDataFrame({\n\u001b[1;32m     71\u001b[0m         \u001b[39m'\u001b[39;49m\u001b[39mIndividuals\u001b[39;49m\u001b[39m'\u001b[39;49m : \u001b[39mself\u001b[39;49m\u001b[39m.\u001b[39;49mset,\n\u001b[1;32m     72\u001b[0m         \u001b[39m'\u001b[39;49m\u001b[39mPath\u001b[39;49m\u001b[39m'\u001b[39;49m : \u001b[39mself\u001b[39;49m\u001b[39m.\u001b[39;49mpaths,\n\u001b[1;32m     73\u001b[0m         \u001b[39m'\u001b[39;49m\u001b[39mDistance\u001b[39;49m\u001b[39m'\u001b[39;49m : \u001b[39mself\u001b[39;49m\u001b[39m.\u001b[39;49mdistances,\n\u001b[1;32m     74\u001b[0m         \u001b[39m'\u001b[39;49m\u001b[39mDijkstar distance\u001b[39;49m\u001b[39m'\u001b[39;49m : \u001b[39mself\u001b[39;49m\u001b[39m.\u001b[39;49mdij_distances,\n\u001b[1;32m     75\u001b[0m         \u001b[39m'\u001b[39;49m\u001b[39mExecution time (s)\u001b[39;49m\u001b[39m'\u001b[39;49m : \u001b[39mself\u001b[39;49m\u001b[39m.\u001b[39;49mexecution_times,\n\u001b[1;32m     76\u001b[0m         \u001b[39m'\u001b[39;49m\u001b[39mDijkstar execution time (s)\u001b[39;49m\u001b[39m'\u001b[39;49m : \u001b[39mself\u001b[39;49m\u001b[39m.\u001b[39;49mdij_execution_times, \n\u001b[1;32m     77\u001b[0m         \u001b[39m'\u001b[39;49m\u001b[39mDifference of execution time (s)\u001b[39;49m\u001b[39m'\u001b[39;49m : \u001b[39mself\u001b[39;49m\u001b[39m.\u001b[39;49mdifference })\n\u001b[1;32m     78\u001b[0m     df\u001b[39m.\u001b[39mset_index(\u001b[39m'\u001b[39m\u001b[39mIndividuals\u001b[39m\u001b[39m'\u001b[39m,inplace\u001b[39m=\u001b[39m\u001b[39mTrue\u001b[39;00m)\n\u001b[1;32m     79\u001b[0m     df\u001b[39m.\u001b[39msort_values(by\u001b[39m=\u001b[39m\u001b[39m'\u001b[39m\u001b[39mDistance\u001b[39m\u001b[39m'\u001b[39m, axis\u001b[39m=\u001b[39m\u001b[39m0\u001b[39m, ascending\u001b[39m=\u001b[39m\u001b[39mTrue\u001b[39;00m, inplace\u001b[39m=\u001b[39m\u001b[39mTrue\u001b[39;00m, kind\u001b[39m=\u001b[39m\u001b[39m'\u001b[39m\u001b[39mquicksort\u001b[39m\u001b[39m'\u001b[39m, na_position\u001b[39m=\u001b[39m\u001b[39m'\u001b[39m\u001b[39mlast\u001b[39m\u001b[39m'\u001b[39m)\n",
      "File \u001b[0;32m~/miniconda3/lib/python3.9/site-packages/pandas/core/frame.py:636\u001b[0m, in \u001b[0;36mDataFrame.__init__\u001b[0;34m(self, data, index, columns, dtype, copy)\u001b[0m\n\u001b[1;32m    630\u001b[0m     mgr \u001b[39m=\u001b[39m \u001b[39mself\u001b[39m\u001b[39m.\u001b[39m_init_mgr(\n\u001b[1;32m    631\u001b[0m         data, axes\u001b[39m=\u001b[39m{\u001b[39m\"\u001b[39m\u001b[39mindex\u001b[39m\u001b[39m\"\u001b[39m: index, \u001b[39m\"\u001b[39m\u001b[39mcolumns\u001b[39m\u001b[39m\"\u001b[39m: columns}, dtype\u001b[39m=\u001b[39mdtype, copy\u001b[39m=\u001b[39mcopy\n\u001b[1;32m    632\u001b[0m     )\n\u001b[1;32m    634\u001b[0m \u001b[39melif\u001b[39;00m \u001b[39misinstance\u001b[39m(data, \u001b[39mdict\u001b[39m):\n\u001b[1;32m    635\u001b[0m     \u001b[39m# GH#38939 de facto copy defaults to False only in non-dict cases\u001b[39;00m\n\u001b[0;32m--> 636\u001b[0m     mgr \u001b[39m=\u001b[39m dict_to_mgr(data, index, columns, dtype\u001b[39m=\u001b[39;49mdtype, copy\u001b[39m=\u001b[39;49mcopy, typ\u001b[39m=\u001b[39;49mmanager)\n\u001b[1;32m    637\u001b[0m \u001b[39melif\u001b[39;00m \u001b[39misinstance\u001b[39m(data, ma\u001b[39m.\u001b[39mMaskedArray):\n\u001b[1;32m    638\u001b[0m     \u001b[39mimport\u001b[39;00m \u001b[39mnumpy\u001b[39;00m\u001b[39m.\u001b[39;00m\u001b[39mma\u001b[39;00m\u001b[39m.\u001b[39;00m\u001b[39mmrecords\u001b[39;00m \u001b[39mas\u001b[39;00m \u001b[39mmrecords\u001b[39;00m\n",
      "File \u001b[0;32m~/miniconda3/lib/python3.9/site-packages/pandas/core/internals/construction.py:502\u001b[0m, in \u001b[0;36mdict_to_mgr\u001b[0;34m(data, index, columns, dtype, typ, copy)\u001b[0m\n\u001b[1;32m    494\u001b[0m     arrays \u001b[39m=\u001b[39m [\n\u001b[1;32m    495\u001b[0m         x\n\u001b[1;32m    496\u001b[0m         \u001b[39mif\u001b[39;00m \u001b[39mnot\u001b[39;00m \u001b[39mhasattr\u001b[39m(x, \u001b[39m\"\u001b[39m\u001b[39mdtype\u001b[39m\u001b[39m\"\u001b[39m) \u001b[39mor\u001b[39;00m \u001b[39mnot\u001b[39;00m \u001b[39misinstance\u001b[39m(x\u001b[39m.\u001b[39mdtype, ExtensionDtype)\n\u001b[1;32m    497\u001b[0m         \u001b[39melse\u001b[39;00m x\u001b[39m.\u001b[39mcopy()\n\u001b[1;32m    498\u001b[0m         \u001b[39mfor\u001b[39;00m x \u001b[39min\u001b[39;00m arrays\n\u001b[1;32m    499\u001b[0m     ]\n\u001b[1;32m    500\u001b[0m     \u001b[39m# TODO: can we get rid of the dt64tz special case above?\u001b[39;00m\n\u001b[0;32m--> 502\u001b[0m \u001b[39mreturn\u001b[39;00m arrays_to_mgr(arrays, columns, index, dtype\u001b[39m=\u001b[39;49mdtype, typ\u001b[39m=\u001b[39;49mtyp, consolidate\u001b[39m=\u001b[39;49mcopy)\n",
      "File \u001b[0;32m~/miniconda3/lib/python3.9/site-packages/pandas/core/internals/construction.py:120\u001b[0m, in \u001b[0;36marrays_to_mgr\u001b[0;34m(arrays, columns, index, dtype, verify_integrity, typ, consolidate)\u001b[0m\n\u001b[1;32m    117\u001b[0m \u001b[39mif\u001b[39;00m verify_integrity:\n\u001b[1;32m    118\u001b[0m     \u001b[39m# figure out the index, if necessary\u001b[39;00m\n\u001b[1;32m    119\u001b[0m     \u001b[39mif\u001b[39;00m index \u001b[39mis\u001b[39;00m \u001b[39mNone\u001b[39;00m:\n\u001b[0;32m--> 120\u001b[0m         index \u001b[39m=\u001b[39m _extract_index(arrays)\n\u001b[1;32m    121\u001b[0m     \u001b[39melse\u001b[39;00m:\n\u001b[1;32m    122\u001b[0m         index \u001b[39m=\u001b[39m ensure_index(index)\n",
      "File \u001b[0;32m~/miniconda3/lib/python3.9/site-packages/pandas/core/internals/construction.py:674\u001b[0m, in \u001b[0;36m_extract_index\u001b[0;34m(data)\u001b[0m\n\u001b[1;32m    672\u001b[0m lengths \u001b[39m=\u001b[39m \u001b[39mlist\u001b[39m(\u001b[39mset\u001b[39m(raw_lengths))\n\u001b[1;32m    673\u001b[0m \u001b[39mif\u001b[39;00m \u001b[39mlen\u001b[39m(lengths) \u001b[39m>\u001b[39m \u001b[39m1\u001b[39m:\n\u001b[0;32m--> 674\u001b[0m     \u001b[39mraise\u001b[39;00m \u001b[39mValueError\u001b[39;00m(\u001b[39m\"\u001b[39m\u001b[39mAll arrays must be of the same length\u001b[39m\u001b[39m\"\u001b[39m)\n\u001b[1;32m    676\u001b[0m \u001b[39mif\u001b[39;00m have_dicts:\n\u001b[1;32m    677\u001b[0m     \u001b[39mraise\u001b[39;00m \u001b[39mValueError\u001b[39;00m(\n\u001b[1;32m    678\u001b[0m         \u001b[39m\"\u001b[39m\u001b[39mMixing dicts with non-Series may lead to ambiguous ordering.\u001b[39m\u001b[39m\"\u001b[39m\n\u001b[1;32m    679\u001b[0m     )\n",
      "\u001b[0;31mValueError\u001b[0m: All arrays must be of the same length"
     ]
>>>>>>> Stashed changes
    }
   ],
   "source": [
    "test2.comparison_Dataframe()"
   ]
  },
  {
   "cell_type": "markdown",
   "metadata": {},
   "source": [
    "#### Validation "
   ]
  },
  {
   "cell_type": "code",
   "execution_count": 12,
   "metadata": {},
   "outputs": [
    {
     "ename": "ValueError",
     "evalue": "could not convert string to float: '@I103@'",
     "output_type": "error",
     "traceback": [
      "\u001b[1;31m---------------------------------------------------------------------------\u001b[0m",
      "\u001b[1;31mValueError\u001b[0m                                Traceback (most recent call last)",
      "\u001b[1;32m~\\AppData\\Local\\Temp/ipykernel_21700/1819714001.py\u001b[0m in \u001b[0;36m<module>\u001b[1;34m\u001b[0m\n\u001b[0;32m     38\u001b[0m \u001b[0mind2\u001b[0m \u001b[1;33m=\u001b[0m \u001b[0mfind_IndividualElement\u001b[0m\u001b[1;33m(\u001b[0m\u001b[1;34m\"George V\"\u001b[0m\u001b[1;33m,\u001b[0m \u001b[1;34m\"Windsor\"\u001b[0m\u001b[1;33m)\u001b[0m\u001b[1;33m\u001b[0m\u001b[1;33m\u001b[0m\u001b[0m\n\u001b[0;32m     39\u001b[0m \u001b[1;33m\u001b[0m\u001b[0m\n\u001b[1;32m---> 40\u001b[1;33m \u001b[0mpath\u001b[0m \u001b[1;33m=\u001b[0m \u001b[0mPath\u001b[0m\u001b[1;33m(\u001b[0m\u001b[0mfile_path\u001b[0m\u001b[1;33m)\u001b[0m\u001b[1;33m\u001b[0m\u001b[1;33m\u001b[0m\u001b[0m\n\u001b[0m\u001b[0;32m     41\u001b[0m \u001b[1;33m\u001b[0m\u001b[0m\n\u001b[0;32m     42\u001b[0m \u001b[0mprint\u001b[0m\u001b[1;33m(\u001b[0m\u001b[0mpath\u001b[0m\u001b[1;33m.\u001b[0m\u001b[0mshortest_path\u001b[0m\u001b[1;33m(\u001b[0m\u001b[0mind1\u001b[0m\u001b[1;33m,\u001b[0m\u001b[0mind2\u001b[0m\u001b[1;33m)\u001b[0m\u001b[1;33m)\u001b[0m\u001b[1;33m\u001b[0m\u001b[1;33m\u001b[0m\u001b[0m\n",
      "\u001b[1;32mc:\\Users\\profi\\Documents\\Informatique\\projet_informatique_famille\\class_Path.py\u001b[0m in \u001b[0;36m__init__\u001b[1;34m(self, file_path)\u001b[0m\n\u001b[0;32m      8\u001b[0m         \u001b[0mself\u001b[0m\u001b[1;33m.\u001b[0m\u001b[0mged\u001b[0m \u001b[1;33m=\u001b[0m \u001b[0mfile_path\u001b[0m\u001b[1;33m\u001b[0m\u001b[1;33m\u001b[0m\u001b[0m\n\u001b[0;32m      9\u001b[0m \u001b[1;33m\u001b[0m\u001b[0m\n\u001b[1;32m---> 10\u001b[1;33m         \u001b[0mself\u001b[0m\u001b[1;33m.\u001b[0m\u001b[0mget_graph\u001b[0m \u001b[1;33m=\u001b[0m \u001b[0mGraph\u001b[0m\u001b[1;33m(\u001b[0m\u001b[0mself\u001b[0m\u001b[1;33m.\u001b[0m\u001b[0mged\u001b[0m\u001b[1;33m)\u001b[0m\u001b[1;33m\u001b[0m\u001b[1;33m\u001b[0m\u001b[0m\n\u001b[0m\u001b[0;32m     11\u001b[0m \u001b[1;33m\u001b[0m\u001b[0m\n\u001b[0;32m     12\u001b[0m         \u001b[0mself\u001b[0m\u001b[1;33m.\u001b[0m\u001b[0mgraph\u001b[0m \u001b[1;33m=\u001b[0m \u001b[0mself\u001b[0m\u001b[1;33m.\u001b[0m\u001b[0mget_graph\u001b[0m\u001b[1;33m.\u001b[0m\u001b[0mbuild\u001b[0m\u001b[1;33m(\u001b[0m\u001b[1;33m)\u001b[0m\u001b[1;33m\u001b[0m\u001b[1;33m\u001b[0m\u001b[0m\n",
      "\u001b[1;32mc:\\Users\\profi\\Documents\\Informatique\\projet_informatique_famille\\class_Graph.py\u001b[0m in \u001b[0;36m__init__\u001b[1;34m(self, file_path)\u001b[0m\n\u001b[0;32m     31\u001b[0m          \u001b[1;34m'cousin'\u001b[0m \u001b[1;33m:\u001b[0m \u001b[1;36m1\u001b[0m\u001b[1;33m,\u001b[0m\u001b[1;33m\u001b[0m\u001b[1;33m\u001b[0m\u001b[0m\n\u001b[0;32m     32\u001b[0m          'child' : 1}\n\u001b[1;32m---> 33\u001b[1;33m         \u001b[0mself\u001b[0m\u001b[1;33m.\u001b[0m\u001b[0mgraph\u001b[0m \u001b[1;33m=\u001b[0m \u001b[0mself\u001b[0m\u001b[1;33m.\u001b[0m\u001b[0mbuild\u001b[0m\u001b[1;33m(\u001b[0m\u001b[1;33m)\u001b[0m\u001b[1;33m\u001b[0m\u001b[1;33m\u001b[0m\u001b[0m\n\u001b[0m\u001b[0;32m     34\u001b[0m \u001b[1;33m\u001b[0m\u001b[0m\n\u001b[0;32m     35\u001b[0m \u001b[1;33m\u001b[0m\u001b[0m\n",
      "\u001b[1;32mc:\\Users\\profi\\Documents\\Informatique\\projet_informatique_famille\\class_Graph.py\u001b[0m in \u001b[0;36mbuild\u001b[1;34m(self)\u001b[0m\n\u001b[0;32m    240\u001b[0m         \"\"\"\n\u001b[0;32m    241\u001b[0m         \u001b[0mg\u001b[0m \u001b[1;33m=\u001b[0m \u001b[1;33m{\u001b[0m\u001b[1;33m}\u001b[0m\u001b[1;33m\u001b[0m\u001b[1;33m\u001b[0m\u001b[0m\n\u001b[1;32m--> 242\u001b[1;33m         \u001b[0mdf\u001b[0m \u001b[1;33m=\u001b[0m \u001b[0mself\u001b[0m\u001b[1;33m.\u001b[0m\u001b[0mget_IndivLinks_DataFrame\u001b[0m\u001b[1;33m(\u001b[0m\u001b[1;33m)\u001b[0m\u001b[1;33m\u001b[0m\u001b[1;33m\u001b[0m\u001b[0m\n\u001b[0m\u001b[0;32m    243\u001b[0m \u001b[1;33m\u001b[0m\u001b[0m\n\u001b[0;32m    244\u001b[0m         \u001b[1;32mfor\u001b[0m \u001b[0mIND1\u001b[0m \u001b[1;32min\u001b[0m \u001b[0mdf\u001b[0m\u001b[1;33m.\u001b[0m\u001b[0mindex\u001b[0m \u001b[1;33m:\u001b[0m\u001b[1;33m\u001b[0m\u001b[1;33m\u001b[0m\u001b[0m\n",
      "\u001b[1;32mc:\\Users\\profi\\Documents\\Informatique\\projet_informatique_famille\\class_Graph.py\u001b[0m in \u001b[0;36mget_IndivLinks_DataFrame\u001b[1;34m(self)\u001b[0m\n\u001b[0;32m    108\u001b[0m             \u001b[1;32mfor\u001b[0m \u001b[0mindiv2\u001b[0m \u001b[1;32min\u001b[0m \u001b[0mdf\u001b[0m\u001b[1;33m[\u001b[0m\u001b[0mdf\u001b[0m\u001b[1;33m[\u001b[0m\u001b[1;34m'FAMS'\u001b[0m\u001b[1;33m]\u001b[0m \u001b[1;33m==\u001b[0m \u001b[0mdf1\u001b[0m\u001b[1;33m.\u001b[0m\u001b[0mat\u001b[0m\u001b[1;33m[\u001b[0m\u001b[1;34mf'{indiv1}'\u001b[0m\u001b[1;33m,\u001b[0m\u001b[1;34m'FAMC'\u001b[0m\u001b[1;33m]\u001b[0m\u001b[1;33m]\u001b[0m\u001b[1;33m[\u001b[0m\u001b[1;34m'INDI'\u001b[0m\u001b[1;33m]\u001b[0m \u001b[1;33m:\u001b[0m\u001b[1;33m\u001b[0m\u001b[1;33m\u001b[0m\u001b[0m\n\u001b[0;32m    109\u001b[0m                 \u001b[0mN_parents\u001b[0m \u001b[1;33m+=\u001b[0m \u001b[1;36m1\u001b[0m\u001b[1;33m\u001b[0m\u001b[1;33m\u001b[0m\u001b[0m\n\u001b[1;32m--> 110\u001b[1;33m                 \u001b[0mdf2\u001b[0m\u001b[1;33m.\u001b[0m\u001b[0mat\u001b[0m\u001b[1;33m[\u001b[0m\u001b[1;34mf'{indiv1}'\u001b[0m\u001b[1;33m,\u001b[0m\u001b[1;34mf'PARENT{N_parents}'\u001b[0m\u001b[1;33m]\u001b[0m \u001b[1;33m=\u001b[0m \u001b[1;34mf'{indiv2}'\u001b[0m\u001b[1;33m\u001b[0m\u001b[1;33m\u001b[0m\u001b[0m\n\u001b[0m\u001b[0;32m    111\u001b[0m \u001b[1;33m\u001b[0m\u001b[0m\n\u001b[0;32m    112\u001b[0m             \u001b[1;31m#Childrens : FAMS of the character = FAMC of childrens\u001b[0m\u001b[1;33m\u001b[0m\u001b[1;33m\u001b[0m\u001b[1;33m\u001b[0m\u001b[0m\n",
      "\u001b[1;32mc:\\miniconda\\lib\\site-packages\\pandas\\core\\indexing.py\u001b[0m in \u001b[0;36m__setitem__\u001b[1;34m(self, key, value)\u001b[0m\n\u001b[0;32m   2284\u001b[0m             \u001b[1;32mreturn\u001b[0m\u001b[1;33m\u001b[0m\u001b[1;33m\u001b[0m\u001b[0m\n\u001b[0;32m   2285\u001b[0m \u001b[1;33m\u001b[0m\u001b[0m\n\u001b[1;32m-> 2286\u001b[1;33m         \u001b[1;32mreturn\u001b[0m \u001b[0msuper\u001b[0m\u001b[1;33m(\u001b[0m\u001b[1;33m)\u001b[0m\u001b[1;33m.\u001b[0m\u001b[0m__setitem__\u001b[0m\u001b[1;33m(\u001b[0m\u001b[0mkey\u001b[0m\u001b[1;33m,\u001b[0m \u001b[0mvalue\u001b[0m\u001b[1;33m)\u001b[0m\u001b[1;33m\u001b[0m\u001b[1;33m\u001b[0m\u001b[0m\n\u001b[0m\u001b[0;32m   2287\u001b[0m \u001b[1;33m\u001b[0m\u001b[0m\n\u001b[0;32m   2288\u001b[0m \u001b[1;33m\u001b[0m\u001b[0m\n",
      "\u001b[1;32mc:\\miniconda\\lib\\site-packages\\pandas\\core\\indexing.py\u001b[0m in \u001b[0;36m__setitem__\u001b[1;34m(self, key, value)\u001b[0m\n\u001b[0;32m   2235\u001b[0m             \u001b[1;32mraise\u001b[0m \u001b[0mValueError\u001b[0m\u001b[1;33m(\u001b[0m\u001b[1;34m\"Not enough indexers for scalar access (setting)!\"\u001b[0m\u001b[1;33m)\u001b[0m\u001b[1;33m\u001b[0m\u001b[1;33m\u001b[0m\u001b[0m\n\u001b[0;32m   2236\u001b[0m \u001b[1;33m\u001b[0m\u001b[0m\n\u001b[1;32m-> 2237\u001b[1;33m         \u001b[0mself\u001b[0m\u001b[1;33m.\u001b[0m\u001b[0mobj\u001b[0m\u001b[1;33m.\u001b[0m\u001b[0m_set_value\u001b[0m\u001b[1;33m(\u001b[0m\u001b[1;33m*\u001b[0m\u001b[0mkey\u001b[0m\u001b[1;33m,\u001b[0m \u001b[0mvalue\u001b[0m\u001b[1;33m=\u001b[0m\u001b[0mvalue\u001b[0m\u001b[1;33m,\u001b[0m \u001b[0mtakeable\u001b[0m\u001b[1;33m=\u001b[0m\u001b[0mself\u001b[0m\u001b[1;33m.\u001b[0m\u001b[0m_takeable\u001b[0m\u001b[1;33m)\u001b[0m\u001b[1;33m\u001b[0m\u001b[1;33m\u001b[0m\u001b[0m\n\u001b[0m\u001b[0;32m   2238\u001b[0m \u001b[1;33m\u001b[0m\u001b[0m\n\u001b[0;32m   2239\u001b[0m \u001b[1;33m\u001b[0m\u001b[0m\n",
      "\u001b[1;32mc:\\miniconda\\lib\\site-packages\\pandas\\core\\frame.py\u001b[0m in \u001b[0;36m_set_value\u001b[1;34m(self, index, col, value, takeable)\u001b[0m\n\u001b[0;32m   3824\u001b[0m             \u001b[0mvalidate_numeric_casting\u001b[0m\u001b[1;33m(\u001b[0m\u001b[0mseries\u001b[0m\u001b[1;33m.\u001b[0m\u001b[0mdtype\u001b[0m\u001b[1;33m,\u001b[0m \u001b[0mvalue\u001b[0m\u001b[1;33m)\u001b[0m\u001b[1;33m\u001b[0m\u001b[1;33m\u001b[0m\u001b[0m\n\u001b[0;32m   3825\u001b[0m \u001b[1;33m\u001b[0m\u001b[0m\n\u001b[1;32m-> 3826\u001b[1;33m             \u001b[0mseries\u001b[0m\u001b[1;33m.\u001b[0m\u001b[0m_values\u001b[0m\u001b[1;33m[\u001b[0m\u001b[0mloc\u001b[0m\u001b[1;33m]\u001b[0m \u001b[1;33m=\u001b[0m \u001b[0mvalue\u001b[0m\u001b[1;33m\u001b[0m\u001b[1;33m\u001b[0m\u001b[0m\n\u001b[0m\u001b[0;32m   3827\u001b[0m             \u001b[1;31m# Note: trying to use series._set_value breaks tests in\u001b[0m\u001b[1;33m\u001b[0m\u001b[1;33m\u001b[0m\u001b[1;33m\u001b[0m\u001b[0m\n\u001b[0;32m   3828\u001b[0m             \u001b[1;31m#  tests.frame.indexing.test_indexing and tests.indexing.test_partial\u001b[0m\u001b[1;33m\u001b[0m\u001b[1;33m\u001b[0m\u001b[1;33m\u001b[0m\u001b[0m\n",
      "\u001b[1;31mValueError\u001b[0m: could not convert string to float: '@I103@'"
     ]
    }
   ],
   "source": [
    "from gedcom.element.individual import IndividualElement\n",
    "from gedcom.parser import Parser\n",
    "from class_Path import *\n",
    "\n",
    "gedcom_parser = Parser()\n",
    "\n",
    "file_path = './ged docs/Queen_Eliz_II.ged'\n",
    "gedcom_parser = Parser()\n",
    "gedcom_parser.parse_file(file_path)\n",
    "root_child_elements = gedcom_parser.get_root_child_elements()\n",
    "\n",
    "def find_IndividualElement(first_name,last_name):\n",
    "    \"\"\"\n",
    "    Get Individual element of ged with first names and last name\n",
    "\n",
    "    Parameters\n",
    "    ---\n",
    "    first_names : str\n",
    "        complete first names of the individual\n",
    "    last_name : str\n",
    "        last names of the individual \n",
    "\n",
    "    Returns \n",
    "    ---\n",
    "    bool \n",
    "        Tells if the individual was found\n",
    "    IndividualElement\n",
    "        IndividualElement corresponding to the individual in the ged\n",
    "\n",
    "    \"\"\"\n",
    "    for element in root_child_elements:\n",
    "        if isinstance(element, IndividualElement):\n",
    "            if element.surname_match(last_name) and element.given_name_match(first_name):\n",
    "                return (True, element)\n",
    "    return [False, element]\n",
    "\n",
    "ind1 = find_IndividualElement(\"Elizabeth II Alexandra Mary\",\"Windsor\")[1]\n",
    "ind2 = find_IndividualElement(\"George V\", \"Windsor\")[1]\n",
    "\n",
    "path = Path(file_path)\n",
    "\n",
    "print(path.shortest_path(ind1,ind2))"
   ]
  },
  {
   "cell_type": "code",
   "execution_count": null,
   "metadata": {},
   "outputs": [],
   "source": []
  }
 ],
 "metadata": {
  "kernelspec": {
   "display_name": "Python 3.9.5 ('base')",
   "language": "python",
   "name": "python3"
  },
  "language_info": {
   "codemirror_mode": {
    "name": "ipython",
    "version": 3
   },
   "file_extension": ".py",
   "mimetype": "text/x-python",
   "name": "python",
   "nbconvert_exporter": "python",
   "pygments_lexer": "ipython3",
   "version": "3.9.5"
  },
  "orig_nbformat": 4,
  "vscode": {
   "interpreter": {
    "hash": "2172913d4612856e3bbc325c0b7fb332e765f63a52fed726fb1f267ce3eabcc0"
   }
  }
 },
 "nbformat": 4,
 "nbformat_minor": 2
}
