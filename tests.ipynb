{
 "cells": [
  {
   "cell_type": "markdown",
   "metadata": {},
   "source": [
    "# Tests"
   ]
  },
  {
   "cell_type": "markdown",
   "metadata": {},
   "source": [
    "## Basic tests"
   ]
  },
  {
   "cell_type": "markdown",
   "metadata": {},
   "source": [
    "### Utilisation of classes"
   ]
  },
  {
   "cell_type": "code",
   "execution_count": 6,
   "metadata": {},
   "outputs": [],
   "source": [
    "from class_Path import *\n",
    "file_path = \"./ged docs/Queen_Eliz_II.ged\""
   ]
  },
  {
   "cell_type": "code",
   "execution_count": 7,
   "metadata": {},
   "outputs": [],
   "source": [
    "graph = Graph(file_path)\n",
    "path = Path(file_path)"
   ]
  },
  {
   "cell_type": "code",
   "execution_count": 8,
   "metadata": {},
   "outputs": [
    {
     "data": {
      "text/html": [
       "<div>\n",
       "<style scoped>\n",
       "    .dataframe tbody tr th:only-of-type {\n",
       "        vertical-align: middle;\n",
       "    }\n",
       "\n",
       "    .dataframe tbody tr th {\n",
       "        vertical-align: top;\n",
       "    }\n",
       "\n",
       "    .dataframe thead th {\n",
       "        text-align: right;\n",
       "    }\n",
       "</style>\n",
       "<table border=\"1\" class=\"dataframe\">\n",
       "  <thead>\n",
       "    <tr style=\"text-align: right;\">\n",
       "      <th></th>\n",
       "      <th>INDI</th>\n",
       "      <th>FAMS</th>\n",
       "      <th>FAMC</th>\n",
       "    </tr>\n",
       "  </thead>\n",
       "  <tbody>\n",
       "    <tr>\n",
       "      <th>0</th>\n",
       "      <td>@I101@</td>\n",
       "      <td>@F285@</td>\n",
       "      <td>@F286@</td>\n",
       "    </tr>\n",
       "    <tr>\n",
       "      <th>1</th>\n",
       "      <td>@I103@</td>\n",
       "      <td>@F286@</td>\n",
       "      <td>@F287@</td>\n",
       "    </tr>\n",
       "    <tr>\n",
       "      <th>2</th>\n",
       "      <td>@I155@</td>\n",
       "      <td>@F78@</td>\n",
       "      <td>NaN</td>\n",
       "    </tr>\n",
       "    <tr>\n",
       "      <th>3</th>\n",
       "      <td>@I168@</td>\n",
       "      <td>@F75@</td>\n",
       "      <td>@F76@</td>\n",
       "    </tr>\n",
       "    <tr>\n",
       "      <th>4</th>\n",
       "      <td>@I169@</td>\n",
       "      <td>@F75@</td>\n",
       "      <td>@F209@</td>\n",
       "    </tr>\n",
       "    <tr>\n",
       "      <th>...</th>\n",
       "      <td>...</td>\n",
       "      <td>...</td>\n",
       "      <td>...</td>\n",
       "    </tr>\n",
       "    <tr>\n",
       "      <th>4678</th>\n",
       "      <td>@I11259@</td>\n",
       "      <td>@F6018@</td>\n",
       "      <td>@F6019@</td>\n",
       "    </tr>\n",
       "    <tr>\n",
       "      <th>4679</th>\n",
       "      <td>@I11260@</td>\n",
       "      <td>@F6019@</td>\n",
       "      <td>NaN</td>\n",
       "    </tr>\n",
       "    <tr>\n",
       "      <th>4680</th>\n",
       "      <td>@I11261@</td>\n",
       "      <td>@F6019@</td>\n",
       "      <td>NaN</td>\n",
       "    </tr>\n",
       "    <tr>\n",
       "      <th>4681</th>\n",
       "      <td>@I11262@</td>\n",
       "      <td>@F6020@</td>\n",
       "      <td>NaN</td>\n",
       "    </tr>\n",
       "    <tr>\n",
       "      <th>4682</th>\n",
       "      <td>@I11382@</td>\n",
       "      <td>@F6078@</td>\n",
       "      <td>NaN</td>\n",
       "    </tr>\n",
       "  </tbody>\n",
       "</table>\n",
       "<p>4683 rows × 3 columns</p>\n",
       "</div>"
      ],
      "text/plain": [
       "          INDI     FAMS     FAMC\n",
       "0       @I101@   @F285@   @F286@\n",
       "1       @I103@   @F286@   @F287@\n",
       "2       @I155@    @F78@      NaN\n",
       "3       @I168@    @F75@    @F76@\n",
       "4       @I169@    @F75@   @F209@\n",
       "...        ...      ...      ...\n",
       "4678  @I11259@  @F6018@  @F6019@\n",
       "4679  @I11260@  @F6019@      NaN\n",
       "4680  @I11261@  @F6019@      NaN\n",
       "4681  @I11262@  @F6020@      NaN\n",
       "4682  @I11382@  @F6078@      NaN\n",
       "\n",
       "[4683 rows x 3 columns]"
      ]
     },
     "execution_count": 8,
     "metadata": {},
     "output_type": "execute_result"
    }
   ],
   "source": [
    "graph.get_IndivFamily_DataFrame()"
   ]
  },
  {
   "cell_type": "code",
   "execution_count": 3,
   "metadata": {},
   "outputs": [
    {
     "data": {
      "text/html": [
       "<div>\n",
       "<style scoped>\n",
       "    .dataframe tbody tr th:only-of-type {\n",
       "        vertical-align: middle;\n",
       "    }\n",
       "\n",
       "    .dataframe tbody tr th {\n",
       "        vertical-align: top;\n",
       "    }\n",
       "\n",
       "    .dataframe thead th {\n",
       "        text-align: right;\n",
       "    }\n",
       "</style>\n",
       "<table border=\"1\" class=\"dataframe\">\n",
       "  <thead>\n",
       "    <tr style=\"text-align: right;\">\n",
       "      <th></th>\n",
       "      <th>CHILD1</th>\n",
       "      <th>CHILD2</th>\n",
       "      <th>CHILD3</th>\n",
       "      <th>CHILD4</th>\n",
       "      <th>CHILD5</th>\n",
       "      <th>...</th>\n",
       "      <th>UNCLE2</th>\n",
       "      <th>UNCLE3</th>\n",
       "      <th>UNCLE4</th>\n",
       "      <th>UNCLE5</th>\n",
       "      <th>UNCLE6</th>\n",
       "    </tr>\n",
       "    <tr>\n",
       "      <th>INDI</th>\n",
       "      <th></th>\n",
       "      <th></th>\n",
       "      <th></th>\n",
       "      <th></th>\n",
       "      <th></th>\n",
       "      <th></th>\n",
       "      <th></th>\n",
       "      <th></th>\n",
       "      <th></th>\n",
       "      <th></th>\n",
       "      <th></th>\n",
       "    </tr>\n",
       "  </thead>\n",
       "  <tbody>\n",
       "    <tr>\n",
       "      <th>@I101@</th>\n",
       "      <td>NaN</td>\n",
       "      <td>NaN</td>\n",
       "      <td>NaN</td>\n",
       "      <td>NaN</td>\n",
       "      <td>NaN</td>\n",
       "      <td>...</td>\n",
       "      <td>NaN</td>\n",
       "      <td>NaN</td>\n",
       "      <td>NaN</td>\n",
       "      <td>NaN</td>\n",
       "      <td>NaN</td>\n",
       "    </tr>\n",
       "    <tr>\n",
       "      <th>@I103@</th>\n",
       "      <td>@I101@</td>\n",
       "      <td>NaN</td>\n",
       "      <td>NaN</td>\n",
       "      <td>NaN</td>\n",
       "      <td>NaN</td>\n",
       "      <td>...</td>\n",
       "      <td>NaN</td>\n",
       "      <td>NaN</td>\n",
       "      <td>NaN</td>\n",
       "      <td>NaN</td>\n",
       "      <td>NaN</td>\n",
       "    </tr>\n",
       "    <tr>\n",
       "      <th>@I155@</th>\n",
       "      <td>@I622@</td>\n",
       "      <td>NaN</td>\n",
       "      <td>NaN</td>\n",
       "      <td>NaN</td>\n",
       "      <td>NaN</td>\n",
       "      <td>...</td>\n",
       "      <td>NaN</td>\n",
       "      <td>NaN</td>\n",
       "      <td>NaN</td>\n",
       "      <td>NaN</td>\n",
       "      <td>NaN</td>\n",
       "    </tr>\n",
       "    <tr>\n",
       "      <th>@I168@</th>\n",
       "      <td>@I386@</td>\n",
       "      <td>NaN</td>\n",
       "      <td>NaN</td>\n",
       "      <td>NaN</td>\n",
       "      <td>NaN</td>\n",
       "      <td>...</td>\n",
       "      <td>NaN</td>\n",
       "      <td>NaN</td>\n",
       "      <td>NaN</td>\n",
       "      <td>NaN</td>\n",
       "      <td>NaN</td>\n",
       "    </tr>\n",
       "    <tr>\n",
       "      <th>@I169@</th>\n",
       "      <td>@I386@</td>\n",
       "      <td>NaN</td>\n",
       "      <td>NaN</td>\n",
       "      <td>NaN</td>\n",
       "      <td>NaN</td>\n",
       "      <td>...</td>\n",
       "      <td>NaN</td>\n",
       "      <td>NaN</td>\n",
       "      <td>NaN</td>\n",
       "      <td>NaN</td>\n",
       "      <td>NaN</td>\n",
       "    </tr>\n",
       "    <tr>\n",
       "      <th>...</th>\n",
       "      <td>...</td>\n",
       "      <td>...</td>\n",
       "      <td>...</td>\n",
       "      <td>...</td>\n",
       "      <td>...</td>\n",
       "      <td>...</td>\n",
       "      <td>...</td>\n",
       "      <td>...</td>\n",
       "      <td>...</td>\n",
       "      <td>...</td>\n",
       "      <td>...</td>\n",
       "    </tr>\n",
       "    <tr>\n",
       "      <th>@I11259@</th>\n",
       "      <td>@I11257@</td>\n",
       "      <td>NaN</td>\n",
       "      <td>NaN</td>\n",
       "      <td>NaN</td>\n",
       "      <td>NaN</td>\n",
       "      <td>...</td>\n",
       "      <td>NaN</td>\n",
       "      <td>NaN</td>\n",
       "      <td>NaN</td>\n",
       "      <td>NaN</td>\n",
       "      <td>NaN</td>\n",
       "    </tr>\n",
       "    <tr>\n",
       "      <th>@I11260@</th>\n",
       "      <td>@I11259@</td>\n",
       "      <td>NaN</td>\n",
       "      <td>NaN</td>\n",
       "      <td>NaN</td>\n",
       "      <td>NaN</td>\n",
       "      <td>...</td>\n",
       "      <td>NaN</td>\n",
       "      <td>NaN</td>\n",
       "      <td>NaN</td>\n",
       "      <td>NaN</td>\n",
       "      <td>NaN</td>\n",
       "    </tr>\n",
       "    <tr>\n",
       "      <th>@I11261@</th>\n",
       "      <td>@I11259@</td>\n",
       "      <td>NaN</td>\n",
       "      <td>NaN</td>\n",
       "      <td>NaN</td>\n",
       "      <td>NaN</td>\n",
       "      <td>...</td>\n",
       "      <td>NaN</td>\n",
       "      <td>NaN</td>\n",
       "      <td>NaN</td>\n",
       "      <td>NaN</td>\n",
       "      <td>NaN</td>\n",
       "    </tr>\n",
       "    <tr>\n",
       "      <th>@I11262@</th>\n",
       "      <td>@I11258@</td>\n",
       "      <td>NaN</td>\n",
       "      <td>NaN</td>\n",
       "      <td>NaN</td>\n",
       "      <td>NaN</td>\n",
       "      <td>...</td>\n",
       "      <td>NaN</td>\n",
       "      <td>NaN</td>\n",
       "      <td>NaN</td>\n",
       "      <td>NaN</td>\n",
       "      <td>NaN</td>\n",
       "    </tr>\n",
       "    <tr>\n",
       "      <th>@I11382@</th>\n",
       "      <td>@I387@</td>\n",
       "      <td>NaN</td>\n",
       "      <td>NaN</td>\n",
       "      <td>NaN</td>\n",
       "      <td>NaN</td>\n",
       "      <td>...</td>\n",
       "      <td>NaN</td>\n",
       "      <td>NaN</td>\n",
       "      <td>NaN</td>\n",
       "      <td>NaN</td>\n",
       "      <td>NaN</td>\n",
       "    </tr>\n",
       "  </tbody>\n",
       "</table>\n",
       "<p>4683 rows × 45 columns</p>\n",
       "</div>"
      ],
      "text/plain": [
       "            CHILD1 CHILD2 CHILD3 CHILD4 CHILD5  ... UNCLE2 UNCLE3 UNCLE4  \\\n",
       "INDI                                            ...                        \n",
       "@I101@         NaN    NaN    NaN    NaN    NaN  ...    NaN    NaN    NaN   \n",
       "@I103@      @I101@    NaN    NaN    NaN    NaN  ...    NaN    NaN    NaN   \n",
       "@I155@      @I622@    NaN    NaN    NaN    NaN  ...    NaN    NaN    NaN   \n",
       "@I168@      @I386@    NaN    NaN    NaN    NaN  ...    NaN    NaN    NaN   \n",
       "@I169@      @I386@    NaN    NaN    NaN    NaN  ...    NaN    NaN    NaN   \n",
       "...            ...    ...    ...    ...    ...  ...    ...    ...    ...   \n",
       "@I11259@  @I11257@    NaN    NaN    NaN    NaN  ...    NaN    NaN    NaN   \n",
       "@I11260@  @I11259@    NaN    NaN    NaN    NaN  ...    NaN    NaN    NaN   \n",
       "@I11261@  @I11259@    NaN    NaN    NaN    NaN  ...    NaN    NaN    NaN   \n",
       "@I11262@  @I11258@    NaN    NaN    NaN    NaN  ...    NaN    NaN    NaN   \n",
       "@I11382@    @I387@    NaN    NaN    NaN    NaN  ...    NaN    NaN    NaN   \n",
       "\n",
       "         UNCLE5 UNCLE6  \n",
       "INDI                    \n",
       "@I101@      NaN    NaN  \n",
       "@I103@      NaN    NaN  \n",
       "@I155@      NaN    NaN  \n",
       "@I168@      NaN    NaN  \n",
       "@I169@      NaN    NaN  \n",
       "...         ...    ...  \n",
       "@I11259@    NaN    NaN  \n",
       "@I11260@    NaN    NaN  \n",
       "@I11261@    NaN    NaN  \n",
       "@I11262@    NaN    NaN  \n",
       "@I11382@    NaN    NaN  \n",
       "\n",
       "[4683 rows x 45 columns]"
      ]
     },
     "execution_count": 6,
     "metadata": {},
     "output_type": "execute_result"
    }
   ],
   "source": [
    "graph.get_IndivLinks_DataFrame()"
   ]
  },
  {
   "cell_type": "code",
   "execution_count": 5,
   "metadata": {},
   "outputs": [
    {
     "name": "stdout",
     "output_type": "stream",
     "text": [
      "[['@I11257@', 'child'], ['@I11250@', 'grandchild'], ['@I11175@', 'grandchild'], ['@I11179@', 'grandchild'], ['@I11183@', 'grandchild'], ['@I8765@', 'spouse'], ['@I8761@', 'grandparent'], ['@I8756@', 'grandparent'], ['@I8752@', 'grandparent'], ['@I8745@', 'grandparent'], ['@I8748@', 'grandparent'], ['@I2216@', 'grandparent'], ['@I10835@', 'nephew']]\n"
     ]
    },
    {
     "data": {
      "text/plain": [
       "[36,\n",
       " 'Isabella (le) is the daughter of the nephew of Thomas, who is the grand son of the nephew of the nephew of Dorothy, who is the wife of the niece of the niece of Henry (4th Lord of Groby) de, who is the grand father of the nephew of the niece of Eva, who is the grand mother of the niece of Thomas.']"
      ]
     },
     "execution_count": 5,
     "metadata": {},
     "output_type": "execute_result"
    }
   ],
   "source": [
    "path.get_dij('@I11259@','@I10835@')"
   ]
  },
  {
   "cell_type": "markdown",
   "metadata": {},
   "source": [
    "## Parameters tests"
   ]
  },
  {
   "cell_type": "code",
   "execution_count": 1,
   "metadata": {},
   "outputs": [],
   "source": [
    "from class_Test import *"
   ]
  },
  {
   "cell_type": "markdown",
   "metadata": {},
   "source": [
    "### Queen_Eliz_II.ged"
   ]
  },
  {
   "cell_type": "code",
   "execution_count": 2,
   "metadata": {},
   "outputs": [],
   "source": [
    "# /!\\ Long : takes about 2 minutes /!\\\n",
    "test = Test(\"./ged docs/Queen_Eliz_II.ged\")"
   ]
  },
  {
   "cell_type": "code",
   "execution_count": 3,
   "metadata": {},
   "outputs": [
    {
     "data": {
      "text/html": [
       "<div>\n",
       "<style scoped>\n",
       "    .dataframe tbody tr th:only-of-type {\n",
       "        vertical-align: middle;\n",
       "    }\n",
       "\n",
       "    .dataframe tbody tr th {\n",
       "        vertical-align: top;\n",
       "    }\n",
       "\n",
       "    .dataframe thead th {\n",
       "        text-align: right;\n",
       "    }\n",
       "</style>\n",
       "<table border=\"1\" class=\"dataframe\">\n",
       "  <thead>\n",
       "    <tr style=\"text-align: right;\">\n",
       "      <th></th>\n",
       "      <th>Path</th>\n",
       "      <th>Distance</th>\n",
       "      <th>Dijkstar distance</th>\n",
       "      <th>Execution time (s)</th>\n",
       "      <th>Dijkstar execution time (s)</th>\n",
       "      <th>Difference of execution time (s)</th>\n",
       "    </tr>\n",
       "    <tr>\n",
       "      <th>Individuals</th>\n",
       "      <th></th>\n",
       "      <th></th>\n",
       "      <th></th>\n",
       "      <th></th>\n",
       "      <th></th>\n",
       "      <th></th>\n",
       "    </tr>\n",
       "  </thead>\n",
       "  <tbody>\n",
       "    <tr>\n",
       "      <th>[@I4419@, @I5384@]</th>\n",
       "      <td>Bethoc Beatrix MacKenneth Heiress of Scone Pri...</td>\n",
       "      <td>2</td>\n",
       "      <td>2</td>\n",
       "      <td>3.916301</td>\n",
       "      <td>3.787016</td>\n",
       "      <td>0.129285</td>\n",
       "    </tr>\n",
       "    <tr>\n",
       "      <th>[@I6412@, @I6820@]</th>\n",
       "      <td>Philip (Sir) de BRAOSE (BRIOUZE) is the son of...</td>\n",
       "      <td>5</td>\n",
       "      <td>5</td>\n",
       "      <td>4.696835</td>\n",
       "      <td>5.277667</td>\n",
       "      <td>-0.580832</td>\n",
       "    </tr>\n",
       "    <tr>\n",
       "      <th>[@I9160@, @I5331@]</th>\n",
       "      <td>Agnes is the grand son of the grand daughter o...</td>\n",
       "      <td>6</td>\n",
       "      <td>6</td>\n",
       "      <td>5.465782</td>\n",
       "      <td>5.188377</td>\n",
       "      <td>0.277405</td>\n",
       "    </tr>\n",
       "    <tr>\n",
       "      <th>[@I4745@, @I10824@]</th>\n",
       "      <td>Henry (of Roslin) ST. CLAIR (SINCLAIR) is the ...</td>\n",
       "      <td>8</td>\n",
       "      <td>8</td>\n",
       "      <td>7.856324</td>\n",
       "      <td>8.076618</td>\n",
       "      <td>-0.220294</td>\n",
       "    </tr>\n",
       "    <tr>\n",
       "      <th>[@I4895@, @I8878@]</th>\n",
       "      <td>Elizabeth is the daughter of the grand daughte...</td>\n",
       "      <td>15</td>\n",
       "      <td>15</td>\n",
       "      <td>13.536467</td>\n",
       "      <td>13.673205</td>\n",
       "      <td>-0.136738</td>\n",
       "    </tr>\n",
       "  </tbody>\n",
       "</table>\n",
       "</div>"
      ],
      "text/plain": [
       "                                                                  Path  \\\n",
       "Individuals                                                              \n",
       "[@I4419@, @I5384@]   Bethoc Beatrix MacKenneth Heiress of Scone Pri...   \n",
       "[@I6412@, @I6820@]   Philip (Sir) de BRAOSE (BRIOUZE) is the son of...   \n",
       "[@I9160@, @I5331@]   Agnes is the grand son of the grand daughter o...   \n",
       "[@I4745@, @I10824@]  Henry (of Roslin) ST. CLAIR (SINCLAIR) is the ...   \n",
       "[@I4895@, @I8878@]   Elizabeth is the daughter of the grand daughte...   \n",
       "\n",
       "                     Distance  Dijkstar distance  Execution time (s)  \\\n",
       "Individuals                                                            \n",
       "[@I4419@, @I5384@]          2                  2            3.916301   \n",
       "[@I6412@, @I6820@]          5                  5            4.696835   \n",
       "[@I9160@, @I5331@]          6                  6            5.465782   \n",
       "[@I4745@, @I10824@]         8                  8            7.856324   \n",
       "[@I4895@, @I8878@]         15                 15           13.536467   \n",
       "\n",
       "                     Dijkstar execution time (s)  \\\n",
       "Individuals                                        \n",
       "[@I4419@, @I5384@]                      3.787016   \n",
       "[@I6412@, @I6820@]                      5.277667   \n",
       "[@I9160@, @I5331@]                      5.188377   \n",
       "[@I4745@, @I10824@]                     8.076618   \n",
       "[@I4895@, @I8878@]                     13.673205   \n",
       "\n",
       "                     Difference of execution time (s)  \n",
       "Individuals                                            \n",
       "[@I4419@, @I5384@]                           0.129285  \n",
       "[@I6412@, @I6820@]                          -0.580832  \n",
       "[@I9160@, @I5331@]                           0.277405  \n",
       "[@I4745@, @I10824@]                         -0.220294  \n",
       "[@I4895@, @I8878@]                          -0.136738  "
      ]
     },
     "execution_count": 3,
     "metadata": {},
     "output_type": "execute_result"
    }
   ],
   "source": [
    "test.comparison_Dataframe()"
   ]
  },
  {
   "cell_type": "code",
   "execution_count": 4,
   "metadata": {},
   "outputs": [
    {
     "data": {
      "text/plain": [
       "(7.094341850280761, 7.200576591491699)"
      ]
     },
     "execution_count": 4,
     "metadata": {},
     "output_type": "execute_result"
    }
   ],
   "source": [
    "test.average()"
   ]
  },
  {
   "cell_type": "code",
   "execution_count": 5,
   "metadata": {},
   "outputs": [
    {
     "data": {
      "image/png": "[encoded data removed]",
      "text/plain": [
       "<Figure size 432x288 with 1 Axes>"
      ]
     },
     "metadata": {
      "needs_background": "light"
     },
     "output_type": "display_data"
    }
   ],
   "source": [
    "test.plot_Distance_Time()"
   ]
  },
  {
   "cell_type": "code",
   "execution_count": 6,
   "metadata": {},
   "outputs": [
    {
     "name": "stdout",
     "output_type": "stream",
     "text": [
      "In 40.0% of cases, the Dijkstra algorithm is faster.\n"
     ]
    },
    {
     "data": {
      "image/png": "[encoded data removed]",
      "text/plain": [
       "<Figure size 432x288 with 1 Axes>"
      ]
     },
     "metadata": {
      "needs_background": "light"
     },
     "output_type": "display_data"
    }
   ],
   "source": [
    "test.plot_difference()"
   ]
  },
  {
   "cell_type": "markdown",
   "metadata": {},
   "source": [
    "## Validation "
   ]
  },
  {
   "cell_type": "code",
   "execution_count": 6,
   "metadata": {},
   "outputs": [
    {
     "name": "stdout",
     "output_type": "stream",
     "text": [
      "(3, [['@I3024@', 'grandparent']])\n"
     ]
    }
   ],
   "source": [
    "from gedcom.element.individual import IndividualElement\n",
    "from gedcom.parser import Parser\n",
    "from class_Path import *\n",
    "\n",
    "gedcom_parser = Parser()\n",
    "\n",
    "file_path = './ged docs/Queen_Eliz_II.ged'\n",
    "gedcom_parser = Parser()\n",
    "gedcom_parser.parse_file(file_path)\n",
    "root_child_elements = gedcom_parser.get_root_child_elements()\n",
    "\n",
    "def find_IndividualElement(first_name,last_name):\n",
    "    \"\"\"\n",
    "    Get Individual element of ged with first names and last name\n",
    "\n",
    "    Parameters\n",
    "    ---\n",
    "    first_names : str\n",
    "        complete first names of the individual\n",
    "    last_name : str\n",
    "        last names of the individual \n",
    "\n",
    "    Returns \n",
    "    ---\n",
    "    bool \n",
    "        Tells if the individual was found\n",
    "    IndividualElement\n",
    "        IndividualElement corresponding to the individual in the ged\n",
    "\n",
    "    \"\"\"\n",
    "    for element in root_child_elements:\n",
    "        if isinstance(element, IndividualElement):\n",
    "            if element.surname_match(last_name) and element.given_name_match(first_name):\n",
    "                return (True, element)\n",
    "    return [False, element]\n",
    "\n",
    "ind1 = find_IndividualElement(\"Elizabeth II Alexandra Mary\",\"Windsor\")[1].get_pointer()\n",
    "ind2 = find_IndividualElement(\"George V\", \"Windsor\")[1].get_pointer()\n",
    "\n",
    "path = Path(file_path)\n",
    "\n",
    "print(path.shortest_path(ind1,ind2))"
   ]
  },
  {
   "cell_type": "code",
   "execution_count": null,
   "metadata": {},
   "outputs": [],
   "source": []
  }
 ],
 "metadata": {
  "kernelspec": {
   "display_name": "Python 3.9.12 ('base')",
   "language": "python",
   "name": "python3"
  },
  "language_info": {
   "codemirror_mode": {
    "name": "ipython",
    "version": 3
   },
   "file_extension": ".py",
   "mimetype": "text/x-python",
   "name": "python",
   "nbconvert_exporter": "python",
   "pygments_lexer": "ipython3",
   "version": "3.9.12"
  },
  "orig_nbformat": 4,
  "vscode": {
   "interpreter": {
    "hash": "fa633476d90ebc5c342c0ebd58df75a6a0dad7836670477e29bdaa57f1aacce8"
   }
  }
 },
 "nbformat": 4,
 "nbformat_minor": 2
}
