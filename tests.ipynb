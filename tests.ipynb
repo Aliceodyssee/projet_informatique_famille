{
 "cells": [
  {
   "cell_type": "markdown",
   "metadata": {},
   "source": [
    "# Tests"
   ]
  },
  {
   "cell_type": "markdown",
   "metadata": {},
   "source": [
    "## Basic tests"
   ]
  },
  {
   "cell_type": "markdown",
   "metadata": {},
   "source": [
    "### Utilisation of classes"
   ]
  },
  {
   "cell_type": "code",
   "execution_count": 2,
   "metadata": {},
   "outputs": [],
   "source": [
    "from class_Path import *\n",
    "file_path = \"./ged docs/Queen_Eliz_II.ged\""
   ]
  },
  {
   "cell_type": "code",
   "execution_count": 3,
   "metadata": {},
   "outputs": [],
   "source": [
    "graph = Graph(file_path)\n",
    "path = Path(file_path)"
   ]
  },
  {
   "cell_type": "code",
   "execution_count": 4,
   "metadata": {},
   "outputs": [
    {
     "data": {
      "text/plain": [
       "'Isabella (le) is the son of the grand son of Thomas, who is the grand son of the grand son of the grand son of Dorothy, who is the wife of the grand mother of the grand father of Henry (4th Lord of Groby) de, who is the grand father of the grand mother of the grand mother of Eva, who is the grand mother of the niece of Thomas'"
      ]
     },
     "execution_count": 4,
     "metadata": {},
     "output_type": "execute_result"
    }
   ],
   "source": [
    "path.print('@I11259@','@I10835@')"
   ]
  },
  {
   "cell_type": "markdown",
   "metadata": {},
   "source": [
    "## Parameters tests"
   ]
  },
  {
   "cell_type": "markdown",
   "metadata": {},
   "source": [
    "### Data series creation"
   ]
  },
  {
   "cell_type": "code",
   "execution_count": 1,
   "metadata": {},
   "outputs": [],
   "source": [
    "import random\n",
    "from class_Path import *\n",
    "file_path = \"./ged docs/Queen_Eliz_II.ged\"\n",
    "graph = Graph(file_path).print()\n",
    "path = Path(file_path)"
   ]
  },
  {
   "cell_type": "code",
   "execution_count": 4,
   "metadata": {},
   "outputs": [],
   "source": [
    "def random_serie() :\n",
    "    keys = list(graph.keys())\n",
    "    serie = []\n",
    "    j = 0\n",
    "    while j < 5 :\n",
    "        i = random.randint(0,len(keys)-1)\n",
    "        serie += [keys[i]]\n",
    "        j += 1\n",
    "    return serie"
   ]
  },
  {
   "cell_type": "code",
   "execution_count": 5,
   "metadata": {},
   "outputs": [
    {
     "data": {
      "text/plain": [
       "['Solomon is the husband of the grand father of Catherine, who is the grand mother of the father of the grand father of William, who is the grand father of the grand father of the uncle of Elizabeth, who is the wife of the grand mother of the grand father of Constantine (2nd Earl) of FIFE, who is the grand father of the grand father of the grand father of Rhodri Mawr (the Great), who is the grand father of the grand father of the grand father of Tegid (Tegyth) ap GWAIR (ap GWYAR), who is the grand father of the grand mother of the grand mother of Tegfan Gloff of BRITAIN, who is the grand father of the grand mother of the niece of Aminadab, who is the husband of the grand father of the grand father of (NN) ... (NN), who is the grand father of the grand father of the grand father of Aminadab, who is the nephew of the grand son of the grand son of David, who is the grand son of the son of Elizabeth (Lady of Chesterfield).',\n",
       " \"Cuthwine is the grand son of the grand son of Hrior of EGYPT, who is the grand son of the grand son of the grand son of Kar'oma (Karamat I) of EGYPT, who is the grand daughter of the grand son of the grand son of Pami (Pamai Pimay Pemay) (High Priest) of MA'AT, who is the grand son of the grand son of the grand son of Psamtik (Psamtek) I of EGYPT, who is the grand son of the grand daughter of the son of Tamar (TEPHI) of JUDAH, who is the wife of the grand father of the grand father of Achaz (Ahaz) (14th King) of JUDAH, who is the grand father of the grand father of the grand father of Jehoram (Joram) (7th King) of JUDAH, who is the grand father of the grand father of the grand father of David, who is the grand father of the grand mother of the grand mother of Judah, who is the uncle of the grand son of the grand son of Laomedan (King) of TROY, who is the grand son of the grand son of the grand son of Vingethor (Vingethior) EINRIDISSON (Vingithor), who is the grand son of the grand son of the grand son of Hwala, who is the grand son of the grand son of the grand son of Taetwa, who is the grand son of the grand son of the grand son of Frithuwald, who is the grand son of the grand son of the grand son of Wig, who is the grand son of the grand son of the grand son of Ceawlin, who is the grand son of the son of Ramses (Ramesses) II (PHARAOH) of EGYPT.\",\n",
       " \"Julius of BYZANTIUM is the father of the niece of Osborne II, who is the husband of the aunt of the husband of Sphreta (Sprote), who is the grand mother of the grand father of the grand mother of Alda Or Aude Hilda Or Aldana Martel, countess D' Autun, who is the grand mother of the grand mother of the grand father of Julius of BYZANTIUM, who is the grand father of Henry I (Duke) of.\",\n",
       " 'Septimus Odaenathus (King) of PALMYRA is the grand father of the brother of Ragnhild SIGURDSDOTTIR (of SOGNE), who is the wife of the grand mother of the uncle of Roger de MONTE GOMERII, who is the grand son of the grand son of the wife of Pépin II DE ST. QUENTIN Count of Perronne & St-Quentin, who is the grand father of the grand mother of the grand mother of Chalpaidis, who is the grand mother of the grand father of the grand mother of Theodora(?), daughter of Theodora, who is the grand mother of the grand mother of the grand father of Eusebius, who is the grand father of the grand father of the father of Aseda Ragnvaldsson.',\n",
       " 'Roger I is the grand son of the grand daughter of Gerberge, who is the grand daughter of the grand daughter of the husband of Heribert II, Count of Meaux, Vermandois, Troyes, & Soissons, who is the grand father of the uncle of the son of Harold (King) of HAITHABU.']"
      ]
     },
     "execution_count": 5,
     "metadata": {},
     "output_type": "execute_result"
    }
   ],
   "source": [
    "serie = []\n",
    "serie1,serie2 = random_serie(), random_serie()\n",
    "for i in range(len(serie1)) :\n",
    "    serie += [[serie1[i],serie2[i]]]\n",
    "\n",
    "\n",
    "response = []\n",
    "for i in range(len(serie)) : \n",
    "    response += [path.get(serie[i][0],serie[i][1])]\n",
    "response"
   ]
  },
  {
   "cell_type": "code",
   "execution_count": 7,
   "metadata": {},
   "outputs": [
    {
     "data": {
      "text/html": [
       "<div>\n",
       "<style scoped>\n",
       "    .dataframe tbody tr th:only-of-type {\n",
       "        vertical-align: middle;\n",
       "    }\n",
       "\n",
       "    .dataframe tbody tr th {\n",
       "        vertical-align: top;\n",
       "    }\n",
       "\n",
       "    .dataframe thead th {\n",
       "        text-align: right;\n",
       "    }\n",
       "</style>\n",
       "<table border=\"1\" class=\"dataframe\">\n",
       "  <thead>\n",
       "    <tr style=\"text-align: right;\">\n",
       "      <th></th>\n",
       "      <th>path</th>\n",
       "    </tr>\n",
       "    <tr>\n",
       "      <th>couple</th>\n",
       "      <th></th>\n",
       "    </tr>\n",
       "  </thead>\n",
       "  <tbody>\n",
       "    <tr>\n",
       "      <th>[@I7506@, @I4445@]</th>\n",
       "      <td>Solomon is the husband of the grand father of ...</td>\n",
       "    </tr>\n",
       "    <tr>\n",
       "      <th>[@I6204@, @I2037@]</th>\n",
       "      <td>Cuthwine is the grand son of the grand son of ...</td>\n",
       "    </tr>\n",
       "    <tr>\n",
       "      <th>[@I10766@, @I6392@]</th>\n",
       "      <td>Julius of BYZANTIUM is the father of the niece...</td>\n",
       "    </tr>\n",
       "    <tr>\n",
       "      <th>[@I639@, @I6410@]</th>\n",
       "      <td>Septimus Odaenathus (King) of PALMYRA is the g...</td>\n",
       "    </tr>\n",
       "    <tr>\n",
       "      <th>[@I10945@, @I7816@]</th>\n",
       "      <td>Roger I is the grand son of the grand daughter...</td>\n",
       "    </tr>\n",
       "  </tbody>\n",
       "</table>\n",
       "</div>"
      ],
      "text/plain": [
       "                                                                  path\n",
       "couple                                                                \n",
       "[@I7506@, @I4445@]   Solomon is the husband of the grand father of ...\n",
       "[@I6204@, @I2037@]   Cuthwine is the grand son of the grand son of ...\n",
       "[@I10766@, @I6392@]  Julius of BYZANTIUM is the father of the niece...\n",
       "[@I639@, @I6410@]    Septimus Odaenathus (King) of PALMYRA is the g...\n",
       "[@I10945@, @I7816@]  Roger I is the grand son of the grand daughter..."
      ]
     },
     "execution_count": 7,
     "metadata": {},
     "output_type": "execute_result"
    }
   ],
   "source": [
    "df = pd.DataFrame(\n",
    "{\n",
    "    'couple' : serie,\n",
    "    'path' : response,\n",
    "})\n",
    "df.set_index('couple',inplace=True)\n",
    "df"
   ]
  }
 ],
 "metadata": {
  "kernelspec": {
   "display_name": "Python 3.9.12 ('base')",
   "language": "python",
   "name": "python3"
  },
  "language_info": {
   "codemirror_mode": {
    "name": "ipython",
    "version": 3
   },
   "file_extension": ".py",
   "mimetype": "text/x-python",
   "name": "python",
   "nbconvert_exporter": "python",
   "pygments_lexer": "ipython3",
   "version": "3.9.12"
  },
  "orig_nbformat": 4,
  "vscode": {
   "interpreter": {
    "hash": "fa633476d90ebc5c342c0ebd58df75a6a0dad7836670477e29bdaa57f1aacce8"
   }
  }
 },
 "nbformat": 4,
 "nbformat_minor": 2
}
