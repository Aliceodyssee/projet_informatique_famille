{
 "cells": [
  {
   "cell_type": "markdown",
   "metadata": {},
   "source": [
    "# Tests"
   ]
  },
  {
   "cell_type": "markdown",
   "metadata": {},
   "source": [
    "## Basic tests"
   ]
  },
  {
   "cell_type": "markdown",
   "metadata": {},
   "source": [
    "### Utilisation of classes"
   ]
  },
  {
   "cell_type": "code",
   "execution_count": 2,
   "metadata": {},
   "outputs": [],
   "source": [
    "from class_Path import *\n",
    "file_path = \"./ged docs/Queen_Eliz_II.ged\""
   ]
  },
  {
   "cell_type": "code",
   "execution_count": 3,
   "metadata": {},
   "outputs": [],
   "source": [
    "graph = Graph(file_path)\n",
    "path = Path(file_path)"
   ]
  },
  {
   "cell_type": "code",
   "execution_count": 4,
   "metadata": {},
   "outputs": [
    {
     "data": {
      "text/plain": [
       "'Isabella (le) is the son of the grand son of Thomas, who is the grand son of the grand son of the grand son of Dorothy, who is the wife of the grand mother of the grand father of Henry (4th Lord of Groby) de, who is the grand father of the grand mother of the grand mother of Eva, who is the grand mother of the niece of Thomas'"
      ]
     },
     "execution_count": 4,
     "metadata": {},
     "output_type": "execute_result"
    }
   ],
   "source": [
    "path.print('@I11259@','@I10835@')"
   ]
  },
  {
   "cell_type": "markdown",
   "metadata": {},
   "source": [
    "## Parameters tests"
   ]
  },
  {
   "cell_type": "markdown",
   "metadata": {},
   "source": [
    "### Data series creation"
   ]
  },
  {
   "cell_type": "code",
   "execution_count": 12,
   "metadata": {},
   "outputs": [],
   "source": [
    "import random\n",
    "import time\n",
    "import matplotlib.pyplot as plt\n",
    "from class_Path import *"
   ]
  },
  {
   "cell_type": "code",
   "execution_count": 13,
   "metadata": {},
   "outputs": [],
   "source": [
    "file_path = \"./ged docs/Queen_Eliz_II.ged\"\n",
    "graph = Graph(file_path).print()\n",
    "path = Path(file_path)"
   ]
  },
  {
   "cell_type": "code",
   "execution_count": 4,
   "metadata": {},
   "outputs": [],
   "source": [
    "def random_serie() :\n",
    "    keys = list(graph.keys())\n",
    "    serie = []\n",
    "    j = 0\n",
    "    while j < 10 :\n",
    "        i = random.randint(0,len(keys)-1)\n",
    "        serie += [keys[i]]\n",
    "        j += 1\n",
    "    return serie"
   ]
  },
  {
   "cell_type": "code",
   "execution_count": 5,
   "metadata": {},
   "outputs": [
    {
     "data": {
      "text/html": [
       "<div>\n",
       "<style scoped>\n",
       "    .dataframe tbody tr th:only-of-type {\n",
       "        vertical-align: middle;\n",
       "    }\n",
       "\n",
       "    .dataframe tbody tr th {\n",
       "        vertical-align: top;\n",
       "    }\n",
       "\n",
       "    .dataframe thead th {\n",
       "        text-align: right;\n",
       "    }\n",
       "</style>\n",
       "<table border=\"1\" class=\"dataframe\">\n",
       "  <thead>\n",
       "    <tr style=\"text-align: right;\">\n",
       "      <th></th>\n",
       "      <th>Path</th>\n",
       "      <th>Distance</th>\n",
       "      <th>Execution time (s)</th>\n",
       "    </tr>\n",
       "    <tr>\n",
       "      <th>Individuals</th>\n",
       "      <th></th>\n",
       "      <th></th>\n",
       "      <th></th>\n",
       "    </tr>\n",
       "  </thead>\n",
       "  <tbody>\n",
       "    <tr>\n",
       "      <th>[@I9421@, @I10822@]</th>\n",
       "      <td>Gilbert (II; de) is the grand father of the ni...</td>\n",
       "      <td>18</td>\n",
       "      <td>14.521609</td>\n",
       "    </tr>\n",
       "    <tr>\n",
       "      <th>[@I10084@, @I6526@]</th>\n",
       "      <td>Chief Frank Marcomir is the wife of the grand ...</td>\n",
       "      <td>48</td>\n",
       "      <td>35.771637</td>\n",
       "    </tr>\n",
       "    <tr>\n",
       "      <th>[@I10182@, @I5303@]</th>\n",
       "      <td>EMMELINE is the grand son of the grand son of ...</td>\n",
       "      <td>41</td>\n",
       "      <td>31.016189</td>\n",
       "    </tr>\n",
       "    <tr>\n",
       "      <th>[@I8934@, @I6261@]</th>\n",
       "      <td>Sebekshedty-Neferu (Queen) of EGYPT is the hus...</td>\n",
       "      <td>194</td>\n",
       "      <td>130.569275</td>\n",
       "    </tr>\n",
       "    <tr>\n",
       "      <th>[@I10068@, @I955@]</th>\n",
       "      <td>Regina is the grand daughter of the husband of...</td>\n",
       "      <td>40</td>\n",
       "      <td>30.043208</td>\n",
       "    </tr>\n",
       "    <tr>\n",
       "      <th>[@I2189@, @I899@]</th>\n",
       "      <td>Constance is the daughter of the husband of El...</td>\n",
       "      <td>17</td>\n",
       "      <td>15.038925</td>\n",
       "    </tr>\n",
       "    <tr>\n",
       "      <th>[@I5277@, @I10351@]</th>\n",
       "      <td>Ieaun ap  (Lord of BAGLAN) is the wife of the ...</td>\n",
       "      <td>22</td>\n",
       "      <td>19.079764</td>\n",
       "    </tr>\n",
       "    <tr>\n",
       "      <th>[@I5609@, @I6611@]</th>\n",
       "      <td>Bresal Brecc mac Criomthann Crosach I is the g...</td>\n",
       "      <td>81</td>\n",
       "      <td>52.728971</td>\n",
       "    </tr>\n",
       "    <tr>\n",
       "      <th>[@I10659@, @I9283@]</th>\n",
       "      <td>Ferither Our 'Dun is the grand daughter of the...</td>\n",
       "      <td>49</td>\n",
       "      <td>36.812857</td>\n",
       "    </tr>\n",
       "    <tr>\n",
       "      <th>[@I6453@, @I7490@]</th>\n",
       "      <td>Marjory is the grand daughter of the son of Ag...</td>\n",
       "      <td>28</td>\n",
       "      <td>24.806203</td>\n",
       "    </tr>\n",
       "  </tbody>\n",
       "</table>\n",
       "</div>"
      ],
      "text/plain": [
       "                                                                  Path  \\\n",
       "Individuals                                                              \n",
       "[@I9421@, @I10822@]  Gilbert (II; de) is the grand father of the ni...   \n",
       "[@I10084@, @I6526@]  Chief Frank Marcomir is the wife of the grand ...   \n",
       "[@I10182@, @I5303@]  EMMELINE is the grand son of the grand son of ...   \n",
       "[@I8934@, @I6261@]   Sebekshedty-Neferu (Queen) of EGYPT is the hus...   \n",
       "[@I10068@, @I955@]   Regina is the grand daughter of the husband of...   \n",
       "[@I2189@, @I899@]    Constance is the daughter of the husband of El...   \n",
       "[@I5277@, @I10351@]  Ieaun ap  (Lord of BAGLAN) is the wife of the ...   \n",
       "[@I5609@, @I6611@]   Bresal Brecc mac Criomthann Crosach I is the g...   \n",
       "[@I10659@, @I9283@]  Ferither Our 'Dun is the grand daughter of the...   \n",
       "[@I6453@, @I7490@]   Marjory is the grand daughter of the son of Ag...   \n",
       "\n",
       "                     Distance  Execution time (s)  \n",
       "Individuals                                        \n",
       "[@I9421@, @I10822@]        18           14.521609  \n",
       "[@I10084@, @I6526@]        48           35.771637  \n",
       "[@I10182@, @I5303@]        41           31.016189  \n",
       "[@I8934@, @I6261@]        194          130.569275  \n",
       "[@I10068@, @I955@]         40           30.043208  \n",
       "[@I2189@, @I899@]          17           15.038925  \n",
       "[@I5277@, @I10351@]        22           19.079764  \n",
       "[@I5609@, @I6611@]         81           52.728971  \n",
       "[@I10659@, @I9283@]        49           36.812857  \n",
       "[@I6453@, @I7490@]         28           24.806203  "
      ]
     },
     "execution_count": 5,
     "metadata": {},
     "output_type": "execute_result"
    }
   ],
   "source": [
    "serie = []\n",
    "serie1,serie2 = random_serie(), random_serie()\n",
    "for i in range(len(serie1)) :\n",
    "    serie += [[serie1[i],serie2[i]]]\n",
    "\n",
    "\n",
    "distances = []\n",
    "paths = []\n",
    "path_times = []\n",
    "for i in range(len(serie)) : \n",
    "    start = time.time()\n",
    "    shortest_path = path.get(serie[i][0],serie[i][1])\n",
    "    distances += [shortest_path[0]]\n",
    "    paths += [shortest_path[1]]\n",
    "    end = time.time()\n",
    "    path_times += [end-start]\n",
    "\n",
    "\n",
    "df = pd.DataFrame(\n",
    "{\n",
    "    'Individuals' : serie,\n",
    "    'Path' : paths,\n",
    "    'Distance' : distances,\n",
    "    'Execution time (s)' : path_times\n",
    "})\n",
    "df.set_index('Individuals',inplace=True)\n",
    "df"
   ]
  },
  {
   "cell_type": "code",
   "execution_count": 29,
   "metadata": {},
   "outputs": [
    {
     "data": {
      "text/plain": [
       "39.03886377811432"
      ]
     },
     "execution_count": 29,
     "metadata": {},
     "output_type": "execute_result"
    }
   ],
   "source": [
    "average = sum(path_times)/len(path_times)\n",
    "average"
   ]
  },
  {
   "cell_type": "code",
   "execution_count": 39,
   "metadata": {},
   "outputs": [
    {
     "data": {
      "image/png": "[encoded data removed]",
      "text/plain": [
       "<Figure size 432x288 with 1 Axes>"
      ]
     },
     "metadata": {
      "needs_background": "light"
     },
     "output_type": "display_data"
    }
   ],
   "source": [
    "a,b = np.polyfit(distances,path_times,1)\n",
    "plt.scatter(distances,path_times,marker='+')\n",
    "plt.plot(distances,a * np.array(distances) + b, color='r', linestyle='--', linewidth=0.5)\n",
    "plt.axis('equal')\n",
    "plt.xlabel('Path length')\n",
    "plt.ylabel('Execution time (seconds)')\n",
    "plt.title(\"Execution time in terms of path length\")\n",
    "plt.text(25, 120, 'y = ' + '{:.2f}'.format(b) + ' + {:.2f}'.format(a) + 'x', size=14)\n",
    "plt.show()"
   ]
  },
  {
   "cell_type": "markdown",
   "metadata": {},
   "source": [
    "### Test class use"
   ]
  },
  {
   "cell_type": "code",
   "execution_count": 1,
   "metadata": {},
   "outputs": [],
   "source": [
    "from class_Test import *"
   ]
  },
  {
   "cell_type": "code",
   "execution_count": 2,
   "metadata": {},
   "outputs": [
    {
     "name": "stdout",
     "output_type": "stream",
     "text": [
      "[['@I10380@', 'grandchild'], ['@I10384@', 'grandchild'], ['@I7506@', 'grandchild'], ['@I7505@', 'spouse'], ['@I7509@', 'grandparent'], ['@I8950@', 'grandparent'], ['@I9801@', 'grandparent'], ['@I9806@', 'grandparent'], ['@I9808@', 'parent'], ['@I8350@', 'grandparent'], ['@I6819@', 'uncle']]\n",
      "[['@I10380@', 'grandchild'], ['@I10384@', 'grandchild'], ['@I7506@', 'grandchild'], ['@I7505@', 'spouse'], ['@I7507@', 'parent'], ['@I7511@', 'grandparent'], ['@I8949@', 'grandparent'], ['@I9804@', 'grandparent'], ['@I9808@', 'grandparent'], ['@I8350@', 'grandparent'], ['@I6819@', 'uncle']]\n",
      "[['@I10694@', 'spouse'], ['@I10381@', 'grandparent'], ['@I10725@', 'grandparent'], ['@I10721@', 'grandparent'], ['@I1331@', 'uncle'], ['@I2076@', 'spouse'], ['@I7551@', 'grandparent'], ['@I6923@', 'grandparent'], ['@I2216@', 'grandparent'], ['@I4302@', 'grandparent'], ['@I4304@', 'grandparent']]\n",
      "[['@I10694@', 'spouse'], ['@I10381@', 'grandparent'], ['@I10725@', 'grandparent'], ['@I10721@', 'grandparent'], ['@I1331@', 'uncle'], ['@I2076@', 'spouse'], ['@I7551@', 'grandparent'], ['@I6923@', 'grandparent'], ['@I2216@', 'grandparent'], ['@I4302@', 'grandparent'], ['@I4304@', 'grandparent']]\n",
      "[['@I1372@', 'spouse'], ['@I5315@', 'grandparent'], ['@I9875@', 'grandparent'], ['@I5327@', 'grandparent'], ['@I5333@', 'grandparent'], ['@I5340@', 'grandparent'], ['@I453@', 'grandparent'], ['@I360@', 'grandparent'], ['@I4346@', 'grandparent'], ['@I367@', 'grandparent'], ['@I371@', 'grandparent'], ['@I375@', 'grandparent'], ['@I378@', 'grandparent'], ['@I382@', 'grandparent'], ['@I6555@', 'sibling'], ['@I990@', 'spouse'], ['@I10554@', 'grandparent'], ['@I10563@', 'grandparent'], ['@I10561@', 'grandparent'], ['@I10560@', 'parent']]\n",
      "[['@I1372@', 'spouse'], ['@I1371@', 'parent'], ['@I9874@', 'grandparent'], ['@I9877@', 'grandparent'], ['@I5331@', 'grandparent'], ['@I5336@', 'grandparent'], ['@I5341@', 'grandparent'], ['@I455@', 'grandparent'], ['@I4250@', 'grandparent'], ['@I2613@', 'grandparent'], ['@I369@', 'grandparent'], ['@I373@', 'grandparent'], ['@I376@', 'grandparent'], ['@I380@', 'grandparent'], ['@I6555@', 'uncle'], ['@I990@', 'spouse'], ['@I963@', 'parent'], ['@I10564@', 'grandparent'], ['@I10562@', 'grandparent'], ['@I10560@', 'grandparent']]\n",
      "[['@I6332@', 'grandparent'], ['@I6335@', 'grandparent'], ['@I6337@', 'grandparent'], ['@I6339@', 'grandparent'], ['@I6416@', 'nephew'], ['@I6415@', 'spouse'], ['@I6418@', 'grandparent'], ['@I6426@', 'grandparent'], ['@I6422@', 'grandparent'], ['@I4726@', 'grandparent'], ['@I6078@', 'nephew'], ['@I6076@', 'grandchild'], ['@I6075@', 'child'], ['@I6073@', 'grandchild'], ['@I4837@', 'grandchild'], ['@I4833@', 'grandchild'], ['@I4829@', 'grandchild'], ['@I4825@', 'grandchild'], ['@I4821@', 'grandchild'], ['@I4817@', 'grandchild'], ['@I4813@', 'grandchild'], ['@I4809@', 'grandchild'], ['@I5587@', 'grandchild'], ['@I5586@', 'spouse'], ['@I5755@', 'grandparent'], ['@I6149@', 'grandparent'], ['@I6153@', 'grandparent'], ['@I6155@', 'grandparent'], ['@I6158@', 'grandparent'], ['@I6162@', 'grandparent'], ['@I6165@', 'grandparent'], ['@I6177@', 'grandparent'], ['@I6181@', 'grandparent'], ['@I6187@', 'grandparent'], ['@I6192@', 'grandparent'], ['@I6198@', 'grandparent'], ['@I6202@', 'grandparent'], ['@I6206@', 'grandparent'], ['@I6210@', 'grandparent'], ['@I6214@', 'grandparent'], ['@I6217@', 'grandparent'], ['@I6221@', 'grandparent'], ['@I6224@', 'grandparent'], ['@I6228@', 'grandparent']]\n",
      "[['@I6332@', 'grandparent'], ['@I6335@', 'grandparent'], ['@I6337@', 'grandparent'], ['@I6339@', 'grandparent'], ['@I6416@', 'nephew'], ['@I6415@', 'spouse'], ['@I6417@', 'parent'], ['@I6427@', 'grandparent'], ['@I6424@', 'grandparent'], ['@I4449@', 'grandparent'], ['@I6079@', 'uncle'], ['@I6077@', 'grandchild'], ['@I6075@', 'grandchild'], ['@I6073@', 'grandchild'], ['@I4837@', 'grandchild'], ['@I4833@', 'grandchild'], ['@I4829@', 'grandchild'], ['@I4825@', 'grandchild'], ['@I4821@', 'grandchild'], ['@I4817@', 'grandchild'], ['@I4813@', 'grandchild'], ['@I4809@', 'grandchild'], ['@I5587@', 'grandchild'], ['@I5586@', 'spouse'], ['@I5755@', 'grandparent'], ['@I6149@', 'grandparent'], ['@I6153@', 'grandparent'], ['@I6155@', 'grandparent'], ['@I6158@', 'grandparent'], ['@I6162@', 'grandparent'], ['@I6165@', 'grandparent'], ['@I6177@', 'grandparent'], ['@I6181@', 'grandparent'], ['@I6187@', 'grandparent'], ['@I6192@', 'grandparent'], ['@I6198@', 'grandparent'], ['@I6202@', 'grandparent'], ['@I6206@', 'grandparent'], ['@I6210@', 'grandparent'], ['@I6214@', 'grandparent'], ['@I6217@', 'grandparent'], ['@I6221@', 'grandparent'], ['@I6224@', 'grandparent'], ['@I6228@', 'grandparent']]\n",
      "[['@I5889@', 'uncle'], ['@I5884@', 'grandchild'], ['@I5878@', 'grandchild'], ['@I5875@', 'grandchild'], ['@I5871@', 'grandchild'], ['@I4282@', 'grandchild'], ['@I7006@', 'grandchild'], ['@I7000@', 'grandchild'], ['@I6989@', 'grandchild'], ['@I10426@', 'spouse'], ['@I10422@', 'grandparent'], ['@I10418@', 'grandparent']]\n",
      "[['@I5889@', 'uncle'], ['@I5884@', 'grandchild'], ['@I5878@', 'grandchild'], ['@I5875@', 'grandchild'], ['@I5871@', 'grandchild'], ['@I4282@', 'grandchild'], ['@I7006@', 'grandchild'], ['@I7000@', 'grandchild'], ['@I6989@', 'grandchild'], ['@I10426@', 'spouse'], ['@I10422@', 'grandparent'], ['@I10418@', 'grandparent']]\n",
      "[['@I10843@', 'uncle'], ['@I4164@', 'grandchild'], ['@I1834@', 'child'], ['@I4290@', 'spouse'], ['@I6937@', 'nephew'], ['@I8747@', 'grandchild'], ['@I8746@', 'spouse'], ['@I9391@', 'uncle'], ['@I9395@', 'grandchild'], ['@I9396@', 'spouse'], ['@I8168@', 'grandparent']]\n",
      "[['@I8876@', 'parent'], ['@I10841@', 'nephew'], ['@I1834@', 'grandchild'], ['@I4290@', 'spouse'], ['@I6937@', 'nephew'], ['@I8747@', 'grandchild'], ['@I8746@', 'spouse'], ['@I9391@', 'uncle'], ['@I9395@', 'grandchild'], ['@I9396@', 'spouse'], ['@I8168@', 'grandparent']]\n",
      "[['@I8750@', 'grandparent'], ['@I8746@', 'grandparent'], ['@I8047@', 'nephew'], ['@I900@', 'grandchild'], ['@I896@', 'grandchild'], ['@I891@', 'grandchild'], ['@I7576@', 'grandchild'], ['@I7581@', 'grandchild'], ['@I2187@', 'grandchild'], ['@I2188@', 'spouse'], ['@I2191@', 'grandparent'], ['@I2193@', 'grandparent'], ['@I2195@', 'grandparent'], ['@I2197@', 'grandparent'], ['@I2199@', 'grandparent'], ['@I2201@', 'grandparent'], ['@I2203@', 'grandparent'], ['@I2205@', 'grandparent'], ['@I2208@', 'grandparent'], ['@I2210@', 'grandparent'], ['@I2212@', 'grandparent'], ['@I5504@', 'grandparent'], ['@I5507@', 'grandparent'], ['@I5510@', 'grandparent'], ['@I5512@', 'grandparent'], ['@I5514@', 'grandparent'], ['@I5516@', 'grandparent'], ['@I5518@', 'grandparent'], ['@I5520@', 'grandparent'], ['@I5522@', 'grandparent'], ['@I5524@', 'grandparent'], ['@I5527@', 'grandparent'], ['@I5529@', 'grandparent'], ['@I5532@', 'grandparent'], ['@I5537@', 'grandparent']]\n",
      "[['@I8750@', 'grandparent'], ['@I8746@', 'grandparent'], ['@I8047@', 'nephew'], ['@I900@', 'grandchild'], ['@I896@', 'grandchild'], ['@I891@', 'grandchild'], ['@I7576@', 'grandchild'], ['@I7581@', 'grandchild'], ['@I2187@', 'grandchild'], ['@I2188@', 'spouse'], ['@I2191@', 'grandparent'], ['@I2193@', 'grandparent'], ['@I2195@', 'grandparent'], ['@I2197@', 'grandparent'], ['@I2199@', 'grandparent'], ['@I2201@', 'grandparent'], ['@I2203@', 'grandparent'], ['@I2205@', 'grandparent'], ['@I2208@', 'grandparent'], ['@I2210@', 'grandparent'], ['@I2212@', 'grandparent'], ['@I5504@', 'grandparent'], ['@I5507@', 'grandparent'], ['@I5510@', 'grandparent'], ['@I5512@', 'grandparent'], ['@I5514@', 'grandparent'], ['@I5516@', 'grandparent'], ['@I5518@', 'grandparent'], ['@I5520@', 'grandparent'], ['@I5522@', 'grandparent'], ['@I5524@', 'grandparent'], ['@I5527@', 'grandparent'], ['@I5529@', 'grandparent'], ['@I5532@', 'grandparent'], ['@I5537@', 'grandparent']]\n",
      "[['@I6329@', 'spouse'], ['@I6332@', 'grandparent'], ['@I6335@', 'grandparent'], ['@I6337@', 'grandparent'], ['@I6339@', 'grandparent'], ['@I6416@', 'nephew'], ['@I6413@', 'grandchild'], ['@I6409@', 'grandchild'], ['@I6407@', 'grandchild'], ['@I6404@', 'grandchild'], ['@I6401@', 'grandchild'], ['@I6396@', 'grandchild'], ['@I6393@', 'grandchild'], ['@I6388@', 'grandchild'], ['@I368@', 'grandchild'], ['@I4346@', 'grandchild'], ['@I360@', 'grandchild'], ['@I453@', 'grandchild'], ['@I5340@', 'grandchild'], ['@I5333@', 'grandchild'], ['@I5327@', 'grandchild'], ['@I7127@', 'grandchild'], ['@I10362@', 'child'], ['@I10361@', 'spouse'], ['@I10374@', 'grandparent'], ['@I10019@', 'grandparent'], ['@I10017@', 'grandparent'], ['@I10373@', 'grandparent'], ['@I10371@', 'grandparent'], ['@I10369@', 'grandparent'], ['@I10367@', 'grandparent'], ['@I10364@', 'grandparent'], ['@I9985@', 'sibling']]\n",
      "[['@I6329@', 'spouse'], ['@I6331@', 'parent'], ['@I6334@', 'grandparent'], ['@I6336@', 'grandparent'], ['@I6338@', 'grandparent'], ['@I6385@', 'uncle'], ['@I6414@', 'grandchild'], ['@I6411@', 'grandchild'], ['@I6408@', 'grandchild'], ['@I6406@', 'grandchild'], ['@I6402@', 'grandchild'], ['@I6398@', 'grandchild'], ['@I6394@', 'grandchild'], ['@I6391@', 'grandchild'], ['@I6386@', 'grandchild'], ['@I2613@', 'grandchild'], ['@I4250@', 'grandchild'], ['@I455@', 'grandchild'], ['@I5341@', 'grandchild'], ['@I5336@', 'grandchild'], ['@I5331@', 'grandchild'], ['@I9877@', 'grandchild'], ['@I10362@', 'grandchild'], ['@I10361@', 'spouse'], ['@I10375@', 'parent'], ['@I10020@', 'grandparent'], ['@I10018@', 'grandparent'], ['@I10016@', 'grandparent'], ['@I10372@', 'grandparent'], ['@I10370@', 'grandparent'], ['@I10368@', 'grandparent'], ['@I10365@', 'grandparent'], ['@I9985@', 'uncle']]\n",
      "[['@I7160@', 'grandchild'], ['@I7158@', 'child'], ['@I6981@', 'grandchild'], ['@I3190@', 'grandchild'], ['@I3189@', 'spouse'], ['@I6911@', 'grandparent'], ['@I6917@', 'grandparent'], ['@I7507@', 'grandparent'], ['@I7503@', 'grandparent'], ['@I7363@', 'grandparent'], ['@I7359@', 'grandparent']]\n",
      "[['@I7162@', 'child'], ['@I7158@', 'grandchild'], ['@I6981@', 'grandchild'], ['@I3190@', 'grandchild'], ['@I3189@', 'spouse'], ['@I6911@', 'grandparent'], ['@I6917@', 'grandparent'], ['@I7507@', 'grandparent'], ['@I7503@', 'grandparent'], ['@I7363@', 'grandparent'], ['@I7359@', 'grandparent']]\n",
      "[['@I4823@', 'grandchild'], ['@I4819@', 'grandchild'], ['@I4815@', 'grandchild'], ['@I4811@', 'grandchild'], ['@I5633@', 'grandchild'], ['@I5634@', 'grandchild'], ['@I5636@', 'grandchild'], ['@I5639@', 'grandchild'], ['@I5641@', 'grandchild'], ['@I5644@', 'grandchild'], ['@I5647@', 'grandchild'], ['@I5649@', 'grandchild'], ['@I5651@', 'grandchild'], ['@I5568@', 'grandchild'], ['@I5565@', 'grandchild'], ['@I5563@', 'grandchild'], ['@I5561@', 'grandchild'], ['@I5559@', 'grandchild'], ['@I5557@', 'grandchild'], ['@I5555@', 'grandchild'], ['@I5553@', 'grandchild'], ['@I5551@', 'grandchild']]\n",
      "[['@I4823@', 'grandchild'], ['@I4819@', 'grandchild'], ['@I4815@', 'grandchild'], ['@I4811@', 'grandchild'], ['@I5633@', 'grandchild'], ['@I5634@', 'grandchild'], ['@I5636@', 'grandchild'], ['@I5639@', 'grandchild'], ['@I5641@', 'grandchild'], ['@I5644@', 'grandchild'], ['@I5647@', 'grandchild'], ['@I5649@', 'grandchild'], ['@I5651@', 'grandchild'], ['@I5568@', 'grandchild'], ['@I5565@', 'grandchild'], ['@I5563@', 'grandchild'], ['@I5561@', 'grandchild'], ['@I5559@', 'grandchild'], ['@I5557@', 'grandchild'], ['@I5555@', 'grandchild'], ['@I5553@', 'grandchild'], ['@I5551@', 'grandchild']]\n"
     ]
    }
   ],
   "source": [
    "# /!\\ Very long : takes up to 15 minutes /!\\\n",
    "test = Test(\"./ged docs/Queen_Eliz_II.ged\")"
   ]
  },
  {
   "cell_type": "code",
   "execution_count": 3,
   "metadata": {},
   "outputs": [
    {
     "data": {
      "text/html": [
       "<div>\n",
       "<style scoped>\n",
       "    .dataframe tbody tr th:only-of-type {\n",
       "        vertical-align: middle;\n",
       "    }\n",
       "\n",
       "    .dataframe tbody tr th {\n",
       "        vertical-align: top;\n",
       "    }\n",
       "\n",
       "    .dataframe thead th {\n",
       "        text-align: right;\n",
       "    }\n",
       "</style>\n",
       "<table border=\"1\" class=\"dataframe\">\n",
       "  <thead>\n",
       "    <tr style=\"text-align: right;\">\n",
       "      <th></th>\n",
       "      <th>Path</th>\n",
       "      <th>Distance</th>\n",
       "      <th>Execution time (s)</th>\n",
       "      <th>Dijkstar execution time (s)</th>\n",
       "    </tr>\n",
       "    <tr>\n",
       "      <th>Individuals</th>\n",
       "      <th></th>\n",
       "      <th></th>\n",
       "      <th></th>\n",
       "      <th></th>\n",
       "    </tr>\n",
       "  </thead>\n",
       "  <tbody>\n",
       "    <tr>\n",
       "      <th>[@I8877@, @I8168@]</th>\n",
       "      <td>Thomas (de) is the uncle of the grand daughter...</td>\n",
       "      <td>26</td>\n",
       "      <td>22.042447</td>\n",
       "      <td>21.606681</td>\n",
       "    </tr>\n",
       "    <tr>\n",
       "      <th>[@I10695@, @I4304@]</th>\n",
       "      <td>Donnchad MACMURCHADA, King of Leinster is the ...</td>\n",
       "      <td>29</td>\n",
       "      <td>21.796385</td>\n",
       "      <td>21.763825</td>\n",
       "    </tr>\n",
       "    <tr>\n",
       "      <th>[@I10786@, @I6819@]</th>\n",
       "      <td>Margaret is the grand daughter of the grand da...</td>\n",
       "      <td>30</td>\n",
       "      <td>21.446276</td>\n",
       "      <td>21.518774</td>\n",
       "    </tr>\n",
       "    <tr>\n",
       "      <th>[@I7164@, @I7359@]</th>\n",
       "      <td>John  (4th Lord GLAMIS) is the grand son of th...</td>\n",
       "      <td>30</td>\n",
       "      <td>21.440625</td>\n",
       "      <td>21.627773</td>\n",
       "    </tr>\n",
       "    <tr>\n",
       "      <th>[@I1281@, @I10418@]</th>\n",
       "      <td>Millicent is the aunt of the grand son of Sir ...</td>\n",
       "      <td>34</td>\n",
       "      <td>24.330650</td>\n",
       "      <td>24.308654</td>\n",
       "    </tr>\n",
       "    <tr>\n",
       "      <th>[@I1869@, @I10560@]</th>\n",
       "      <td>Hunuil of GOTHS is the wife of the grand mothe...</td>\n",
       "      <td>54</td>\n",
       "      <td>38.770838</td>\n",
       "      <td>37.939617</td>\n",
       "    </tr>\n",
       "    <tr>\n",
       "      <th>[@I4828@, @I5551@]</th>\n",
       "      <td>Fer Corb MacMOGA (75th MONARCH) of IRELAND (Fe...</td>\n",
       "      <td>66</td>\n",
       "      <td>42.111844</td>\n",
       "      <td>42.654865</td>\n",
       "    </tr>\n",
       "    <tr>\n",
       "      <th>[@I6330@, @I9985@]</th>\n",
       "      <td>al-Hasan al-Sibt ibn 'ALI (Caliph) is the husb...</td>\n",
       "      <td>93</td>\n",
       "      <td>63.320676</td>\n",
       "      <td>62.692368</td>\n",
       "    </tr>\n",
       "    <tr>\n",
       "      <th>[@I8754@, @I5537@]</th>\n",
       "      <td>Sioda (of the) EARDAIDHE is the grand father o...</td>\n",
       "      <td>103</td>\n",
       "      <td>65.928664</td>\n",
       "      <td>65.558772</td>\n",
       "    </tr>\n",
       "    <tr>\n",
       "      <th>[@I6329@, @I6228@]</th>\n",
       "      <td>Kamose (King) of THEBES is the grand father of...</td>\n",
       "      <td>127</td>\n",
       "      <td>82.114164</td>\n",
       "      <td>82.668065</td>\n",
       "    </tr>\n",
       "  </tbody>\n",
       "</table>\n",
       "</div>"
      ],
      "text/plain": [
       "                                                                  Path  \\\n",
       "Individuals                                                              \n",
       "[@I8877@, @I8168@]   Thomas (de) is the uncle of the grand daughter...   \n",
       "[@I10695@, @I4304@]  Donnchad MACMURCHADA, King of Leinster is the ...   \n",
       "[@I10786@, @I6819@]  Margaret is the grand daughter of the grand da...   \n",
       "[@I7164@, @I7359@]   John  (4th Lord GLAMIS) is the grand son of th...   \n",
       "[@I1281@, @I10418@]  Millicent is the aunt of the grand son of Sir ...   \n",
       "[@I1869@, @I10560@]  Hunuil of GOTHS is the wife of the grand mothe...   \n",
       "[@I4828@, @I5551@]   Fer Corb MacMOGA (75th MONARCH) of IRELAND (Fe...   \n",
       "[@I6330@, @I9985@]   al-Hasan al-Sibt ibn 'ALI (Caliph) is the husb...   \n",
       "[@I8754@, @I5537@]   Sioda (of the) EARDAIDHE is the grand father o...   \n",
       "[@I6329@, @I6228@]   Kamose (King) of THEBES is the grand father of...   \n",
       "\n",
       "                     Distance  Execution time (s)  Dijkstar execution time (s)  \n",
       "Individuals                                                                     \n",
       "[@I8877@, @I8168@]         26           22.042447                    21.606681  \n",
       "[@I10695@, @I4304@]        29           21.796385                    21.763825  \n",
       "[@I10786@, @I6819@]        30           21.446276                    21.518774  \n",
       "[@I7164@, @I7359@]         30           21.440625                    21.627773  \n",
       "[@I1281@, @I10418@]        34           24.330650                    24.308654  \n",
       "[@I1869@, @I10560@]        54           38.770838                    37.939617  \n",
       "[@I4828@, @I5551@]         66           42.111844                    42.654865  \n",
       "[@I6330@, @I9985@]         93           63.320676                    62.692368  \n",
       "[@I8754@, @I5537@]        103           65.928664                    65.558772  \n",
       "[@I6329@, @I6228@]        127           82.114164                    82.668065  "
      ]
     },
     "execution_count": 3,
     "metadata": {},
     "output_type": "execute_result"
    }
   ],
   "source": [
    "test.comparison_Dataframe()"
   ]
  },
  {
   "cell_type": "code",
   "execution_count": 7,
   "metadata": {},
   "outputs": [
    {
     "data": {
      "text/plain": [
       "46.44357798099518"
      ]
     },
     "execution_count": 7,
     "metadata": {},
     "output_type": "execute_result"
    }
   ],
   "source": [
    "test.average()"
   ]
  },
  {
   "cell_type": "code",
   "execution_count": 4,
   "metadata": {},
   "outputs": [
    {
     "data": {
      "image/png": "[encoded data removed]",
      "text/plain": [
       "<Figure size 432x288 with 1 Axes>"
      ]
     },
     "metadata": {
      "needs_background": "light"
     },
     "output_type": "display_data"
    }
   ],
   "source": [
    "test.plot_Distance_Time()"
   ]
  }
 ],
 "metadata": {
  "kernelspec": {
   "display_name": "Python 3.9.12 ('base')",
   "language": "python",
   "name": "python3"
  },
  "language_info": {
   "codemirror_mode": {
    "name": "ipython",
    "version": 3
   },
   "file_extension": ".py",
   "mimetype": "text/x-python",
   "name": "python",
   "nbconvert_exporter": "python",
   "pygments_lexer": "ipython3",
   "version": "3.9.12"
  },
  "orig_nbformat": 4,
  "vscode": {
   "interpreter": {
    "hash": "fa633476d90ebc5c342c0ebd58df75a6a0dad7836670477e29bdaa57f1aacce8"
   }
  }
 },
 "nbformat": 4,
 "nbformat_minor": 2
}
