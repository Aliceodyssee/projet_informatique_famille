{
 "cells": [
  {
   "cell_type": "markdown",
   "metadata": {},
   "source": [
    "# Tests"
   ]
  },
  {
   "cell_type": "markdown",
   "metadata": {},
   "source": [
    "## Basic tests"
   ]
  },
  {
   "cell_type": "markdown",
   "metadata": {},
   "source": [
    "### Utilisation of classes"
   ]
  },
  {
   "cell_type": "code",
   "execution_count": 2,
   "metadata": {},
   "outputs": [],
   "source": [
    "from class_Path import *\n",
    "file_path = \"./ged docs/Queen_Eliz_II.ged\""
   ]
  },
  {
   "cell_type": "code",
   "execution_count": 3,
   "metadata": {},
   "outputs": [],
   "source": [
    "graph = Graph(file_path)\n",
    "path = Path(file_path)"
   ]
  },
  {
   "cell_type": "code",
   "execution_count": 8,
   "metadata": {},
   "outputs": [],
   "source": [
    "gedcom_parser = Parser()\n",
    "gedcom_parser.parse_file(file_path)\n",
    "root_child_elements = gedcom_parser.get_root_child_elements()\n",
    "\n",
    "def find_IndividualElement(first_name,last_name):\n",
    "    \"\"\"\n",
    "    Get Individual element of ged with first names and last name\n",
    "\n",
    "    Parameters\n",
    "    ---\n",
    "    first_names : str\n",
    "        complete first names of the individual\n",
    "    last_name : str\n",
    "        last names of the individual \n",
    "\n",
    "    Returns \n",
    "    ---\n",
    "    bool \n",
    "        Tells if the individual was found\n",
    "    IndividualElement\n",
    "        IndividualElement corresponding to the individual in the ged\n",
    "\n",
    "    \"\"\"\n",
    "    for element in root_child_elements:\n",
    "        if isinstance(element, IndividualElement):\n",
    "            if element.surname_match(last_name) and element.given_name_match(first_name):\n",
    "                return (True, element)\n",
    "    return [False, element]"
   ]
  },
  {
   "cell_type": "code",
   "execution_count": 9,
   "metadata": {},
   "outputs": [],
   "source": [
    "ind1bis = find_IndividualElement(\"Edward VII\",\"Wettin\")[1].get_pointer()\n",
    "ind2bis = find_IndividualElement(\"John William of Orange\", \"Friso\")[1].get_pointer()"
   ]
  },
  {
   "cell_type": "code",
   "execution_count": 11,
   "metadata": {},
   "outputs": [
    {
     "name": "stdout",
     "output_type": "stream",
     "text": [
      "(11, [['@I3141@', 'grandparent'], ['@I3320@', 'grandparent'], ['@I3321@', 'sibling'], ['@I3615@', 'spouse'], ['@I3613@', 'parent']])\n"
     ]
    }
   ],
   "source": [
    "print(path.shortest_path(ind1bis,ind2bis))"
   ]
  },
  {
   "cell_type": "code",
   "execution_count": 10,
   "metadata": {},
   "outputs": [
    {
     "data": {
      "text/plain": [
       "[11,\n",
       " 'John William of Orange is the father of the husband of the sister of the grand father of the grand father of Edward VII.']"
      ]
     },
     "execution_count": 10,
     "metadata": {},
     "output_type": "execute_result"
    }
   ],
   "source": [
    "path.get(ind1bis,ind2bis)"
   ]
  },
  {
   "cell_type": "code",
   "execution_count": null,
   "metadata": {},
   "outputs": [],
   "source": []
  },
  {
   "cell_type": "markdown",
   "metadata": {},
   "source": [
    "## Parameters tests"
   ]
  },
  {
   "cell_type": "code",
   "execution_count": 1,
   "metadata": {},
   "outputs": [],
   "source": [
    "from class_Test import *"
   ]
  },
  {
   "cell_type": "markdown",
   "metadata": {},
   "source": [
    "### Queen_Eliz_II.ged"
   ]
  },
  {
   "cell_type": "code",
   "execution_count": 2,
   "metadata": {},
   "outputs": [],
   "source": [
    "# /!\\ Long : takes about 2 minutes /!\\\n",
    "test = Test(\"./ged docs/Queen_Eliz_II.ged\")"
   ]
  },
  {
   "cell_type": "code",
   "execution_count": 3,
   "metadata": {},
   "outputs": [
    {
     "data": {
      "text/html": [
       "<div>\n",
       "<style scoped>\n",
       "    .dataframe tbody tr th:only-of-type {\n",
       "        vertical-align: middle;\n",
       "    }\n",
       "\n",
       "    .dataframe tbody tr th {\n",
       "        vertical-align: top;\n",
       "    }\n",
       "\n",
       "    .dataframe thead th {\n",
       "        text-align: right;\n",
       "    }\n",
       "</style>\n",
       "<table border=\"1\" class=\"dataframe\">\n",
       "  <thead>\n",
       "    <tr style=\"text-align: right;\">\n",
       "      <th></th>\n",
       "      <th>Path</th>\n",
       "      <th>Distance</th>\n",
       "      <th>Dijkstar distance</th>\n",
       "      <th>Execution time (s)</th>\n",
       "      <th>Dijkstar execution time (s)</th>\n",
       "      <th>Difference of execution time (s)</th>\n",
       "    </tr>\n",
       "    <tr>\n",
       "      <th>Individuals</th>\n",
       "      <th></th>\n",
       "      <th></th>\n",
       "      <th></th>\n",
       "      <th></th>\n",
       "      <th></th>\n",
       "      <th></th>\n",
       "    </tr>\n",
       "  </thead>\n",
       "  <tbody>\n",
       "    <tr>\n",
       "      <th>[@I10183@, @I6451@]</th>\n",
       "      <td>Bethoc Beatrix MacKenneth Heiress of Scone Pri...</td>\n",
       "      <td>2</td>\n",
       "      <td>2</td>\n",
       "      <td>3.839785</td>\n",
       "      <td>3.776983</td>\n",
       "      <td>0.062802</td>\n",
       "    </tr>\n",
       "    <tr>\n",
       "      <th>[@I10534@, @I5636@]</th>\n",
       "      <td>Philip (Sir) de BRAOSE (BRIOUZE) is the son of...</td>\n",
       "      <td>5</td>\n",
       "      <td>5</td>\n",
       "      <td>4.769518</td>\n",
       "      <td>5.275891</td>\n",
       "      <td>-0.506373</td>\n",
       "    </tr>\n",
       "    <tr>\n",
       "      <th>[@I2208@, @I10321@]</th>\n",
       "      <td>Agnes is the grand son of the grand daughter o...</td>\n",
       "      <td>6</td>\n",
       "      <td>6</td>\n",
       "      <td>5.399910</td>\n",
       "      <td>5.228283</td>\n",
       "      <td>0.171627</td>\n",
       "    </tr>\n",
       "    <tr>\n",
       "      <th>[@I376@, @I6572@]</th>\n",
       "      <td>Henry (of Roslin) ST. CLAIR (SINCLAIR) is the ...</td>\n",
       "      <td>8</td>\n",
       "      <td>8</td>\n",
       "      <td>7.691059</td>\n",
       "      <td>7.916301</td>\n",
       "      <td>-0.225242</td>\n",
       "    </tr>\n",
       "    <tr>\n",
       "      <th>[@I1826@, @I11242@]</th>\n",
       "      <td>Elizabeth is the daughter of the grand daughte...</td>\n",
       "      <td>15</td>\n",
       "      <td>15</td>\n",
       "      <td>13.141579</td>\n",
       "      <td>13.387363</td>\n",
       "      <td>-0.245784</td>\n",
       "    </tr>\n",
       "  </tbody>\n",
       "</table>\n",
       "</div>"
      ],
      "text/plain": [
       "                                                                  Path  \\\n",
       "Individuals                                                              \n",
       "[@I10183@, @I6451@]  Bethoc Beatrix MacKenneth Heiress of Scone Pri...   \n",
       "[@I10534@, @I5636@]  Philip (Sir) de BRAOSE (BRIOUZE) is the son of...   \n",
       "[@I2208@, @I10321@]  Agnes is the grand son of the grand daughter o...   \n",
       "[@I376@, @I6572@]    Henry (of Roslin) ST. CLAIR (SINCLAIR) is the ...   \n",
       "[@I1826@, @I11242@]  Elizabeth is the daughter of the grand daughte...   \n",
       "\n",
       "                     Distance  Dijkstar distance  Execution time (s)  \\\n",
       "Individuals                                                            \n",
       "[@I10183@, @I6451@]         2                  2            3.839785   \n",
       "[@I10534@, @I5636@]         5                  5            4.769518   \n",
       "[@I2208@, @I10321@]         6                  6            5.399910   \n",
       "[@I376@, @I6572@]           8                  8            7.691059   \n",
       "[@I1826@, @I11242@]        15                 15           13.141579   \n",
       "\n",
       "                     Dijkstar execution time (s)  \\\n",
       "Individuals                                        \n",
       "[@I10183@, @I6451@]                     3.776983   \n",
       "[@I10534@, @I5636@]                     5.275891   \n",
       "[@I2208@, @I10321@]                     5.228283   \n",
       "[@I376@, @I6572@]                       7.916301   \n",
       "[@I1826@, @I11242@]                    13.387363   \n",
       "\n",
       "                     Difference of execution time (s)  \n",
       "Individuals                                            \n",
       "[@I10183@, @I6451@]                          0.062802  \n",
       "[@I10534@, @I5636@]                         -0.506373  \n",
       "[@I2208@, @I10321@]                          0.171627  \n",
       "[@I376@, @I6572@]                           -0.225242  \n",
       "[@I1826@, @I11242@]                         -0.245784  "
      ]
     },
     "execution_count": 3,
     "metadata": {},
     "output_type": "execute_result"
    }
   ],
   "source": [
    "test.comparison_Dataframe()"
   ]
  },
  {
   "cell_type": "code",
   "execution_count": 4,
   "metadata": {},
   "outputs": [
    {
     "data": {
      "text/plain": [
       "(6.968370199203491, 7.1169641494750975)"
      ]
     },
     "execution_count": 4,
     "metadata": {},
     "output_type": "execute_result"
    }
   ],
   "source": [
    "test.average()"
   ]
  },
  {
   "cell_type": "code",
   "execution_count": 5,
   "metadata": {},
   "outputs": [
    {
     "data": {
      "image/png": "[encoded data removed]",
      "text/plain": [
       "<Figure size 432x288 with 1 Axes>"
      ]
     },
     "metadata": {
      "needs_background": "light"
     },
     "output_type": "display_data"
    }
   ],
   "source": [
    "test.plot_Distance_Time()"
   ]
  },
  {
   "cell_type": "code",
   "execution_count": 6,
   "metadata": {},
   "outputs": [
    {
     "name": "stdout",
     "output_type": "stream",
     "text": [
      "In 40.0% of cases, the Dijkstra algorithm is faster.\n"
     ]
    },
    {
     "data": {
      "image/png": "[encoded data removed]",
      "text/plain": [
       "<Figure size 432x288 with 1 Axes>"
      ]
     },
     "metadata": {
      "needs_background": "light"
     },
     "output_type": "display_data"
    }
   ],
   "source": [
    "test.plot_difference()"
   ]
  },
  {
   "cell_type": "markdown",
   "metadata": {},
   "source": [
    "## Validation "
   ]
  },
  {
   "cell_type": "code",
   "execution_count": 1,
   "metadata": {},
   "outputs": [
    {
     "name": "stdout",
     "output_type": "stream",
     "text": [
      "(11, [['@I3141@', 'grandparent'], ['@I3138@', 'parent'], ['@I3321@', 'uncle'], ['@I3615@', 'spouse'], ['@I3613@', 'parent']])\n"
     ]
    },
    {
     "data": {
      "text/plain": [
       "[11,\n",
       " 'John William of Orange is the father of the husband of the aunt of the father of the grand father of Edward VII.']"
      ]
     },
     "execution_count": 1,
     "metadata": {},
     "output_type": "execute_result"
    }
   ],
   "source": [
    "from gedcom.element.individual import IndividualElement\n",
    "from gedcom.parser import Parser\n",
    "from class_Path import *\n",
    "\n",
    "gedcom_parser = Parser()\n",
    "\n",
    "file_path = './ged docs/Queen_Eliz_II.ged'\n",
    "path = Path(file_path)\n",
    "gedcom_parser = Parser()\n",
    "gedcom_parser.parse_file(file_path)\n",
    "root_child_elements = gedcom_parser.get_root_child_elements()\n",
    "\n",
    "def find_IndividualElement(first_name,last_name):\n",
    "    \"\"\"\n",
    "    Get Individual element of ged with first names and last name\n",
    "\n",
    "    Parameters\n",
    "    ---\n",
    "    first_names : str\n",
    "        complete first names of the individual\n",
    "    last_name : str\n",
    "        last names of the individual \n",
    "\n",
    "    Returns \n",
    "    ---\n",
    "    bool \n",
    "        Tells if the individual was found\n",
    "    IndividualElement\n",
    "        IndividualElement corresponding to the individual in the ged\n",
    "\n",
    "    \"\"\"\n",
    "    for element in root_child_elements:\n",
    "        if isinstance(element, IndividualElement):\n",
    "            if element.surname_match(last_name) and element.given_name_match(first_name):\n",
    "                return (True, element)\n",
    "    return [False, element]\n",
    "\n",
    "\n",
    "path = Path(file_path)\n",
    "\n",
    "ind1 = find_IndividualElement(\"Elizabeth II Alexandra Mary\",\"Windsor\")[1].get_pointer()\n",
    "ind2 = find_IndividualElement(\"George V\", \"Windsor\")[1].get_pointer()\n",
    "\n",
    "#print(path.shortest_path(ind1,ind2))\n",
    "#path.get(ind1,ind2)\n",
    "\n",
    "ind1bis = find_IndividualElement(\"Edward VII\",\"Wettin\")[1].get_pointer()\n",
    "ind2bis = find_IndividualElement(\"John William of Orange\", \"Friso\")[1].get_pointer()\n",
    "\n",
    "print(path.shortest_path(ind1bis,ind2bis))\n",
    "path.get(ind1bis,ind2bis)[1]"
   ]
  }
 ],
 "metadata": {
  "kernelspec": {
   "display_name": "Python 3.9.12 ('base')",
   "language": "python",
   "name": "python3"
  },
  "language_info": {
   "codemirror_mode": {
    "name": "ipython",
    "version": 3
   },
   "file_extension": ".py",
   "mimetype": "text/x-python",
   "name": "python",
   "nbconvert_exporter": "python",
   "pygments_lexer": "ipython3",
   "version": "3.9.12"
  },
  "orig_nbformat": 4,
  "vscode": {
   "interpreter": {
    "hash": "fa633476d90ebc5c342c0ebd58df75a6a0dad7836670477e29bdaa57f1aacce8"
   }
  }
 },
 "nbformat": 4,
 "nbformat_minor": 2
}
