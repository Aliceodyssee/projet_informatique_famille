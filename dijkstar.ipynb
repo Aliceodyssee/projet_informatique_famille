{
 "cells": [
  {
   "cell_type": "code",
   "execution_count": 1,
   "metadata": {},
   "outputs": [],
   "source": [
    "# Imports\n",
    "from gedcom.element.individual import IndividualElement\n",
    "from gedcom.parser import Parser\n",
    "import gedcom.tags\n",
    "import numpy as np\n",
    "import pandas as pd\n",
    "import copy\n",
    "import math\n",
    "from dijkstar import Graph as dij_Graph, find_path\n",
    "from class_Graph import *\n",
    "from class_Path import *"
   ]
  },
  {
   "cell_type": "code",
   "execution_count": 43,
   "metadata": {},
   "outputs": [],
   "source": [
    "dij_graph = dij_Graph()\n",
    "graph = Graph(\"./ged docs/Queen_Eliz_II.ged\").print()\n",
    "graph\n",
    "\n",
    "for edge1 in graph.keys() :\n",
    "    for edge2 in graph[edge1].keys() :\n",
    "        value,_ = graph[edge1][edge2]\n",
    "        dij_graph.add_edge(edge1,edge2,value)"
   ]
  },
  {
   "cell_type": "code",
   "execution_count": 45,
   "metadata": {},
   "outputs": [],
   "source": [
    "path, _,_,length = find_path(dij_graph,'@I8545@','@I9933@')"
   ]
  },
  {
   "cell_type": "code",
   "execution_count": 49,
   "metadata": {},
   "outputs": [
    {
     "name": "stdout",
     "output_type": "stream",
     "text": [
      "['@I8545@', ('@I8549@', 'grandparent'), ('@I5277@', 'uncle'), ('@I393@', 'spouse'), ('@I5302@', 'parent'), ('@I1371@', 'uncle'), ('@I1747@', 'grandchild'), ('@I1891@', 'spouse'), ('@I10679@', 'sibling'), ('@I9941@', 'grandchild'), ('@I9936@', 'grandchild'), '@I9933@']\n"
     ]
    }
   ],
   "source": [
    "new_path = copy.deepcopy(path)\n",
    "for i in range(len(path)) :\n",
    "    _ ,link = tuple(graph[path[i-1]][path[i]])\n",
    "    new_path[i] = (path[i], link)\n",
    "print(new_path)"
   ]
  }
 ],
 "metadata": {
  "kernelspec": {
   "display_name": "Python 3.9.12 ('base')",
   "language": "python",
   "name": "python3"
  },
  "language_info": {
   "codemirror_mode": {
    "name": "ipython",
    "version": 3
   },
   "file_extension": ".py",
   "mimetype": "text/x-python",
   "name": "python",
   "nbconvert_exporter": "python",
   "pygments_lexer": "ipython3",
   "version": "3.9.12"
  },
  "orig_nbformat": 4,
  "vscode": {
   "interpreter": {
    "hash": "fa633476d90ebc5c342c0ebd58df75a6a0dad7836670477e29bdaa57f1aacce8"
   }
  }
 },
 "nbformat": 4,
 "nbformat_minor": 2
}
