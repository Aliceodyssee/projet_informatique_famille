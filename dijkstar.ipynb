{
 "cells": [
  {
   "cell_type": "code",
   "execution_count": 1,
   "metadata": {},
   "outputs": [],
   "source": [
    "# Imports\n",
    "from gedcom.element.individual import IndividualElement\n",
    "from gedcom.parser import Parser\n",
    "import gedcom.tags\n",
    "import numpy as np\n",
    "import pandas as pd\n",
    "import copy\n",
    "import math\n",
    "from dijkstar import Graph as dij_Graph, find_path\n",
    "from class_Graph import *\n",
    "from class_Path import *"
   ]
  },
  {
   "cell_type": "code",
   "execution_count": 43,
   "metadata": {},
   "outputs": [],
   "source": [
    "dij_graph = dij_Graph()\n",
    "graph = Graph(\"./ged docs/Queen_Eliz_II.ged\").print()\n",
    "graph\n",
    "\n",
    "for edge1 in graph.keys() :\n",
    "    for edge2 in graph[edge1].keys() :\n",
    "        value,_ = graph[edge1][edge2]\n",
    "        dij_graph.add_edge(edge1,edge2,value)"
   ]
  },
  {
   "cell_type": "code",
   "execution_count": 45,
   "metadata": {},
   "outputs": [],
   "source": [
    "path, _,_,length = find_path(dij_graph,'@I8545@','@I9933@')"
   ]
  },
  {
   "cell_type": "code",
   "execution_count": 49,
   "metadata": {},
   "outputs": [
    {
     "name": "stdout",
     "output_type": "stream",
     "text": [
      "['@I8545@', ('@I8549@', 'grandparent'), ('@I5277@', 'uncle'), ('@I393@', 'spouse'), ('@I5302@', 'parent'), ('@I1371@', 'uncle'), ('@I1747@', 'grandchild'), ('@I1891@', 'spouse'), ('@I10679@', 'sibling'), ('@I9941@', 'grandchild'), ('@I9936@', 'grandchild'), '@I9933@']\n"
     ]
    }
   ],
   "source": [
    "new_path = copy.deepcopy(path)\n",
    "for i in range(len(path)) :\n",
    "    _ ,link = tuple(graph[path[i-1]][path[i]])\n",
    "    new_path[i] = (path[i], link)\n",
    "print(new_path)"
   ]
  },
  {
   "cell_type": "code",
   "execution_count": 2,
   "metadata": {},
   "outputs": [],
   "source": [
    "path_bis = Path(\"./ged docs/Queen_Eliz_II.ged\")"
   ]
  },
  {
   "cell_type": "code",
   "execution_count": 3,
   "metadata": {},
   "outputs": [
    {
     "name": "stdout",
     "output_type": "stream",
     "text": [
      "[['@I8549@', 'grandparent'], ['@I5277@', 'uncle'], ['@I393@', 'spouse'], ['@I5302@', 'parent'], ['@I1371@', 'uncle'], ['@I1747@', 'grandchild'], ['@I1891@', 'spouse'], ['@I9942@', 'nephew'], ['@I9941@', 'child'], ['@I9936@', 'grandchild'], ['@I9933@', 'grandchild']]\n"
     ]
    },
    {
     "data": {
      "text/plain": [
       "[27,\n",
       " 'Leonora de is the grand mother of the uncle of Ela Eleanor, who is the wife of the father of the uncle of Berengaria, who is the grand daughter of the husband of the nephew of Juana Fernandez, who is the daughter of the grand son of the grand daughter of John (Sir; of Beverstone) de.']"
      ]
     },
     "execution_count": 3,
     "metadata": {},
     "output_type": "execute_result"
    }
   ],
   "source": [
    "path_bis.get('@I8545@','@I9933@')"
   ]
  },
  {
   "cell_type": "code",
   "execution_count": 3,
   "metadata": {},
   "outputs": [
    {
     "name": "stdout",
     "output_type": "stream",
     "text": [
      "['@I8549@', '@I5277@', '@I393@', '@I5302@', '@I1371@', '@I1747@', '@I1891@', '@I10679@', '@I9941@', '@I9936@', '@I9933@']\n"
     ]
    },
    {
     "ename": "UnboundLocalError",
     "evalue": "local variable 'indvidual' referenced before assignment",
     "output_type": "error",
     "traceback": [
      "\u001b[0;31m---------------------------------------------------------------------------\u001b[0m",
      "\u001b[0;31mUnboundLocalError\u001b[0m                         Traceback (most recent call last)",
      "\u001b[1;32m/Users/theophiledechelotte/Documents/1A Mines/UE 22 - Ingéniérie Logicielle/Projet arbre généalogique/projet_informatique_famille/dijkstar.ipynb Cell 6'\u001b[0m in \u001b[0;36m<cell line: 1>\u001b[0;34m()\u001b[0m\n\u001b[0;32m----> <a href='vscode-notebook-cell:/Users/theophiledechelotte/Documents/1A%20Mines/UE%2022%20-%20Inge%CC%81nie%CC%81rie%20Logicielle/Projet%20arbre%20ge%CC%81ne%CC%81alogique/projet_informatique_famille/dijkstar.ipynb#ch0000007?line=0'>1</a>\u001b[0m path_bis\u001b[39m.\u001b[39;49mget_dij(\u001b[39m'\u001b[39;49m\u001b[39m@I8545@\u001b[39;49m\u001b[39m'\u001b[39;49m,\u001b[39m'\u001b[39;49m\u001b[39m@I9933@\u001b[39;49m\u001b[39m'\u001b[39;49m)\n",
      "File \u001b[0;32m~/Documents/1A Mines/UE 22 - Ingéniérie Logicielle/Projet arbre généalogique/projet_informatique_famille/class_Path.py:260\u001b[0m, in \u001b[0;36mPath.get_dij\u001b[0;34m(self, v1, v2)\u001b[0m\n\u001b[1;32m    257\u001b[0m \u001b[39mif\u001b[39;00m \u001b[39mself\u001b[39m\u001b[39m.\u001b[39mfind_Element(v2)[\u001b[39m0\u001b[39m] : element2 \u001b[39m=\u001b[39m \u001b[39mself\u001b[39m\u001b[39m.\u001b[39mfind_Element(v2)[\u001b[39m1\u001b[39m]\n\u001b[1;32m    258\u001b[0m name2, _ \u001b[39m=\u001b[39m element2\u001b[39m.\u001b[39mget_name()\n\u001b[0;32m--> 260\u001b[0m path_detail \u001b[39m+\u001b[39m\u001b[39m=\u001b[39m name2 \u001b[39m+\u001b[39m \u001b[39m\"\u001b[39m\u001b[39m is the \u001b[39m\u001b[39m\"\u001b[39m \u001b[39m+\u001b[39m \u001b[39mself\u001b[39;49m\u001b[39m.\u001b[39;49mgendered_link(dij_path[\u001b[39m0\u001b[39;49m][\u001b[39m0\u001b[39;49m], dij_path[\u001b[39m0\u001b[39;49m][\u001b[39m1\u001b[39;49m])\n\u001b[1;32m    261\u001b[0m \u001b[39mfor\u001b[39;00m i \u001b[39min\u001b[39;00m \u001b[39mrange\u001b[39m (\u001b[39m1\u001b[39m, \u001b[39mlen\u001b[39m(path)) :\n\u001b[1;32m    262\u001b[0m     ind, link \u001b[39m=\u001b[39m dij_path[i]\n",
      "File \u001b[0;32m~/Documents/1A Mines/UE 22 - Ingéniérie Logicielle/Projet arbre généalogique/projet_informatique_famille/class_Path.py:150\u001b[0m, in \u001b[0;36mPath.gendered_link\u001b[0;34m(self, tag, link)\u001b[0m\n\u001b[1;32m    133\u001b[0m \u001b[39m\"\"\"\u001b[39;00m\n\u001b[1;32m    134\u001b[0m \u001b[39mAdds gender to family link\u001b[39;00m\n\u001b[1;32m    135\u001b[0m \n\u001b[0;32m   (...)\u001b[0m\n\u001b[1;32m    145\u001b[0m \u001b[39m    link with gender\u001b[39;00m\n\u001b[1;32m    146\u001b[0m \u001b[39m\"\"\"\u001b[39;00m\n\u001b[1;32m    148\u001b[0m \u001b[39mif\u001b[39;00m \u001b[39mself\u001b[39m\u001b[39m.\u001b[39mfind_Element(tag)[\u001b[39m0\u001b[39m] : indvidual \u001b[39m=\u001b[39m \u001b[39mself\u001b[39m\u001b[39m.\u001b[39mfind_Element(tag)[\u001b[39m1\u001b[39m]\n\u001b[0;32m--> 150\u001b[0m \u001b[39mif\u001b[39;00m indvidual\u001b[39m.\u001b[39mget_gender() \u001b[39m==\u001b[39m \u001b[39m\"\u001b[39m\u001b[39mM\u001b[39m\u001b[39m\"\u001b[39m :\n\u001b[1;32m    151\u001b[0m     \u001b[39mreturn\u001b[39;00m \u001b[39mself\u001b[39m\u001b[39m.\u001b[39mlinks[link][\u001b[39m0\u001b[39m]\n\u001b[1;32m    152\u001b[0m \u001b[39melse\u001b[39;00m :\n",
      "\u001b[0;31mUnboundLocalError\u001b[0m: local variable 'indvidual' referenced before assignment"
     ]
    }
   ],
   "source": [
    "path_bis.get_dij('@I8545@','@I9933@')"
   ]
  }
 ],
 "metadata": {
  "kernelspec": {
   "display_name": "Python 3.9.12 ('base')",
   "language": "python",
   "name": "python3"
  },
  "language_info": {
   "codemirror_mode": {
    "name": "ipython",
    "version": 3
   },
   "file_extension": ".py",
   "mimetype": "text/x-python",
   "name": "python",
   "nbconvert_exporter": "python",
   "pygments_lexer": "ipython3",
   "version": "3.9.12"
  },
  "orig_nbformat": 4,
  "vscode": {
   "interpreter": {
    "hash": "fa633476d90ebc5c342c0ebd58df75a6a0dad7836670477e29bdaa57f1aacce8"
   }
  }
 },
 "nbformat": 4,
 "nbformat_minor": 2
}
