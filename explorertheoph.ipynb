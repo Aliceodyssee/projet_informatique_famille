{
 "cells": [
  {
   "cell_type": "markdown",
   "metadata": {},
   "source": [
    " ## Prise en main de la librairie GEDCOM"
   ]
  },
  {
   "cell_type": "markdown",
   "metadata": {},
   "source": [
    "### Conventions : \n",
    "Tag for Spouse FamiliyElement : 'FAMS'\n",
    "$\\\\$\n",
    "Tag for Childrens FamiliyElement : 'FAMC'"
   ]
  },
  {
   "cell_type": "code",
   "execution_count": 8,
   "metadata": {},
   "outputs": [],
   "source": [
    "from gedcom.element.individual import IndividualElement\n",
    "from gedcom.element.element import Element\n",
    "from gedcom.parser import Parser\n",
    "#from gedcom.element.element import Element\n",
    "#from gedcom.element.file import FileElement\n",
    "#from gedcom.element.object import ObjectElement"
   ]
  },
  {
   "cell_type": "code",
   "execution_count": 28,
   "metadata": {},
   "outputs": [],
   "source": [
    "file_path = 'Queen_Eliz_II.ged'\n",
    "gedcom_parser = Parser()\n",
    "gedcom_parser.parse_file(file_path)\n",
    "root_child_elements = gedcom_parser.get_root_child_elements()\n",
    "\n",
    "def find_child_data(first_names,last_name):\n",
    "    for element in root_child_elements:\n",
    "        if isinstance(element, IndividualElement):\n",
    "            if element.surname_match(last_name):\n",
    "                if element.given_name_match(first_names):\n",
    "                    L1 = []\n",
    "                    L2 = []\n",
    "                    (first, last) = element.get_name()\n",
    "                    print(\"Information about \" + first + \" \" + last + \":\")\n",
    "                    data = element.get_child_elements()\n",
    "                    for child in data :\n",
    "                        L1 += [child]\n",
    "                        L2 += [child.get_tag()]\n",
    "                    return L1, L2\n",
    "    return \"No matching person\""
   ]
  },
  {
   "cell_type": "code",
   "execution_count": 29,
   "metadata": {},
   "outputs": [
    {
     "name": "stdout",
     "output_type": "stream",
     "text": [
      "Information about Elizabeth II Alexandra Mary Windsor:\n"
     ]
    },
    {
     "data": {
      "text/plain": [
       "([<gedcom.element.element.Element at 0x1207ef730>,\n",
       "  <gedcom.element.element.Element at 0x1207ef760>,\n",
       "  <gedcom.element.element.Element at 0x1207ef790>,\n",
       "  <gedcom.element.element.Element at 0x1207ef7c0>,\n",
       "  <gedcom.element.element.Element at 0x1207ef8b0>,\n",
       "  <gedcom.element.element.Element at 0x1207ef880>,\n",
       "  <gedcom.element.element.Element at 0x1207ef9a0>,\n",
       "  <gedcom.element.element.Element at 0x1207ef9d0>],\n",
       " ['RIN', '_UID', '_UPD', 'NAME', 'SEX', 'BIRT', 'FAMS', 'FAMC'])"
      ]
     },
     "execution_count": 29,
     "metadata": {},
     "output_type": "execute_result"
    }
   ],
   "source": [
    "find_child_data(\"Elizabeth II Alexandra Mary\", \"Windsor\")"
   ]
  },
  {
   "cell_type": "code",
   "execution_count": 14,
   "metadata": {},
   "outputs": [],
   "source": [
    "def find_IndividualElement(first_names,last_name):\n",
    "    \"\"\"\n",
    "    Get Individual element of ged with first names and last name\n",
    "\n",
    "    Parameters\n",
    "    ---\n",
    "    first_names : str\n",
    "        complete first names of the individual\n",
    "    last_name : str\n",
    "        last names of the individual \n",
    "\n",
    "    Returns \n",
    "    ---\n",
    "    bool \n",
    "        Tells if the individual was found\n",
    "    IndividualElement\n",
    "        IndividualElement corresponding to the individual in the ged\n",
    "\n",
    "    \"\"\"\n",
    "    for element in root_child_elements:\n",
    "        if isinstance(element, IndividualElement):\n",
    "            if element.surname_match(last_name):\n",
    "                return (True, element)\n",
    "    return [False, element]"
   ]
  },
  {
   "cell_type": "code",
   "execution_count": 36,
   "metadata": {},
   "outputs": [],
   "source": [
    "def get_Spouse_FamilyElement(Individual):\n",
    "    \"\"\"\n",
    "    Get Spouse FamilyElements of an individual\n",
    "\n",
    "    Parameters\n",
    "    ---\n",
    "    Individual : IndividualElement\n",
    "\n",
    "    Returns\n",
    "    ---\n",
    "    list of FamilyElement \n",
    "    \"\"\"\n",
    "    return gedcom_parser.get_families(Individual,\"FAMS\")\n",
    "    "
   ]
  },
  {
   "cell_type": "code",
   "execution_count": 32,
   "metadata": {},
   "outputs": [],
   "source": [
    "def get_Childrens_FamilyElement(Individual):\n",
    "    \"\"\"\n",
    "    Get Childrens FamilyElements of an individual\n",
    "\n",
    "    Parameters\n",
    "    ---\n",
    "    Individual : IndividualElement\n",
    "\n",
    "    Returns\n",
    "    ---\n",
    "    list of FamilyElement \n",
    "    \"\"\"\n",
    "    return gedcom_parser.get_families(Individual,\"FAMC\")"
   ]
  },
  {
   "cell_type": "code",
   "execution_count": 38,
   "metadata": {},
   "outputs": [
    {
     "data": {
      "text/plain": [
       "[<gedcom.element.family.FamilyElement at 0x123055b20>]"
      ]
     },
     "execution_count": 38,
     "metadata": {},
     "output_type": "execute_result"
    }
   ],
   "source": [
    "get_Spouse_FamilyElement(find_IndividualElement(\"Elizabeth II Alexandra Mary\", \"Windsor\")[1])"
   ]
  },
  {
   "cell_type": "code",
   "execution_count": 39,
   "metadata": {},
   "outputs": [
    {
     "data": {
      "text/plain": [
       "[<gedcom.element.family.FamilyElement at 0x123055820>]"
      ]
     },
     "execution_count": 39,
     "metadata": {},
     "output_type": "execute_result"
    }
   ],
   "source": [
    "get_Childrens_FamilyElement(find_IndividualElement(\"Elizabeth II Alexandra Mary\", \"Windsor\")[1])"
   ]
  }
 ],
 "metadata": {
  "interpreter": {
   "hash": "fa633476d90ebc5c342c0ebd58df75a6a0dad7836670477e29bdaa57f1aacce8"
  },
  "kernelspec": {
   "display_name": "Python 3.9.12 ('base')",
   "language": "python",
   "name": "python3"
  },
  "language_info": {
   "codemirror_mode": {
    "name": "ipython",
    "version": 3
   },
   "file_extension": ".py",
   "mimetype": "text/x-python",
   "name": "python",
   "nbconvert_exporter": "python",
   "pygments_lexer": "ipython3",
   "version": "3.9.12"
  },
  "orig_nbformat": 4
 },
 "nbformat": 4,
 "nbformat_minor": 2
}
