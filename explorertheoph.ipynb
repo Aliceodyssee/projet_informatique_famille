{
 "cells": [
  {
   "cell_type": "markdown",
   "metadata": {},
   "source": [
    " ## Prise en main de la librairie GEDCOM"
   ]
  },
  {
   "cell_type": "code",
   "execution_count": 8,
   "metadata": {},
   "outputs": [],
   "source": [
    "from gedcom.element.individual import IndividualElement\n",
    "from gedcom.parser import Parser\n",
    "#from gedcom.element.element import Element\n",
    "#from gedcom.element.file import FileElement\n",
    "#from gedcom.element.object import ObjectElement"
   ]
  },
  {
   "cell_type": "code",
   "execution_count": 17,
   "metadata": {},
   "outputs": [],
   "source": [
    "file_path = 'Queen_Eliz_II.ged'\n",
    "gedcom_parser = Parser()\n",
    "gedcom_parser.parse_file(file_path)"
   ]
  },
  {
   "cell_type": "code",
   "execution_count": null,
   "metadata": {},
   "outputs": [],
   "source": [
    "1 SOUR \n",
    "2 NAME \n",
    "2 VERS 8.0.0.8367\n",
    "2 _RTLSAVE RTL\n",
    "2 CORP\n",
    "1 SUBM @U1@\n",
    "1 DEST \n",
    "1 DATE 17 JUN 2017\n",
    "2 TIME 12:02:31 \n",
    "2 _TIMEZONE GMT+9.5\n",
    "1 _RINS I11486,F6139,N5577,M0,R0,S0,U8,L0,P21,Q0,IF23234,FF115648\n",
    "1 _UID 59447DB5937471EA9548CA06F608A2FA\n",
    "1 _DESCRIPTION_AWARE Y\n",
    "0  _PUBLISH\n",
    "1 _USERNAME \n",
    "1 _DISABLED Y"
   ]
  },
  {
   "cell_type": "code",
   "execution_count": null,
   "metadata": {},
   "outputs": [],
   "source": []
  },
  {
   "cell_type": "code",
   "execution_count": null,
   "metadata": {},
   "outputs": [],
   "source": []
  }
 ],
 "metadata": {
  "interpreter": {
   "hash": "fa633476d90ebc5c342c0ebd58df75a6a0dad7836670477e29bdaa57f1aacce8"
  },
  "kernelspec": {
   "display_name": "Python 3.9.12 ('base')",
   "language": "python",
   "name": "python3"
  },
  "language_info": {
   "codemirror_mode": {
    "name": "ipython",
    "version": 3
   },
   "file_extension": ".py",
   "mimetype": "text/x-python",
   "name": "python",
   "nbconvert_exporter": "python",
   "pygments_lexer": "ipython3",
   "version": "3.9.12"
  },
  "orig_nbformat": 4
 },
 "nbformat": 4,
 "nbformat_minor": 2
}
