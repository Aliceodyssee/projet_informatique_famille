{
 "cells": [
  {
   "cell_type": "markdown",
   "metadata": {},
   "source": [
    " ## Prise en main de la librairie GEDCOM"
   ]
  },
  {
   "cell_type": "code",
   "execution_count": 8,
   "metadata": {},
   "outputs": [],
   "source": [
    "from gedcom.element.individual import IndividualElement\n",
    "from gedcom.element.element import Element\n",
    "from gedcom.parser import Parser\n",
    "#from gedcom.element.element import Element\n",
    "#from gedcom.element.file import FileElement\n",
    "#from gedcom.element.object import ObjectElement"
   ]
  },
  {
   "cell_type": "code",
   "execution_count": 61,
   "metadata": {},
   "outputs": [],
   "source": [
    "file_path = 'Queen_Eliz_II.ged'\n",
    "gedcom_parser = Parser()\n",
    "gedcom_parser.parse_file(file_path)\n",
    "root_child_elements = gedcom_parser.get_root_child_elements()\n",
    "\n",
    "def find_child_data(first_names,last_name):\n",
    "    for element in root_child_elements:\n",
    "        if isinstance(element, IndividualElement):\n",
    "            if element.surname_match(last_name):\n",
    "                print(\"First step\")\n",
    "                if element.given_name_match(first_names):\n",
    "                    (first, last) = element.get_name()\n",
    "                    print(\"Information about \" + first + \" \" + last + \":\")\n",
    "                    data = element.get_child_elements()\n",
    "                    for child in data :\n",
    "                        print(child)\n",
    "                    return True\n",
    "    return \"No matching person\""
   ]
  },
  {
   "cell_type": "code",
   "execution_count": 62,
   "metadata": {},
   "outputs": [
    {
     "name": "stdout",
     "output_type": "stream",
     "text": [
      "First step\n",
      "First step\n",
      "First step\n",
      "Information about Elizabeth II Alexandra Mary Windsor:\n",
      "1 RIN MH:I3062\n",
      "\n",
      "1 _UID 06807AD7-0AB4-4AB4-B2DD-8DAF8312ABA6\n",
      "\n",
      "1 _UPD 31 DEC 2016 17:45:13 GMT+9.5\n",
      "\n",
      "1 NAME Elizabeth II Alexandra Mary /Windsor/\n",
      "\n",
      "1 SEX F\n",
      "\n",
      "1 BIRT\n",
      "\n",
      "1 FAMS @F1436@\n",
      "\n",
      "1 FAMC @F1434@\n",
      "\n"
     ]
    },
    {
     "data": {
      "text/plain": [
       "True"
      ]
     },
     "execution_count": 62,
     "metadata": {},
     "output_type": "execute_result"
    }
   ],
   "source": [
    "find_child_data(\"Elizabeth II Alexandra Mary\",\"Windsor\")"
   ]
  },
  {
   "cell_type": "code",
   "execution_count": null,
   "metadata": {},
   "outputs": [],
   "source": []
  },
  {
   "cell_type": "code",
   "execution_count": null,
   "metadata": {},
   "outputs": [],
   "source": []
  }
 ],
 "metadata": {
  "interpreter": {
   "hash": "fa633476d90ebc5c342c0ebd58df75a6a0dad7836670477e29bdaa57f1aacce8"
  },
  "kernelspec": {
   "display_name": "Python 3.9.12 ('base')",
   "language": "python",
   "name": "python3"
  },
  "language_info": {
   "codemirror_mode": {
    "name": "ipython",
    "version": 3
   },
   "file_extension": ".py",
   "mimetype": "text/x-python",
   "name": "python",
   "nbconvert_exporter": "python",
   "pygments_lexer": "ipython3",
   "version": "3.9.12"
  },
  "orig_nbformat": 4
 },
 "nbformat": 4,
 "nbformat_minor": 2
}
