{
 "cells": [
  {
   "cell_type": "markdown",
   "metadata": {},
   "source": [
    " ## Prise en main de la librairie GEDCOM"
   ]
  },
  {
   "cell_type": "markdown",
   "metadata": {},
   "source": [
    "### Conventions : \n",
    "Tag for Spouse FamiliyElement : 'FAMS'\n",
    "$\\\\$\n",
    "Tag for Childrens FamiliyElement : 'FAMC'"
   ]
  },
  {
   "cell_type": "code",
   "execution_count": 29,
   "metadata": {},
   "outputs": [],
   "source": [
    "from gedcom.element.individual import IndividualElement\n",
    "from gedcom.element.element import Element\n",
    "from gedcom.parser import Parser\n",
    "from gedcom.element.family import FamilyElement\n",
    "import gedcom.tags\n",
    "#from gedcom.element.element import Element\n",
    "#from gedcom.element.file import FileElement\n",
    "#from gedcom.element.object import ObjectElement"
   ]
  },
  {
   "cell_type": "code",
   "execution_count": 6,
   "metadata": {},
   "outputs": [],
   "source": [
    "file_path = 'Queen_Eliz_II.ged'\n",
    "gedcom_parser = Parser()\n",
    "gedcom_parser.parse_file(file_path)\n",
    "root_child_elements = gedcom_parser.get_root_child_elements()\n",
    "\n",
    "def find_child_data(first_names,last_name):\n",
    "    for element in root_child_elements:\n",
    "        if isinstance(element, IndividualElement):\n",
    "            if element.surname_match(last_name):\n",
    "                if element.given_name_match(first_names):\n",
    "                    L1 = []\n",
    "                    L2 = []\n",
    "                    (first, last) = element.get_name()\n",
    "                    print(\"Information about \" + first + \" \" + last + \":\")\n",
    "                    data = element.get_child_elements()\n",
    "                    for child in data :\n",
    "                        L1 += [child]\n",
    "                        L2 += [child.get_tag()]\n",
    "                    return L1, L2\n",
    "    return \"No matching person\""
   ]
  },
  {
   "cell_type": "code",
   "execution_count": 7,
   "metadata": {},
   "outputs": [
    {
     "name": "stdout",
     "output_type": "stream",
     "text": [
      "Information about Elizabeth II Alexandra Mary Windsor:\n"
     ]
    },
    {
     "data": {
      "text/plain": [
       "([<gedcom.element.element.Element at 0x1089f1a90>,\n",
       "  <gedcom.element.element.Element at 0x1089f1ac0>,\n",
       "  <gedcom.element.element.Element at 0x1089f1af0>,\n",
       "  <gedcom.element.element.Element at 0x1089f1b20>,\n",
       "  <gedcom.element.element.Element at 0x1089f1c10>,\n",
       "  <gedcom.element.element.Element at 0x1089f1be0>,\n",
       "  <gedcom.element.element.Element at 0x1089f1d00>,\n",
       "  <gedcom.element.element.Element at 0x1089f1d30>],\n",
       " ['RIN', '_UID', '_UPD', 'NAME', 'SEX', 'BIRT', 'FAMS', 'FAMC'])"
      ]
     },
     "execution_count": 7,
     "metadata": {},
     "output_type": "execute_result"
    }
   ],
   "source": [
    "find_child_data(\"Elizabeth II Alexandra Mary\", \"Windsor\")"
   ]
  },
  {
   "cell_type": "code",
   "execution_count": 8,
   "metadata": {},
   "outputs": [],
   "source": [
    "def find_IndividualElement(first_names,last_name):\n",
    "    \"\"\"\n",
    "    Get Individual element of ged with first names and last name\n",
    "\n",
    "    Parameters\n",
    "    ---\n",
    "    first_names : str\n",
    "        complete first names of the individual\n",
    "    last_name : str\n",
    "        last names of the individual \n",
    "\n",
    "    Returns \n",
    "    ---\n",
    "    bool \n",
    "        Tells if the individual was found\n",
    "    IndividualElement\n",
    "        IndividualElement corresponding to the individual in the ged\n",
    "\n",
    "    \"\"\"\n",
    "    for element in root_child_elements:\n",
    "        if isinstance(element, IndividualElement):\n",
    "            if element.surname_match(last_name):\n",
    "                return (True, element)\n",
    "    return [False, element]"
   ]
  },
  {
   "cell_type": "code",
   "execution_count": 9,
   "metadata": {},
   "outputs": [],
   "source": [
    "def get_Spouse_FamilyElement(Individual):\n",
    "    \"\"\"\n",
    "    Get Spouse FamilyElements of an individual\n",
    "\n",
    "    Parameters\n",
    "    ---\n",
    "    Individual : IndividualElement\n",
    "\n",
    "    Returns\n",
    "    ---\n",
    "    list of FamilyElement \n",
    "    \"\"\"\n",
    "    return gedcom_parser.get_families(Individual,\"FAMS\")\n",
    "    "
   ]
  },
  {
   "cell_type": "code",
   "execution_count": 10,
   "metadata": {},
   "outputs": [],
   "source": [
    "def get_Children_FamilyElement(Individual):\n",
    "    \"\"\"\n",
    "    Get Childrens FamilyElements of an individual\n",
    "\n",
    "    Parameters\n",
    "    ---\n",
    "    Individual : IndividualElement\n",
    "\n",
    "    Returns\n",
    "    ---\n",
    "    list of FamilyElement \n",
    "    \"\"\"\n",
    "    return gedcom_parser.get_families(Individual,\"FAMC\")"
   ]
  },
  {
   "cell_type": "code",
   "execution_count": 11,
   "metadata": {},
   "outputs": [],
   "source": [
    "def get_spouse(Individual):\n",
    "    \"\"\"\n",
    "    Doesn't work\n",
    "    \"\"\"\n",
    "    Family = get_Spouse_FamilyElement(Individual)[0]\n",
    "    return gedcom_parser.get_family_members(Family,\"FAMILY_MEMBERS_TYPE_ALL\")"
   ]
  },
  {
   "cell_type": "markdown",
   "metadata": {},
   "source": [
    "### Tests"
   ]
  },
  {
   "cell_type": "code",
   "execution_count": 12,
   "metadata": {},
   "outputs": [
    {
     "data": {
      "text/plain": [
       "[<gedcom.element.family.FamilyElement at 0x10aa0cbb0>]"
      ]
     },
     "execution_count": 12,
     "metadata": {},
     "output_type": "execute_result"
    }
   ],
   "source": [
    "get_Spouse_FamilyElement(find_IndividualElement(\"Elizabeth II Alexandra Mary\", \"Windsor\")[1])"
   ]
  },
  {
   "cell_type": "code",
   "execution_count": 38,
   "metadata": {},
   "outputs": [
    {
     "data": {
      "text/plain": [
       "'FAM'"
      ]
     },
     "execution_count": 38,
     "metadata": {},
     "output_type": "execute_result"
    }
   ],
   "source": [
    "get_Spouse_FamilyElement(find_IndividualElement(\"Elizabeth II Alexandra Mary\", \"Windsor\")[1])[0].get_tag()"
   ]
  },
  {
   "cell_type": "code",
   "execution_count": null,
   "metadata": {},
   "outputs": [],
   "source": []
  },
  {
   "cell_type": "code",
   "execution_count": 13,
   "metadata": {},
   "outputs": [
    {
     "data": {
      "text/plain": [
       "[<gedcom.element.family.FamilyElement at 0x10aa0c8b0>]"
      ]
     },
     "execution_count": 13,
     "metadata": {},
     "output_type": "execute_result"
    }
   ],
   "source": [
    "get_Children_FamilyElement(find_IndividualElement(\"Elizabeth II Alexandra Mary\", \"Windsor\")[1])"
   ]
  },
  {
   "cell_type": "code",
   "execution_count": 14,
   "metadata": {},
   "outputs": [
    {
     "data": {
      "text/plain": [
       "('George V', 'Windsor')"
      ]
     },
     "execution_count": 14,
     "metadata": {},
     "output_type": "execute_result"
    }
   ],
   "source": [
    "A = find_IndividualElement(\"Elizabeth II Alexandra Mary\", \"Windsor\")[1]\n",
    "B = find_IndividualElement(\"George VI\", \"Windsor\")[1]\n",
    "gedcom_parser.find_path_to_ancestor(A,B,None)[0].get_name()"
   ]
  },
  {
   "cell_type": "code",
   "execution_count": 15,
   "metadata": {},
   "outputs": [
    {
     "data": {
      "text/plain": [
       "('George V', 'Windsor')"
      ]
     },
     "execution_count": 15,
     "metadata": {},
     "output_type": "execute_result"
    }
   ],
   "source": [
    "C = find_IndividualElement(\"Elizabeth II Alexandra Mary\", \"Windsor\")[1]\n",
    "D = find_IndividualElement(\"George V\", \"Windsor\")[1]\n",
    "gedcom_parser.find_path_to_ancestor(A,B,None)[0].get_name()"
   ]
  },
  {
   "cell_type": "code",
   "execution_count": 16,
   "metadata": {},
   "outputs": [
    {
     "data": {
      "text/plain": [
       "('George V', 'Windsor')"
      ]
     },
     "execution_count": 16,
     "metadata": {},
     "output_type": "execute_result"
    }
   ],
   "source": [
    "E = find_IndividualElement(\"Elizabeth II Alexandra Mary\", \"Windsor\")[1]\n",
    "F = find_IndividualElement(\"Edward VII\", \"Wettin\")[1]\n",
    "gedcom_parser.find_path_to_ancestor(A,B,None)[0].get_name()"
   ]
  },
  {
   "cell_type": "code",
   "execution_count": 17,
   "metadata": {},
   "outputs": [
    {
     "data": {
      "text/plain": [
       "[<gedcom.element.individual.IndividualElement at 0x1089e9730>,\n",
       " <gedcom.element.individual.IndividualElement at 0x1089e9cd0>,\n",
       " <gedcom.element.individual.IndividualElement at 0x1089f11c0>]"
      ]
     },
     "execution_count": 17,
     "metadata": {},
     "output_type": "execute_result"
    }
   ],
   "source": [
    "get_spouse(find_IndividualElement(\"George VI\", \"Windsor\")[1])"
   ]
  },
  {
   "cell_type": "code",
   "execution_count": 18,
   "metadata": {},
   "outputs": [
    {
     "data": {
      "text/plain": [
       "('George V', 'Windsor')"
      ]
     },
     "execution_count": 18,
     "metadata": {},
     "output_type": "execute_result"
    }
   ],
   "source": [
    "get_spouse(find_IndividualElement(\"George VI\", \"Windsor\")[1])[0].get_name()"
   ]
  },
  {
   "cell_type": "code",
   "execution_count": 19,
   "metadata": {},
   "outputs": [
    {
     "data": {
      "text/plain": [
       "('Mary of Teck (May)', '')"
      ]
     },
     "execution_count": 19,
     "metadata": {},
     "output_type": "execute_result"
    }
   ],
   "source": [
    "get_spouse(find_IndividualElement(\"George VI\", \"Windsor\")[1])[1].get_name()"
   ]
  },
  {
   "cell_type": "code",
   "execution_count": 20,
   "metadata": {},
   "outputs": [
    {
     "data": {
      "text/plain": [
       "('George VI', 'Windsor')"
      ]
     },
     "execution_count": 20,
     "metadata": {},
     "output_type": "execute_result"
    }
   ],
   "source": [
    "get_spouse(find_IndividualElement(\"George VI\", \"Windsor\")[1])[2].get_name()"
   ]
  },
  {
   "cell_type": "code",
   "execution_count": 21,
   "metadata": {},
   "outputs": [
    {
     "data": {
      "text/plain": [
       "('SIR WILLIAM VII KNIGHT ENGLAND', 'Gascoigne')"
      ]
     },
     "execution_count": 21,
     "metadata": {},
     "output_type": "execute_result"
    }
   ],
   "source": [
    "get_spouse(find_IndividualElement('Mary of Teck (May)', '')[1])[0].get_name()"
   ]
  },
  {
   "cell_type": "markdown",
   "metadata": {},
   "source": [
    "### Fonctions Parents/Childrens"
   ]
  },
  {
   "cell_type": "code",
   "execution_count": 34,
   "metadata": {},
   "outputs": [],
   "source": [
    "def get_all_Spouse_FamilyElement():\n",
    "    Spouse_FamilyElements = []\n",
    "    N = 0\n",
    "    for element in root_child_elements:\n",
    "        if isinstance(element, FamilyElement):\n",
    "            if element.get_tag() == gedcom.tags.GEDCOM_TAG_FAMILY_SPOUSE :\n",
    "                Spouse_FamilyElements += [element]\n",
    "    return Spouse_FamilyElements\n"
   ]
  },
  {
   "cell_type": "code",
   "execution_count": 35,
   "metadata": {},
   "outputs": [
    {
     "data": {
      "text/plain": [
       "([], 0)"
      ]
     },
     "execution_count": 35,
     "metadata": {},
     "output_type": "execute_result"
    }
   ],
   "source": [
    "get_all_Spouse_FamilyElement()"
   ]
  },
  {
   "cell_type": "code",
   "execution_count": 23,
   "metadata": {},
   "outputs": [
    {
     "name": "stdout",
     "output_type": "stream",
     "text": [
      "0 @F70@ FAM\n",
      "\n",
      "0 @F75@ FAM\n",
      "\n",
      "0 @F76@ FAM\n",
      "\n"
     ]
    },
    {
     "data": {
      "text/plain": [
       "True"
      ]
     },
     "execution_count": 23,
     "metadata": {},
     "output_type": "execute_result"
    }
   ],
   "source": [
    "get_Childrens(find_IndividualElement(\"Elizabeth II Alexandra Mary\", \"Windsor\")[1])"
   ]
  },
  {
   "cell_type": "code",
   "execution_count": 24,
   "metadata": {},
   "outputs": [
    {
     "data": {
      "text/plain": [
       "[<gedcom.element.individual.IndividualElement at 0x1089e0d90>,\n",
       " <gedcom.element.individual.IndividualElement at 0x1089e92b0>]"
      ]
     },
     "execution_count": 24,
     "metadata": {},
     "output_type": "execute_result"
    }
   ],
   "source": [
    "gedcom_parser.get_parents(find_IndividualElement(\"Elizabeth II Alexandra Mary\", \"Windsor\")[1])"
   ]
  },
  {
   "cell_type": "markdown",
   "metadata": {},
   "source": [
    "### Raisonnement : \n",
    "Construction d'une Dataframe panda Individual / Family1 / Family2\n",
    "Construction d'une Dataframe panda Family / Children1 / Children2 / ...\n",
    "Construction d'une Dataframe panda Family / Mother / Father\n",
    "\n",
    "Parcours du graphe : \n",
    "On part d'un des 2, on part des 2 côté avec les 2 dernières dataframe jusqu'à trouver la famille du 2e"
   ]
  }
 ],
 "metadata": {
  "interpreter": {
   "hash": "fa633476d90ebc5c342c0ebd58df75a6a0dad7836670477e29bdaa57f1aacce8"
  },
  "kernelspec": {
   "display_name": "Python 3.9.12 ('base')",
   "language": "python",
   "name": "python3"
  },
  "language_info": {
   "codemirror_mode": {
    "name": "ipython",
    "version": 3
   },
   "file_extension": ".py",
   "mimetype": "text/x-python",
   "name": "python",
   "nbconvert_exporter": "python",
   "pygments_lexer": "ipython3",
   "version": "3.9.12"
  },
  "orig_nbformat": 4
 },
 "nbformat": 4,
 "nbformat_minor": 2
}
