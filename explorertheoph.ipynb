{
 "cells": [
  {
   "cell_type": "markdown",
   "metadata": {},
   "source": [
    " ## Prise en main de la librairie GEDCOM"
   ]
  },
  {
   "cell_type": "markdown",
   "metadata": {},
   "source": [
    "### Conventions : \n",
    "Tag for Spouse FamiliyElement : 'FAMS'\n",
    "$\\\\$\n",
    "Tag for Childrens FamiliyElement : 'FAMC'"
   ]
  },
  {
   "cell_type": "code",
   "execution_count": 46,
   "metadata": {},
   "outputs": [],
   "source": [
    "from gedcom.element.individual import IndividualElement\n",
    "from gedcom.element.element import Element\n",
    "from gedcom.parser import Parser\n",
    "from gedcom.element.family import FamilyElement\n",
    "import gedcom.tags\n",
    "import numpy as np\n",
    "import pandas as pd\n",
    "import string\n",
    "#from gedcom.element.element import Element\n",
    "#from gedcom.element.file import FileElement\n",
    "#from gedcom.element.object import ObjectElement\n",
    "\n",
    "gedcom_parser = Parser()"
   ]
  },
  {
   "cell_type": "code",
   "execution_count": 47,
   "metadata": {},
   "outputs": [],
   "source": [
    "file_path = 'Queen_Eliz_II.ged'\n",
    "gedcom_parser = Parser()\n",
    "gedcom_parser.parse_file(file_path)\n",
    "root_child_elements = gedcom_parser.get_root_child_elements()\n",
    "\n",
    "def find_child_data(first_names,last_name):\n",
    "    for element in root_child_elements:\n",
    "        if isinstance(element, IndividualElement):\n",
    "            if element.surname_match(last_name):\n",
    "                if element.given_name_match(first_names):\n",
    "                    L1 = []\n",
    "                    L2 = []\n",
    "                    (first, last) = element.get_name()\n",
    "                    print(\"Information about \" + first + \" \" + last + \":\")\n",
    "                    data = element.get_child_elements()\n",
    "                    for child in data :\n",
    "                        L1 += [child]\n",
    "                        L2 += [child.get_tag()]\n",
    "                    return L1, L2\n",
    "    return \"No matching person\""
   ]
  },
  {
   "cell_type": "code",
   "execution_count": 48,
   "metadata": {},
   "outputs": [
    {
     "name": "stdout",
     "output_type": "stream",
     "text": [
      "Information about Elizabeth II Alexandra Mary Windsor:\n"
     ]
    },
    {
     "data": {
      "text/plain": [
       "([<gedcom.element.element.Element at 0x1443b76a0>,\n",
       "  <gedcom.element.element.Element at 0x1443b76d0>,\n",
       "  <gedcom.element.element.Element at 0x1443b7700>,\n",
       "  <gedcom.element.element.Element at 0x1443b7730>,\n",
       "  <gedcom.element.element.Element at 0x1443b7820>,\n",
       "  <gedcom.element.element.Element at 0x1443b77f0>,\n",
       "  <gedcom.element.element.Element at 0x1443b7910>,\n",
       "  <gedcom.element.element.Element at 0x1443b7940>],\n",
       " ['RIN', '_UID', '_UPD', 'NAME', 'SEX', 'BIRT', 'FAMS', 'FAMC'])"
      ]
     },
     "execution_count": 48,
     "metadata": {},
     "output_type": "execute_result"
    }
   ],
   "source": [
    "find_child_data(\"Elizabeth II Alexandra Mary\", \"Windsor\")"
   ]
  },
  {
   "cell_type": "code",
   "execution_count": 49,
   "metadata": {},
   "outputs": [],
   "source": [
    "def find_IndividualElement(first_names,last_name):\n",
    "    \"\"\"\n",
    "    Get Individual element of ged with first names and last name\n",
    "\n",
    "    Parameters\n",
    "    ---\n",
    "    first_names : str\n",
    "        complete first names of the individual\n",
    "    last_name : str\n",
    "        last names of the individual \n",
    "\n",
    "    Returns \n",
    "    ---\n",
    "    bool \n",
    "        Tells if the individual was found\n",
    "    IndividualElement\n",
    "        IndividualElement corresponding to the individual in the ged\n",
    "\n",
    "    \"\"\"\n",
    "    for element in root_child_elements:\n",
    "        if isinstance(element, IndividualElement):\n",
    "            if element.surname_match(last_name):\n",
    "                return (True, element)\n",
    "    return [False, element]"
   ]
  },
  {
   "cell_type": "code",
   "execution_count": 50,
   "metadata": {},
   "outputs": [],
   "source": [
    "def get_Spouse_FamilyElement(Individual):\n",
    "    \"\"\"\n",
    "    Get Spouse FamilyElements of an individual\n",
    "\n",
    "    Parameters\n",
    "    ---\n",
    "    Individual : IndividualElement\n",
    "\n",
    "    Returns\n",
    "    ---\n",
    "    list of FamilyElement \n",
    "    \"\"\"\n",
    "    return gedcom_parser.get_families(Individual,\"FAMS\")\n",
    "    "
   ]
  },
  {
   "cell_type": "code",
   "execution_count": 51,
   "metadata": {},
   "outputs": [],
   "source": [
    "def get_Children_FamilyElement(Individual):\n",
    "    \"\"\"\n",
    "    Get Childrens FamilyElements of an individual\n",
    "\n",
    "    Parameters\n",
    "    ---\n",
    "    Individual : IndividualElement\n",
    "\n",
    "    Returns\n",
    "    ---\n",
    "    list of FamilyElement \n",
    "    \"\"\"\n",
    "    return gedcom_parser.get_families(Individual,\"FAMC\")"
   ]
  },
  {
   "cell_type": "code",
   "execution_count": 52,
   "metadata": {},
   "outputs": [],
   "source": [
    "def get_spouse(Individual):\n",
    "    \"\"\"\n",
    "    Doesn't work\n",
    "    \"\"\"\n",
    "    Family = get_Spouse_FamilyElement(Individual)[0]\n",
    "    return gedcom_parser.get_family_members(Family,\"FAMILY_MEMBERS_TYPE_ALL\")"
   ]
  },
  {
   "cell_type": "markdown",
   "metadata": {},
   "source": [
    "### Tests"
   ]
  },
  {
   "cell_type": "code",
   "execution_count": 53,
   "metadata": {},
   "outputs": [
    {
     "data": {
      "text/plain": [
       "[<gedcom.element.family.FamilyElement at 0x14640f310>]"
      ]
     },
     "execution_count": 53,
     "metadata": {},
     "output_type": "execute_result"
    }
   ],
   "source": [
    "get_Spouse_FamilyElement(find_IndividualElement(\"Elizabeth II Alexandra Mary\", \"Windsor\")[1])"
   ]
  },
  {
   "cell_type": "code",
   "execution_count": 54,
   "metadata": {},
   "outputs": [
    {
     "data": {
      "text/plain": [
       "'FAM'"
      ]
     },
     "execution_count": 54,
     "metadata": {},
     "output_type": "execute_result"
    }
   ],
   "source": [
    "get_Spouse_FamilyElement(find_IndividualElement(\"Elizabeth II Alexandra Mary\", \"Windsor\")[1])[0].get_tag()"
   ]
  },
  {
   "cell_type": "code",
   "execution_count": null,
   "metadata": {},
   "outputs": [],
   "source": []
  },
  {
   "cell_type": "code",
   "execution_count": 55,
   "metadata": {},
   "outputs": [
    {
     "data": {
      "text/plain": [
       "[<gedcom.element.family.FamilyElement at 0x146406fd0>]"
      ]
     },
     "execution_count": 55,
     "metadata": {},
     "output_type": "execute_result"
    }
   ],
   "source": [
    "get_Children_FamilyElement(find_IndividualElement(\"Elizabeth II Alexandra Mary\", \"Windsor\")[1])"
   ]
  },
  {
   "cell_type": "code",
   "execution_count": 56,
   "metadata": {},
   "outputs": [
    {
     "data": {
      "text/plain": [
       "('George V', 'Windsor')"
      ]
     },
     "execution_count": 56,
     "metadata": {},
     "output_type": "execute_result"
    }
   ],
   "source": [
    "A = find_IndividualElement(\"Elizabeth II Alexandra Mary\", \"Windsor\")[1]\n",
    "B = find_IndividualElement(\"George VI\", \"Windsor\")[1]\n",
    "gedcom_parser.find_path_to_ancestor(A,B,None)[0].get_name()"
   ]
  },
  {
   "cell_type": "code",
   "execution_count": 57,
   "metadata": {},
   "outputs": [
    {
     "data": {
      "text/plain": [
       "('George V', 'Windsor')"
      ]
     },
     "execution_count": 57,
     "metadata": {},
     "output_type": "execute_result"
    }
   ],
   "source": [
    "C = find_IndividualElement(\"Elizabeth II Alexandra Mary\", \"Windsor\")[1]\n",
    "D = find_IndividualElement(\"George V\", \"Windsor\")[1]\n",
    "gedcom_parser.find_path_to_ancestor(A,B,None)[0].get_name()"
   ]
  },
  {
   "cell_type": "code",
   "execution_count": 58,
   "metadata": {},
   "outputs": [
    {
     "data": {
      "text/plain": [
       "('George V', 'Windsor')"
      ]
     },
     "execution_count": 58,
     "metadata": {},
     "output_type": "execute_result"
    }
   ],
   "source": [
    "E = find_IndividualElement(\"Elizabeth II Alexandra Mary\", \"Windsor\")[1]\n",
    "F = find_IndividualElement(\"Edward VII\", \"Wettin\")[1]\n",
    "gedcom_parser.find_path_to_ancestor(A,B,None)[0].get_name()"
   ]
  },
  {
   "cell_type": "code",
   "execution_count": 59,
   "metadata": {},
   "outputs": [
    {
     "data": {
      "text/plain": [
       "[<gedcom.element.individual.IndividualElement at 0x1443ae340>,\n",
       " <gedcom.element.individual.IndividualElement at 0x1443ae8e0>,\n",
       " <gedcom.element.individual.IndividualElement at 0x1443aed90>]"
      ]
     },
     "execution_count": 59,
     "metadata": {},
     "output_type": "execute_result"
    }
   ],
   "source": [
    "get_spouse(find_IndividualElement(\"George VI\", \"Windsor\")[1])"
   ]
  },
  {
   "cell_type": "code",
   "execution_count": 60,
   "metadata": {},
   "outputs": [
    {
     "data": {
      "text/plain": [
       "('George V', 'Windsor')"
      ]
     },
     "execution_count": 60,
     "metadata": {},
     "output_type": "execute_result"
    }
   ],
   "source": [
    "get_spouse(find_IndividualElement(\"George VI\", \"Windsor\")[1])[0].get_name()"
   ]
  },
  {
   "cell_type": "code",
   "execution_count": 61,
   "metadata": {},
   "outputs": [
    {
     "data": {
      "text/plain": [
       "('Mary of Teck (May)', '')"
      ]
     },
     "execution_count": 61,
     "metadata": {},
     "output_type": "execute_result"
    }
   ],
   "source": [
    "get_spouse(find_IndividualElement(\"George VI\", \"Windsor\")[1])[1].get_name()"
   ]
  },
  {
   "cell_type": "code",
   "execution_count": 62,
   "metadata": {},
   "outputs": [
    {
     "data": {
      "text/plain": [
       "('George VI', 'Windsor')"
      ]
     },
     "execution_count": 62,
     "metadata": {},
     "output_type": "execute_result"
    }
   ],
   "source": [
    "get_spouse(find_IndividualElement(\"George VI\", \"Windsor\")[1])[2].get_name()"
   ]
  },
  {
   "cell_type": "code",
   "execution_count": 63,
   "metadata": {},
   "outputs": [
    {
     "data": {
      "text/plain": [
       "('SIR WILLIAM VII KNIGHT ENGLAND', 'Gascoigne')"
      ]
     },
     "execution_count": 63,
     "metadata": {},
     "output_type": "execute_result"
    }
   ],
   "source": [
    "get_spouse(find_IndividualElement('Mary of Teck (May)', '')[1])[0].get_name()"
   ]
  },
  {
   "cell_type": "markdown",
   "metadata": {},
   "source": [
    "### Fonctions Parents/Childrens"
   ]
  },
  {
   "cell_type": "code",
   "execution_count": 64,
   "metadata": {},
   "outputs": [],
   "source": [
    "def get_all_Spouse_FamilyElement():\n",
    "    Spouse_FamilyElements = []\n",
    "    N = 0\n",
    "    for element in root_child_elements:\n",
    "        if isinstance(element, FamilyElement):\n",
    "            if element.get_tag() == gedcom.tags.GEDCOM_TAG_FAMILY_SPOUSE :\n",
    "                Spouse_FamilyElements += [element]\n",
    "    return Spouse_FamilyElements\n"
   ]
  },
  {
   "cell_type": "code",
   "execution_count": 65,
   "metadata": {},
   "outputs": [
    {
     "data": {
      "text/plain": [
       "[]"
      ]
     },
     "execution_count": 65,
     "metadata": {},
     "output_type": "execute_result"
    }
   ],
   "source": [
    "get_all_Spouse_FamilyElement()"
   ]
  },
  {
   "cell_type": "code",
   "execution_count": 66,
   "metadata": {},
   "outputs": [],
   "source": [
    "#get_Childrens(find_IndividualElement(\"Elizabeth II Alexandra Mary\", \"Windsor\")[1])"
   ]
  },
  {
   "cell_type": "code",
   "execution_count": 67,
   "metadata": {},
   "outputs": [
    {
     "data": {
      "text/plain": [
       "[<gedcom.element.individual.IndividualElement at 0x1443a49a0>,\n",
       " <gedcom.element.individual.IndividualElement at 0x1443a4e80>]"
      ]
     },
     "execution_count": 67,
     "metadata": {},
     "output_type": "execute_result"
    }
   ],
   "source": [
    "gedcom_parser.get_parents(find_IndividualElement(\"Elizabeth II Alexandra Mary\", \"Windsor\")[1])"
   ]
  },
  {
   "cell_type": "markdown",
   "metadata": {},
   "source": [
    "### Raisonnement : \n",
    "Construction d'une Dataframe panda Individual / Family1 / Family2 $\\\\$\n",
    "Construction d'une Dataframe panda Family / Children1 / FamilyChildren2 / ... $\\\\$\n",
    "Construction d'une Dataframe panda Family / Mother / Father $\\\\$\n",
    "Dataframe of Families connections with other families\n",
    "\n",
    "Parcours du graphe : \n",
    "On part d'un des 2, on part des 2 côté avec les 2 dernières dataframe jusqu'à trouver la famille du 2e"
   ]
  },
  {
   "cell_type": "code",
   "execution_count": 68,
   "metadata": {},
   "outputs": [],
   "source": [
    "def get_IndivFamily_DataFrame(file_path='Queen_Eliz_II.ged'):\n",
    "    \"\"\"\n",
    "    Creates DataFrame of children & spouse families keys of all individuals \n",
    "    indexed by their keys, from a gedcom file.\n",
    "\n",
    "    Parameters\n",
    "    ---\n",
    "    file_path : str\n",
    "        path of the gedcom file\n",
    "\n",
    "    Returns \n",
    "    ---\n",
    "    pd.DataFrame \n",
    "        dataframe of children & spouse families keys of individuals\n",
    "    \"\"\"\n",
    "    gedcom_parser.parse_file(file_path)\n",
    "    root_child_elements = gedcom_parser.get_root_child_elements()\n",
    "    \n",
    "    T = []\n",
    "    \n",
    "    #Go through indivduals and get their families\n",
    "    for element in root_child_elements:\n",
    "        if isinstance(element, IndividualElement):\n",
    "            L = [element.get_pointer()]\n",
    "            for child_element in element.get_child_elements() :\n",
    "                if child_element.get_tag() == gedcom.tags.GEDCOM_TAG_FAMILY_SPOUSE :\n",
    "                    L += [child_element.get_value()]\n",
    "                elif child_element.get_tag() == gedcom.tags.GEDCOM_TAG_FAMILY_CHILD :\n",
    "                    L += [child_element.get_value()]\n",
    "            T += [L]\n",
    "\n",
    "    #Add NaN where information is missing\n",
    "    full_T = [line+['NaN']*(3-len(line)) for line in T]\n",
    "\n",
    "    #Create the DataFrame\n",
    "    df = pd.DataFrame(\n",
    "    {\n",
    "        'INDI' : [full_T[k][0] for k in range(len(full_T))],\n",
    "        'FAMS' : [full_T[k][1] for k in range(len(full_T))],\n",
    "        'FAMC' : [full_T[k][2] for k in range(len(full_T))],\n",
    "    })\n",
    "\n",
    "    return df"
   ]
  },
  {
   "cell_type": "code",
   "execution_count": 115,
   "metadata": {},
   "outputs": [],
   "source": [
    "def get_FamChildrens_DataFrame(df):\n",
    "    \"\"\"\n",
    "    \"\"\"\n",
    "    df1 = df.set_index('INDI',inplace=False)\n",
    "\n",
    "    df2 = pd.DataFrame(\n",
    "    {\n",
    "        'FAM' : df['FAMS'].drop_duplicates(),\n",
    "    })\n",
    "    df2['1FAMC'] = np.NaN\n",
    "    df2.set_index('FAM',inplace=True)\n",
    "    N_max = 1\n",
    "\n",
    "    for family in df2.index :\n",
    "        N = 0\n",
    "        for indi in df[df['FAMC'] == f'{family}']['INDI'] :\n",
    "            N += 1\n",
    "            if N > N_max :\n",
    "                N_max = N\n",
    "                df2[f'{N_max}FAMC'] = np.NaN\n",
    "            #df2.at[f'{family}',f'{N}FAMC'] = f'{indi}'\n",
    "            df2.at[f'{family}',f'{N}FAMC'] = df1.at[f'{indi}','FAMS']\n",
    "    return df2"
   ]
  },
  {
   "cell_type": "code",
   "execution_count": 116,
   "metadata": {},
   "outputs": [
    {
     "data": {
      "text/html": [
       "<div>\n",
       "<style scoped>\n",
       "    .dataframe tbody tr th:only-of-type {\n",
       "        vertical-align: middle;\n",
       "    }\n",
       "\n",
       "    .dataframe tbody tr th {\n",
       "        vertical-align: top;\n",
       "    }\n",
       "\n",
       "    .dataframe thead th {\n",
       "        text-align: right;\n",
       "    }\n",
       "</style>\n",
       "<table border=\"1\" class=\"dataframe\">\n",
       "  <thead>\n",
       "    <tr style=\"text-align: right;\">\n",
       "      <th></th>\n",
       "      <th>1FAMC</th>\n",
       "      <th>2FAMC</th>\n",
       "      <th>3FAMC</th>\n",
       "      <th>4FAMC</th>\n",
       "      <th>5FAMC</th>\n",
       "    </tr>\n",
       "    <tr>\n",
       "      <th>FAM</th>\n",
       "      <th></th>\n",
       "      <th></th>\n",
       "      <th></th>\n",
       "      <th></th>\n",
       "      <th></th>\n",
       "    </tr>\n",
       "  </thead>\n",
       "  <tbody>\n",
       "    <tr>\n",
       "      <th>@F285@</th>\n",
       "      <td>NaN</td>\n",
       "      <td>NaN</td>\n",
       "      <td>NaN</td>\n",
       "      <td>NaN</td>\n",
       "      <td>NaN</td>\n",
       "    </tr>\n",
       "    <tr>\n",
       "      <th>@F286@</th>\n",
       "      <td>@F285@</td>\n",
       "      <td>NaN</td>\n",
       "      <td>NaN</td>\n",
       "      <td>NaN</td>\n",
       "      <td>NaN</td>\n",
       "    </tr>\n",
       "    <tr>\n",
       "      <th>@F78@</th>\n",
       "      <td>@F303@</td>\n",
       "      <td>NaN</td>\n",
       "      <td>NaN</td>\n",
       "      <td>NaN</td>\n",
       "      <td>NaN</td>\n",
       "    </tr>\n",
       "    <tr>\n",
       "      <th>@F75@</th>\n",
       "      <td>@F187@</td>\n",
       "      <td>NaN</td>\n",
       "      <td>NaN</td>\n",
       "      <td>NaN</td>\n",
       "      <td>NaN</td>\n",
       "    </tr>\n",
       "    <tr>\n",
       "      <th>@F76@</th>\n",
       "      <td>@F75@</td>\n",
       "      <td>NaN</td>\n",
       "      <td>NaN</td>\n",
       "      <td>NaN</td>\n",
       "      <td>NaN</td>\n",
       "    </tr>\n",
       "    <tr>\n",
       "      <th>...</th>\n",
       "      <td>...</td>\n",
       "      <td>...</td>\n",
       "      <td>...</td>\n",
       "      <td>...</td>\n",
       "      <td>...</td>\n",
       "    </tr>\n",
       "    <tr>\n",
       "      <th>@F6017@</th>\n",
       "      <td>@F6013@</td>\n",
       "      <td>NaN</td>\n",
       "      <td>NaN</td>\n",
       "      <td>NaN</td>\n",
       "      <td>NaN</td>\n",
       "    </tr>\n",
       "    <tr>\n",
       "      <th>@F6018@</th>\n",
       "      <td>@F6017@</td>\n",
       "      <td>NaN</td>\n",
       "      <td>NaN</td>\n",
       "      <td>NaN</td>\n",
       "      <td>NaN</td>\n",
       "    </tr>\n",
       "    <tr>\n",
       "      <th>@F6019@</th>\n",
       "      <td>@F6018@</td>\n",
       "      <td>NaN</td>\n",
       "      <td>NaN</td>\n",
       "      <td>NaN</td>\n",
       "      <td>NaN</td>\n",
       "    </tr>\n",
       "    <tr>\n",
       "      <th>@F6020@</th>\n",
       "      <td>@F6017@</td>\n",
       "      <td>NaN</td>\n",
       "      <td>NaN</td>\n",
       "      <td>NaN</td>\n",
       "      <td>NaN</td>\n",
       "    </tr>\n",
       "    <tr>\n",
       "      <th>@F6078@</th>\n",
       "      <td>@F187@</td>\n",
       "      <td>NaN</td>\n",
       "      <td>NaN</td>\n",
       "      <td>NaN</td>\n",
       "      <td>NaN</td>\n",
       "    </tr>\n",
       "  </tbody>\n",
       "</table>\n",
       "<p>2891 rows × 5 columns</p>\n",
       "</div>"
      ],
      "text/plain": [
       "           1FAMC 2FAMC 3FAMC 4FAMC 5FAMC\n",
       "FAM                                     \n",
       "@F285@       NaN   NaN   NaN   NaN   NaN\n",
       "@F286@    @F285@   NaN   NaN   NaN   NaN\n",
       "@F78@     @F303@   NaN   NaN   NaN   NaN\n",
       "@F75@     @F187@   NaN   NaN   NaN   NaN\n",
       "@F76@      @F75@   NaN   NaN   NaN   NaN\n",
       "...          ...   ...   ...   ...   ...\n",
       "@F6017@  @F6013@   NaN   NaN   NaN   NaN\n",
       "@F6018@  @F6017@   NaN   NaN   NaN   NaN\n",
       "@F6019@  @F6018@   NaN   NaN   NaN   NaN\n",
       "@F6020@  @F6017@   NaN   NaN   NaN   NaN\n",
       "@F6078@   @F187@   NaN   NaN   NaN   NaN\n",
       "\n",
       "[2891 rows x 5 columns]"
      ]
     },
     "execution_count": 116,
     "metadata": {},
     "output_type": "execute_result"
    }
   ],
   "source": [
    "#pd.set_option('display.max_rows', None)\n",
    "df = get_IndivFamily_DataFrame()\n",
    "get_FamChildrens_DataFrame(df)"
   ]
  },
  {
   "cell_type": "code",
   "execution_count": 117,
   "metadata": {},
   "outputs": [],
   "source": [
    "def get_FamSpouse_DataFrame(df):\n",
    "    \"\"\"\n",
    "    \"\"\"\n",
    "    df1 = df.set_index('INDI',inplace=False)\n",
    "\n",
    "    df2 = pd.DataFrame(\n",
    "    {\n",
    "        'FAM' : df['FAMS'].drop_duplicates(),\n",
    "    })\n",
    "    df2['1FAMS'] = np.NaN\n",
    "    df2.set_index('FAM',inplace=True)\n",
    "    N_max = 1\n",
    "\n",
    "    for family in df2.index :\n",
    "        N = 0\n",
    "        for indi in df[df['FAMS'] == f'{family}']['INDI'] :\n",
    "            N += 1\n",
    "            if N > N_max :\n",
    "                N_max = N\n",
    "                df2[f'{N_max}FAMS'] = np.NaN\n",
    "            #df2.at[f'{family}',f'{N}'] = f'{indi}'\n",
    "            df2.at[f'{family}',f'{N}FAMS'] = df1.at[f'{indi}','FAMC']\n",
    "    return df2"
   ]
  },
  {
   "cell_type": "code",
   "execution_count": 118,
   "metadata": {},
   "outputs": [
    {
     "data": {
      "text/html": [
       "<div>\n",
       "<style scoped>\n",
       "    .dataframe tbody tr th:only-of-type {\n",
       "        vertical-align: middle;\n",
       "    }\n",
       "\n",
       "    .dataframe tbody tr th {\n",
       "        vertical-align: top;\n",
       "    }\n",
       "\n",
       "    .dataframe thead th {\n",
       "        text-align: right;\n",
       "    }\n",
       "</style>\n",
       "<table border=\"1\" class=\"dataframe\">\n",
       "  <thead>\n",
       "    <tr style=\"text-align: right;\">\n",
       "      <th></th>\n",
       "      <th>1FAMS</th>\n",
       "      <th>2FAMS</th>\n",
       "    </tr>\n",
       "    <tr>\n",
       "      <th>FAM</th>\n",
       "      <th></th>\n",
       "      <th></th>\n",
       "    </tr>\n",
       "  </thead>\n",
       "  <tbody>\n",
       "    <tr>\n",
       "      <th>@F285@</th>\n",
       "      <td>@F286@</td>\n",
       "      <td>NaN</td>\n",
       "    </tr>\n",
       "    <tr>\n",
       "      <th>@F286@</th>\n",
       "      <td>@F287@</td>\n",
       "      <td>NaN</td>\n",
       "    </tr>\n",
       "    <tr>\n",
       "      <th>@F78@</th>\n",
       "      <td>NaN</td>\n",
       "      <td>@F304@</td>\n",
       "    </tr>\n",
       "    <tr>\n",
       "      <th>@F75@</th>\n",
       "      <td>@F76@</td>\n",
       "      <td>@F209@</td>\n",
       "    </tr>\n",
       "    <tr>\n",
       "      <th>@F76@</th>\n",
       "      <td>@F77@</td>\n",
       "      <td>@F214@</td>\n",
       "    </tr>\n",
       "    <tr>\n",
       "      <th>...</th>\n",
       "      <td>...</td>\n",
       "      <td>...</td>\n",
       "    </tr>\n",
       "    <tr>\n",
       "      <th>@F6017@</th>\n",
       "      <td>@F6018@</td>\n",
       "      <td>@F6020@</td>\n",
       "    </tr>\n",
       "    <tr>\n",
       "      <th>@F6018@</th>\n",
       "      <td>@F6019@</td>\n",
       "      <td>NaN</td>\n",
       "    </tr>\n",
       "    <tr>\n",
       "      <th>@F6019@</th>\n",
       "      <td>NaN</td>\n",
       "      <td>NaN</td>\n",
       "    </tr>\n",
       "    <tr>\n",
       "      <th>@F6020@</th>\n",
       "      <td>NaN</td>\n",
       "      <td>NaN</td>\n",
       "    </tr>\n",
       "    <tr>\n",
       "      <th>@F6078@</th>\n",
       "      <td>NaN</td>\n",
       "      <td>NaN</td>\n",
       "    </tr>\n",
       "  </tbody>\n",
       "</table>\n",
       "<p>2891 rows × 2 columns</p>\n",
       "</div>"
      ],
      "text/plain": [
       "           1FAMS    2FAMS\n",
       "FAM                      \n",
       "@F285@    @F286@      NaN\n",
       "@F286@    @F287@      NaN\n",
       "@F78@        NaN   @F304@\n",
       "@F75@      @F76@   @F209@\n",
       "@F76@      @F77@   @F214@\n",
       "...          ...      ...\n",
       "@F6017@  @F6018@  @F6020@\n",
       "@F6018@  @F6019@      NaN\n",
       "@F6019@      NaN      NaN\n",
       "@F6020@      NaN      NaN\n",
       "@F6078@      NaN      NaN\n",
       "\n",
       "[2891 rows x 2 columns]"
      ]
     },
     "execution_count": 118,
     "metadata": {},
     "output_type": "execute_result"
    }
   ],
   "source": [
    "#pd.set_option('display.max_rows', None)\n",
    "df = get_IndivFamily_DataFrame()\n",
    "get_FamSpouse_DataFrame(df)"
   ]
  },
  {
   "cell_type": "code",
   "execution_count": 120,
   "metadata": {},
   "outputs": [],
   "source": [
    "def get_FamLinks_DataFrame():\n",
    "    df = get_IndivFamily_DataFrame()\n",
    "    df3 = pd.concat([get_FamSpouse_DataFrame(df),get_FamChildrens_DataFrame(df)],axis=1)\n",
    "    return df3"
   ]
  },
  {
   "cell_type": "code",
   "execution_count": 121,
   "metadata": {},
   "outputs": [
    {
     "data": {
      "text/html": [
       "<div>\n",
       "<style scoped>\n",
       "    .dataframe tbody tr th:only-of-type {\n",
       "        vertical-align: middle;\n",
       "    }\n",
       "\n",
       "    .dataframe tbody tr th {\n",
       "        vertical-align: top;\n",
       "    }\n",
       "\n",
       "    .dataframe thead th {\n",
       "        text-align: right;\n",
       "    }\n",
       "</style>\n",
       "<table border=\"1\" class=\"dataframe\">\n",
       "  <thead>\n",
       "    <tr style=\"text-align: right;\">\n",
       "      <th></th>\n",
       "      <th>1FAMS</th>\n",
       "      <th>2FAMS</th>\n",
       "      <th>1FAMC</th>\n",
       "      <th>2FAMC</th>\n",
       "      <th>3FAMC</th>\n",
       "      <th>4FAMC</th>\n",
       "      <th>5FAMC</th>\n",
       "    </tr>\n",
       "    <tr>\n",
       "      <th>FAM</th>\n",
       "      <th></th>\n",
       "      <th></th>\n",
       "      <th></th>\n",
       "      <th></th>\n",
       "      <th></th>\n",
       "      <th></th>\n",
       "      <th></th>\n",
       "    </tr>\n",
       "  </thead>\n",
       "  <tbody>\n",
       "    <tr>\n",
       "      <th>@F285@</th>\n",
       "      <td>@F286@</td>\n",
       "      <td>NaN</td>\n",
       "      <td>NaN</td>\n",
       "      <td>NaN</td>\n",
       "      <td>NaN</td>\n",
       "      <td>NaN</td>\n",
       "      <td>NaN</td>\n",
       "    </tr>\n",
       "    <tr>\n",
       "      <th>@F286@</th>\n",
       "      <td>@F287@</td>\n",
       "      <td>NaN</td>\n",
       "      <td>@F285@</td>\n",
       "      <td>NaN</td>\n",
       "      <td>NaN</td>\n",
       "      <td>NaN</td>\n",
       "      <td>NaN</td>\n",
       "    </tr>\n",
       "    <tr>\n",
       "      <th>@F78@</th>\n",
       "      <td>NaN</td>\n",
       "      <td>@F304@</td>\n",
       "      <td>@F303@</td>\n",
       "      <td>NaN</td>\n",
       "      <td>NaN</td>\n",
       "      <td>NaN</td>\n",
       "      <td>NaN</td>\n",
       "    </tr>\n",
       "    <tr>\n",
       "      <th>@F75@</th>\n",
       "      <td>@F76@</td>\n",
       "      <td>@F209@</td>\n",
       "      <td>@F187@</td>\n",
       "      <td>NaN</td>\n",
       "      <td>NaN</td>\n",
       "      <td>NaN</td>\n",
       "      <td>NaN</td>\n",
       "    </tr>\n",
       "    <tr>\n",
       "      <th>@F76@</th>\n",
       "      <td>@F77@</td>\n",
       "      <td>@F214@</td>\n",
       "      <td>@F75@</td>\n",
       "      <td>NaN</td>\n",
       "      <td>NaN</td>\n",
       "      <td>NaN</td>\n",
       "      <td>NaN</td>\n",
       "    </tr>\n",
       "    <tr>\n",
       "      <th>...</th>\n",
       "      <td>...</td>\n",
       "      <td>...</td>\n",
       "      <td>...</td>\n",
       "      <td>...</td>\n",
       "      <td>...</td>\n",
       "      <td>...</td>\n",
       "      <td>...</td>\n",
       "    </tr>\n",
       "    <tr>\n",
       "      <th>@F6017@</th>\n",
       "      <td>@F6018@</td>\n",
       "      <td>@F6020@</td>\n",
       "      <td>@F6013@</td>\n",
       "      <td>NaN</td>\n",
       "      <td>NaN</td>\n",
       "      <td>NaN</td>\n",
       "      <td>NaN</td>\n",
       "    </tr>\n",
       "    <tr>\n",
       "      <th>@F6018@</th>\n",
       "      <td>@F6019@</td>\n",
       "      <td>NaN</td>\n",
       "      <td>@F6017@</td>\n",
       "      <td>NaN</td>\n",
       "      <td>NaN</td>\n",
       "      <td>NaN</td>\n",
       "      <td>NaN</td>\n",
       "    </tr>\n",
       "    <tr>\n",
       "      <th>@F6019@</th>\n",
       "      <td>NaN</td>\n",
       "      <td>NaN</td>\n",
       "      <td>@F6018@</td>\n",
       "      <td>NaN</td>\n",
       "      <td>NaN</td>\n",
       "      <td>NaN</td>\n",
       "      <td>NaN</td>\n",
       "    </tr>\n",
       "    <tr>\n",
       "      <th>@F6020@</th>\n",
       "      <td>NaN</td>\n",
       "      <td>NaN</td>\n",
       "      <td>@F6017@</td>\n",
       "      <td>NaN</td>\n",
       "      <td>NaN</td>\n",
       "      <td>NaN</td>\n",
       "      <td>NaN</td>\n",
       "    </tr>\n",
       "    <tr>\n",
       "      <th>@F6078@</th>\n",
       "      <td>NaN</td>\n",
       "      <td>NaN</td>\n",
       "      <td>@F187@</td>\n",
       "      <td>NaN</td>\n",
       "      <td>NaN</td>\n",
       "      <td>NaN</td>\n",
       "      <td>NaN</td>\n",
       "    </tr>\n",
       "  </tbody>\n",
       "</table>\n",
       "<p>2891 rows × 7 columns</p>\n",
       "</div>"
      ],
      "text/plain": [
       "           1FAMS    2FAMS    1FAMC 2FAMC 3FAMC 4FAMC 5FAMC\n",
       "FAM                                                       \n",
       "@F285@    @F286@      NaN      NaN   NaN   NaN   NaN   NaN\n",
       "@F286@    @F287@      NaN   @F285@   NaN   NaN   NaN   NaN\n",
       "@F78@        NaN   @F304@   @F303@   NaN   NaN   NaN   NaN\n",
       "@F75@      @F76@   @F209@   @F187@   NaN   NaN   NaN   NaN\n",
       "@F76@      @F77@   @F214@    @F75@   NaN   NaN   NaN   NaN\n",
       "...          ...      ...      ...   ...   ...   ...   ...\n",
       "@F6017@  @F6018@  @F6020@  @F6013@   NaN   NaN   NaN   NaN\n",
       "@F6018@  @F6019@      NaN  @F6017@   NaN   NaN   NaN   NaN\n",
       "@F6019@      NaN      NaN  @F6018@   NaN   NaN   NaN   NaN\n",
       "@F6020@      NaN      NaN  @F6017@   NaN   NaN   NaN   NaN\n",
       "@F6078@      NaN      NaN   @F187@   NaN   NaN   NaN   NaN\n",
       "\n",
       "[2891 rows x 7 columns]"
      ]
     },
     "execution_count": 121,
     "metadata": {},
     "output_type": "execute_result"
    }
   ],
   "source": [
    "get_FamLinks_DataFrame()"
   ]
  }
 ],
 "metadata": {
  "interpreter": {
   "hash": "fa633476d90ebc5c342c0ebd58df75a6a0dad7836670477e29bdaa57f1aacce8"
  },
  "kernelspec": {
   "display_name": "Python 3.9.12 ('base')",
   "language": "python",
   "name": "python3"
  },
  "language_info": {
   "codemirror_mode": {
    "name": "ipython",
    "version": 3
   },
   "file_extension": ".py",
   "mimetype": "text/x-python",
   "name": "python",
   "nbconvert_exporter": "python",
   "pygments_lexer": "ipython3",
   "version": "3.9.12"
  },
  "orig_nbformat": 4
 },
 "nbformat": 4,
 "nbformat_minor": 2
}
