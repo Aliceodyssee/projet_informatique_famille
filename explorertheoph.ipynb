{
 "cells": [
  {
   "cell_type": "markdown",
   "metadata": {},
   "source": [
    " ## Prise en main de la librairie GEDCOM"
   ]
  },
  {
   "cell_type": "markdown",
   "metadata": {},
   "source": [
    "### Conventions : \n",
    "Tag for Spouse FamiliyElement : 'FAMS'\n",
    "$\\\\$\n",
    "Tag for Childrens FamiliyElement : 'FAMC'"
   ]
  },
  {
   "cell_type": "code",
   "execution_count": 5,
   "metadata": {},
   "outputs": [],
   "source": [
    "from gedcom.element.individual import IndividualElement\n",
    "from gedcom.element.element import Element\n",
    "from gedcom.parser import Parser\n",
    "from gedcom.element.family import FamilyElement\n",
    "import gedcom.tags\n",
    "import numpy as np\n",
    "import pandas as pd\n",
    "import string\n",
    "#from gedcom.element.element import Element\n",
    "#from gedcom.element.file import FileElement\n",
    "#from gedcom.element.object import ObjectElement\n",
    "\n",
    "gedcom_parser = Parser()"
   ]
  },
  {
   "cell_type": "code",
   "execution_count": 30,
   "metadata": {},
   "outputs": [],
   "source": [
    "file_path = 'Queen_Eliz_II.ged'\n",
    "gedcom_parser = Parser()\n",
    "gedcom_parser.parse_file(file_path)\n",
    "root_child_elements = gedcom_parser.get_root_child_elements()\n",
    "\n",
    "def find_child_data(first_names,last_name):\n",
    "    for element in root_child_elements:\n",
    "        if isinstance(element, IndividualElement):\n",
    "            if element.surname_match(last_name):\n",
    "                if element.given_name_match(first_names):\n",
    "                    L1 = []\n",
    "                    L2 = []\n",
    "                    (first, last) = element.get_name()\n",
    "                    print(\"Information about \" + first + \" \" + last + \":\")\n",
    "                    data = element.get_child_elements()\n",
    "                    for child in data :\n",
    "                        L1 += [child]\n",
    "                        L2 += [child.get_tag()]\n",
    "                    return L1, L2\n",
    "    return \"No matching person\""
   ]
  },
  {
   "cell_type": "code",
   "execution_count": 10,
   "metadata": {},
   "outputs": [
    {
     "name": "stdout",
     "output_type": "stream",
     "text": [
      "Information about Elizabeth II Alexandra Mary Windsor:\n"
     ]
    },
    {
     "data": {
      "text/plain": [
       "([<gedcom.element.element.Element at 0x10866aac0>,\n",
       "  <gedcom.element.element.Element at 0x10866aaf0>,\n",
       "  <gedcom.element.element.Element at 0x10866ab20>,\n",
       "  <gedcom.element.element.Element at 0x10866ab50>,\n",
       "  <gedcom.element.element.Element at 0x10866ac40>,\n",
       "  <gedcom.element.element.Element at 0x10866ac10>,\n",
       "  <gedcom.element.element.Element at 0x10866ad30>,\n",
       "  <gedcom.element.element.Element at 0x10866ad60>],\n",
       " ['RIN', '_UID', '_UPD', 'NAME', 'SEX', 'BIRT', 'FAMS', 'FAMC'])"
      ]
     },
     "execution_count": 10,
     "metadata": {},
     "output_type": "execute_result"
    }
   ],
   "source": [
    "find_child_data(\"Elizabeth II Alexandra Mary\", \"Windsor\")"
   ]
  },
  {
   "cell_type": "code",
   "execution_count": 11,
   "metadata": {},
   "outputs": [],
   "source": [
    "def find_IndividualElement(first_names,last_name):\n",
    "    \"\"\"\n",
    "    Get Individual element of ged with first names and last name\n",
    "\n",
    "    Parameters\n",
    "    ---\n",
    "    first_names : str\n",
    "        complete first names of the individual\n",
    "    last_name : str\n",
    "        last names of the individual \n",
    "\n",
    "    Returns \n",
    "    ---\n",
    "    bool \n",
    "        Tells if the individual was found\n",
    "    IndividualElement\n",
    "        IndividualElement corresponding to the individual in the ged\n",
    "\n",
    "    \"\"\"\n",
    "    for element in root_child_elements:\n",
    "        if isinstance(element, IndividualElement):\n",
    "            if element.surname_match(last_name):\n",
    "                return (True, element)\n",
    "    return [False, element]"
   ]
  },
  {
   "cell_type": "code",
   "execution_count": 12,
   "metadata": {},
   "outputs": [],
   "source": [
    "def get_Spouse_FamilyElement(Individual):\n",
    "    \"\"\"\n",
    "    Get Spouse FamilyElements of an individual\n",
    "\n",
    "    Parameters\n",
    "    ---\n",
    "    Individual : IndividualElement\n",
    "\n",
    "    Returns\n",
    "    ---\n",
    "    list of FamilyElement \n",
    "    \"\"\"\n",
    "    return gedcom_parser.get_families(Individual,\"FAMS\")\n",
    "    "
   ]
  },
  {
   "cell_type": "code",
   "execution_count": 13,
   "metadata": {},
   "outputs": [],
   "source": [
    "def get_Children_FamilyElement(Individual):\n",
    "    \"\"\"\n",
    "    Get Childrens FamilyElements of an individual\n",
    "\n",
    "    Parameters\n",
    "    ---\n",
    "    Individual : IndividualElement\n",
    "\n",
    "    Returns\n",
    "    ---\n",
    "    list of FamilyElement \n",
    "    \"\"\"\n",
    "    return gedcom_parser.get_families(Individual,\"FAMC\")"
   ]
  },
  {
   "cell_type": "code",
   "execution_count": 14,
   "metadata": {},
   "outputs": [],
   "source": [
    "def get_spouse(Individual):\n",
    "    \"\"\"\n",
    "    Doesn't work\n",
    "    \"\"\"\n",
    "    Family = get_Spouse_FamilyElement(Individual)[0]\n",
    "    return gedcom_parser.get_family_members(Family,\"FAMILY_MEMBERS_TYPE_ALL\")"
   ]
  },
  {
   "cell_type": "markdown",
   "metadata": {},
   "source": [
    "### Tests"
   ]
  },
  {
   "cell_type": "code",
   "execution_count": 15,
   "metadata": {},
   "outputs": [
    {
     "data": {
      "text/plain": [
       "[<gedcom.element.family.FamilyElement at 0x10a6927c0>]"
      ]
     },
     "execution_count": 15,
     "metadata": {},
     "output_type": "execute_result"
    }
   ],
   "source": [
    "get_Spouse_FamilyElement(find_IndividualElement(\"Elizabeth II Alexandra Mary\", \"Windsor\")[1])"
   ]
  },
  {
   "cell_type": "code",
   "execution_count": 16,
   "metadata": {},
   "outputs": [
    {
     "data": {
      "text/plain": [
       "'FAM'"
      ]
     },
     "execution_count": 16,
     "metadata": {},
     "output_type": "execute_result"
    }
   ],
   "source": [
    "get_Spouse_FamilyElement(find_IndividualElement(\"Elizabeth II Alexandra Mary\", \"Windsor\")[1])[0].get_tag()"
   ]
  },
  {
   "cell_type": "code",
   "execution_count": null,
   "metadata": {},
   "outputs": [],
   "source": []
  },
  {
   "cell_type": "code",
   "execution_count": 17,
   "metadata": {},
   "outputs": [
    {
     "data": {
      "text/plain": [
       "[<gedcom.element.family.FamilyElement at 0x10a6924c0>]"
      ]
     },
     "execution_count": 17,
     "metadata": {},
     "output_type": "execute_result"
    }
   ],
   "source": [
    "get_Children_FamilyElement(find_IndividualElement(\"Elizabeth II Alexandra Mary\", \"Windsor\")[1])"
   ]
  },
  {
   "cell_type": "code",
   "execution_count": 18,
   "metadata": {},
   "outputs": [
    {
     "data": {
      "text/plain": [
       "('George V', 'Windsor')"
      ]
     },
     "execution_count": 18,
     "metadata": {},
     "output_type": "execute_result"
    }
   ],
   "source": [
    "A = find_IndividualElement(\"Elizabeth II Alexandra Mary\", \"Windsor\")[1]\n",
    "B = find_IndividualElement(\"George VI\", \"Windsor\")[1]\n",
    "gedcom_parser.find_path_to_ancestor(A,B,None)[0].get_name()"
   ]
  },
  {
   "cell_type": "code",
   "execution_count": 19,
   "metadata": {},
   "outputs": [
    {
     "data": {
      "text/plain": [
       "('George V', 'Windsor')"
      ]
     },
     "execution_count": 19,
     "metadata": {},
     "output_type": "execute_result"
    }
   ],
   "source": [
    "C = find_IndividualElement(\"Elizabeth II Alexandra Mary\", \"Windsor\")[1]\n",
    "D = find_IndividualElement(\"George V\", \"Windsor\")[1]\n",
    "gedcom_parser.find_path_to_ancestor(A,B,None)[0].get_name()"
   ]
  },
  {
   "cell_type": "code",
   "execution_count": 20,
   "metadata": {},
   "outputs": [
    {
     "data": {
      "text/plain": [
       "('George V', 'Windsor')"
      ]
     },
     "execution_count": 20,
     "metadata": {},
     "output_type": "execute_result"
    }
   ],
   "source": [
    "E = find_IndividualElement(\"Elizabeth II Alexandra Mary\", \"Windsor\")[1]\n",
    "F = find_IndividualElement(\"Edward VII\", \"Wettin\")[1]\n",
    "gedcom_parser.find_path_to_ancestor(A,B,None)[0].get_name()"
   ]
  },
  {
   "cell_type": "code",
   "execution_count": 21,
   "metadata": {},
   "outputs": [
    {
     "data": {
      "text/plain": [
       "[<gedcom.element.individual.IndividualElement at 0x108661760>,\n",
       " <gedcom.element.individual.IndividualElement at 0x108661d00>,\n",
       " <gedcom.element.individual.IndividualElement at 0x10866a1f0>]"
      ]
     },
     "execution_count": 21,
     "metadata": {},
     "output_type": "execute_result"
    }
   ],
   "source": [
    "get_spouse(find_IndividualElement(\"George VI\", \"Windsor\")[1])"
   ]
  },
  {
   "cell_type": "code",
   "execution_count": 22,
   "metadata": {},
   "outputs": [
    {
     "data": {
      "text/plain": [
       "('George V', 'Windsor')"
      ]
     },
     "execution_count": 22,
     "metadata": {},
     "output_type": "execute_result"
    }
   ],
   "source": [
    "get_spouse(find_IndividualElement(\"George VI\", \"Windsor\")[1])[0].get_name()"
   ]
  },
  {
   "cell_type": "code",
   "execution_count": 23,
   "metadata": {},
   "outputs": [
    {
     "data": {
      "text/plain": [
       "('Mary of Teck (May)', '')"
      ]
     },
     "execution_count": 23,
     "metadata": {},
     "output_type": "execute_result"
    }
   ],
   "source": [
    "get_spouse(find_IndividualElement(\"George VI\", \"Windsor\")[1])[1].get_name()"
   ]
  },
  {
   "cell_type": "code",
   "execution_count": 24,
   "metadata": {},
   "outputs": [
    {
     "data": {
      "text/plain": [
       "('George VI', 'Windsor')"
      ]
     },
     "execution_count": 24,
     "metadata": {},
     "output_type": "execute_result"
    }
   ],
   "source": [
    "get_spouse(find_IndividualElement(\"George VI\", \"Windsor\")[1])[2].get_name()"
   ]
  },
  {
   "cell_type": "code",
   "execution_count": 25,
   "metadata": {},
   "outputs": [
    {
     "data": {
      "text/plain": [
       "('SIR WILLIAM VII KNIGHT ENGLAND', 'Gascoigne')"
      ]
     },
     "execution_count": 25,
     "metadata": {},
     "output_type": "execute_result"
    }
   ],
   "source": [
    "get_spouse(find_IndividualElement('Mary of Teck (May)', '')[1])[0].get_name()"
   ]
  },
  {
   "cell_type": "markdown",
   "metadata": {},
   "source": [
    "### Fonctions Parents/Childrens"
   ]
  },
  {
   "cell_type": "code",
   "execution_count": 26,
   "metadata": {},
   "outputs": [],
   "source": [
    "def get_all_Spouse_FamilyElement():\n",
    "    Spouse_FamilyElements = []\n",
    "    N = 0\n",
    "    for element in root_child_elements:\n",
    "        if isinstance(element, FamilyElement):\n",
    "            if element.get_tag() == gedcom.tags.GEDCOM_TAG_FAMILY_SPOUSE :\n",
    "                Spouse_FamilyElements += [element]\n",
    "    return Spouse_FamilyElements\n"
   ]
  },
  {
   "cell_type": "code",
   "execution_count": 27,
   "metadata": {},
   "outputs": [
    {
     "data": {
      "text/plain": [
       "[]"
      ]
     },
     "execution_count": 27,
     "metadata": {},
     "output_type": "execute_result"
    }
   ],
   "source": [
    "get_all_Spouse_FamilyElement()"
   ]
  },
  {
   "cell_type": "code",
   "execution_count": 28,
   "metadata": {},
   "outputs": [
    {
     "ename": "NameError",
     "evalue": "name 'get_Childrens' is not defined",
     "output_type": "error",
     "traceback": [
      "\u001b[0;31m---------------------------------------------------------------------------\u001b[0m",
      "\u001b[0;31mNameError\u001b[0m                                 Traceback (most recent call last)",
      "\u001b[1;32m/Users/theophiledechelotte/Documents/1A Mines/UE 22 - Ingéniérie Logicielle/Projet arbre généalogique/projet_informatique_famille/explorertheoph.ipynb Cell 26'\u001b[0m in \u001b[0;36m<cell line: 1>\u001b[0;34m()\u001b[0m\n\u001b[0;32m----> <a href='vscode-notebook-cell:/Users/theophiledechelotte/Documents/1A%20Mines/UE%2022%20-%20Inge%CC%81nie%CC%81rie%20Logicielle/Projet%20arbre%20ge%CC%81ne%CC%81alogique/projet_informatique_famille/explorertheoph.ipynb#ch0000025?line=0'>1</a>\u001b[0m get_Childrens(find_IndividualElement(\u001b[39m\"\u001b[39m\u001b[39mElizabeth II Alexandra Mary\u001b[39m\u001b[39m\"\u001b[39m, \u001b[39m\"\u001b[39m\u001b[39mWindsor\u001b[39m\u001b[39m\"\u001b[39m)[\u001b[39m1\u001b[39m])\n",
      "\u001b[0;31mNameError\u001b[0m: name 'get_Childrens' is not defined"
     ]
    }
   ],
   "source": [
    "get_Childrens(find_IndividualElement(\"Elizabeth II Alexandra Mary\", \"Windsor\")[1])"
   ]
  },
  {
   "cell_type": "code",
   "execution_count": null,
   "metadata": {},
   "outputs": [
    {
     "data": {
      "text/plain": [
       "[<gedcom.element.individual.IndividualElement at 0x1089e0d90>,\n",
       " <gedcom.element.individual.IndividualElement at 0x1089e92b0>]"
      ]
     },
     "execution_count": 24,
     "metadata": {},
     "output_type": "execute_result"
    }
   ],
   "source": [
    "gedcom_parser.get_parents(find_IndividualElement(\"Elizabeth II Alexandra Mary\", \"Windsor\")[1])"
   ]
  },
  {
   "cell_type": "markdown",
   "metadata": {},
   "source": [
    "### Raisonnement : \n",
    "Construction d'une Dataframe panda Individual / Family1 / Family2 $\\\\$\n",
    "Construction d'une Dataframe panda Family / Children1 / FamilyChildren2 / ... $\\\\$\n",
    "Construction d'une Dataframe panda Family / Mother / Father $\\\\$\n",
    "Dataframe of Families connections with other families\n",
    "\n",
    "Parcours du graphe : \n",
    "On part d'un des 2, on part des 2 côté avec les 2 dernières dataframe jusqu'à trouver la famille du 2e"
   ]
  },
  {
   "cell_type": "code",
   "execution_count": 12,
   "metadata": {},
   "outputs": [],
   "source": [
    "def get_IndivFamily_DataFrame(file_path='Queen_Eliz_II.ged'):\n",
    "    \"\"\"\n",
    "    Creates DataFrame of children & spouse families keys of all individuals \n",
    "    indexed by their keys, from a gedcom file.\n",
    "\n",
    "    Parameters\n",
    "    ---\n",
    "    file_path : str\n",
    "        path of the gedcom file\n",
    "\n",
    "    Returns \n",
    "    ---\n",
    "    pd.DataFrame \n",
    "        dataframe of children & spouse families keys of individuals\n",
    "    \"\"\"\n",
    "    gedcom_parser.parse_file(file_path)\n",
    "    root_child_elements = gedcom_parser.get_root_child_elements()\n",
    "    T = []\n",
    "    for element in root_child_elements:\n",
    "        if isinstance(element, IndividualElement):\n",
    "            L = [element.get_pointer()]\n",
    "            for child_element in element.get_child_elements() :\n",
    "                if child_element.get_tag() == gedcom.tags.GEDCOM_TAG_FAMILY_SPOUSE :\n",
    "                    L += [child_element.get_value()]\n",
    "                elif child_element.get_tag() == gedcom.tags.GEDCOM_TAG_FAMILY_CHILD :\n",
    "                    L += [child_element.get_value()]\n",
    "            T += [L]\n",
    "\n",
    "    full_T = [line+['NaN']*(3-len(line)) for line in T]\n",
    "\n",
    "    df = pd.DataFrame(\n",
    "    {\n",
    "        'INDI' : [full_T[k][0] for k in range(len(full_T))],\n",
    "        'FAMS' : [full_T[k][1] for k in range(len(full_T))],\n",
    "        'FAMC' : [full_T[k][2] for k in range(len(full_T))],\n",
    "    })\n",
    "\n",
    "    df = df.set_index('INDI')\n",
    "\n",
    "    return df\n",
    "\n"
   ]
  },
  {
   "cell_type": "code",
   "execution_count": 9,
   "metadata": {},
   "outputs": [],
   "source": [
    "df1 = get_IndivFamily_DataFrame()"
   ]
  },
  {
   "cell_type": "code",
   "execution_count": 11,
   "metadata": {},
   "outputs": [],
   "source": [
    "def is_present(string,list):\n",
    "    \"\"\"\n",
    "    Verify if an element is already in a list or not\n",
    "    \"\"\"\n",
    "    for i in list :\n",
    "        if i == string :\n",
    "            return True\n",
    "    return False"
   ]
  },
  {
   "cell_type": "code",
   "execution_count": 13,
   "metadata": {},
   "outputs": [
    {
     "ename": "IndentationError",
     "evalue": "expected an indented block (2870166054.py, line 5)",
     "output_type": "error",
     "traceback": [
      "\u001b[0;36m  Input \u001b[0;32mIn [13]\u001b[0;36m\u001b[0m\n\u001b[0;31m    \u001b[0m\n\u001b[0m    ^\u001b[0m\n\u001b[0;31mIndentationError\u001b[0m\u001b[0;31m:\u001b[0m expected an indented block\n"
     ]
    }
   ],
   "source": [
    "def get_FamChildrens_DataFrame(df):\n",
    "    fams = df1['FAMS'].drop_duplicates()\n",
    "    fams = fams.set_index('FAMS')\n",
    "    for fam in fams :\n",
    "        N = 1\n",
    "        for indi in df1['FAMC' == fam] :\n",
    "            N += 1\n",
    "\n"
   ]
  },
  {
   "cell_type": "code",
   "execution_count": null,
   "metadata": {},
   "outputs": [],
   "source": []
  }
 ],
 "metadata": {
  "interpreter": {
   "hash": "fa633476d90ebc5c342c0ebd58df75a6a0dad7836670477e29bdaa57f1aacce8"
  },
  "kernelspec": {
   "display_name": "Python 3.9.12 ('base')",
   "language": "python",
   "name": "python3"
  },
  "language_info": {
   "codemirror_mode": {
    "name": "ipython",
    "version": 3
   },
   "file_extension": ".py",
   "mimetype": "text/x-python",
   "name": "python",
   "nbconvert_exporter": "python",
   "pygments_lexer": "ipython3",
   "version": "3.9.12"
  },
  "orig_nbformat": 4
 },
 "nbformat": 4,
 "nbformat_minor": 2
}
