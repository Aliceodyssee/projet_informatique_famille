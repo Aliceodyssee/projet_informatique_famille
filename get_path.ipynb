{
 "cells": [
  {
   "cell_type": "code",
   "execution_count": 5,
   "metadata": {},
   "outputs": [],
   "source": [
    "from gedcom.element.individual import IndividualElement\n",
    "from gedcom.parser import Parser\n",
    "import gedcom.tags\n",
    "import numpy as np\n",
    "import pandas as pd\n",
    "import math\n",
    "\n",
    "from ipynb.fs.full.explorertheoph import *\n",
    "\n",
    "gedcom_parser = Parser()"
   ]
  },
  {
   "cell_type": "code",
   "execution_count": 6,
   "metadata": {},
   "outputs": [],
   "source": [
    "def shortest_path(graph, v1, v2):\n",
    "    \"\"\"\n",
    "    like shortest_path1, but more efficient\n",
    "    as it maintains the border incrementally\n",
    "\n",
    "    graph : dictionnary which values are dictionnaries\n",
    "    v1, v2 : FamilyElement, keys of graph\n",
    "    \"\"\"\n",
    "\n",
    "    # keep track of what has been visited\n",
    "    # with what distance, and from what vertex\n",
    "    visited = {v1: (0, None)}\n",
    "    # the edges at the border between\n",
    "    # the visited and unvisited parts\n",
    "    border_edges = set()\n",
    "    # the vertex that was just selected\n",
    "    selected_vertex = v1\n",
    "\n",
    "    while True:\n",
    "        # add to the border the edges that\n",
    "        # go out of the last selected vertex\n",
    "        # to unvisited\n",
    "        # print(f\"{selected_vertex=}\")\n",
    "        adj = graph.get(selected_vertex, {})\n",
    "        for (dest, weight) in adj.items():\n",
    "            if dest not in visited:\n",
    "                border_edges.add((selected_vertex, dest))\n",
    "        # remove from the border any edge that would\n",
    "        # end at the newly_elected vertex\n",
    "        border_edges = {\n",
    "            (s, d) for (s, d) in border_edges\n",
    "            if d != selected_vertex\n",
    "        }\n",
    "        # print(f\"{border_edges=}\")\n",
    "\n",
    "        # out of luck, no path can be found\n",
    "        # and border_edges is empty\n",
    "        if not border_edges:\n",
    "            print(\"no edges\")\n",
    "            return None\n",
    "\n",
    "        # find the best tuple (edge, distance)\n",
    "        shortest_length = math.inf\n",
    "        shortest_edge = None\n",
    "        for (s, d) in border_edges:\n",
    "            w = graph[s][d]\n",
    "            past_distance, _ = visited[s]\n",
    "            dist = past_distance + w\n",
    "            if dist <= shortest_length:\n",
    "                shortest_length = dist\n",
    "                shortest_edge = (s, d)\n",
    "\n",
    "        # mark newly selected vertex\n",
    "        best_src, best_dst = shortest_edge\n",
    "        visited[best_dst] = (shortest_length, best_src)\n",
    "        selected_vertex = best_dst\n",
    "\n",
    "        # are we done ?\n",
    "        if best_dst == v2:\n",
    "            path = [v2]\n",
    "            previous = best_src\n",
    "            while previous:\n",
    "                # print(f\"inserting {previous}\")\n",
    "                path.insert(0, previous)\n",
    "                previous = visited[previous][1]\n",
    "            return shortest_length, path"
   ]
  },
  {
   "cell_type": "markdown",
   "metadata": {},
   "source": [
    "#### Remark : form of graph\n",
    "Graph gives close family members for each individual, i.e. : parents, siblings, grandparents, grandchildren, nephews, uncles and aunts. Those are family members separated by maximum one other individual. We must ensure that the direct distance between an individual and their uncle (for exemple) is inferior to the sum of distances between an individual and their father (for ex) and between the father and his brother. This way, the algorithm can decide which path is shorter."
   ]
  },
  {
   "cell_type": "markdown",
   "metadata": {},
   "source": [
    "The values of graph are tuples (weight, family link) where family links can be 'parent', 'sibling', 'grandparent', 'grandchild', 'nephew', uncle/aunt'. "
   ]
  },
  {
   "cell_type": "code",
   "execution_count": 7,
   "metadata": {},
   "outputs": [],
   "source": [
    "# not yet tested\n",
    "# because needs graph in the proper form\n",
    "\n",
    "def shortest_path_up(graph, v1, v2) :\n",
    "    \"\"\"\n",
    "    Updated version of shortest_path\n",
    "    Includes family relationship types\n",
    "\n",
    "    graph : \n",
    "        dictionnary which values are dictionnaries\n",
    "        neighbour vertexes are family members\n",
    "        separated by maximum one (or two ?) vertex\n",
    "        each item is a tuple (weight, 'family relationship')\n",
    "    v1, v2 : \n",
    "        IndividualElement, keys of graph\n",
    "\n",
    "    processus the path in order to give \n",
    "    the precise link between v1 and v2\n",
    "    \"\"\"\n",
    "\n",
    "    # keep track of what has been visited\n",
    "    # with what distance, and from what vertex\n",
    "    visited = {v1: (0, None)}\n",
    "    # the edges at the border between\n",
    "    # the visited and unvisited parts\n",
    "    border_edges = set()\n",
    "    # the vertex that was just selected\n",
    "    selected_vertex = v1\n",
    "\n",
    "    while True:\n",
    "        # add to the border the edges that\n",
    "        # go out of the last selected vertex\n",
    "        # to unvisited\n",
    "        # print(f\"{selected_vertex=}\")\n",
    "        adj = graph.get(selected_vertex, {})\n",
    "        for (dest, value) in adj.items():\n",
    "            if dest not in visited:\n",
    "                border_edges.add((selected_vertex, dest))\n",
    "        # remove from the border any edge that would\n",
    "        # end at the newly_elected vertex\n",
    "        border_edges = {\n",
    "            (s, d) for (s, d) in border_edges\n",
    "            if d != selected_vertex\n",
    "        }\n",
    "        # print(f\"{border_edges=}\")\n",
    "\n",
    "        # out of luck, no path can be found\n",
    "        # and border_edges is empty\n",
    "        if not border_edges:\n",
    "            print(\"no edges\")\n",
    "            return None\n",
    "\n",
    "        # find the best tuple (edge, distance)\n",
    "        shortest_length = math.inf\n",
    "        shortest_edge = None\n",
    "        for (s, d) in border_edges:\n",
    "            w = graph[s][d][0]\n",
    "            past_distance, _ = visited[s]\n",
    "            dist = past_distance + w\n",
    "            if dist <= shortest_length:\n",
    "                shortest_length = dist\n",
    "                shortest_edge = (s, d)\n",
    "\n",
    "        # mark newly selected vertex\n",
    "        best_src, best_dst = shortest_edge\n",
    "        visited[best_dst] = (shortest_length, best_src)\n",
    "        selected_vertex = best_dst\n",
    "\n",
    "        # are we done ?\n",
    "        if best_dst == v2:\n",
    "            # path contains the vertex and family link\n",
    "            first = [best_dst, graph[best_src][best_dst][1]]\n",
    "            path = [first]\n",
    "            previous = best_src\n",
    "            surprevious = visited[previous][1]\n",
    "            while previous:\n",
    "                # print(f\"inserting {previous}\")\n",
    "                next = [previous, graph[surprevious][previous][1]]\n",
    "                path.insert(0, next)\n",
    "                previous = surprevious\n",
    "                surprevious = visited[previous][1]\n",
    "            return shortest_length, path"
   ]
  },
  {
   "cell_type": "markdown",
   "metadata": {},
   "source": [
    "### Interpretation of path\n",
    "We must end up with a formulation like : \"v2 is the father of the grandmother of v1.\" This implies finding genders of all individuals in the path, and maybe doing some simplifications such as father of father = grandfather. "
   ]
  },
  {
   "cell_type": "markdown",
   "metadata": {},
   "source": [
    "##### Question\n",
    "Should we rather say \"niece\" or \"daugther of brother\" ? \"Niece\" is more easy to read, but \"daughter of brother\" is 100% precise. Ask Pierre-Antoine"
   ]
  },
  {
   "cell_type": "code",
   "execution_count": 8,
   "metadata": {},
   "outputs": [],
   "source": [
    "# names of family links\n",
    "links = {'parents' : ('father', 'mother'), \n",
    "         'sibling' : ('brother', 'sister'), \n",
    "         'grandparent' : ('grandfather', 'grandmother'),\n",
    "         'grandchild' : ('grandson', 'granddaughter'), \n",
    "         'nephew' : ('nephew', 'niece'), \n",
    "         'uncle/aunt' : ('uncle', 'aunt')\n",
    "        }"
   ]
  },
  {
   "cell_type": "code",
   "execution_count": 9,
   "metadata": {},
   "outputs": [],
   "source": [
    "def gendered_link(tag, link) :\n",
    "    \"\"\"\n",
    "    Adds gender to family link\n",
    "\n",
    "    Parameters\n",
    "    ---\n",
    "    tag : str\n",
    "        tag of IndividualElement\n",
    "    link : str\n",
    "        family link\n",
    "    Returns \n",
    "    ---\n",
    "    str \n",
    "        link with gender\n",
    "    \"\"\"\n",
    "\n",
    "    indvidual = find_Element(tag) \n",
    "    \n",
    "    if individual.get_gender() == \"M\" :\n",
    "        return links[links][0]\n",
    "    else :\n",
    "        return links[links][1]"
   ]
  },
  {
   "cell_type": "code",
   "execution_count": 10,
   "metadata": {},
   "outputs": [],
   "source": [
    "def print_path(path) :\n",
    "    \"\"\"\n",
    "    Prints interprated path\n",
    "\n",
    "    Parameters\n",
    "    ---\n",
    "    path : list of tuples\n",
    "        path between two individuals\n",
    "        tuple : (individual tag, family link)\n",
    "\n",
    "    Returns\n",
    "    ---\n",
    "    int \n",
    "\n",
    "    \"\"\"\n",
    "    ind, link = path[0]\n",
    "    print (v2 + \"is the\" + gendered_link(path[0][0], path[0][1]))\n",
    "    for i in range (1, len(path)) :\n",
    "        ind, link = path[i]\n",
    "        print(\"of the\" + gendered_link(ind, link))\n",
    "    print (\"of\" + v1)\n",
    "\n",
    "    # les print s'afficheront sûrement chacun à la ligne\n",
    "    # il faut trouver une commande qui empêche ça\n"
   ]
  },
  {
   "cell_type": "markdown",
   "metadata": {},
   "source": [
    "## Creation of graph"
   ]
  },
  {
   "cell_type": "code",
   "execution_count": 11,
   "metadata": {},
   "outputs": [],
   "source": [
    "def get_IndivFamily_DataFrame(file_path='Queen_Eliz_II.ged'):\n",
    "    \"\"\"\n",
    "    Creates DataFrame of children & spouse families keys of all individuals \n",
    "    indexed by their keys, from a gedcom file.\n",
    "\n",
    "    Parameters\n",
    "    ---\n",
    "    file_path : str\n",
    "        path of the gedcom file\n",
    "\n",
    "    Returns \n",
    "    ---\n",
    "    pd.DataFrame \n",
    "        dataframe of children & spouse families keys of individuals\n",
    "    \"\"\"\n",
    "    gedcom_parser.parse_file(file_path)\n",
    "    root_child_elements = gedcom_parser.get_root_child_elements()\n",
    "    \n",
    "    T = []\n",
    "    \n",
    "    #Go through indivduals and get their families\n",
    "    for element in root_child_elements:\n",
    "        if isinstance(element, IndividualElement):\n",
    "            L = [element.get_pointer()]\n",
    "            for child_element in element.get_child_elements() :\n",
    "                if child_element.get_tag() == gedcom.tags.GEDCOM_TAG_FAMILY_SPOUSE :\n",
    "                    L += [child_element.get_value()]\n",
    "                elif child_element.get_tag() == gedcom.tags.GEDCOM_TAG_FAMILY_CHILD :\n",
    "                    L += [child_element.get_value()]\n",
    "            T += [L]\n",
    "\n",
    "    #Add NaN where information is missing\n",
    "    full_T = [line+['NaN']*(3-len(line)) for line in T]\n",
    "\n",
    "    #Create the DataFrame\n",
    "    df = pd.DataFrame(\n",
    "    {\n",
    "        'INDI' : [full_T[k][0] for k in range(len(full_T))],\n",
    "        'FAMS' : [full_T[k][1] for k in range(len(full_T))],\n",
    "        'FAMC' : [full_T[k][2] for k in range(len(full_T))],\n",
    "    })\n",
    "\n",
    "    return df"
   ]
  },
  {
   "cell_type": "code",
   "execution_count": 12,
   "metadata": {},
   "outputs": [
    {
     "name": "stdout",
     "output_type": "stream",
     "text": [
      "     INDI    FAMS    FAMC\n",
      "0  @I101@  @F285@  @F286@\n",
      "1  @I103@  @F286@  @F287@\n",
      "2  @I155@   @F78@     NaN\n",
      "3  @I168@   @F75@   @F76@\n",
      "4  @I169@   @F75@  @F209@\n",
      "NaN\n"
     ]
    }
   ],
   "source": [
    "# Tests\n",
    "\n",
    "print(get_IndivFamily_DataFrame().head())\n",
    "\n",
    "df = get_IndivFamily_DataFrame()\n",
    "df1 = df.set_index('INDI',inplace=False)\n",
    "print(df1.at['@I11262@','FAMC'])"
   ]
  },
  {
   "cell_type": "markdown",
   "metadata": {},
   "source": [
    "### Family graph"
   ]
  },
  {
   "cell_type": "code",
   "execution_count": 13,
   "metadata": {},
   "outputs": [],
   "source": [
    "def get_FamLinks_DataFrame(file_path='Queen_Eliz_II.ged'):\n",
    "\n",
    "    df = get_IndivFamily_DataFrame(file_path)\n",
    "\n",
    "    df1 = df.set_index('INDI',inplace=False)\n",
    "\n",
    "    df2 = pd.DataFrame(\n",
    "    {\n",
    "        'FAM' : df['FAMS'].drop_duplicates(),\n",
    "    })\n",
    "    df2['1FAMS'] = np.NaN\n",
    "    df2.set_index('FAM',inplace=True)\n",
    "    N_max = 1\n",
    "\n",
    "    for family in df2.index :\n",
    "        N = 0\n",
    "\n",
    "        for indi in df[df['FAMS'] == f'{family}']['INDI'] :\n",
    "            N += 1\n",
    "            if N > N_max :\n",
    "                N_max = N\n",
    "                df2[f'{N_max}FAMS'] = np.NaN\n",
    "            df2.at[f'{family}',f'{N}FAMS'] = f'{indi}'\n",
    "            #df2.at[f'{family}',f'{N}FAMS'] = df1.at[f'{indi}','FAMC']\n",
    "        \n",
    "        for indi in df[df['FAMC'] == f'{family}']['INDI'] :\n",
    "            N += 1\n",
    "            if N > N_max :\n",
    "                N_max = N\n",
    "                df2[f'{N_max}FAMC'] = np.NaN\n",
    "            df2.at[f'{family}',f'{N}FAMC'] = f'{indi}'\n",
    "            #df2.at[f'{family}',f'{N}FAMC'] = df1.at[f'{indi}','FAMS']\n",
    "    \n",
    "    return df2"
   ]
  },
  {
   "cell_type": "code",
   "execution_count": 14,
   "metadata": {},
   "outputs": [],
   "source": [
    "def build_FamGraph(file_path='Queen_Eliz_II.ged'):\n",
    "\n",
    "    g = {}\n",
    "    df = get_FamLinks_DataFrame(file_path)\n",
    "\n",
    "    for FAM1 in df.index :\n",
    "        g[FAM1] = {}\n",
    "        for FAM2 in df.loc[FAM1] :\n",
    "            if f'{FAM2}' != 'nan' :\n",
    "                g[FAM1][f'{FAM2}'] = 1\n",
    "    return g"
   ]
  },
  {
   "cell_type": "code",
   "execution_count": 15,
   "metadata": {},
   "outputs": [
    {
     "name": "stdout",
     "output_type": "stream",
     "text": [
      "no edges\n"
     ]
    }
   ],
   "source": [
    "# Test\n",
    "shortest_path(build_FamGraph(), '@F76@', '@F6017@')"
   ]
  },
  {
   "cell_type": "markdown",
   "metadata": {},
   "source": [
    "### Individual graph"
   ]
  },
  {
   "cell_type": "code",
   "execution_count": 49,
   "metadata": {},
   "outputs": [],
   "source": [
    "def get_IndivLinks_DataFrame(file_path='Queen_Eliz_II.ged'):\n",
    "\n",
    "    df = get_IndivFamily_DataFrame(file_path)\n",
    "\n",
    "    df1 = df.set_index('INDI',inplace=False)\n",
    "\n",
    "    df2 = pd.DataFrame(\n",
    "    {\n",
    "        'INDI' : df1.index,\n",
    "    })\n",
    "    df2['PARENT1'] = np.NaN\n",
    "    df2.set_index('INDI',inplace=True)\n",
    "\n",
    "    for indiv1 in df2.index :\n",
    "\n",
    "        #Parents : FAMC of the character = FAMS of parents\n",
    "        N_parents = 0\n",
    "\n",
    "        for indiv2 in df[df['FAMS'] == df1.at[f'{indiv1}','FAMC']]['INDI'] :\n",
    "            N_parents += 1\n",
    "            df2.at[f'{indiv1}',f'PARENT{N_parents}'] = f'{indiv2}'\n",
    "\n",
    "\n",
    "        #Childrens : FAMS of the character = FAMC of childrens\n",
    "        N_childrens = 0\n",
    "\n",
    "        for indiv3 in df[df['FAMC'] == df1.at[f'{indiv1}','FAMS']]['INDI'] :\n",
    "            N_childrens += 1\n",
    "            df2.at[f'{indiv1}',f'CHILDREN{N_childrens}'] = f'{indiv3}'\n",
    "\n",
    "        #Siblings : FAMC of character = FAMC of siblings\n",
    "        N_siblings = 0\n",
    "\n",
    "        for indiv4 in df[df['FAMC'] == df1.at[f'{indiv1}','FAMC']]['INDI'] :\n",
    "            if indiv4 != indiv1 and df1.at[f'{indiv1}','FAMC'] != 'NaN':\n",
    "                N_siblings += 1\n",
    "                df2.at[f'{indiv1}',f'SIBLING{N_siblings}'] = f'{indiv4}'\n",
    "\n",
    "    #Grand parents : parents of the character's parents\n",
    "\n",
    "    for indiv5 in df2.index :\n",
    "        N_gp = 0\n",
    "\n",
    "        for parent in df2.loc[f'{indiv5}',['PARENT1','PARENT2']] :\n",
    "            if f'{parent}' != 'NaN' :\n",
    "                print(parent)\n",
    "                for gparent in df2.loc[f'{parent}',['PARENT1','PARENT2']] :\n",
    "                    if f'{gparent}' != 'NaN' :\n",
    "                        N_gp += 1\n",
    "                        df2.at[f'{indiv5}',f'GRAND_PARENT{N_gp}'] = f'{gparent}'\n",
    "\n",
    "\n",
    "    df2 = df2.reindex(sorted(df2.columns), axis=1)\n",
    "    return df2"
   ]
  },
  {
   "cell_type": "code",
   "execution_count": 50,
   "metadata": {},
   "outputs": [
    {
     "name": "stdout",
     "output_type": "stream",
     "text": [
      "@I103@\n",
      "@I590@\n",
      "@I591@\n",
      "@I592@\n",
      "nan\n"
     ]
    },
    {
     "ename": "KeyError",
     "evalue": "'nan'",
     "output_type": "error",
     "traceback": [
      "\u001b[0;31m---------------------------------------------------------------------------\u001b[0m",
      "\u001b[0;31mKeyError\u001b[0m                                  Traceback (most recent call last)",
      "File \u001b[0;32m~/miniconda3/lib/python3.9/site-packages/pandas/core/indexes/base.py:3621\u001b[0m, in \u001b[0;36mIndex.get_loc\u001b[0;34m(self, key, method, tolerance)\u001b[0m\n\u001b[1;32m   3620\u001b[0m \u001b[39mtry\u001b[39;00m:\n\u001b[0;32m-> 3621\u001b[0m     \u001b[39mreturn\u001b[39;00m \u001b[39mself\u001b[39;49m\u001b[39m.\u001b[39;49m_engine\u001b[39m.\u001b[39;49mget_loc(casted_key)\n\u001b[1;32m   3622\u001b[0m \u001b[39mexcept\u001b[39;00m \u001b[39mKeyError\u001b[39;00m \u001b[39mas\u001b[39;00m err:\n",
      "File \u001b[0;32mpandas/_libs/index.pyx:136\u001b[0m, in \u001b[0;36mpandas._libs.index.IndexEngine.get_loc\u001b[0;34m()\u001b[0m\n",
      "File \u001b[0;32mpandas/_libs/index.pyx:163\u001b[0m, in \u001b[0;36mpandas._libs.index.IndexEngine.get_loc\u001b[0;34m()\u001b[0m\n",
      "File \u001b[0;32mpandas/_libs/hashtable_class_helper.pxi:5198\u001b[0m, in \u001b[0;36mpandas._libs.hashtable.PyObjectHashTable.get_item\u001b[0;34m()\u001b[0m\n",
      "File \u001b[0;32mpandas/_libs/hashtable_class_helper.pxi:5206\u001b[0m, in \u001b[0;36mpandas._libs.hashtable.PyObjectHashTable.get_item\u001b[0;34m()\u001b[0m\n",
      "\u001b[0;31mKeyError\u001b[0m: 'nan'",
      "\nThe above exception was the direct cause of the following exception:\n",
      "\u001b[0;31mKeyError\u001b[0m                                  Traceback (most recent call last)",
      "\u001b[1;32m/Users/theophiledechelotte/Documents/1A Mines/UE 22 - Ingéniérie Logicielle/Projet arbre généalogique/projet_informatique_famille/get_path.ipynb Cell 20'\u001b[0m in \u001b[0;36m<cell line: 2>\u001b[0;34m()\u001b[0m\n\u001b[1;32m      <a href='vscode-notebook-cell:/Users/theophiledechelotte/Documents/1A%20Mines/UE%2022%20-%20Inge%CC%81nie%CC%81rie%20Logicielle/Projet%20arbre%20ge%CC%81ne%CC%81alogique/projet_informatique_famille/get_path.ipynb#ch0000019?line=0'>1</a>\u001b[0m \u001b[39m#pd.set_option('display.max_rows', None)\u001b[39;00m\n\u001b[0;32m----> <a href='vscode-notebook-cell:/Users/theophiledechelotte/Documents/1A%20Mines/UE%2022%20-%20Inge%CC%81nie%CC%81rie%20Logicielle/Projet%20arbre%20ge%CC%81ne%CC%81alogique/projet_informatique_famille/get_path.ipynb#ch0000019?line=1'>2</a>\u001b[0m get_IndivLinks_DataFrame()\n",
      "\u001b[1;32m/Users/theophiledechelotte/Documents/1A Mines/UE 22 - Ingéniérie Logicielle/Projet arbre généalogique/projet_informatique_famille/get_path.ipynb Cell 19'\u001b[0m in \u001b[0;36mget_IndivLinks_DataFrame\u001b[0;34m(file_path)\u001b[0m\n\u001b[1;32m     <a href='vscode-notebook-cell:/Users/theophiledechelotte/Documents/1A%20Mines/UE%2022%20-%20Inge%CC%81nie%CC%81rie%20Logicielle/Projet%20arbre%20ge%CC%81ne%CC%81alogique/projet_informatique_famille/get_path.ipynb#ch0000018?line=44'>45</a>\u001b[0m \u001b[39mif\u001b[39;00m \u001b[39mf\u001b[39m\u001b[39m'\u001b[39m\u001b[39m{\u001b[39;00mparent\u001b[39m}\u001b[39;00m\u001b[39m'\u001b[39m \u001b[39m!=\u001b[39m \u001b[39m'\u001b[39m\u001b[39mNaN\u001b[39m\u001b[39m'\u001b[39m :\n\u001b[1;32m     <a href='vscode-notebook-cell:/Users/theophiledechelotte/Documents/1A%20Mines/UE%2022%20-%20Inge%CC%81nie%CC%81rie%20Logicielle/Projet%20arbre%20ge%CC%81ne%CC%81alogique/projet_informatique_famille/get_path.ipynb#ch0000018?line=45'>46</a>\u001b[0m     \u001b[39mprint\u001b[39m(parent)\n\u001b[0;32m---> <a href='vscode-notebook-cell:/Users/theophiledechelotte/Documents/1A%20Mines/UE%2022%20-%20Inge%CC%81nie%CC%81rie%20Logicielle/Projet%20arbre%20ge%CC%81ne%CC%81alogique/projet_informatique_famille/get_path.ipynb#ch0000018?line=46'>47</a>\u001b[0m     \u001b[39mfor\u001b[39;00m gparent \u001b[39min\u001b[39;00m df2\u001b[39m.\u001b[39;49mloc[\u001b[39mf\u001b[39;49m\u001b[39m'\u001b[39;49m\u001b[39m{\u001b[39;49;00mparent\u001b[39m}\u001b[39;49;00m\u001b[39m'\u001b[39;49m,[\u001b[39m'\u001b[39;49m\u001b[39mPARENT1\u001b[39;49m\u001b[39m'\u001b[39;49m,\u001b[39m'\u001b[39;49m\u001b[39mPARENT2\u001b[39;49m\u001b[39m'\u001b[39;49m]] :\n\u001b[1;32m     <a href='vscode-notebook-cell:/Users/theophiledechelotte/Documents/1A%20Mines/UE%2022%20-%20Inge%CC%81nie%CC%81rie%20Logicielle/Projet%20arbre%20ge%CC%81ne%CC%81alogique/projet_informatique_famille/get_path.ipynb#ch0000018?line=47'>48</a>\u001b[0m         \u001b[39mif\u001b[39;00m \u001b[39mf\u001b[39m\u001b[39m'\u001b[39m\u001b[39m{\u001b[39;00mgparent\u001b[39m}\u001b[39;00m\u001b[39m'\u001b[39m \u001b[39m!=\u001b[39m \u001b[39m'\u001b[39m\u001b[39mNaN\u001b[39m\u001b[39m'\u001b[39m :\n\u001b[1;32m     <a href='vscode-notebook-cell:/Users/theophiledechelotte/Documents/1A%20Mines/UE%2022%20-%20Inge%CC%81nie%CC%81rie%20Logicielle/Projet%20arbre%20ge%CC%81ne%CC%81alogique/projet_informatique_famille/get_path.ipynb#ch0000018?line=48'>49</a>\u001b[0m             N_gp \u001b[39m+\u001b[39m\u001b[39m=\u001b[39m \u001b[39m1\u001b[39m\n",
      "File \u001b[0;32m~/miniconda3/lib/python3.9/site-packages/pandas/core/indexing.py:961\u001b[0m, in \u001b[0;36m_LocationIndexer.__getitem__\u001b[0;34m(self, key)\u001b[0m\n\u001b[1;32m    959\u001b[0m     \u001b[39mif\u001b[39;00m \u001b[39mself\u001b[39m\u001b[39m.\u001b[39m_is_scalar_access(key):\n\u001b[1;32m    960\u001b[0m         \u001b[39mreturn\u001b[39;00m \u001b[39mself\u001b[39m\u001b[39m.\u001b[39mobj\u001b[39m.\u001b[39m_get_value(\u001b[39m*\u001b[39mkey, takeable\u001b[39m=\u001b[39m\u001b[39mself\u001b[39m\u001b[39m.\u001b[39m_takeable)\n\u001b[0;32m--> 961\u001b[0m     \u001b[39mreturn\u001b[39;00m \u001b[39mself\u001b[39;49m\u001b[39m.\u001b[39;49m_getitem_tuple(key)\n\u001b[1;32m    962\u001b[0m \u001b[39melse\u001b[39;00m:\n\u001b[1;32m    963\u001b[0m     \u001b[39m# we by definition only have the 0th axis\u001b[39;00m\n\u001b[1;32m    964\u001b[0m     axis \u001b[39m=\u001b[39m \u001b[39mself\u001b[39m\u001b[39m.\u001b[39maxis \u001b[39mor\u001b[39;00m \u001b[39m0\u001b[39m\n",
      "File \u001b[0;32m~/miniconda3/lib/python3.9/site-packages/pandas/core/indexing.py:1140\u001b[0m, in \u001b[0;36m_LocIndexer._getitem_tuple\u001b[0;34m(self, tup)\u001b[0m\n\u001b[1;32m   1138\u001b[0m \u001b[39mwith\u001b[39;00m suppress(IndexingError):\n\u001b[1;32m   1139\u001b[0m     tup \u001b[39m=\u001b[39m \u001b[39mself\u001b[39m\u001b[39m.\u001b[39m_expand_ellipsis(tup)\n\u001b[0;32m-> 1140\u001b[0m     \u001b[39mreturn\u001b[39;00m \u001b[39mself\u001b[39;49m\u001b[39m.\u001b[39;49m_getitem_lowerdim(tup)\n\u001b[1;32m   1142\u001b[0m \u001b[39m# no multi-index, so validate all of the indexers\u001b[39;00m\n\u001b[1;32m   1143\u001b[0m tup \u001b[39m=\u001b[39m \u001b[39mself\u001b[39m\u001b[39m.\u001b[39m_validate_tuple_indexer(tup)\n",
      "File \u001b[0;32m~/miniconda3/lib/python3.9/site-packages/pandas/core/indexing.py:867\u001b[0m, in \u001b[0;36m_LocationIndexer._getitem_lowerdim\u001b[0;34m(self, tup)\u001b[0m\n\u001b[1;32m    863\u001b[0m \u001b[39mfor\u001b[39;00m i, key \u001b[39min\u001b[39;00m \u001b[39menumerate\u001b[39m(tup):\n\u001b[1;32m    864\u001b[0m     \u001b[39mif\u001b[39;00m is_label_like(key):\n\u001b[1;32m    865\u001b[0m         \u001b[39m# We don't need to check for tuples here because those are\u001b[39;00m\n\u001b[1;32m    866\u001b[0m         \u001b[39m#  caught by the _is_nested_tuple_indexer check above.\u001b[39;00m\n\u001b[0;32m--> 867\u001b[0m         section \u001b[39m=\u001b[39m \u001b[39mself\u001b[39;49m\u001b[39m.\u001b[39;49m_getitem_axis(key, axis\u001b[39m=\u001b[39;49mi)\n\u001b[1;32m    869\u001b[0m         \u001b[39m# We should never have a scalar section here, because\u001b[39;00m\n\u001b[1;32m    870\u001b[0m         \u001b[39m#  _getitem_lowerdim is only called after a check for\u001b[39;00m\n\u001b[1;32m    871\u001b[0m         \u001b[39m#  is_scalar_access, which that would be.\u001b[39;00m\n\u001b[1;32m    872\u001b[0m         \u001b[39mif\u001b[39;00m section\u001b[39m.\u001b[39mndim \u001b[39m==\u001b[39m \u001b[39mself\u001b[39m\u001b[39m.\u001b[39mndim:\n\u001b[1;32m    873\u001b[0m             \u001b[39m# we're in the middle of slicing through a MultiIndex\u001b[39;00m\n\u001b[1;32m    874\u001b[0m             \u001b[39m# revise the key wrt to `section` by inserting an _NS\u001b[39;00m\n",
      "File \u001b[0;32m~/miniconda3/lib/python3.9/site-packages/pandas/core/indexing.py:1202\u001b[0m, in \u001b[0;36m_LocIndexer._getitem_axis\u001b[0;34m(self, key, axis)\u001b[0m\n\u001b[1;32m   1200\u001b[0m \u001b[39m# fall thru to straight lookup\u001b[39;00m\n\u001b[1;32m   1201\u001b[0m \u001b[39mself\u001b[39m\u001b[39m.\u001b[39m_validate_key(key, axis)\n\u001b[0;32m-> 1202\u001b[0m \u001b[39mreturn\u001b[39;00m \u001b[39mself\u001b[39;49m\u001b[39m.\u001b[39;49m_get_label(key, axis\u001b[39m=\u001b[39;49maxis)\n",
      "File \u001b[0;32m~/miniconda3/lib/python3.9/site-packages/pandas/core/indexing.py:1153\u001b[0m, in \u001b[0;36m_LocIndexer._get_label\u001b[0;34m(self, label, axis)\u001b[0m\n\u001b[1;32m   1151\u001b[0m \u001b[39mdef\u001b[39;00m \u001b[39m_get_label\u001b[39m(\u001b[39mself\u001b[39m, label, axis: \u001b[39mint\u001b[39m):\n\u001b[1;32m   1152\u001b[0m     \u001b[39m# GH#5667 this will fail if the label is not present in the axis.\u001b[39;00m\n\u001b[0;32m-> 1153\u001b[0m     \u001b[39mreturn\u001b[39;00m \u001b[39mself\u001b[39;49m\u001b[39m.\u001b[39;49mobj\u001b[39m.\u001b[39;49mxs(label, axis\u001b[39m=\u001b[39;49maxis)\n",
      "File \u001b[0;32m~/miniconda3/lib/python3.9/site-packages/pandas/core/generic.py:3864\u001b[0m, in \u001b[0;36mNDFrame.xs\u001b[0;34m(self, key, axis, level, drop_level)\u001b[0m\n\u001b[1;32m   3862\u001b[0m             new_index \u001b[39m=\u001b[39m index[loc]\n\u001b[1;32m   3863\u001b[0m \u001b[39melse\u001b[39;00m:\n\u001b[0;32m-> 3864\u001b[0m     loc \u001b[39m=\u001b[39m index\u001b[39m.\u001b[39;49mget_loc(key)\n\u001b[1;32m   3866\u001b[0m     \u001b[39mif\u001b[39;00m \u001b[39misinstance\u001b[39m(loc, np\u001b[39m.\u001b[39mndarray):\n\u001b[1;32m   3867\u001b[0m         \u001b[39mif\u001b[39;00m loc\u001b[39m.\u001b[39mdtype \u001b[39m==\u001b[39m np\u001b[39m.\u001b[39mbool_:\n",
      "File \u001b[0;32m~/miniconda3/lib/python3.9/site-packages/pandas/core/indexes/base.py:3623\u001b[0m, in \u001b[0;36mIndex.get_loc\u001b[0;34m(self, key, method, tolerance)\u001b[0m\n\u001b[1;32m   3621\u001b[0m     \u001b[39mreturn\u001b[39;00m \u001b[39mself\u001b[39m\u001b[39m.\u001b[39m_engine\u001b[39m.\u001b[39mget_loc(casted_key)\n\u001b[1;32m   3622\u001b[0m \u001b[39mexcept\u001b[39;00m \u001b[39mKeyError\u001b[39;00m \u001b[39mas\u001b[39;00m err:\n\u001b[0;32m-> 3623\u001b[0m     \u001b[39mraise\u001b[39;00m \u001b[39mKeyError\u001b[39;00m(key) \u001b[39mfrom\u001b[39;00m \u001b[39merr\u001b[39;00m\n\u001b[1;32m   3624\u001b[0m \u001b[39mexcept\u001b[39;00m \u001b[39mTypeError\u001b[39;00m:\n\u001b[1;32m   3625\u001b[0m     \u001b[39m# If we have a listlike key, _check_indexing_error will raise\u001b[39;00m\n\u001b[1;32m   3626\u001b[0m     \u001b[39m#  InvalidIndexError. Otherwise we fall through and re-raise\u001b[39;00m\n\u001b[1;32m   3627\u001b[0m     \u001b[39m#  the TypeError.\u001b[39;00m\n\u001b[1;32m   3628\u001b[0m     \u001b[39mself\u001b[39m\u001b[39m.\u001b[39m_check_indexing_error(key)\n",
      "\u001b[0;31mKeyError\u001b[0m: 'nan'"
     ]
    }
   ],
   "source": [
    "#pd.set_option('display.max_rows', None)\n",
    "get_IndivLinks_DataFrame()"
   ]
  },
  {
   "cell_type": "code",
   "execution_count": 18,
   "metadata": {},
   "outputs": [],
   "source": [
    "def build_IndGraph(file_path='Queen_Eliz_II.ged'):\n",
    "\n",
    "    g = {}\n",
    "    df = get_IndivLinks_DataFrame(file_path)\n",
    "\n",
    "    for IND1 in df.index :\n",
    "        g[IND1] = {}\n",
    "        for IND2 in df.loc[IND1] :\n",
    "            if f'{IND2}' != 'nan' :\n",
    "                g[IND1][f'{IND2}'] = 1\n",
    "    return g"
   ]
  },
  {
   "cell_type": "code",
   "execution_count": 19,
   "metadata": {},
   "outputs": [],
   "source": [
    "# Test : graph creation\n",
    "graph = build_IndGraph()"
   ]
  },
  {
   "cell_type": "code",
   "execution_count": 20,
   "metadata": {},
   "outputs": [
    {
     "ename": "TypeError",
     "evalue": "'int' object is not subscriptable",
     "output_type": "error",
     "traceback": [
      "\u001b[0;31m---------------------------------------------------------------------------\u001b[0m",
      "\u001b[0;31mTypeError\u001b[0m                                 Traceback (most recent call last)",
      "\u001b[1;32m/Users/theophiledechelotte/Documents/1A Mines/UE 22 - Ingéniérie Logicielle/Projet arbre généalogique/projet_informatique_famille/get_path.ipynb Cell 23'\u001b[0m in \u001b[0;36m<cell line: 5>\u001b[0;34m()\u001b[0m\n\u001b[1;32m      <a href='vscode-notebook-cell:/Users/theophiledechelotte/Documents/1A%20Mines/UE%2022%20-%20Inge%CC%81nie%CC%81rie%20Logicielle/Projet%20arbre%20ge%CC%81ne%CC%81alogique/projet_informatique_famille/get_path.ipynb#ch0000022?line=1'>2</a>\u001b[0m v1 \u001b[39m=\u001b[39m \u001b[39m'\u001b[39m\u001b[39m@I390@\u001b[39m\u001b[39m'\u001b[39m\n\u001b[1;32m      <a href='vscode-notebook-cell:/Users/theophiledechelotte/Documents/1A%20Mines/UE%2022%20-%20Inge%CC%81nie%CC%81rie%20Logicielle/Projet%20arbre%20ge%CC%81ne%CC%81alogique/projet_informatique_famille/get_path.ipynb#ch0000022?line=2'>3</a>\u001b[0m v2 \u001b[39m=\u001b[39m \u001b[39m'\u001b[39m\u001b[39m@I336@\u001b[39m\u001b[39m'\u001b[39m\n\u001b[0;32m----> <a href='vscode-notebook-cell:/Users/theophiledechelotte/Documents/1A%20Mines/UE%2022%20-%20Inge%CC%81nie%CC%81rie%20Logicielle/Projet%20arbre%20ge%CC%81ne%CC%81alogique/projet_informatique_famille/get_path.ipynb#ch0000022?line=4'>5</a>\u001b[0m shortest_path_up(graph,v1,v2)\n",
      "\u001b[1;32m/Users/theophiledechelotte/Documents/1A Mines/UE 22 - Ingéniérie Logicielle/Projet arbre généalogique/projet_informatique_famille/get_path.ipynb Cell 5'\u001b[0m in \u001b[0;36mshortest_path_up\u001b[0;34m(graph, v1, v2)\u001b[0m\n\u001b[1;32m     <a href='vscode-notebook-cell:/Users/theophiledechelotte/Documents/1A%20Mines/UE%2022%20-%20Inge%CC%81nie%CC%81rie%20Logicielle/Projet%20arbre%20ge%CC%81ne%CC%81alogique/projet_informatique_famille/get_path.ipynb#ch0000004?line=54'>55</a>\u001b[0m shortest_edge \u001b[39m=\u001b[39m \u001b[39mNone\u001b[39;00m\n\u001b[1;32m     <a href='vscode-notebook-cell:/Users/theophiledechelotte/Documents/1A%20Mines/UE%2022%20-%20Inge%CC%81nie%CC%81rie%20Logicielle/Projet%20arbre%20ge%CC%81ne%CC%81alogique/projet_informatique_famille/get_path.ipynb#ch0000004?line=55'>56</a>\u001b[0m \u001b[39mfor\u001b[39;00m (s, d) \u001b[39min\u001b[39;00m border_edges:\n\u001b[0;32m---> <a href='vscode-notebook-cell:/Users/theophiledechelotte/Documents/1A%20Mines/UE%2022%20-%20Inge%CC%81nie%CC%81rie%20Logicielle/Projet%20arbre%20ge%CC%81ne%CC%81alogique/projet_informatique_famille/get_path.ipynb#ch0000004?line=56'>57</a>\u001b[0m     w \u001b[39m=\u001b[39m graph[s][d][\u001b[39m0\u001b[39;49m]\n\u001b[1;32m     <a href='vscode-notebook-cell:/Users/theophiledechelotte/Documents/1A%20Mines/UE%2022%20-%20Inge%CC%81nie%CC%81rie%20Logicielle/Projet%20arbre%20ge%CC%81ne%CC%81alogique/projet_informatique_famille/get_path.ipynb#ch0000004?line=57'>58</a>\u001b[0m     past_distance, _ \u001b[39m=\u001b[39m visited[s]\n\u001b[1;32m     <a href='vscode-notebook-cell:/Users/theophiledechelotte/Documents/1A%20Mines/UE%2022%20-%20Inge%CC%81nie%CC%81rie%20Logicielle/Projet%20arbre%20ge%CC%81ne%CC%81alogique/projet_informatique_famille/get_path.ipynb#ch0000004?line=58'>59</a>\u001b[0m     dist \u001b[39m=\u001b[39m past_distance \u001b[39m+\u001b[39m w\n",
      "\u001b[0;31mTypeError\u001b[0m: 'int' object is not subscriptable"
     ]
    }
   ],
   "source": [
    "# Test (for one single value in graph)\n",
    "v1 = '@I390@'\n",
    "v2 = '@I336@'\n",
    "\n",
    "shortest_path_up(graph,v1,v2)"
   ]
  }
 ],
 "metadata": {
  "kernelspec": {
   "display_name": "Python 3.9.12 ('base')",
   "language": "python",
   "name": "python3"
  },
  "language_info": {
   "codemirror_mode": {
    "name": "ipython",
    "version": 3
   },
   "file_extension": ".py",
   "mimetype": "text/x-python",
   "name": "python",
   "nbconvert_exporter": "python",
   "pygments_lexer": "ipython3",
   "version": "3.9.12"
  },
  "orig_nbformat": 4,
  "vscode": {
   "interpreter": {
    "hash": "fa633476d90ebc5c342c0ebd58df75a6a0dad7836670477e29bdaa57f1aacce8"
   }
  }
 },
 "nbformat": 4,
 "nbformat_minor": 2
}
